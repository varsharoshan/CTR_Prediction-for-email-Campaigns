{
  "cells": [
    {
      "cell_type": "markdown",
      "metadata": {
        "id": "7QgUFaHCP0Ey"
      },
      "source": [
        "**Objective** :To predict Click Through Rate for email campaigns"
      ]
    },
    {
      "cell_type": "code",
      "execution_count": 4,
      "metadata": {
        "id": "Cs6fNX_sPdTd"
      },
      "outputs": [],
      "source": [
        "#Importing the dependencies\n",
        "import pandas as pd\n",
        "import numpy as np\n",
        "import matplotlib.pyplot as plt\n",
        "import seaborn as sns\n",
        "from sklearn  import preprocessing"
      ]
    },
    {
      "cell_type": "code",
      "execution_count": 50,
      "metadata": {
        "id": "oEDswr5bSc9K"
      },
      "outputs": [],
      "source": [
        "#Data Collection\n",
        "pd.options.display.max_columns = 110\n",
        "train = pd.read_csv('train_F3fUq2S.csv')\n",
        "#display(train).head()\n",
        "test = pd.read_csv('test_Bk2wfZ3.csv')\n",
        "#display(test).head()"
      ]
    },
    {
      "cell_type": "markdown",
      "metadata": {
        "id": "wHhBYPtTnU1V"
      },
      "source": [
        "**Exploratory Data Analysis**\n",
        "\n"
      ]
    },
    {
      "cell_type": "code",
      "execution_count": null,
      "metadata": {
        "id": "pvRjTW8qTQby"
      },
      "outputs": [],
      "source": [
        "#Data Preprocessing\n",
        "#check the number of rows and columns in training set\n",
        "train.info()\n",
        "train.shape"
      ]
    },
    {
      "cell_type": "markdown",
      "metadata": {
        "id": "MRGELAyEoc_l"
      },
      "source": [
        "Checking for missing values in Dataset"
      ]
    },
    {
      "cell_type": "code",
      "execution_count": null,
      "metadata": {
        "id": "5toOHk0HUOym"
      },
      "outputs": [],
      "source": [
        "#checking for nullvalues\n",
        "train.isnull().sum()"
      ]
    },
    {
      "cell_type": "markdown",
      "metadata": {
        "id": "oyJvpDdTqqpV"
      },
      "source": [
        "No null values in training set"
      ]
    },
    {
      "cell_type": "markdown",
      "metadata": {
        "id": "ULkYX4a0uyEb"
      },
      "source": [
        "Converting Categorical data into numerical data\n",
        "\n",
        "\n",
        "\n",
        "\n",
        "\n",
        "\n",
        "\n"
      ]
    },
    {
      "cell_type": "code",
      "execution_count": 51,
      "metadata": {
        "colab": {
          "base_uri": "https://localhost:8080/"
        },
        "id": "NNIeXQm_p4I5",
        "outputId": "a7540851-f8b8-4307-d63d-ef2d5ae29264"
      },
      "outputs": [
        {
          "name": "stderr",
          "output_type": "stream",
          "text": [
            "c:\\Users\\pv20v\\AppData\\Local\\Programs\\Python\\Python39\\lib\\site-packages\\seaborn\\_decorators.py:36: FutureWarning: Pass the following variable as a keyword arg: x. From version 0.12, the only valid positional argument will be `data`, and passing other arguments without an explicit keyword will result in an error or misinterpretation.\n",
            "  warnings.warn(\n"
          ]
        },
        {
          "data": {
            "text/plain": [
              "<AxesSubplot:xlabel='times_of_day', ylabel='count'>"
            ]
          },
          "execution_count": 51,
          "metadata": {},
          "output_type": "execute_result"
        },
        {
          "data": {
            "image/png": "[encoded data removed]",
            "text/plain": [
              "<Figure size 432x288 with 1 Axes>"
            ]
          },
          "metadata": {
            "needs_background": "light"
          },
          "output_type": "display_data"
        }
      ],
      "source": [
        "# label_encoder object knows how to understand word labels.\n",
        "label_encoder = preprocessing.LabelEncoder()  \n",
        "# Encode labels in column 'times_of_day'.\n",
        "train['times_of_day']= label_encoder.fit_transform(train['times_of_day'])\n",
        "train['times_of_day'].unique()\n",
        "sns.countplot(train['times_of_day'],order=train['times_of_day'].value_counts().index[::-1])"
      ]
    },
    {
      "cell_type": "markdown",
      "metadata": {
        "id": "Oho2C147u7B4"
      },
      "source": [
        "Data Cleaning"
      ]
    },
    {
      "cell_type": "code",
      "execution_count": 10,
      "metadata": {
        "colab": {
          "base_uri": "https://localhost:8080/"
        },
        "id": "vGg0jWGkuTim",
        "outputId": "a5e922db-0c9c-4f12-b71f-db93582ede4f"
      },
      "outputs": [
        {
          "data": {
            "text/plain": [
              "array([0], dtype=int64)"
            ]
          },
          "execution_count": 10,
          "metadata": {},
          "output_type": "execute_result"
        }
      ],
      "source": [
        "# Checking for unique values of few columns\n",
        "train['is_timer'].unique()"
      ]
    },
    {
      "cell_type": "code",
      "execution_count": 52,
      "metadata": {
        "id": "ss9-4nhQyeXV"
      },
      "outputs": [],
      "source": [
        "#drop the column 'is_timer\n",
        "train.drop('is_timer',axis=1,inplace=True)"
      ]
    },
    {
      "cell_type": "code",
      "execution_count": 53,
      "metadata": {
        "id": "Zw9Kpex3tcwm"
      },
      "outputs": [],
      "source": [
        "#Drop the column campaign id \n",
        "train.drop('campaign_id',axis=1,inplace=True)"
      ]
    },
    {
      "cell_type": "code",
      "execution_count": 10,
      "metadata": {
        "id": "W45KRS_tfg_C"
      },
      "outputs": [
        {
          "data": {
            "text/plain": [
              "0        1875\n",
              "5499        5\n",
              "8000        2\n",
              "5000        2\n",
              "4999        1\n",
              "1399        1\n",
              "1000        1\n",
              "14999       1\n",
              "Name: is_price, dtype: int64"
            ]
          },
          "execution_count": 10,
          "metadata": {},
          "output_type": "execute_result"
        }
      ],
      "source": [
        "#Checking for outliers in the feature 'is_price'\n",
        "train['is_price'].unique()\n",
        "train['is_price'].value_counts()"
      ]
    },
    {
      "cell_type": "code",
      "execution_count": 54,
      "metadata": {
        "id": "tzKQptCTIt-c"
      },
      "outputs": [],
      "source": [
        "#Drop the column 'is_price'\n",
        "train.drop('is_price',axis=1,inplace=True)"
      ]
    },
    {
      "cell_type": "code",
      "execution_count": 12,
      "metadata": {
        "id": "_Lzta2VPysH4"
      },
      "outputs": [
        {
          "name": "stdout",
          "output_type": "stream",
          "text": [
            "<class 'pandas.core.frame.DataFrame'>\n",
            "RangeIndex: 1888 entries, 0 to 1887\n",
            "Data columns (total 19 columns):\n",
            " #   Column              Non-Null Count  Dtype  \n",
            "---  ------              --------------  -----  \n",
            " 0   sender              1888 non-null   int64  \n",
            " 1   subject_len         1888 non-null   int64  \n",
            " 2   body_len            1888 non-null   int64  \n",
            " 3   mean_paragraph_len  1888 non-null   int64  \n",
            " 4   day_of_week         1888 non-null   int64  \n",
            " 5   is_weekend          1888 non-null   int64  \n",
            " 6   times_of_day        1888 non-null   int32  \n",
            " 7   category            1888 non-null   int64  \n",
            " 8   product             1888 non-null   int64  \n",
            " 9   no_of_CTA           1888 non-null   int64  \n",
            " 10  mean_CTA_len        1888 non-null   int64  \n",
            " 11  is_image            1888 non-null   int64  \n",
            " 12  is_personalised     1888 non-null   int64  \n",
            " 13  is_quote            1888 non-null   int64  \n",
            " 14  is_emoticons        1888 non-null   int64  \n",
            " 15  is_discount         1888 non-null   int64  \n",
            " 16  is_urgency          1888 non-null   int64  \n",
            " 17  target_audience     1888 non-null   int64  \n",
            " 18  click_rate          1888 non-null   float64\n",
            "dtypes: float64(1), int32(1), int64(17)\n",
            "memory usage: 273.0 KB\n"
          ]
        }
      ],
      "source": [
        "train.info()"
      ]
    },
    {
      "cell_type": "markdown",
      "metadata": {
        "id": "7XY68ybQldAZ"
      },
      "source": [
        "**Univariate Analysis**"
      ]
    },
    {
      "cell_type": "code",
      "execution_count": 55,
      "metadata": {
        "id": "OLvOEmsJkX-e"
      },
      "outputs": [],
      "source": [
        "#mean,median,standard deviation,skewness,kurtosis\n",
        "#We define a function to implement Univariate Analysis.\n",
        "def UVA_KDE(data, var_group):\n",
        "  size = len(var_group)\n",
        "  plt.figure(figsize = (5*size,3), dpi = 50)\n",
        "  plt.subplot(121)\n",
        "  for j,i in enumerate(var_group):\n",
        "    mini = data[i].min()\n",
        "    maxi = data[i].max()\n",
        "    ran = data[i].max()-data[i].min()\n",
        "    mean = data[i].mean()\n",
        "    median = data[i].median()\n",
        "    st_dev = data[i].std()\n",
        "    skew = data[i].skew()\n",
        "    kurt = data[i].kurtosis()\n",
        "    points = mean-st_dev, mean+st_dev\n",
        "    plt.subplot(1,size,j+1)\n",
        "    sns.kdeplot(data[i], shade=False)\n",
        "    sns.lineplot(points, [0,0], color = 'black', label = \"std_dev\")\n",
        "    sns.scatterplot([mini,maxi], [0,0], color = 'orange', label = \"min/max\")\n",
        "    sns.scatterplot([mean], [0], color = 'red', label = \"mean\")\n",
        "    sns.scatterplot([median], [0], color = 'blue', label = \"median\")\n",
        "    plt.xlabel('{}'.format(i), fontsize = 10)\n",
        "    plt.ylabel('density')\n",
        "    plt.title('kurtosis = {};\\nskew = {}; range = {}\\nmean = {}; median = {}'.format(round(kurt,2),round(skew,2),\n",
        "                                                                                     round(ran,2),\n",
        "                                                                                     round(mean,2),\n",
        "                                                                                     round(median,2)))"
      ]
    },
    {
      "cell_type": "code",
      "execution_count": 56,
      "metadata": {
        "colab": {
          "base_uri": "https://localhost:8080/"
        },
        "id": "MjJDCC2XndIA",
        "outputId": "4757d3e1-e4a5-49ae-ee74-48bc500deafc"
      },
      "outputs": [
        {
          "data": {
            "text/plain": [
              "Index(['sender', 'subject_len', 'body_len', 'mean_paragraph_len',\n",
              "       'day_of_week', 'is_weekend', 'category', 'product', 'no_of_CTA',\n",
              "       'mean_CTA_len', 'is_image', 'is_personalised', 'is_quote',\n",
              "       'is_emoticons', 'is_discount', 'is_urgency', 'target_audience',\n",
              "       'click_rate'],\n",
              "      dtype='object')"
            ]
          },
          "execution_count": 56,
          "metadata": {},
          "output_type": "execute_result"
        }
      ],
      "source": [
        "#Assigning the train numerical features.\n",
        "Numerical_features_train = train.select_dtypes(include= ['int64','float'])\n",
        "Numerical_features_train.columns\n"
      ]
    },
    {
      "cell_type": "code",
      "execution_count": 57,
      "metadata": {
        "colab": {
          "base_uri": "https://localhost:8080/",
          "height": 450
        },
        "id": "LGDwCZiqpxec",
        "outputId": "6311adcd-43e8-4266-8a2d-85572995a3db"
      },
      "outputs": [
        {
          "name": "stderr",
          "output_type": "stream",
          "text": [
            "c:\\Users\\pv20v\\AppData\\Local\\Programs\\Python\\Python39\\lib\\site-packages\\seaborn\\_decorators.py:36: FutureWarning: Pass the following variables as keyword args: x, y. From version 0.12, the only valid positional argument will be `data`, and passing other arguments without an explicit keyword will result in an error or misinterpretation.\n",
            "  warnings.warn(\n",
            "c:\\Users\\pv20v\\AppData\\Local\\Programs\\Python\\Python39\\lib\\site-packages\\seaborn\\_decorators.py:36: FutureWarning: Pass the following variables as keyword args: x, y. From version 0.12, the only valid positional argument will be `data`, and passing other arguments without an explicit keyword will result in an error or misinterpretation.\n",
            "  warnings.warn(\n",
            "c:\\Users\\pv20v\\AppData\\Local\\Programs\\Python\\Python39\\lib\\site-packages\\seaborn\\_decorators.py:36: FutureWarning: Pass the following variables as keyword args: x, y. From version 0.12, the only valid positional argument will be `data`, and passing other arguments without an explicit keyword will result in an error or misinterpretation.\n",
            "  warnings.warn(\n",
            "c:\\Users\\pv20v\\AppData\\Local\\Programs\\Python\\Python39\\lib\\site-packages\\seaborn\\_decorators.py:36: FutureWarning: Pass the following variables as keyword args: x, y. From version 0.12, the only valid positional argument will be `data`, and passing other arguments without an explicit keyword will result in an error or misinterpretation.\n",
            "  warnings.warn(\n",
            "c:\\Users\\pv20v\\AppData\\Local\\Programs\\Python\\Python39\\lib\\site-packages\\seaborn\\_decorators.py:36: FutureWarning: Pass the following variables as keyword args: x, y. From version 0.12, the only valid positional argument will be `data`, and passing other arguments without an explicit keyword will result in an error or misinterpretation.\n",
            "  warnings.warn(\n",
            "c:\\Users\\pv20v\\AppData\\Local\\Programs\\Python\\Python39\\lib\\site-packages\\seaborn\\_decorators.py:36: FutureWarning: Pass the following variables as keyword args: x, y. From version 0.12, the only valid positional argument will be `data`, and passing other arguments without an explicit keyword will result in an error or misinterpretation.\n",
            "  warnings.warn(\n",
            "c:\\Users\\pv20v\\AppData\\Local\\Programs\\Python\\Python39\\lib\\site-packages\\seaborn\\_decorators.py:36: FutureWarning: Pass the following variables as keyword args: x, y. From version 0.12, the only valid positional argument will be `data`, and passing other arguments without an explicit keyword will result in an error or misinterpretation.\n",
            "  warnings.warn(\n",
            "c:\\Users\\pv20v\\AppData\\Local\\Programs\\Python\\Python39\\lib\\site-packages\\seaborn\\_decorators.py:36: FutureWarning: Pass the following variables as keyword args: x, y. From version 0.12, the only valid positional argument will be `data`, and passing other arguments without an explicit keyword will result in an error or misinterpretation.\n",
            "  warnings.warn(\n",
            "c:\\Users\\pv20v\\AppData\\Local\\Programs\\Python\\Python39\\lib\\site-packages\\seaborn\\_decorators.py:36: FutureWarning: Pass the following variables as keyword args: x, y. From version 0.12, the only valid positional argument will be `data`, and passing other arguments without an explicit keyword will result in an error or misinterpretation.\n",
            "  warnings.warn(\n",
            "c:\\Users\\pv20v\\AppData\\Local\\Programs\\Python\\Python39\\lib\\site-packages\\seaborn\\_decorators.py:36: FutureWarning: Pass the following variables as keyword args: x, y. From version 0.12, the only valid positional argument will be `data`, and passing other arguments without an explicit keyword will result in an error or misinterpretation.\n",
            "  warnings.warn(\n",
            "c:\\Users\\pv20v\\AppData\\Local\\Programs\\Python\\Python39\\lib\\site-packages\\seaborn\\_decorators.py:36: FutureWarning: Pass the following variables as keyword args: x, y. From version 0.12, the only valid positional argument will be `data`, and passing other arguments without an explicit keyword will result in an error or misinterpretation.\n",
            "  warnings.warn(\n",
            "c:\\Users\\pv20v\\AppData\\Local\\Programs\\Python\\Python39\\lib\\site-packages\\seaborn\\_decorators.py:36: FutureWarning: Pass the following variables as keyword args: x, y. From version 0.12, the only valid positional argument will be `data`, and passing other arguments without an explicit keyword will result in an error or misinterpretation.\n",
            "  warnings.warn(\n",
            "c:\\Users\\pv20v\\AppData\\Local\\Programs\\Python\\Python39\\lib\\site-packages\\seaborn\\_decorators.py:36: FutureWarning: Pass the following variables as keyword args: x, y. From version 0.12, the only valid positional argument will be `data`, and passing other arguments without an explicit keyword will result in an error or misinterpretation.\n",
            "  warnings.warn(\n",
            "c:\\Users\\pv20v\\AppData\\Local\\Programs\\Python\\Python39\\lib\\site-packages\\seaborn\\_decorators.py:36: FutureWarning: Pass the following variables as keyword args: x, y. From version 0.12, the only valid positional argument will be `data`, and passing other arguments without an explicit keyword will result in an error or misinterpretation.\n",
            "  warnings.warn(\n",
            "c:\\Users\\pv20v\\AppData\\Local\\Programs\\Python\\Python39\\lib\\site-packages\\seaborn\\_decorators.py:36: FutureWarning: Pass the following variables as keyword args: x, y. From version 0.12, the only valid positional argument will be `data`, and passing other arguments without an explicit keyword will result in an error or misinterpretation.\n",
            "  warnings.warn(\n",
            "c:\\Users\\pv20v\\AppData\\Local\\Programs\\Python\\Python39\\lib\\site-packages\\seaborn\\_decorators.py:36: FutureWarning: Pass the following variables as keyword args: x, y. From version 0.12, the only valid positional argument will be `data`, and passing other arguments without an explicit keyword will result in an error or misinterpretation.\n",
            "  warnings.warn(\n",
            "c:\\Users\\pv20v\\AppData\\Local\\Programs\\Python\\Python39\\lib\\site-packages\\seaborn\\_decorators.py:36: FutureWarning: Pass the following variables as keyword args: x, y. From version 0.12, the only valid positional argument will be `data`, and passing other arguments without an explicit keyword will result in an error or misinterpretation.\n",
            "  warnings.warn(\n",
            "c:\\Users\\pv20v\\AppData\\Local\\Programs\\Python\\Python39\\lib\\site-packages\\seaborn\\_decorators.py:36: FutureWarning: Pass the following variables as keyword args: x, y. From version 0.12, the only valid positional argument will be `data`, and passing other arguments without an explicit keyword will result in an error or misinterpretation.\n",
            "  warnings.warn(\n",
            "c:\\Users\\pv20v\\AppData\\Local\\Programs\\Python\\Python39\\lib\\site-packages\\seaborn\\_decorators.py:36: FutureWarning: Pass the following variables as keyword args: x, y. From version 0.12, the only valid positional argument will be `data`, and passing other arguments without an explicit keyword will result in an error or misinterpretation.\n",
            "  warnings.warn(\n",
            "c:\\Users\\pv20v\\AppData\\Local\\Programs\\Python\\Python39\\lib\\site-packages\\seaborn\\_decorators.py:36: FutureWarning: Pass the following variables as keyword args: x, y. From version 0.12, the only valid positional argument will be `data`, and passing other arguments without an explicit keyword will result in an error or misinterpretation.\n",
            "  warnings.warn(\n",
            "c:\\Users\\pv20v\\AppData\\Local\\Programs\\Python\\Python39\\lib\\site-packages\\seaborn\\_decorators.py:36: FutureWarning: Pass the following variables as keyword args: x, y. From version 0.12, the only valid positional argument will be `data`, and passing other arguments without an explicit keyword will result in an error or misinterpretation.\n",
            "  warnings.warn(\n",
            "c:\\Users\\pv20v\\AppData\\Local\\Programs\\Python\\Python39\\lib\\site-packages\\seaborn\\_decorators.py:36: FutureWarning: Pass the following variables as keyword args: x, y. From version 0.12, the only valid positional argument will be `data`, and passing other arguments without an explicit keyword will result in an error or misinterpretation.\n",
            "  warnings.warn(\n",
            "c:\\Users\\pv20v\\AppData\\Local\\Programs\\Python\\Python39\\lib\\site-packages\\seaborn\\_decorators.py:36: FutureWarning: Pass the following variables as keyword args: x, y. From version 0.12, the only valid positional argument will be `data`, and passing other arguments without an explicit keyword will result in an error or misinterpretation.\n",
            "  warnings.warn(\n",
            "c:\\Users\\pv20v\\AppData\\Local\\Programs\\Python\\Python39\\lib\\site-packages\\seaborn\\_decorators.py:36: FutureWarning: Pass the following variables as keyword args: x, y. From version 0.12, the only valid positional argument will be `data`, and passing other arguments without an explicit keyword will result in an error or misinterpretation.\n",
            "  warnings.warn(\n",
            "c:\\Users\\pv20v\\AppData\\Local\\Programs\\Python\\Python39\\lib\\site-packages\\seaborn\\_decorators.py:36: FutureWarning: Pass the following variables as keyword args: x, y. From version 0.12, the only valid positional argument will be `data`, and passing other arguments without an explicit keyword will result in an error or misinterpretation.\n",
            "  warnings.warn(\n",
            "c:\\Users\\pv20v\\AppData\\Local\\Programs\\Python\\Python39\\lib\\site-packages\\seaborn\\_decorators.py:36: FutureWarning: Pass the following variables as keyword args: x, y. From version 0.12, the only valid positional argument will be `data`, and passing other arguments without an explicit keyword will result in an error or misinterpretation.\n",
            "  warnings.warn(\n",
            "c:\\Users\\pv20v\\AppData\\Local\\Programs\\Python\\Python39\\lib\\site-packages\\seaborn\\_decorators.py:36: FutureWarning: Pass the following variables as keyword args: x, y. From version 0.12, the only valid positional argument will be `data`, and passing other arguments without an explicit keyword will result in an error or misinterpretation.\n",
            "  warnings.warn(\n",
            "c:\\Users\\pv20v\\AppData\\Local\\Programs\\Python\\Python39\\lib\\site-packages\\seaborn\\_decorators.py:36: FutureWarning: Pass the following variables as keyword args: x, y. From version 0.12, the only valid positional argument will be `data`, and passing other arguments without an explicit keyword will result in an error or misinterpretation.\n",
            "  warnings.warn(\n",
            "c:\\Users\\pv20v\\AppData\\Local\\Programs\\Python\\Python39\\lib\\site-packages\\seaborn\\_decorators.py:36: FutureWarning: Pass the following variables as keyword args: x, y. From version 0.12, the only valid positional argument will be `data`, and passing other arguments without an explicit keyword will result in an error or misinterpretation.\n",
            "  warnings.warn(\n",
            "c:\\Users\\pv20v\\AppData\\Local\\Programs\\Python\\Python39\\lib\\site-packages\\seaborn\\_decorators.py:36: FutureWarning: Pass the following variables as keyword args: x, y. From version 0.12, the only valid positional argument will be `data`, and passing other arguments without an explicit keyword will result in an error or misinterpretation.\n",
            "  warnings.warn(\n",
            "c:\\Users\\pv20v\\AppData\\Local\\Programs\\Python\\Python39\\lib\\site-packages\\seaborn\\_decorators.py:36: FutureWarning: Pass the following variables as keyword args: x, y. From version 0.12, the only valid positional argument will be `data`, and passing other arguments without an explicit keyword will result in an error or misinterpretation.\n",
            "  warnings.warn(\n",
            "c:\\Users\\pv20v\\AppData\\Local\\Programs\\Python\\Python39\\lib\\site-packages\\seaborn\\_decorators.py:36: FutureWarning: Pass the following variables as keyword args: x, y. From version 0.12, the only valid positional argument will be `data`, and passing other arguments without an explicit keyword will result in an error or misinterpretation.\n",
            "  warnings.warn(\n",
            "c:\\Users\\pv20v\\AppData\\Local\\Programs\\Python\\Python39\\lib\\site-packages\\seaborn\\_decorators.py:36: FutureWarning: Pass the following variables as keyword args: x, y. From version 0.12, the only valid positional argument will be `data`, and passing other arguments without an explicit keyword will result in an error or misinterpretation.\n",
            "  warnings.warn(\n",
            "c:\\Users\\pv20v\\AppData\\Local\\Programs\\Python\\Python39\\lib\\site-packages\\seaborn\\_decorators.py:36: FutureWarning: Pass the following variables as keyword args: x, y. From version 0.12, the only valid positional argument will be `data`, and passing other arguments without an explicit keyword will result in an error or misinterpretation.\n",
            "  warnings.warn(\n",
            "c:\\Users\\pv20v\\AppData\\Local\\Programs\\Python\\Python39\\lib\\site-packages\\seaborn\\_decorators.py:36: FutureWarning: Pass the following variables as keyword args: x, y. From version 0.12, the only valid positional argument will be `data`, and passing other arguments without an explicit keyword will result in an error or misinterpretation.\n",
            "  warnings.warn(\n",
            "c:\\Users\\pv20v\\AppData\\Local\\Programs\\Python\\Python39\\lib\\site-packages\\seaborn\\_decorators.py:36: FutureWarning: Pass the following variables as keyword args: x, y. From version 0.12, the only valid positional argument will be `data`, and passing other arguments without an explicit keyword will result in an error or misinterpretation.\n",
            "  warnings.warn(\n",
            "c:\\Users\\pv20v\\AppData\\Local\\Programs\\Python\\Python39\\lib\\site-packages\\seaborn\\_decorators.py:36: FutureWarning: Pass the following variables as keyword args: x, y. From version 0.12, the only valid positional argument will be `data`, and passing other arguments without an explicit keyword will result in an error or misinterpretation.\n",
            "  warnings.warn(\n",
            "c:\\Users\\pv20v\\AppData\\Local\\Programs\\Python\\Python39\\lib\\site-packages\\seaborn\\_decorators.py:36: FutureWarning: Pass the following variables as keyword args: x, y. From version 0.12, the only valid positional argument will be `data`, and passing other arguments without an explicit keyword will result in an error or misinterpretation.\n",
            "  warnings.warn(\n",
            "c:\\Users\\pv20v\\AppData\\Local\\Programs\\Python\\Python39\\lib\\site-packages\\seaborn\\_decorators.py:36: FutureWarning: Pass the following variables as keyword args: x, y. From version 0.12, the only valid positional argument will be `data`, and passing other arguments without an explicit keyword will result in an error or misinterpretation.\n",
            "  warnings.warn(\n",
            "c:\\Users\\pv20v\\AppData\\Local\\Programs\\Python\\Python39\\lib\\site-packages\\seaborn\\_decorators.py:36: FutureWarning: Pass the following variables as keyword args: x, y. From version 0.12, the only valid positional argument will be `data`, and passing other arguments without an explicit keyword will result in an error or misinterpretation.\n",
            "  warnings.warn(\n",
            "c:\\Users\\pv20v\\AppData\\Local\\Programs\\Python\\Python39\\lib\\site-packages\\seaborn\\_decorators.py:36: FutureWarning: Pass the following variables as keyword args: x, y. From version 0.12, the only valid positional argument will be `data`, and passing other arguments without an explicit keyword will result in an error or misinterpretation.\n",
            "  warnings.warn(\n",
            "c:\\Users\\pv20v\\AppData\\Local\\Programs\\Python\\Python39\\lib\\site-packages\\seaborn\\_decorators.py:36: FutureWarning: Pass the following variables as keyword args: x, y. From version 0.12, the only valid positional argument will be `data`, and passing other arguments without an explicit keyword will result in an error or misinterpretation.\n",
            "  warnings.warn(\n",
            "c:\\Users\\pv20v\\AppData\\Local\\Programs\\Python\\Python39\\lib\\site-packages\\seaborn\\_decorators.py:36: FutureWarning: Pass the following variables as keyword args: x, y. From version 0.12, the only valid positional argument will be `data`, and passing other arguments without an explicit keyword will result in an error or misinterpretation.\n",
            "  warnings.warn(\n",
            "c:\\Users\\pv20v\\AppData\\Local\\Programs\\Python\\Python39\\lib\\site-packages\\seaborn\\_decorators.py:36: FutureWarning: Pass the following variables as keyword args: x, y. From version 0.12, the only valid positional argument will be `data`, and passing other arguments without an explicit keyword will result in an error or misinterpretation.\n",
            "  warnings.warn(\n",
            "c:\\Users\\pv20v\\AppData\\Local\\Programs\\Python\\Python39\\lib\\site-packages\\seaborn\\_decorators.py:36: FutureWarning: Pass the following variables as keyword args: x, y. From version 0.12, the only valid positional argument will be `data`, and passing other arguments without an explicit keyword will result in an error or misinterpretation.\n",
            "  warnings.warn(\n",
            "c:\\Users\\pv20v\\AppData\\Local\\Programs\\Python\\Python39\\lib\\site-packages\\seaborn\\_decorators.py:36: FutureWarning: Pass the following variables as keyword args: x, y. From version 0.12, the only valid positional argument will be `data`, and passing other arguments without an explicit keyword will result in an error or misinterpretation.\n",
            "  warnings.warn(\n",
            "c:\\Users\\pv20v\\AppData\\Local\\Programs\\Python\\Python39\\lib\\site-packages\\seaborn\\_decorators.py:36: FutureWarning: Pass the following variables as keyword args: x, y. From version 0.12, the only valid positional argument will be `data`, and passing other arguments without an explicit keyword will result in an error or misinterpretation.\n",
            "  warnings.warn(\n",
            "c:\\Users\\pv20v\\AppData\\Local\\Programs\\Python\\Python39\\lib\\site-packages\\seaborn\\_decorators.py:36: FutureWarning: Pass the following variables as keyword args: x, y. From version 0.12, the only valid positional argument will be `data`, and passing other arguments without an explicit keyword will result in an error or misinterpretation.\n",
            "  warnings.warn(\n",
            "c:\\Users\\pv20v\\AppData\\Local\\Programs\\Python\\Python39\\lib\\site-packages\\seaborn\\_decorators.py:36: FutureWarning: Pass the following variables as keyword args: x, y. From version 0.12, the only valid positional argument will be `data`, and passing other arguments without an explicit keyword will result in an error or misinterpretation.\n",
            "  warnings.warn(\n",
            "c:\\Users\\pv20v\\AppData\\Local\\Programs\\Python\\Python39\\lib\\site-packages\\seaborn\\_decorators.py:36: FutureWarning: Pass the following variables as keyword args: x, y. From version 0.12, the only valid positional argument will be `data`, and passing other arguments without an explicit keyword will result in an error or misinterpretation.\n",
            "  warnings.warn(\n",
            "c:\\Users\\pv20v\\AppData\\Local\\Programs\\Python\\Python39\\lib\\site-packages\\seaborn\\_decorators.py:36: FutureWarning: Pass the following variables as keyword args: x, y. From version 0.12, the only valid positional argument will be `data`, and passing other arguments without an explicit keyword will result in an error or misinterpretation.\n",
            "  warnings.warn(\n",
            "c:\\Users\\pv20v\\AppData\\Local\\Programs\\Python\\Python39\\lib\\site-packages\\seaborn\\_decorators.py:36: FutureWarning: Pass the following variables as keyword args: x, y. From version 0.12, the only valid positional argument will be `data`, and passing other arguments without an explicit keyword will result in an error or misinterpretation.\n",
            "  warnings.warn(\n",
            "c:\\Users\\pv20v\\AppData\\Local\\Programs\\Python\\Python39\\lib\\site-packages\\seaborn\\_decorators.py:36: FutureWarning: Pass the following variables as keyword args: x, y. From version 0.12, the only valid positional argument will be `data`, and passing other arguments without an explicit keyword will result in an error or misinterpretation.\n",
            "  warnings.warn(\n",
            "c:\\Users\\pv20v\\AppData\\Local\\Programs\\Python\\Python39\\lib\\site-packages\\seaborn\\_decorators.py:36: FutureWarning: Pass the following variables as keyword args: x, y. From version 0.12, the only valid positional argument will be `data`, and passing other arguments without an explicit keyword will result in an error or misinterpretation.\n",
            "  warnings.warn(\n",
            "c:\\Users\\pv20v\\AppData\\Local\\Programs\\Python\\Python39\\lib\\site-packages\\seaborn\\_decorators.py:36: FutureWarning: Pass the following variables as keyword args: x, y. From version 0.12, the only valid positional argument will be `data`, and passing other arguments without an explicit keyword will result in an error or misinterpretation.\n",
            "  warnings.warn(\n",
            "c:\\Users\\pv20v\\AppData\\Local\\Programs\\Python\\Python39\\lib\\site-packages\\seaborn\\_decorators.py:36: FutureWarning: Pass the following variables as keyword args: x, y. From version 0.12, the only valid positional argument will be `data`, and passing other arguments without an explicit keyword will result in an error or misinterpretation.\n",
            "  warnings.warn(\n",
            "c:\\Users\\pv20v\\AppData\\Local\\Programs\\Python\\Python39\\lib\\site-packages\\seaborn\\_decorators.py:36: FutureWarning: Pass the following variables as keyword args: x, y. From version 0.12, the only valid positional argument will be `data`, and passing other arguments without an explicit keyword will result in an error or misinterpretation.\n",
            "  warnings.warn(\n",
            "c:\\Users\\pv20v\\AppData\\Local\\Programs\\Python\\Python39\\lib\\site-packages\\seaborn\\_decorators.py:36: FutureWarning: Pass the following variables as keyword args: x, y. From version 0.12, the only valid positional argument will be `data`, and passing other arguments without an explicit keyword will result in an error or misinterpretation.\n",
            "  warnings.warn(\n",
            "c:\\Users\\pv20v\\AppData\\Local\\Programs\\Python\\Python39\\lib\\site-packages\\seaborn\\_decorators.py:36: FutureWarning: Pass the following variables as keyword args: x, y. From version 0.12, the only valid positional argument will be `data`, and passing other arguments without an explicit keyword will result in an error or misinterpretation.\n",
            "  warnings.warn(\n",
            "c:\\Users\\pv20v\\AppData\\Local\\Programs\\Python\\Python39\\lib\\site-packages\\seaborn\\_decorators.py:36: FutureWarning: Pass the following variables as keyword args: x, y. From version 0.12, the only valid positional argument will be `data`, and passing other arguments without an explicit keyword will result in an error or misinterpretation.\n",
            "  warnings.warn(\n",
            "c:\\Users\\pv20v\\AppData\\Local\\Programs\\Python\\Python39\\lib\\site-packages\\seaborn\\_decorators.py:36: FutureWarning: Pass the following variables as keyword args: x, y. From version 0.12, the only valid positional argument will be `data`, and passing other arguments without an explicit keyword will result in an error or misinterpretation.\n",
            "  warnings.warn(\n",
            "c:\\Users\\pv20v\\AppData\\Local\\Programs\\Python\\Python39\\lib\\site-packages\\seaborn\\_decorators.py:36: FutureWarning: Pass the following variables as keyword args: x, y. From version 0.12, the only valid positional argument will be `data`, and passing other arguments without an explicit keyword will result in an error or misinterpretation.\n",
            "  warnings.warn(\n",
            "c:\\Users\\pv20v\\AppData\\Local\\Programs\\Python\\Python39\\lib\\site-packages\\seaborn\\_decorators.py:36: FutureWarning: Pass the following variables as keyword args: x, y. From version 0.12, the only valid positional argument will be `data`, and passing other arguments without an explicit keyword will result in an error or misinterpretation.\n",
            "  warnings.warn(\n",
            "c:\\Users\\pv20v\\AppData\\Local\\Programs\\Python\\Python39\\lib\\site-packages\\seaborn\\_decorators.py:36: FutureWarning: Pass the following variables as keyword args: x, y. From version 0.12, the only valid positional argument will be `data`, and passing other arguments without an explicit keyword will result in an error or misinterpretation.\n",
            "  warnings.warn(\n",
            "c:\\Users\\pv20v\\AppData\\Local\\Programs\\Python\\Python39\\lib\\site-packages\\seaborn\\_decorators.py:36: FutureWarning: Pass the following variables as keyword args: x, y. From version 0.12, the only valid positional argument will be `data`, and passing other arguments without an explicit keyword will result in an error or misinterpretation.\n",
            "  warnings.warn(\n",
            "c:\\Users\\pv20v\\AppData\\Local\\Programs\\Python\\Python39\\lib\\site-packages\\seaborn\\_decorators.py:36: FutureWarning: Pass the following variables as keyword args: x, y. From version 0.12, the only valid positional argument will be `data`, and passing other arguments without an explicit keyword will result in an error or misinterpretation.\n",
            "  warnings.warn(\n",
            "c:\\Users\\pv20v\\AppData\\Local\\Programs\\Python\\Python39\\lib\\site-packages\\seaborn\\_decorators.py:36: FutureWarning: Pass the following variables as keyword args: x, y. From version 0.12, the only valid positional argument will be `data`, and passing other arguments without an explicit keyword will result in an error or misinterpretation.\n",
            "  warnings.warn(\n",
            "c:\\Users\\pv20v\\AppData\\Local\\Programs\\Python\\Python39\\lib\\site-packages\\seaborn\\_decorators.py:36: FutureWarning: Pass the following variables as keyword args: x, y. From version 0.12, the only valid positional argument will be `data`, and passing other arguments without an explicit keyword will result in an error or misinterpretation.\n",
            "  warnings.warn(\n",
            "c:\\Users\\pv20v\\AppData\\Local\\Programs\\Python\\Python39\\lib\\site-packages\\seaborn\\_decorators.py:36: FutureWarning: Pass the following variables as keyword args: x, y. From version 0.12, the only valid positional argument will be `data`, and passing other arguments without an explicit keyword will result in an error or misinterpretation.\n",
            "  warnings.warn(\n",
            "c:\\Users\\pv20v\\AppData\\Local\\Programs\\Python\\Python39\\lib\\site-packages\\seaborn\\_decorators.py:36: FutureWarning: Pass the following variables as keyword args: x, y. From version 0.12, the only valid positional argument will be `data`, and passing other arguments without an explicit keyword will result in an error or misinterpretation.\n",
            "  warnings.warn(\n",
            "c:\\Users\\pv20v\\AppData\\Local\\Programs\\Python\\Python39\\lib\\site-packages\\seaborn\\_decorators.py:36: FutureWarning: Pass the following variables as keyword args: x, y. From version 0.12, the only valid positional argument will be `data`, and passing other arguments without an explicit keyword will result in an error or misinterpretation.\n",
            "  warnings.warn(\n",
            "c:\\Users\\pv20v\\AppData\\Local\\Programs\\Python\\Python39\\lib\\site-packages\\seaborn\\_decorators.py:36: FutureWarning: Pass the following variables as keyword args: x, y. From version 0.12, the only valid positional argument will be `data`, and passing other arguments without an explicit keyword will result in an error or misinterpretation.\n",
            "  warnings.warn(\n"
          ]
        },
        {
          "data": {
            "image/png": "[encoded data removed]",
            "text/plain": [
              "<Figure size 250x150 with 1 Axes>"
            ]
          },
          "metadata": {
            "needs_background": "light"
          },
          "output_type": "display_data"
        },
        {
          "data": {
            "image/png": "[encoded data removed]",
            "text/plain": [
              "<Figure size 250x150 with 1 Axes>"
            ]
          },
          "metadata": {
            "needs_background": "light"
          },
          "output_type": "display_data"
        },
        {
          "data": {
            "image/png": "[encoded data removed]",
            "text/plain": [
              "<Figure size 250x150 with 1 Axes>"
            ]
          },
          "metadata": {
            "needs_background": "light"
          },
          "output_type": "display_data"
        },
        {
          "data": {
            "image/png": "[encoded data removed]",
            "text/plain": [
              "<Figure size 250x150 with 1 Axes>"
            ]
          },
          "metadata": {
            "needs_background": "light"
          },
          "output_type": "display_data"
        },
        {
          "data": {
            "image/png": "[encoded data removed]",
            "text/plain": [
              "<Figure size 250x150 with 1 Axes>"
            ]
          },
          "metadata": {
            "needs_background": "light"
          },
          "output_type": "display_data"
        },
        {
          "data": {
            "image/png": "[encoded data removed]",
            "text/plain": [
              "<Figure size 250x150 with 1 Axes>"
            ]
          },
          "metadata": {
            "needs_background": "light"
          },
          "output_type": "display_data"
        },
        {
          "data": {
            "image/png": "[encoded data removed]",
            "text/plain": [
              "<Figure size 250x150 with 1 Axes>"
            ]
          },
          "metadata": {
            "needs_background": "light"
          },
          "output_type": "display_data"
        },
        {
          "data": {
            "image/png": "[encoded data removed]",
            "text/plain": [
              "<Figure size 250x150 with 1 Axes>"
            ]
          },
          "metadata": {
            "needs_background": "light"
          },
          "output_type": "display_data"
        },
        {
          "data": {
            "image/png": "[encoded data removed]",
            "text/plain": [
              "<Figure size 250x150 with 1 Axes>"
            ]
          },
          "metadata": {
            "needs_background": "light"
          },
          "output_type": "display_data"
        },
        {
          "data": {
            "image/png": "[encoded data removed]",
            "text/plain": [
              "<Figure size 250x150 with 1 Axes>"
            ]
          },
          "metadata": {
            "needs_background": "light"
          },
          "output_type": "display_data"
        },
        {
          "data": {
            "image/png": "[encoded data removed]",
            "text/plain": [
              "<Figure size 250x150 with 1 Axes>"
            ]
          },
          "metadata": {
            "needs_background": "light"
          },
          "output_type": "display_data"
        },
        {
          "data": {
            "image/png": "[encoded data removed]",
            "text/plain": [
              "<Figure size 250x150 with 1 Axes>"
            ]
          },
          "metadata": {
            "needs_background": "light"
          },
          "output_type": "display_data"
        },
        {
          "data": {
            "image/png": "[encoded data removed]",
            "text/plain": [
              "<Figure size 250x150 with 1 Axes>"
            ]
          },
          "metadata": {
            "needs_background": "light"
          },
          "output_type": "display_data"
        },
        {
          "data": {
            "image/png": "[encoded data removed]",
            "text/plain": [
              "<Figure size 250x150 with 1 Axes>"
            ]
          },
          "metadata": {
            "needs_background": "light"
          },
          "output_type": "display_data"
        },
        {
          "data": {
            "image/png": "[encoded data removed]",
            "text/plain": [
              "<Figure size 250x150 with 1 Axes>"
            ]
          },
          "metadata": {
            "needs_background": "light"
          },
          "output_type": "display_data"
        },
        {
          "data": {
            "image/png": "[encoded data removed]",
            "text/plain": [
              "<Figure size 250x150 with 1 Axes>"
            ]
          },
          "metadata": {
            "needs_background": "light"
          },
          "output_type": "display_data"
        },
        {
          "data": {
            "image/png": "[encoded data removed]",
            "text/plain": [
              "<Figure size 250x150 with 1 Axes>"
            ]
          },
          "metadata": {
            "needs_background": "light"
          },
          "output_type": "display_data"
        },
        {
          "data": {
            "image/png": "[encoded data removed]",
            "text/plain": [
              "<Figure size 250x150 with 1 Axes>"
            ]
          },
          "metadata": {
            "needs_background": "light"
          },
          "output_type": "display_data"
        }
      ],
      "source": [
        "#Checking the distribution of all independent numerical variables.\n",
        "for i in Numerical_features_train:\n",
        "  UVA_KDE(train,[i])"
      ]
    },
    {
      "cell_type": "code",
      "execution_count": 16,
      "metadata": {
        "colab": {
          "base_uri": "https://localhost:8080/",
          "height": 365
        },
        "id": "XOsfsQkEa7k6",
        "outputId": "b481942d-d326-491e-fb99-9a1f33feddab"
      },
      "outputs": [
        {
          "data": {
            "image/png": "[encoded data removed]",
            "text/plain": [
              "<Figure size 432x288 with 2 Axes>"
            ]
          },
          "metadata": {
            "needs_background": "light"
          },
          "output_type": "display_data"
        }
      ],
      "source": [
        "#Correlation Heatmap\n",
        "sns.heatmap(train.corr())\n",
        "plt.savefig(\"Plotting_Correlation_HeatMap.jpg\")"
      ]
    },
    {
      "cell_type": "markdown",
      "metadata": {},
      "source": [
        "Analysing Guassian Distributions:Removing the Outliers"
      ]
    },
    {
      "cell_type": "code",
      "execution_count": 58,
      "metadata": {},
      "outputs": [],
      "source": [
        "Numerical_features_train.drop(['click_rate','is_urgency','is_weekend','is_personalised','is_emoticons','is_discount'],axis =1,inplace=True )"
      ]
    },
    {
      "cell_type": "code",
      "execution_count": null,
      "metadata": {},
      "outputs": [],
      "source": [
        "Numerical_features_train.info()"
      ]
    },
    {
      "cell_type": "code",
      "execution_count": 60,
      "metadata": {},
      "outputs": [
        {
          "data": {
            "text/html": [
              "<div>\n",
              "<style scoped>\n",
              "    .dataframe tbody tr th:only-of-type {\n",
              "        vertical-align: middle;\n",
              "    }\n",
              "\n",
              "    .dataframe tbody tr th {\n",
              "        vertical-align: top;\n",
              "    }\n",
              "\n",
              "    .dataframe thead th {\n",
              "        text-align: right;\n",
              "    }\n",
              "</style>\n",
              "<table border=\"1\" class=\"dataframe\">\n",
              "  <thead>\n",
              "    <tr style=\"text-align: right;\">\n",
              "      <th></th>\n",
              "      <th>sender</th>\n",
              "      <th>subject_len</th>\n",
              "      <th>body_len</th>\n",
              "      <th>mean_paragraph_len</th>\n",
              "      <th>day_of_week</th>\n",
              "      <th>is_weekend</th>\n",
              "      <th>times_of_day</th>\n",
              "      <th>category</th>\n",
              "      <th>product</th>\n",
              "      <th>no_of_CTA</th>\n",
              "      <th>mean_CTA_len</th>\n",
              "      <th>is_image</th>\n",
              "      <th>is_personalised</th>\n",
              "      <th>is_quote</th>\n",
              "      <th>is_emoticons</th>\n",
              "      <th>is_discount</th>\n",
              "      <th>is_urgency</th>\n",
              "      <th>target_audience</th>\n",
              "      <th>click_rate</th>\n",
              "    </tr>\n",
              "  </thead>\n",
              "  <tbody>\n",
              "    <tr>\n",
              "      <th>0</th>\n",
              "      <td>3.0</td>\n",
              "      <td>76.0</td>\n",
              "      <td>10439.0</td>\n",
              "      <td>39.0</td>\n",
              "      <td>5.0</td>\n",
              "      <td>0.0</td>\n",
              "      <td>2.0</td>\n",
              "      <td>6.0</td>\n",
              "      <td>26.0</td>\n",
              "      <td>3.0</td>\n",
              "      <td>29.0</td>\n",
              "      <td>0.0</td>\n",
              "      <td>0.0</td>\n",
              "      <td>0.0</td>\n",
              "      <td>0.0</td>\n",
              "      <td>0.0</td>\n",
              "      <td>0.0</td>\n",
              "      <td>12.0</td>\n",
              "      <td>0.080854</td>\n",
              "    </tr>\n",
              "    <tr>\n",
              "      <th>1</th>\n",
              "      <td>3.0</td>\n",
              "      <td>54.0</td>\n",
              "      <td>2570.0</td>\n",
              "      <td>68.5</td>\n",
              "      <td>5.0</td>\n",
              "      <td>0.0</td>\n",
              "      <td>1.0</td>\n",
              "      <td>2.0</td>\n",
              "      <td>11.0</td>\n",
              "      <td>0.0</td>\n",
              "      <td>22.0</td>\n",
              "      <td>0.0</td>\n",
              "      <td>0.0</td>\n",
              "      <td>0.0</td>\n",
              "      <td>0.0</td>\n",
              "      <td>0.0</td>\n",
              "      <td>0.0</td>\n",
              "      <td>12.0</td>\n",
              "      <td>0.080854</td>\n",
              "    </tr>\n",
              "    <tr>\n",
              "      <th>2</th>\n",
              "      <td>3.0</td>\n",
              "      <td>59.0</td>\n",
              "      <td>12801.0</td>\n",
              "      <td>16.0</td>\n",
              "      <td>5.0</td>\n",
              "      <td>0.0</td>\n",
              "      <td>2.0</td>\n",
              "      <td>2.0</td>\n",
              "      <td>11.0</td>\n",
              "      <td>3.0</td>\n",
              "      <td>23.0</td>\n",
              "      <td>1.0</td>\n",
              "      <td>0.0</td>\n",
              "      <td>1.0</td>\n",
              "      <td>0.0</td>\n",
              "      <td>0.0</td>\n",
              "      <td>0.0</td>\n",
              "      <td>12.0</td>\n",
              "      <td>0.002769</td>\n",
              "    </tr>\n",
              "    <tr>\n",
              "      <th>3</th>\n",
              "      <td>3.0</td>\n",
              "      <td>74.0</td>\n",
              "      <td>11037.0</td>\n",
              "      <td>30.0</td>\n",
              "      <td>4.0</td>\n",
              "      <td>0.0</td>\n",
              "      <td>0.0</td>\n",
              "      <td>15.0</td>\n",
              "      <td>9.0</td>\n",
              "      <td>4.0</td>\n",
              "      <td>24.0</td>\n",
              "      <td>0.0</td>\n",
              "      <td>0.0</td>\n",
              "      <td>0.0</td>\n",
              "      <td>0.0</td>\n",
              "      <td>0.0</td>\n",
              "      <td>0.0</td>\n",
              "      <td>12.0</td>\n",
              "      <td>0.010868</td>\n",
              "    </tr>\n",
              "    <tr>\n",
              "      <th>4</th>\n",
              "      <td>3.0</td>\n",
              "      <td>80.0</td>\n",
              "      <td>10011.0</td>\n",
              "      <td>27.0</td>\n",
              "      <td>5.0</td>\n",
              "      <td>0.0</td>\n",
              "      <td>2.0</td>\n",
              "      <td>6.0</td>\n",
              "      <td>26.0</td>\n",
              "      <td>3.0</td>\n",
              "      <td>31.0</td>\n",
              "      <td>0.0</td>\n",
              "      <td>0.0</td>\n",
              "      <td>1.0</td>\n",
              "      <td>0.0</td>\n",
              "      <td>0.0</td>\n",
              "      <td>0.0</td>\n",
              "      <td>12.0</td>\n",
              "      <td>0.080854</td>\n",
              "    </tr>\n",
              "  </tbody>\n",
              "</table>\n",
              "</div>"
            ],
            "text/plain": [
              "   sender  subject_len  body_len  mean_paragraph_len  day_of_week  is_weekend  \\\n",
              "0     3.0         76.0   10439.0                39.0          5.0         0.0   \n",
              "1     3.0         54.0    2570.0                68.5          5.0         0.0   \n",
              "2     3.0         59.0   12801.0                16.0          5.0         0.0   \n",
              "3     3.0         74.0   11037.0                30.0          4.0         0.0   \n",
              "4     3.0         80.0   10011.0                27.0          5.0         0.0   \n",
              "\n",
              "   times_of_day  category  product  no_of_CTA  mean_CTA_len  is_image  \\\n",
              "0           2.0       6.0     26.0        3.0          29.0       0.0   \n",
              "1           1.0       2.0     11.0        0.0          22.0       0.0   \n",
              "2           2.0       2.0     11.0        3.0          23.0       1.0   \n",
              "3           0.0      15.0      9.0        4.0          24.0       0.0   \n",
              "4           2.0       6.0     26.0        3.0          31.0       0.0   \n",
              "\n",
              "   is_personalised  is_quote  is_emoticons  is_discount  is_urgency  \\\n",
              "0              0.0       0.0           0.0          0.0         0.0   \n",
              "1              0.0       0.0           0.0          0.0         0.0   \n",
              "2              0.0       1.0           0.0          0.0         0.0   \n",
              "3              0.0       0.0           0.0          0.0         0.0   \n",
              "4              0.0       1.0           0.0          0.0         0.0   \n",
              "\n",
              "   target_audience  click_rate  \n",
              "0             12.0    0.080854  \n",
              "1             12.0    0.080854  \n",
              "2             12.0    0.002769  \n",
              "3             12.0    0.010868  \n",
              "4             12.0    0.080854  "
            ]
          },
          "metadata": {},
          "output_type": "display_data"
        }
      ],
      "source": [
        "#Outlier treatment of train dataset:\n",
        "\n",
        "df1 = train.copy()\n",
        "\n",
        "features1 = train.describe()\n",
        "\n",
        "for i in features1:\n",
        "    Q1 = df1[i].quantile(0.25)\n",
        "    Q3 = df1[i].quantile(0.75)\n",
        "    IQR = Q3 - Q1\n",
        "    upper_limit = (Q3+(1.5*IQR))\n",
        "    lower_limit = (Q1-(1.5*IQR))\n",
        "    df1[i] = np.where(df1[i]> upper_limit, upper_limit,\n",
        "                        np.where(df1[i]< lower_limit, lower_limit,\n",
        "                          df1[i]))\n",
        "    df1 = df1.reset_index(drop=True)\n",
        "display(df1.head())"
      ]
    },
    {
      "cell_type": "code",
      "execution_count": 61,
      "metadata": {},
      "outputs": [],
      "source": [
        "#test.drop('campaign_id', axis=1, inplace=True)\n",
        "test['times_of_day']= label_encoder.fit_transform(test['times_of_day'])  \n",
        "test.drop('is_timer', axis=1, inplace=True)\n",
        "test.drop('is_price', axis=1, inplace=True)"
      ]
    },
    {
      "cell_type": "code",
      "execution_count": 62,
      "metadata": {},
      "outputs": [],
      "source": [
        "Numerical_features_test = test.select_dtypes(include= ['int64','float'])\n",
        "Numerical_features_test.columns\n",
        "Numerical_features_test.drop(['is_urgency','is_weekend','is_personalised','is_emoticons','is_discount'],axis =1,inplace=True )"
      ]
    },
    {
      "cell_type": "code",
      "execution_count": 63,
      "metadata": {},
      "outputs": [
        {
          "data": {
            "text/html": [
              "<div>\n",
              "<style scoped>\n",
              "    .dataframe tbody tr th:only-of-type {\n",
              "        vertical-align: middle;\n",
              "    }\n",
              "\n",
              "    .dataframe tbody tr th {\n",
              "        vertical-align: top;\n",
              "    }\n",
              "\n",
              "    .dataframe thead th {\n",
              "        text-align: right;\n",
              "    }\n",
              "</style>\n",
              "<table border=\"1\" class=\"dataframe\">\n",
              "  <thead>\n",
              "    <tr style=\"text-align: right;\">\n",
              "      <th></th>\n",
              "      <th>campaign_id</th>\n",
              "      <th>sender</th>\n",
              "      <th>subject_len</th>\n",
              "      <th>body_len</th>\n",
              "      <th>mean_paragraph_len</th>\n",
              "      <th>day_of_week</th>\n",
              "      <th>is_weekend</th>\n",
              "      <th>times_of_day</th>\n",
              "      <th>category</th>\n",
              "      <th>product</th>\n",
              "      <th>no_of_CTA</th>\n",
              "      <th>mean_CTA_len</th>\n",
              "      <th>is_image</th>\n",
              "      <th>is_personalised</th>\n",
              "      <th>is_quote</th>\n",
              "      <th>is_emoticons</th>\n",
              "      <th>is_discount</th>\n",
              "      <th>is_urgency</th>\n",
              "      <th>target_audience</th>\n",
              "    </tr>\n",
              "  </thead>\n",
              "  <tbody>\n",
              "    <tr>\n",
              "      <th>0</th>\n",
              "      <td>1889.0</td>\n",
              "      <td>3.0</td>\n",
              "      <td>61.0</td>\n",
              "      <td>12871.0</td>\n",
              "      <td>11.0</td>\n",
              "      <td>6.0</td>\n",
              "      <td>0.0</td>\n",
              "      <td>2.0</td>\n",
              "      <td>6.0</td>\n",
              "      <td>26.0</td>\n",
              "      <td>3.0</td>\n",
              "      <td>37.0</td>\n",
              "      <td>1.0</td>\n",
              "      <td>0.0</td>\n",
              "      <td>0.0</td>\n",
              "      <td>0.0</td>\n",
              "      <td>0.0</td>\n",
              "      <td>0.0</td>\n",
              "      <td>12.0</td>\n",
              "    </tr>\n",
              "    <tr>\n",
              "      <th>1</th>\n",
              "      <td>1890.0</td>\n",
              "      <td>3.0</td>\n",
              "      <td>54.0</td>\n",
              "      <td>2569.0</td>\n",
              "      <td>67.5</td>\n",
              "      <td>5.0</td>\n",
              "      <td>0.0</td>\n",
              "      <td>1.0</td>\n",
              "      <td>2.0</td>\n",
              "      <td>11.0</td>\n",
              "      <td>0.0</td>\n",
              "      <td>22.0</td>\n",
              "      <td>0.0</td>\n",
              "      <td>0.0</td>\n",
              "      <td>0.0</td>\n",
              "      <td>0.0</td>\n",
              "      <td>0.0</td>\n",
              "      <td>0.0</td>\n",
              "      <td>12.0</td>\n",
              "    </tr>\n",
              "    <tr>\n",
              "      <th>2</th>\n",
              "      <td>1891.0</td>\n",
              "      <td>3.0</td>\n",
              "      <td>88.0</td>\n",
              "      <td>1473.0</td>\n",
              "      <td>67.5</td>\n",
              "      <td>4.0</td>\n",
              "      <td>0.0</td>\n",
              "      <td>0.0</td>\n",
              "      <td>2.0</td>\n",
              "      <td>11.0</td>\n",
              "      <td>0.0</td>\n",
              "      <td>22.0</td>\n",
              "      <td>1.0</td>\n",
              "      <td>0.0</td>\n",
              "      <td>1.0</td>\n",
              "      <td>0.0</td>\n",
              "      <td>0.0</td>\n",
              "      <td>0.0</td>\n",
              "      <td>12.0</td>\n",
              "    </tr>\n",
              "    <tr>\n",
              "      <th>3</th>\n",
              "      <td>1892.0</td>\n",
              "      <td>3.0</td>\n",
              "      <td>88.0</td>\n",
              "      <td>1473.0</td>\n",
              "      <td>67.5</td>\n",
              "      <td>3.0</td>\n",
              "      <td>0.0</td>\n",
              "      <td>0.0</td>\n",
              "      <td>2.0</td>\n",
              "      <td>11.0</td>\n",
              "      <td>0.0</td>\n",
              "      <td>22.0</td>\n",
              "      <td>1.0</td>\n",
              "      <td>0.0</td>\n",
              "      <td>1.0</td>\n",
              "      <td>0.0</td>\n",
              "      <td>0.0</td>\n",
              "      <td>0.0</td>\n",
              "      <td>12.0</td>\n",
              "    </tr>\n",
              "    <tr>\n",
              "      <th>4</th>\n",
              "      <td>1893.0</td>\n",
              "      <td>3.0</td>\n",
              "      <td>78.0</td>\n",
              "      <td>9020.0</td>\n",
              "      <td>29.0</td>\n",
              "      <td>3.0</td>\n",
              "      <td>0.0</td>\n",
              "      <td>2.0</td>\n",
              "      <td>6.0</td>\n",
              "      <td>26.0</td>\n",
              "      <td>2.0</td>\n",
              "      <td>40.0</td>\n",
              "      <td>0.0</td>\n",
              "      <td>0.0</td>\n",
              "      <td>0.0</td>\n",
              "      <td>0.0</td>\n",
              "      <td>0.0</td>\n",
              "      <td>0.0</td>\n",
              "      <td>12.0</td>\n",
              "    </tr>\n",
              "  </tbody>\n",
              "</table>\n",
              "</div>"
            ],
            "text/plain": [
              "   campaign_id  sender  subject_len  body_len  mean_paragraph_len  \\\n",
              "0       1889.0     3.0         61.0   12871.0                11.0   \n",
              "1       1890.0     3.0         54.0    2569.0                67.5   \n",
              "2       1891.0     3.0         88.0    1473.0                67.5   \n",
              "3       1892.0     3.0         88.0    1473.0                67.5   \n",
              "4       1893.0     3.0         78.0    9020.0                29.0   \n",
              "\n",
              "   day_of_week  is_weekend  times_of_day  category  product  no_of_CTA  \\\n",
              "0          6.0         0.0           2.0       6.0     26.0        3.0   \n",
              "1          5.0         0.0           1.0       2.0     11.0        0.0   \n",
              "2          4.0         0.0           0.0       2.0     11.0        0.0   \n",
              "3          3.0         0.0           0.0       2.0     11.0        0.0   \n",
              "4          3.0         0.0           2.0       6.0     26.0        2.0   \n",
              "\n",
              "   mean_CTA_len  is_image  is_personalised  is_quote  is_emoticons  \\\n",
              "0          37.0       1.0              0.0       0.0           0.0   \n",
              "1          22.0       0.0              0.0       0.0           0.0   \n",
              "2          22.0       1.0              0.0       1.0           0.0   \n",
              "3          22.0       1.0              0.0       1.0           0.0   \n",
              "4          40.0       0.0              0.0       0.0           0.0   \n",
              "\n",
              "   is_discount  is_urgency  target_audience  \n",
              "0          0.0         0.0             12.0  \n",
              "1          0.0         0.0             12.0  \n",
              "2          0.0         0.0             12.0  \n",
              "3          0.0         0.0             12.0  \n",
              "4          0.0         0.0             12.0  "
            ]
          },
          "metadata": {},
          "output_type": "display_data"
        }
      ],
      "source": [
        "df2 = test.copy()\n",
        "\n",
        "features2 = test.describe()\n",
        "\n",
        "for i in features2:\n",
        "    Q1 = df2[i].quantile(0.25)\n",
        "    Q3 = df2[i].quantile(0.75)\n",
        "    IQR = Q3 - Q1\n",
        "    upper_limit = (Q3+(1.5*IQR))\n",
        "    lower_limit = (Q1-(1.5*IQR))\n",
        "    df2[i] = np.where(df2[i]> upper_limit, upper_limit,\n",
        "                        np.where(df2[i]< lower_limit, lower_limit,\n",
        "                          df2[i]))\n",
        "    df2 = df2.reset_index(drop=True)\n",
        "display(df2.head())"
      ]
    },
    {
      "cell_type": "code",
      "execution_count": 64,
      "metadata": {},
      "outputs": [],
      "source": [
        "train = df1.copy()\n",
        "test= df2.copy()"
      ]
    },
    {
      "cell_type": "markdown",
      "metadata": {
        "id": "ipgnBOnW3e5f"
      },
      "source": [
        "Splitting Dataset"
      ]
    },
    {
      "cell_type": "markdown",
      "metadata": {
        "id": "3R55913sb5Yb"
      },
      "source": [
        "Train set includes the target variable' click_rate' and objective is to  predict the click_rate of an email campaign in the test set."
      ]
    },
    {
      "cell_type": "code",
      "execution_count": 65,
      "metadata": {
        "id": "GYTPtj1Y12Hh"
      },
      "outputs": [],
      "source": [
        "x_train = train.drop(\"click_rate\",axis=1)\n",
        "y_train = train[\"click_rate\"]"
      ]
    },
    {
      "cell_type": "code",
      "execution_count": null,
      "metadata": {},
      "outputs": [],
      "source": [
        "y_train.info()"
      ]
    },
    {
      "cell_type": "code",
      "execution_count": 74,
      "metadata": {
        "id": "8v_lLWq3DRGI"
      },
      "outputs": [],
      "source": [
        "x_test = test"
      ]
    },
    {
      "cell_type": "code",
      "execution_count": 75,
      "metadata": {},
      "outputs": [
        {
          "name": "stdout",
          "output_type": "stream",
          "text": [
            "<class 'pandas.core.frame.DataFrame'>\n",
            "RangeIndex: 762 entries, 0 to 761\n",
            "Data columns (total 19 columns):\n",
            " #   Column              Non-Null Count  Dtype  \n",
            "---  ------              --------------  -----  \n",
            " 0   campaign_id         762 non-null    float64\n",
            " 1   sender              762 non-null    float64\n",
            " 2   subject_len         762 non-null    float64\n",
            " 3   body_len            762 non-null    float64\n",
            " 4   mean_paragraph_len  762 non-null    float64\n",
            " 5   day_of_week         762 non-null    float64\n",
            " 6   is_weekend          762 non-null    float64\n",
            " 7   times_of_day        762 non-null    float64\n",
            " 8   category            762 non-null    float64\n",
            " 9   product             762 non-null    float64\n",
            " 10  no_of_CTA           762 non-null    float64\n",
            " 11  mean_CTA_len        762 non-null    float64\n",
            " 12  is_image            762 non-null    float64\n",
            " 13  is_personalised     762 non-null    float64\n",
            " 14  is_quote            762 non-null    float64\n",
            " 15  is_emoticons        762 non-null    float64\n",
            " 16  is_discount         762 non-null    float64\n",
            " 17  is_urgency          762 non-null    float64\n",
            " 18  target_audience     762 non-null    float64\n",
            "dtypes: float64(19)\n",
            "memory usage: 113.2 KB\n"
          ]
        }
      ],
      "source": [
        "x_test.info()"
      ]
    },
    {
      "cell_type": "markdown",
      "metadata": {
        "id": "R2Nsv5iB80ax"
      },
      "source": [
        "Model Building and training\n"
      ]
    },
    {
      "cell_type": "code",
      "execution_count": 76,
      "metadata": {},
      "outputs": [],
      "source": [
        "from catboost import CatBoostRegressor\n",
        "from sklearn.metrics import mean_squared_error,r2_score,mean_absolute_error,mean_absolute_percentage_error"
      ]
    },
    {
      "cell_type": "code",
      "execution_count": 77,
      "metadata": {},
      "outputs": [
        {
          "name": "stdout",
          "output_type": "stream",
          "text": [
            "Learning rate set to 0.045268\n",
            "0:\tlearn: 0.0273026\ttotal: 2.87ms\tremaining: 2.87s\n",
            "1:\tlearn: 0.0269962\ttotal: 5.29ms\tremaining: 2.64s\n",
            "2:\tlearn: 0.0266881\ttotal: 7.31ms\tremaining: 2.43s\n",
            "3:\tlearn: 0.0264110\ttotal: 9.51ms\tremaining: 2.37s\n",
            "4:\tlearn: 0.0261537\ttotal: 12ms\tremaining: 2.39s\n",
            "5:\tlearn: 0.0259128\ttotal: 14.5ms\tremaining: 2.4s\n",
            "6:\tlearn: 0.0256757\ttotal: 17.4ms\tremaining: 2.46s\n",
            "7:\tlearn: 0.0254305\ttotal: 20ms\tremaining: 2.48s\n",
            "8:\tlearn: 0.0252428\ttotal: 22ms\tremaining: 2.43s\n",
            "9:\tlearn: 0.0250766\ttotal: 24.5ms\tremaining: 2.42s\n",
            "10:\tlearn: 0.0248808\ttotal: 27.1ms\tremaining: 2.44s\n",
            "11:\tlearn: 0.0246595\ttotal: 31.2ms\tremaining: 2.57s\n",
            "12:\tlearn: 0.0244651\ttotal: 33.6ms\tremaining: 2.55s\n",
            "13:\tlearn: 0.0242860\ttotal: 36ms\tremaining: 2.54s\n",
            "14:\tlearn: 0.0240957\ttotal: 38.5ms\tremaining: 2.53s\n",
            "15:\tlearn: 0.0239189\ttotal: 41.1ms\tremaining: 2.53s\n",
            "16:\tlearn: 0.0237559\ttotal: 44.6ms\tremaining: 2.58s\n",
            "17:\tlearn: 0.0235962\ttotal: 47.5ms\tremaining: 2.59s\n",
            "18:\tlearn: 0.0234662\ttotal: 49.9ms\tremaining: 2.58s\n",
            "19:\tlearn: 0.0233281\ttotal: 53.3ms\tremaining: 2.61s\n",
            "20:\tlearn: 0.0231996\ttotal: 60.1ms\tremaining: 2.8s\n",
            "21:\tlearn: 0.0230546\ttotal: 62.7ms\tremaining: 2.79s\n",
            "22:\tlearn: 0.0229267\ttotal: 65.2ms\tremaining: 2.77s\n",
            "23:\tlearn: 0.0228502\ttotal: 68.2ms\tremaining: 2.77s\n",
            "24:\tlearn: 0.0227372\ttotal: 70.3ms\tremaining: 2.74s\n",
            "25:\tlearn: 0.0226084\ttotal: 72.6ms\tremaining: 2.72s\n",
            "26:\tlearn: 0.0225152\ttotal: 75.7ms\tremaining: 2.73s\n",
            "27:\tlearn: 0.0223955\ttotal: 77.8ms\tremaining: 2.7s\n",
            "28:\tlearn: 0.0222966\ttotal: 79.9ms\tremaining: 2.67s\n",
            "29:\tlearn: 0.0222059\ttotal: 82.1ms\tremaining: 2.65s\n",
            "30:\tlearn: 0.0221162\ttotal: 84ms\tremaining: 2.63s\n",
            "31:\tlearn: 0.0220384\ttotal: 86.5ms\tremaining: 2.62s\n",
            "32:\tlearn: 0.0219529\ttotal: 89ms\tremaining: 2.61s\n",
            "33:\tlearn: 0.0218718\ttotal: 91.1ms\tremaining: 2.59s\n",
            "34:\tlearn: 0.0217910\ttotal: 93.2ms\tremaining: 2.57s\n",
            "35:\tlearn: 0.0217067\ttotal: 95.4ms\tremaining: 2.55s\n",
            "36:\tlearn: 0.0216180\ttotal: 97.5ms\tremaining: 2.54s\n",
            "37:\tlearn: 0.0215470\ttotal: 99.6ms\tremaining: 2.52s\n",
            "38:\tlearn: 0.0214645\ttotal: 102ms\tremaining: 2.51s\n",
            "39:\tlearn: 0.0213889\ttotal: 105ms\tremaining: 2.51s\n",
            "40:\tlearn: 0.0213197\ttotal: 107ms\tremaining: 2.49s\n",
            "41:\tlearn: 0.0212644\ttotal: 109ms\tremaining: 2.48s\n",
            "42:\tlearn: 0.0212100\ttotal: 111ms\tremaining: 2.47s\n",
            "43:\tlearn: 0.0211367\ttotal: 113ms\tremaining: 2.45s\n",
            "44:\tlearn: 0.0210566\ttotal: 116ms\tremaining: 2.45s\n",
            "45:\tlearn: 0.0210026\ttotal: 118ms\tremaining: 2.45s\n",
            "46:\tlearn: 0.0209307\ttotal: 121ms\tremaining: 2.45s\n",
            "47:\tlearn: 0.0208722\ttotal: 123ms\tremaining: 2.44s\n",
            "48:\tlearn: 0.0208114\ttotal: 125ms\tremaining: 2.42s\n",
            "49:\tlearn: 0.0207688\ttotal: 127ms\tremaining: 2.41s\n",
            "50:\tlearn: 0.0207095\ttotal: 129ms\tremaining: 2.39s\n",
            "51:\tlearn: 0.0206404\ttotal: 131ms\tremaining: 2.38s\n",
            "52:\tlearn: 0.0205705\ttotal: 134ms\tremaining: 2.39s\n",
            "53:\tlearn: 0.0205073\ttotal: 136ms\tremaining: 2.39s\n",
            "54:\tlearn: 0.0204531\ttotal: 139ms\tremaining: 2.38s\n",
            "55:\tlearn: 0.0204054\ttotal: 141ms\tremaining: 2.37s\n",
            "56:\tlearn: 0.0203616\ttotal: 143ms\tremaining: 2.36s\n",
            "57:\tlearn: 0.0203065\ttotal: 145ms\tremaining: 2.35s\n",
            "58:\tlearn: 0.0202469\ttotal: 147ms\tremaining: 2.34s\n",
            "59:\tlearn: 0.0201964\ttotal: 150ms\tremaining: 2.34s\n",
            "60:\tlearn: 0.0201549\ttotal: 152ms\tremaining: 2.33s\n",
            "61:\tlearn: 0.0201211\ttotal: 154ms\tremaining: 2.32s\n",
            "62:\tlearn: 0.0200781\ttotal: 156ms\tremaining: 2.31s\n",
            "63:\tlearn: 0.0200255\ttotal: 157ms\tremaining: 2.3s\n",
            "64:\tlearn: 0.0199595\ttotal: 159ms\tremaining: 2.29s\n",
            "65:\tlearn: 0.0199229\ttotal: 161ms\tremaining: 2.28s\n",
            "66:\tlearn: 0.0198884\ttotal: 163ms\tremaining: 2.27s\n",
            "67:\tlearn: 0.0198441\ttotal: 165ms\tremaining: 2.27s\n",
            "68:\tlearn: 0.0198039\ttotal: 167ms\tremaining: 2.25s\n",
            "69:\tlearn: 0.0197337\ttotal: 169ms\tremaining: 2.25s\n",
            "70:\tlearn: 0.0196883\ttotal: 171ms\tremaining: 2.24s\n",
            "71:\tlearn: 0.0196628\ttotal: 173ms\tremaining: 2.23s\n",
            "72:\tlearn: 0.0196179\ttotal: 175ms\tremaining: 2.21s\n",
            "73:\tlearn: 0.0195643\ttotal: 177ms\tremaining: 2.21s\n",
            "74:\tlearn: 0.0195236\ttotal: 179ms\tremaining: 2.21s\n",
            "75:\tlearn: 0.0194864\ttotal: 181ms\tremaining: 2.2s\n",
            "76:\tlearn: 0.0194620\ttotal: 183ms\tremaining: 2.2s\n",
            "77:\tlearn: 0.0194235\ttotal: 186ms\tremaining: 2.2s\n",
            "78:\tlearn: 0.0193932\ttotal: 188ms\tremaining: 2.19s\n",
            "79:\tlearn: 0.0193710\ttotal: 190ms\tremaining: 2.18s\n",
            "80:\tlearn: 0.0193388\ttotal: 192ms\tremaining: 2.18s\n",
            "81:\tlearn: 0.0193242\ttotal: 194ms\tremaining: 2.17s\n",
            "82:\tlearn: 0.0192866\ttotal: 196ms\tremaining: 2.16s\n",
            "83:\tlearn: 0.0192536\ttotal: 198ms\tremaining: 2.16s\n",
            "84:\tlearn: 0.0192240\ttotal: 200ms\tremaining: 2.15s\n",
            "85:\tlearn: 0.0191765\ttotal: 202ms\tremaining: 2.14s\n",
            "86:\tlearn: 0.0191572\ttotal: 203ms\tremaining: 2.13s\n",
            "87:\tlearn: 0.0191296\ttotal: 205ms\tremaining: 2.13s\n",
            "88:\tlearn: 0.0190908\ttotal: 207ms\tremaining: 2.12s\n",
            "89:\tlearn: 0.0190747\ttotal: 214ms\tremaining: 2.17s\n",
            "90:\tlearn: 0.0190546\ttotal: 217ms\tremaining: 2.16s\n",
            "91:\tlearn: 0.0190194\ttotal: 219ms\tremaining: 2.16s\n",
            "92:\tlearn: 0.0189771\ttotal: 221ms\tremaining: 2.16s\n",
            "93:\tlearn: 0.0189566\ttotal: 223ms\tremaining: 2.15s\n",
            "94:\tlearn: 0.0189275\ttotal: 226ms\tremaining: 2.15s\n",
            "95:\tlearn: 0.0188929\ttotal: 229ms\tremaining: 2.15s\n",
            "96:\tlearn: 0.0188690\ttotal: 231ms\tremaining: 2.15s\n",
            "97:\tlearn: 0.0188485\ttotal: 233ms\tremaining: 2.14s\n",
            "98:\tlearn: 0.0187984\ttotal: 235ms\tremaining: 2.14s\n",
            "99:\tlearn: 0.0187572\ttotal: 238ms\tremaining: 2.15s\n",
            "100:\tlearn: 0.0187219\ttotal: 241ms\tremaining: 2.15s\n",
            "101:\tlearn: 0.0186810\ttotal: 244ms\tremaining: 2.15s\n",
            "102:\tlearn: 0.0186650\ttotal: 246ms\tremaining: 2.14s\n",
            "103:\tlearn: 0.0186198\ttotal: 248ms\tremaining: 2.13s\n",
            "104:\tlearn: 0.0186076\ttotal: 249ms\tremaining: 2.12s\n",
            "105:\tlearn: 0.0185771\ttotal: 251ms\tremaining: 2.12s\n",
            "106:\tlearn: 0.0185423\ttotal: 253ms\tremaining: 2.11s\n",
            "107:\tlearn: 0.0185118\ttotal: 255ms\tremaining: 2.11s\n",
            "108:\tlearn: 0.0184876\ttotal: 258ms\tremaining: 2.11s\n",
            "109:\tlearn: 0.0184708\ttotal: 260ms\tremaining: 2.1s\n",
            "110:\tlearn: 0.0184331\ttotal: 262ms\tremaining: 2.1s\n",
            "111:\tlearn: 0.0184122\ttotal: 264ms\tremaining: 2.09s\n",
            "112:\tlearn: 0.0183943\ttotal: 266ms\tremaining: 2.09s\n",
            "113:\tlearn: 0.0183654\ttotal: 268ms\tremaining: 2.09s\n",
            "114:\tlearn: 0.0183398\ttotal: 271ms\tremaining: 2.08s\n",
            "115:\tlearn: 0.0183202\ttotal: 277ms\tremaining: 2.11s\n",
            "116:\tlearn: 0.0182864\ttotal: 280ms\tremaining: 2.11s\n",
            "117:\tlearn: 0.0182587\ttotal: 284ms\tremaining: 2.12s\n",
            "118:\tlearn: 0.0182296\ttotal: 286ms\tremaining: 2.12s\n",
            "119:\tlearn: 0.0182065\ttotal: 290ms\tremaining: 2.12s\n",
            "120:\tlearn: 0.0181870\ttotal: 292ms\tremaining: 2.12s\n",
            "121:\tlearn: 0.0181612\ttotal: 294ms\tremaining: 2.12s\n",
            "122:\tlearn: 0.0181428\ttotal: 296ms\tremaining: 2.11s\n",
            "123:\tlearn: 0.0181031\ttotal: 298ms\tremaining: 2.11s\n",
            "124:\tlearn: 0.0180782\ttotal: 300ms\tremaining: 2.1s\n",
            "125:\tlearn: 0.0180430\ttotal: 303ms\tremaining: 2.1s\n",
            "126:\tlearn: 0.0180097\ttotal: 305ms\tremaining: 2.1s\n",
            "127:\tlearn: 0.0179966\ttotal: 308ms\tremaining: 2.1s\n",
            "128:\tlearn: 0.0179751\ttotal: 310ms\tremaining: 2.09s\n",
            "129:\tlearn: 0.0179524\ttotal: 312ms\tremaining: 2.08s\n",
            "130:\tlearn: 0.0179301\ttotal: 313ms\tremaining: 2.08s\n",
            "131:\tlearn: 0.0179074\ttotal: 315ms\tremaining: 2.07s\n",
            "132:\tlearn: 0.0178817\ttotal: 317ms\tremaining: 2.07s\n",
            "133:\tlearn: 0.0178607\ttotal: 319ms\tremaining: 2.06s\n",
            "134:\tlearn: 0.0178414\ttotal: 322ms\tremaining: 2.06s\n",
            "135:\tlearn: 0.0178198\ttotal: 323ms\tremaining: 2.05s\n",
            "136:\tlearn: 0.0178002\ttotal: 326ms\tremaining: 2.05s\n",
            "137:\tlearn: 0.0177775\ttotal: 327ms\tremaining: 2.04s\n",
            "138:\tlearn: 0.0177554\ttotal: 329ms\tremaining: 2.04s\n",
            "139:\tlearn: 0.0177337\ttotal: 331ms\tremaining: 2.03s\n",
            "140:\tlearn: 0.0177154\ttotal: 333ms\tremaining: 2.03s\n",
            "141:\tlearn: 0.0177017\ttotal: 335ms\tremaining: 2.02s\n",
            "142:\tlearn: 0.0176796\ttotal: 337ms\tremaining: 2.02s\n",
            "143:\tlearn: 0.0176426\ttotal: 339ms\tremaining: 2.02s\n",
            "144:\tlearn: 0.0176126\ttotal: 341ms\tremaining: 2.01s\n",
            "145:\tlearn: 0.0175893\ttotal: 343ms\tremaining: 2s\n",
            "146:\tlearn: 0.0175692\ttotal: 345ms\tremaining: 2s\n",
            "147:\tlearn: 0.0175440\ttotal: 346ms\tremaining: 1.99s\n",
            "148:\tlearn: 0.0175308\ttotal: 349ms\tremaining: 1.99s\n",
            "149:\tlearn: 0.0175052\ttotal: 352ms\tremaining: 1.99s\n",
            "150:\tlearn: 0.0174838\ttotal: 354ms\tremaining: 1.99s\n",
            "151:\tlearn: 0.0174626\ttotal: 356ms\tremaining: 1.99s\n",
            "152:\tlearn: 0.0174532\ttotal: 357ms\tremaining: 1.98s\n",
            "153:\tlearn: 0.0174433\ttotal: 359ms\tremaining: 1.97s\n",
            "154:\tlearn: 0.0174293\ttotal: 361ms\tremaining: 1.97s\n",
            "155:\tlearn: 0.0174088\ttotal: 363ms\tremaining: 1.96s\n",
            "156:\tlearn: 0.0173788\ttotal: 366ms\tremaining: 1.96s\n",
            "157:\tlearn: 0.0173653\ttotal: 368ms\tremaining: 1.96s\n",
            "158:\tlearn: 0.0173422\ttotal: 370ms\tremaining: 1.95s\n",
            "159:\tlearn: 0.0173239\ttotal: 371ms\tremaining: 1.95s\n",
            "160:\tlearn: 0.0173043\ttotal: 373ms\tremaining: 1.95s\n",
            "161:\tlearn: 0.0172949\ttotal: 375ms\tremaining: 1.94s\n",
            "162:\tlearn: 0.0172777\ttotal: 377ms\tremaining: 1.94s\n",
            "163:\tlearn: 0.0172693\ttotal: 379ms\tremaining: 1.93s\n",
            "164:\tlearn: 0.0172528\ttotal: 382ms\tremaining: 1.93s\n",
            "165:\tlearn: 0.0172230\ttotal: 384ms\tremaining: 1.93s\n",
            "166:\tlearn: 0.0172074\ttotal: 386ms\tremaining: 1.93s\n",
            "167:\tlearn: 0.0171937\ttotal: 388ms\tremaining: 1.92s\n",
            "168:\tlearn: 0.0171859\ttotal: 391ms\tremaining: 1.92s\n",
            "169:\tlearn: 0.0171720\ttotal: 393ms\tremaining: 1.92s\n",
            "170:\tlearn: 0.0171380\ttotal: 396ms\tremaining: 1.92s\n",
            "171:\tlearn: 0.0171183\ttotal: 399ms\tremaining: 1.92s\n",
            "172:\tlearn: 0.0170993\ttotal: 401ms\tremaining: 1.92s\n",
            "173:\tlearn: 0.0170860\ttotal: 403ms\tremaining: 1.91s\n",
            "174:\tlearn: 0.0170747\ttotal: 404ms\tremaining: 1.91s\n",
            "175:\tlearn: 0.0170612\ttotal: 406ms\tremaining: 1.9s\n",
            "176:\tlearn: 0.0170474\ttotal: 408ms\tremaining: 1.9s\n",
            "177:\tlearn: 0.0170336\ttotal: 412ms\tremaining: 1.9s\n",
            "178:\tlearn: 0.0170143\ttotal: 414ms\tremaining: 1.9s\n",
            "179:\tlearn: 0.0169993\ttotal: 416ms\tremaining: 1.9s\n",
            "180:\tlearn: 0.0169689\ttotal: 418ms\tremaining: 1.89s\n",
            "181:\tlearn: 0.0169460\ttotal: 420ms\tremaining: 1.89s\n",
            "182:\tlearn: 0.0169305\ttotal: 438ms\tremaining: 1.95s\n",
            "183:\tlearn: 0.0169105\ttotal: 440ms\tremaining: 1.95s\n",
            "184:\tlearn: 0.0168951\ttotal: 443ms\tremaining: 1.95s\n",
            "185:\tlearn: 0.0168660\ttotal: 446ms\tremaining: 1.95s\n",
            "186:\tlearn: 0.0168504\ttotal: 448ms\tremaining: 1.95s\n",
            "187:\tlearn: 0.0168263\ttotal: 450ms\tremaining: 1.94s\n",
            "188:\tlearn: 0.0168151\ttotal: 452ms\tremaining: 1.94s\n",
            "189:\tlearn: 0.0168052\ttotal: 454ms\tremaining: 1.93s\n",
            "190:\tlearn: 0.0167828\ttotal: 456ms\tremaining: 1.93s\n",
            "191:\tlearn: 0.0167597\ttotal: 458ms\tremaining: 1.93s\n",
            "192:\tlearn: 0.0167441\ttotal: 461ms\tremaining: 1.93s\n",
            "193:\tlearn: 0.0167318\ttotal: 463ms\tremaining: 1.92s\n",
            "194:\tlearn: 0.0167163\ttotal: 465ms\tremaining: 1.92s\n",
            "195:\tlearn: 0.0166910\ttotal: 467ms\tremaining: 1.91s\n",
            "196:\tlearn: 0.0166766\ttotal: 469ms\tremaining: 1.91s\n",
            "197:\tlearn: 0.0166569\ttotal: 471ms\tremaining: 1.91s\n",
            "198:\tlearn: 0.0166431\ttotal: 474ms\tremaining: 1.91s\n",
            "199:\tlearn: 0.0166215\ttotal: 476ms\tremaining: 1.9s\n",
            "200:\tlearn: 0.0166078\ttotal: 478ms\tremaining: 1.9s\n",
            "201:\tlearn: 0.0165909\ttotal: 481ms\tremaining: 1.9s\n",
            "202:\tlearn: 0.0165701\ttotal: 483ms\tremaining: 1.89s\n",
            "203:\tlearn: 0.0165381\ttotal: 485ms\tremaining: 1.89s\n",
            "204:\tlearn: 0.0165199\ttotal: 486ms\tremaining: 1.89s\n",
            "205:\tlearn: 0.0165059\ttotal: 489ms\tremaining: 1.89s\n",
            "206:\tlearn: 0.0164825\ttotal: 492ms\tremaining: 1.89s\n",
            "207:\tlearn: 0.0164662\ttotal: 494ms\tremaining: 1.88s\n",
            "208:\tlearn: 0.0164406\ttotal: 496ms\tremaining: 1.88s\n",
            "209:\tlearn: 0.0164248\ttotal: 498ms\tremaining: 1.88s\n",
            "210:\tlearn: 0.0164015\ttotal: 500ms\tremaining: 1.87s\n",
            "211:\tlearn: 0.0163870\ttotal: 502ms\tremaining: 1.87s\n",
            "212:\tlearn: 0.0163646\ttotal: 506ms\tremaining: 1.87s\n",
            "213:\tlearn: 0.0163435\ttotal: 508ms\tremaining: 1.86s\n",
            "214:\tlearn: 0.0163237\ttotal: 510ms\tremaining: 1.86s\n",
            "215:\tlearn: 0.0163087\ttotal: 512ms\tremaining: 1.86s\n",
            "216:\tlearn: 0.0162953\ttotal: 514ms\tremaining: 1.85s\n",
            "217:\tlearn: 0.0162795\ttotal: 516ms\tremaining: 1.85s\n",
            "218:\tlearn: 0.0162713\ttotal: 518ms\tremaining: 1.84s\n",
            "219:\tlearn: 0.0162408\ttotal: 520ms\tremaining: 1.84s\n",
            "220:\tlearn: 0.0162263\ttotal: 522ms\tremaining: 1.84s\n",
            "221:\tlearn: 0.0162155\ttotal: 525ms\tremaining: 1.84s\n",
            "222:\tlearn: 0.0161928\ttotal: 527ms\tremaining: 1.83s\n",
            "223:\tlearn: 0.0161777\ttotal: 529ms\tremaining: 1.83s\n",
            "224:\tlearn: 0.0161455\ttotal: 531ms\tremaining: 1.83s\n",
            "225:\tlearn: 0.0161246\ttotal: 532ms\tremaining: 1.82s\n",
            "226:\tlearn: 0.0161029\ttotal: 534ms\tremaining: 1.82s\n",
            "227:\tlearn: 0.0160855\ttotal: 537ms\tremaining: 1.82s\n",
            "228:\tlearn: 0.0160696\ttotal: 539ms\tremaining: 1.81s\n",
            "229:\tlearn: 0.0160480\ttotal: 541ms\tremaining: 1.81s\n",
            "230:\tlearn: 0.0160374\ttotal: 543ms\tremaining: 1.81s\n",
            "231:\tlearn: 0.0160245\ttotal: 545ms\tremaining: 1.8s\n",
            "232:\tlearn: 0.0159887\ttotal: 547ms\tremaining: 1.8s\n",
            "233:\tlearn: 0.0159533\ttotal: 549ms\tremaining: 1.79s\n",
            "234:\tlearn: 0.0159430\ttotal: 551ms\tremaining: 1.79s\n",
            "235:\tlearn: 0.0159111\ttotal: 553ms\tremaining: 1.79s\n",
            "236:\tlearn: 0.0159039\ttotal: 555ms\tremaining: 1.79s\n",
            "237:\tlearn: 0.0158758\ttotal: 557ms\tremaining: 1.78s\n",
            "238:\tlearn: 0.0158569\ttotal: 559ms\tremaining: 1.78s\n",
            "239:\tlearn: 0.0158465\ttotal: 561ms\tremaining: 1.78s\n",
            "240:\tlearn: 0.0158294\ttotal: 563ms\tremaining: 1.77s\n",
            "241:\tlearn: 0.0158061\ttotal: 566ms\tremaining: 1.77s\n",
            "242:\tlearn: 0.0157901\ttotal: 568ms\tremaining: 1.77s\n",
            "243:\tlearn: 0.0157684\ttotal: 570ms\tremaining: 1.77s\n",
            "244:\tlearn: 0.0157498\ttotal: 573ms\tremaining: 1.77s\n",
            "245:\tlearn: 0.0157442\ttotal: 576ms\tremaining: 1.76s\n",
            "246:\tlearn: 0.0157141\ttotal: 578ms\tremaining: 1.76s\n",
            "247:\tlearn: 0.0156938\ttotal: 580ms\tremaining: 1.76s\n",
            "248:\tlearn: 0.0156663\ttotal: 592ms\tremaining: 1.79s\n",
            "249:\tlearn: 0.0156486\ttotal: 595ms\tremaining: 1.78s\n",
            "250:\tlearn: 0.0156292\ttotal: 598ms\tremaining: 1.78s\n",
            "251:\tlearn: 0.0156139\ttotal: 600ms\tremaining: 1.78s\n",
            "252:\tlearn: 0.0156015\ttotal: 603ms\tremaining: 1.78s\n",
            "253:\tlearn: 0.0155878\ttotal: 605ms\tremaining: 1.78s\n",
            "254:\tlearn: 0.0155704\ttotal: 607ms\tremaining: 1.77s\n",
            "255:\tlearn: 0.0155528\ttotal: 609ms\tremaining: 1.77s\n",
            "256:\tlearn: 0.0155423\ttotal: 611ms\tremaining: 1.77s\n",
            "257:\tlearn: 0.0155364\ttotal: 614ms\tremaining: 1.77s\n",
            "258:\tlearn: 0.0155218\ttotal: 617ms\tremaining: 1.76s\n",
            "259:\tlearn: 0.0155097\ttotal: 618ms\tremaining: 1.76s\n",
            "260:\tlearn: 0.0154925\ttotal: 620ms\tremaining: 1.76s\n",
            "261:\tlearn: 0.0154827\ttotal: 623ms\tremaining: 1.75s\n",
            "262:\tlearn: 0.0154575\ttotal: 625ms\tremaining: 1.75s\n",
            "263:\tlearn: 0.0154338\ttotal: 627ms\tremaining: 1.75s\n",
            "264:\tlearn: 0.0154143\ttotal: 629ms\tremaining: 1.75s\n",
            "265:\tlearn: 0.0153932\ttotal: 632ms\tremaining: 1.74s\n",
            "266:\tlearn: 0.0153693\ttotal: 633ms\tremaining: 1.74s\n",
            "267:\tlearn: 0.0153538\ttotal: 635ms\tremaining: 1.73s\n",
            "268:\tlearn: 0.0153342\ttotal: 637ms\tremaining: 1.73s\n",
            "269:\tlearn: 0.0153035\ttotal: 639ms\tremaining: 1.73s\n",
            "270:\tlearn: 0.0152918\ttotal: 641ms\tremaining: 1.72s\n",
            "271:\tlearn: 0.0152770\ttotal: 644ms\tremaining: 1.72s\n",
            "272:\tlearn: 0.0152649\ttotal: 646ms\tremaining: 1.72s\n",
            "273:\tlearn: 0.0152520\ttotal: 649ms\tremaining: 1.72s\n",
            "274:\tlearn: 0.0152338\ttotal: 651ms\tremaining: 1.72s\n",
            "275:\tlearn: 0.0152192\ttotal: 653ms\tremaining: 1.71s\n",
            "276:\tlearn: 0.0152030\ttotal: 655ms\tremaining: 1.71s\n",
            "277:\tlearn: 0.0151862\ttotal: 657ms\tremaining: 1.71s\n",
            "278:\tlearn: 0.0151745\ttotal: 660ms\tremaining: 1.71s\n",
            "279:\tlearn: 0.0151624\ttotal: 662ms\tremaining: 1.7s\n",
            "280:\tlearn: 0.0151521\ttotal: 664ms\tremaining: 1.7s\n",
            "281:\tlearn: 0.0151306\ttotal: 667ms\tremaining: 1.7s\n",
            "282:\tlearn: 0.0151177\ttotal: 669ms\tremaining: 1.7s\n",
            "283:\tlearn: 0.0150889\ttotal: 671ms\tremaining: 1.69s\n",
            "284:\tlearn: 0.0150766\ttotal: 673ms\tremaining: 1.69s\n",
            "285:\tlearn: 0.0150632\ttotal: 676ms\tremaining: 1.69s\n",
            "286:\tlearn: 0.0150494\ttotal: 678ms\tremaining: 1.68s\n",
            "287:\tlearn: 0.0150322\ttotal: 681ms\tremaining: 1.68s\n",
            "288:\tlearn: 0.0150122\ttotal: 683ms\tremaining: 1.68s\n",
            "289:\tlearn: 0.0149903\ttotal: 685ms\tremaining: 1.68s\n",
            "290:\tlearn: 0.0149686\ttotal: 688ms\tremaining: 1.68s\n",
            "291:\tlearn: 0.0149469\ttotal: 690ms\tremaining: 1.67s\n",
            "292:\tlearn: 0.0149353\ttotal: 693ms\tremaining: 1.67s\n",
            "293:\tlearn: 0.0149244\ttotal: 695ms\tremaining: 1.67s\n",
            "294:\tlearn: 0.0149082\ttotal: 697ms\tremaining: 1.67s\n",
            "295:\tlearn: 0.0148895\ttotal: 699ms\tremaining: 1.66s\n",
            "296:\tlearn: 0.0148685\ttotal: 701ms\tremaining: 1.66s\n",
            "297:\tlearn: 0.0148576\ttotal: 703ms\tremaining: 1.66s\n",
            "298:\tlearn: 0.0148482\ttotal: 705ms\tremaining: 1.65s\n",
            "299:\tlearn: 0.0148361\ttotal: 708ms\tremaining: 1.65s\n",
            "300:\tlearn: 0.0148198\ttotal: 710ms\tremaining: 1.65s\n",
            "301:\tlearn: 0.0148004\ttotal: 712ms\tremaining: 1.65s\n",
            "302:\tlearn: 0.0147900\ttotal: 714ms\tremaining: 1.64s\n",
            "303:\tlearn: 0.0147735\ttotal: 716ms\tremaining: 1.64s\n",
            "304:\tlearn: 0.0147600\ttotal: 718ms\tremaining: 1.64s\n",
            "305:\tlearn: 0.0147438\ttotal: 720ms\tremaining: 1.63s\n",
            "306:\tlearn: 0.0147236\ttotal: 723ms\tremaining: 1.63s\n",
            "307:\tlearn: 0.0146978\ttotal: 725ms\tremaining: 1.63s\n",
            "308:\tlearn: 0.0146780\ttotal: 727ms\tremaining: 1.63s\n",
            "309:\tlearn: 0.0146596\ttotal: 729ms\tremaining: 1.62s\n",
            "310:\tlearn: 0.0146474\ttotal: 731ms\tremaining: 1.62s\n",
            "311:\tlearn: 0.0146266\ttotal: 733ms\tremaining: 1.61s\n",
            "312:\tlearn: 0.0146103\ttotal: 735ms\tremaining: 1.61s\n",
            "313:\tlearn: 0.0146006\ttotal: 737ms\tremaining: 1.61s\n",
            "314:\tlearn: 0.0145869\ttotal: 739ms\tremaining: 1.61s\n",
            "315:\tlearn: 0.0145772\ttotal: 742ms\tremaining: 1.6s\n",
            "316:\tlearn: 0.0145724\ttotal: 743ms\tremaining: 1.6s\n",
            "317:\tlearn: 0.0145549\ttotal: 745ms\tremaining: 1.6s\n",
            "318:\tlearn: 0.0145405\ttotal: 747ms\tremaining: 1.59s\n",
            "319:\tlearn: 0.0145295\ttotal: 749ms\tremaining: 1.59s\n",
            "320:\tlearn: 0.0145107\ttotal: 752ms\tremaining: 1.59s\n",
            "321:\tlearn: 0.0145006\ttotal: 755ms\tremaining: 1.59s\n",
            "322:\tlearn: 0.0144925\ttotal: 757ms\tremaining: 1.59s\n",
            "323:\tlearn: 0.0144832\ttotal: 759ms\tremaining: 1.58s\n",
            "324:\tlearn: 0.0144713\ttotal: 761ms\tremaining: 1.58s\n",
            "325:\tlearn: 0.0144573\ttotal: 763ms\tremaining: 1.58s\n",
            "326:\tlearn: 0.0144441\ttotal: 765ms\tremaining: 1.57s\n",
            "327:\tlearn: 0.0144316\ttotal: 768ms\tremaining: 1.57s\n",
            "328:\tlearn: 0.0144082\ttotal: 770ms\tremaining: 1.57s\n",
            "329:\tlearn: 0.0143895\ttotal: 773ms\tremaining: 1.57s\n",
            "330:\tlearn: 0.0143720\ttotal: 775ms\tremaining: 1.57s\n",
            "331:\tlearn: 0.0143626\ttotal: 777ms\tremaining: 1.56s\n",
            "332:\tlearn: 0.0143527\ttotal: 779ms\tremaining: 1.56s\n",
            "333:\tlearn: 0.0143408\ttotal: 782ms\tremaining: 1.56s\n",
            "334:\tlearn: 0.0143339\ttotal: 784ms\tremaining: 1.56s\n",
            "335:\tlearn: 0.0143211\ttotal: 787ms\tremaining: 1.55s\n",
            "336:\tlearn: 0.0143039\ttotal: 790ms\tremaining: 1.55s\n",
            "337:\tlearn: 0.0142914\ttotal: 791ms\tremaining: 1.55s\n",
            "338:\tlearn: 0.0142750\ttotal: 794ms\tremaining: 1.55s\n",
            "339:\tlearn: 0.0142579\ttotal: 799ms\tremaining: 1.55s\n",
            "340:\tlearn: 0.0142532\ttotal: 801ms\tremaining: 1.55s\n",
            "341:\tlearn: 0.0142379\ttotal: 803ms\tremaining: 1.54s\n",
            "342:\tlearn: 0.0142243\ttotal: 806ms\tremaining: 1.54s\n",
            "343:\tlearn: 0.0142063\ttotal: 808ms\tremaining: 1.54s\n",
            "344:\tlearn: 0.0141953\ttotal: 810ms\tremaining: 1.54s\n",
            "345:\tlearn: 0.0141871\ttotal: 813ms\tremaining: 1.54s\n",
            "346:\tlearn: 0.0141698\ttotal: 815ms\tremaining: 1.53s\n",
            "347:\tlearn: 0.0141609\ttotal: 817ms\tremaining: 1.53s\n",
            "348:\tlearn: 0.0141502\ttotal: 819ms\tremaining: 1.53s\n",
            "349:\tlearn: 0.0141373\ttotal: 821ms\tremaining: 1.52s\n",
            "350:\tlearn: 0.0141206\ttotal: 823ms\tremaining: 1.52s\n",
            "351:\tlearn: 0.0141051\ttotal: 825ms\tremaining: 1.52s\n",
            "352:\tlearn: 0.0140838\ttotal: 828ms\tremaining: 1.52s\n",
            "353:\tlearn: 0.0140779\ttotal: 830ms\tremaining: 1.51s\n",
            "354:\tlearn: 0.0140657\ttotal: 832ms\tremaining: 1.51s\n",
            "355:\tlearn: 0.0140520\ttotal: 834ms\tremaining: 1.51s\n",
            "356:\tlearn: 0.0140442\ttotal: 836ms\tremaining: 1.5s\n",
            "357:\tlearn: 0.0140319\ttotal: 838ms\tremaining: 1.5s\n",
            "358:\tlearn: 0.0140250\ttotal: 840ms\tremaining: 1.5s\n",
            "359:\tlearn: 0.0140136\ttotal: 843ms\tremaining: 1.5s\n",
            "360:\tlearn: 0.0140037\ttotal: 845ms\tremaining: 1.5s\n",
            "361:\tlearn: 0.0139944\ttotal: 848ms\tremaining: 1.49s\n",
            "362:\tlearn: 0.0139781\ttotal: 850ms\tremaining: 1.49s\n",
            "363:\tlearn: 0.0139685\ttotal: 855ms\tremaining: 1.49s\n",
            "364:\tlearn: 0.0139622\ttotal: 858ms\tremaining: 1.49s\n",
            "365:\tlearn: 0.0139504\ttotal: 861ms\tremaining: 1.49s\n",
            "366:\tlearn: 0.0139357\ttotal: 864ms\tremaining: 1.49s\n",
            "367:\tlearn: 0.0139316\ttotal: 866ms\tremaining: 1.49s\n",
            "368:\tlearn: 0.0139248\ttotal: 868ms\tremaining: 1.48s\n",
            "369:\tlearn: 0.0139137\ttotal: 870ms\tremaining: 1.48s\n",
            "370:\tlearn: 0.0139042\ttotal: 874ms\tremaining: 1.48s\n",
            "371:\tlearn: 0.0138844\ttotal: 877ms\tremaining: 1.48s\n",
            "372:\tlearn: 0.0138760\ttotal: 879ms\tremaining: 1.48s\n",
            "373:\tlearn: 0.0138579\ttotal: 881ms\tremaining: 1.48s\n",
            "374:\tlearn: 0.0138391\ttotal: 884ms\tremaining: 1.47s\n",
            "375:\tlearn: 0.0138276\ttotal: 886ms\tremaining: 1.47s\n",
            "376:\tlearn: 0.0138135\ttotal: 889ms\tremaining: 1.47s\n",
            "377:\tlearn: 0.0138047\ttotal: 891ms\tremaining: 1.47s\n",
            "378:\tlearn: 0.0137968\ttotal: 894ms\tremaining: 1.46s\n",
            "379:\tlearn: 0.0137828\ttotal: 896ms\tremaining: 1.46s\n",
            "380:\tlearn: 0.0137708\ttotal: 898ms\tremaining: 1.46s\n",
            "381:\tlearn: 0.0137507\ttotal: 900ms\tremaining: 1.46s\n",
            "382:\tlearn: 0.0137388\ttotal: 902ms\tremaining: 1.45s\n",
            "383:\tlearn: 0.0137211\ttotal: 905ms\tremaining: 1.45s\n",
            "384:\tlearn: 0.0137095\ttotal: 907ms\tremaining: 1.45s\n",
            "385:\tlearn: 0.0136933\ttotal: 909ms\tremaining: 1.45s\n",
            "386:\tlearn: 0.0136833\ttotal: 911ms\tremaining: 1.44s\n",
            "387:\tlearn: 0.0136743\ttotal: 913ms\tremaining: 1.44s\n",
            "388:\tlearn: 0.0136571\ttotal: 915ms\tremaining: 1.44s\n",
            "389:\tlearn: 0.0136433\ttotal: 918ms\tremaining: 1.44s\n",
            "390:\tlearn: 0.0136275\ttotal: 920ms\tremaining: 1.43s\n",
            "391:\tlearn: 0.0136122\ttotal: 922ms\tremaining: 1.43s\n",
            "392:\tlearn: 0.0136035\ttotal: 924ms\tremaining: 1.43s\n",
            "393:\tlearn: 0.0135871\ttotal: 926ms\tremaining: 1.42s\n",
            "394:\tlearn: 0.0135697\ttotal: 928ms\tremaining: 1.42s\n",
            "395:\tlearn: 0.0135559\ttotal: 930ms\tremaining: 1.42s\n",
            "396:\tlearn: 0.0135477\ttotal: 932ms\tremaining: 1.42s\n",
            "397:\tlearn: 0.0135353\ttotal: 934ms\tremaining: 1.41s\n",
            "398:\tlearn: 0.0135195\ttotal: 937ms\tremaining: 1.41s\n",
            "399:\tlearn: 0.0135046\ttotal: 939ms\tremaining: 1.41s\n",
            "400:\tlearn: 0.0134896\ttotal: 941ms\tremaining: 1.41s\n",
            "401:\tlearn: 0.0134820\ttotal: 943ms\tremaining: 1.4s\n",
            "402:\tlearn: 0.0134645\ttotal: 945ms\tremaining: 1.4s\n",
            "403:\tlearn: 0.0134584\ttotal: 947ms\tremaining: 1.4s\n",
            "404:\tlearn: 0.0134446\ttotal: 949ms\tremaining: 1.39s\n",
            "405:\tlearn: 0.0134303\ttotal: 951ms\tremaining: 1.39s\n",
            "406:\tlearn: 0.0134146\ttotal: 953ms\tremaining: 1.39s\n",
            "407:\tlearn: 0.0134013\ttotal: 957ms\tremaining: 1.39s\n",
            "408:\tlearn: 0.0133850\ttotal: 959ms\tremaining: 1.39s\n",
            "409:\tlearn: 0.0133699\ttotal: 960ms\tremaining: 1.38s\n",
            "410:\tlearn: 0.0133601\ttotal: 962ms\tremaining: 1.38s\n",
            "411:\tlearn: 0.0133464\ttotal: 965ms\tremaining: 1.38s\n",
            "412:\tlearn: 0.0133303\ttotal: 967ms\tremaining: 1.37s\n",
            "413:\tlearn: 0.0133179\ttotal: 969ms\tremaining: 1.37s\n",
            "414:\tlearn: 0.0133002\ttotal: 971ms\tremaining: 1.37s\n",
            "415:\tlearn: 0.0132872\ttotal: 973ms\tremaining: 1.36s\n",
            "416:\tlearn: 0.0132755\ttotal: 975ms\tremaining: 1.36s\n",
            "417:\tlearn: 0.0132642\ttotal: 977ms\tremaining: 1.36s\n",
            "418:\tlearn: 0.0132525\ttotal: 979ms\tremaining: 1.36s\n",
            "419:\tlearn: 0.0132398\ttotal: 981ms\tremaining: 1.35s\n",
            "420:\tlearn: 0.0132270\ttotal: 984ms\tremaining: 1.35s\n",
            "421:\tlearn: 0.0132071\ttotal: 986ms\tremaining: 1.35s\n",
            "422:\tlearn: 0.0131949\ttotal: 989ms\tremaining: 1.35s\n",
            "423:\tlearn: 0.0131796\ttotal: 991ms\tremaining: 1.34s\n",
            "424:\tlearn: 0.0131701\ttotal: 993ms\tremaining: 1.34s\n",
            "425:\tlearn: 0.0131541\ttotal: 996ms\tremaining: 1.34s\n",
            "426:\tlearn: 0.0131436\ttotal: 998ms\tremaining: 1.34s\n",
            "427:\tlearn: 0.0131355\ttotal: 1s\tremaining: 1.34s\n",
            "428:\tlearn: 0.0131293\ttotal: 1s\tremaining: 1.33s\n",
            "429:\tlearn: 0.0131181\ttotal: 1.01s\tremaining: 1.33s\n",
            "430:\tlearn: 0.0131071\ttotal: 1.01s\tremaining: 1.33s\n",
            "431:\tlearn: 0.0131032\ttotal: 1.01s\tremaining: 1.33s\n",
            "432:\tlearn: 0.0130893\ttotal: 1.01s\tremaining: 1.33s\n",
            "433:\tlearn: 0.0130768\ttotal: 1.01s\tremaining: 1.32s\n",
            "434:\tlearn: 0.0130665\ttotal: 1.02s\tremaining: 1.32s\n",
            "435:\tlearn: 0.0130617\ttotal: 1.02s\tremaining: 1.32s\n",
            "436:\tlearn: 0.0130487\ttotal: 1.02s\tremaining: 1.31s\n",
            "437:\tlearn: 0.0130380\ttotal: 1.02s\tremaining: 1.31s\n",
            "438:\tlearn: 0.0130324\ttotal: 1.02s\tremaining: 1.31s\n",
            "439:\tlearn: 0.0130248\ttotal: 1.03s\tremaining: 1.31s\n",
            "440:\tlearn: 0.0130169\ttotal: 1.03s\tremaining: 1.31s\n",
            "441:\tlearn: 0.0130065\ttotal: 1.03s\tremaining: 1.3s\n",
            "442:\tlearn: 0.0129995\ttotal: 1.03s\tremaining: 1.3s\n",
            "443:\tlearn: 0.0129895\ttotal: 1.04s\tremaining: 1.3s\n",
            "444:\tlearn: 0.0129822\ttotal: 1.04s\tremaining: 1.29s\n",
            "445:\tlearn: 0.0129686\ttotal: 1.04s\tremaining: 1.29s\n",
            "446:\tlearn: 0.0129600\ttotal: 1.04s\tremaining: 1.29s\n",
            "447:\tlearn: 0.0129532\ttotal: 1.05s\tremaining: 1.29s\n",
            "448:\tlearn: 0.0129441\ttotal: 1.05s\tremaining: 1.29s\n",
            "449:\tlearn: 0.0129341\ttotal: 1.05s\tremaining: 1.28s\n",
            "450:\tlearn: 0.0129257\ttotal: 1.05s\tremaining: 1.28s\n",
            "451:\tlearn: 0.0129141\ttotal: 1.05s\tremaining: 1.28s\n",
            "452:\tlearn: 0.0129078\ttotal: 1.06s\tremaining: 1.28s\n",
            "453:\tlearn: 0.0128927\ttotal: 1.06s\tremaining: 1.27s\n",
            "454:\tlearn: 0.0128837\ttotal: 1.06s\tremaining: 1.27s\n",
            "455:\tlearn: 0.0128743\ttotal: 1.06s\tremaining: 1.27s\n",
            "456:\tlearn: 0.0128634\ttotal: 1.07s\tremaining: 1.27s\n",
            "457:\tlearn: 0.0128577\ttotal: 1.07s\tremaining: 1.26s\n",
            "458:\tlearn: 0.0128457\ttotal: 1.07s\tremaining: 1.26s\n",
            "459:\tlearn: 0.0128290\ttotal: 1.07s\tremaining: 1.26s\n",
            "460:\tlearn: 0.0128201\ttotal: 1.07s\tremaining: 1.26s\n",
            "461:\tlearn: 0.0128067\ttotal: 1.08s\tremaining: 1.25s\n",
            "462:\tlearn: 0.0127955\ttotal: 1.08s\tremaining: 1.25s\n",
            "463:\tlearn: 0.0127896\ttotal: 1.08s\tremaining: 1.25s\n",
            "464:\tlearn: 0.0127766\ttotal: 1.08s\tremaining: 1.25s\n",
            "465:\tlearn: 0.0127690\ttotal: 1.08s\tremaining: 1.24s\n",
            "466:\tlearn: 0.0127642\ttotal: 1.09s\tremaining: 1.24s\n",
            "467:\tlearn: 0.0127527\ttotal: 1.09s\tremaining: 1.24s\n",
            "468:\tlearn: 0.0127369\ttotal: 1.09s\tremaining: 1.24s\n",
            "469:\tlearn: 0.0127290\ttotal: 1.09s\tremaining: 1.23s\n",
            "470:\tlearn: 0.0127180\ttotal: 1.09s\tremaining: 1.23s\n",
            "471:\tlearn: 0.0127043\ttotal: 1.1s\tremaining: 1.23s\n",
            "472:\tlearn: 0.0126957\ttotal: 1.1s\tremaining: 1.22s\n",
            "473:\tlearn: 0.0126839\ttotal: 1.1s\tremaining: 1.22s\n",
            "474:\tlearn: 0.0126717\ttotal: 1.1s\tremaining: 1.22s\n",
            "475:\tlearn: 0.0126624\ttotal: 1.1s\tremaining: 1.22s\n",
            "476:\tlearn: 0.0126554\ttotal: 1.11s\tremaining: 1.21s\n",
            "477:\tlearn: 0.0126373\ttotal: 1.11s\tremaining: 1.21s\n",
            "478:\tlearn: 0.0126271\ttotal: 1.11s\tremaining: 1.21s\n",
            "479:\tlearn: 0.0126171\ttotal: 1.11s\tremaining: 1.21s\n",
            "480:\tlearn: 0.0126087\ttotal: 1.11s\tremaining: 1.2s\n",
            "481:\tlearn: 0.0125930\ttotal: 1.12s\tremaining: 1.2s\n",
            "482:\tlearn: 0.0125865\ttotal: 1.12s\tremaining: 1.2s\n",
            "483:\tlearn: 0.0125763\ttotal: 1.12s\tremaining: 1.2s\n",
            "484:\tlearn: 0.0125680\ttotal: 1.12s\tremaining: 1.19s\n",
            "485:\tlearn: 0.0125561\ttotal: 1.13s\tremaining: 1.19s\n",
            "486:\tlearn: 0.0125419\ttotal: 1.13s\tremaining: 1.19s\n",
            "487:\tlearn: 0.0125319\ttotal: 1.13s\tremaining: 1.19s\n",
            "488:\tlearn: 0.0125218\ttotal: 1.13s\tremaining: 1.18s\n",
            "489:\tlearn: 0.0125115\ttotal: 1.13s\tremaining: 1.18s\n",
            "490:\tlearn: 0.0124984\ttotal: 1.14s\tremaining: 1.18s\n",
            "491:\tlearn: 0.0124935\ttotal: 1.14s\tremaining: 1.18s\n",
            "492:\tlearn: 0.0124793\ttotal: 1.14s\tremaining: 1.17s\n",
            "493:\tlearn: 0.0124686\ttotal: 1.14s\tremaining: 1.17s\n",
            "494:\tlearn: 0.0124593\ttotal: 1.15s\tremaining: 1.17s\n",
            "495:\tlearn: 0.0124461\ttotal: 1.15s\tremaining: 1.17s\n",
            "496:\tlearn: 0.0124403\ttotal: 1.15s\tremaining: 1.16s\n",
            "497:\tlearn: 0.0124342\ttotal: 1.15s\tremaining: 1.16s\n",
            "498:\tlearn: 0.0124266\ttotal: 1.15s\tremaining: 1.16s\n",
            "499:\tlearn: 0.0124153\ttotal: 1.16s\tremaining: 1.16s\n",
            "500:\tlearn: 0.0124060\ttotal: 1.16s\tremaining: 1.15s\n",
            "501:\tlearn: 0.0123993\ttotal: 1.16s\tremaining: 1.15s\n",
            "502:\tlearn: 0.0123901\ttotal: 1.16s\tremaining: 1.15s\n",
            "503:\tlearn: 0.0123808\ttotal: 1.16s\tremaining: 1.15s\n",
            "504:\tlearn: 0.0123681\ttotal: 1.17s\tremaining: 1.14s\n",
            "505:\tlearn: 0.0123606\ttotal: 1.17s\tremaining: 1.14s\n",
            "506:\tlearn: 0.0123506\ttotal: 1.17s\tremaining: 1.14s\n",
            "507:\tlearn: 0.0123398\ttotal: 1.17s\tremaining: 1.14s\n",
            "508:\tlearn: 0.0123260\ttotal: 1.17s\tremaining: 1.13s\n",
            "509:\tlearn: 0.0123152\ttotal: 1.18s\tremaining: 1.13s\n",
            "510:\tlearn: 0.0123056\ttotal: 1.18s\tremaining: 1.13s\n",
            "511:\tlearn: 0.0122979\ttotal: 1.18s\tremaining: 1.13s\n",
            "512:\tlearn: 0.0122935\ttotal: 1.18s\tremaining: 1.12s\n",
            "513:\tlearn: 0.0122849\ttotal: 1.19s\tremaining: 1.12s\n",
            "514:\tlearn: 0.0122814\ttotal: 1.19s\tremaining: 1.12s\n",
            "515:\tlearn: 0.0122711\ttotal: 1.19s\tremaining: 1.11s\n",
            "516:\tlearn: 0.0122636\ttotal: 1.19s\tremaining: 1.11s\n",
            "517:\tlearn: 0.0122507\ttotal: 1.2s\tremaining: 1.12s\n",
            "518:\tlearn: 0.0122363\ttotal: 1.21s\tremaining: 1.12s\n",
            "519:\tlearn: 0.0122286\ttotal: 1.21s\tremaining: 1.12s\n",
            "520:\tlearn: 0.0122221\ttotal: 1.21s\tremaining: 1.11s\n",
            "521:\tlearn: 0.0122124\ttotal: 1.21s\tremaining: 1.11s\n",
            "522:\tlearn: 0.0122046\ttotal: 1.22s\tremaining: 1.11s\n",
            "523:\tlearn: 0.0121916\ttotal: 1.22s\tremaining: 1.11s\n",
            "524:\tlearn: 0.0121884\ttotal: 1.22s\tremaining: 1.1s\n",
            "525:\tlearn: 0.0121810\ttotal: 1.22s\tremaining: 1.1s\n",
            "526:\tlearn: 0.0121659\ttotal: 1.22s\tremaining: 1.1s\n",
            "527:\tlearn: 0.0121545\ttotal: 1.22s\tremaining: 1.09s\n",
            "528:\tlearn: 0.0121425\ttotal: 1.23s\tremaining: 1.09s\n",
            "529:\tlearn: 0.0121328\ttotal: 1.23s\tremaining: 1.09s\n",
            "530:\tlearn: 0.0121194\ttotal: 1.23s\tremaining: 1.09s\n",
            "531:\tlearn: 0.0121112\ttotal: 1.23s\tremaining: 1.08s\n",
            "532:\tlearn: 0.0121000\ttotal: 1.23s\tremaining: 1.08s\n",
            "533:\tlearn: 0.0120933\ttotal: 1.24s\tremaining: 1.08s\n",
            "534:\tlearn: 0.0120888\ttotal: 1.24s\tremaining: 1.08s\n",
            "535:\tlearn: 0.0120830\ttotal: 1.24s\tremaining: 1.07s\n",
            "536:\tlearn: 0.0120732\ttotal: 1.24s\tremaining: 1.07s\n",
            "537:\tlearn: 0.0120623\ttotal: 1.24s\tremaining: 1.07s\n",
            "538:\tlearn: 0.0120557\ttotal: 1.25s\tremaining: 1.07s\n",
            "539:\tlearn: 0.0120485\ttotal: 1.25s\tremaining: 1.06s\n",
            "540:\tlearn: 0.0120283\ttotal: 1.25s\tremaining: 1.06s\n",
            "541:\tlearn: 0.0120181\ttotal: 1.25s\tremaining: 1.06s\n",
            "542:\tlearn: 0.0120122\ttotal: 1.25s\tremaining: 1.06s\n",
            "543:\tlearn: 0.0120002\ttotal: 1.26s\tremaining: 1.05s\n",
            "544:\tlearn: 0.0119898\ttotal: 1.26s\tremaining: 1.05s\n",
            "545:\tlearn: 0.0119811\ttotal: 1.26s\tremaining: 1.05s\n",
            "546:\tlearn: 0.0119739\ttotal: 1.26s\tremaining: 1.05s\n",
            "547:\tlearn: 0.0119661\ttotal: 1.27s\tremaining: 1.04s\n",
            "548:\tlearn: 0.0119604\ttotal: 1.27s\tremaining: 1.04s\n",
            "549:\tlearn: 0.0119501\ttotal: 1.27s\tremaining: 1.04s\n",
            "550:\tlearn: 0.0119405\ttotal: 1.27s\tremaining: 1.04s\n",
            "551:\tlearn: 0.0119307\ttotal: 1.27s\tremaining: 1.03s\n",
            "552:\tlearn: 0.0119229\ttotal: 1.27s\tremaining: 1.03s\n",
            "553:\tlearn: 0.0119172\ttotal: 1.28s\tremaining: 1.03s\n",
            "554:\tlearn: 0.0119108\ttotal: 1.28s\tremaining: 1.03s\n",
            "555:\tlearn: 0.0119013\ttotal: 1.28s\tremaining: 1.02s\n",
            "556:\tlearn: 0.0118928\ttotal: 1.28s\tremaining: 1.02s\n",
            "557:\tlearn: 0.0118800\ttotal: 1.28s\tremaining: 1.02s\n",
            "558:\tlearn: 0.0118714\ttotal: 1.29s\tremaining: 1.01s\n",
            "559:\tlearn: 0.0118629\ttotal: 1.29s\tremaining: 1.01s\n",
            "560:\tlearn: 0.0118553\ttotal: 1.29s\tremaining: 1.01s\n",
            "561:\tlearn: 0.0118516\ttotal: 1.29s\tremaining: 1.01s\n",
            "562:\tlearn: 0.0118420\ttotal: 1.3s\tremaining: 1.01s\n",
            "563:\tlearn: 0.0118341\ttotal: 1.3s\tremaining: 1s\n",
            "564:\tlearn: 0.0118279\ttotal: 1.3s\tremaining: 1s\n",
            "565:\tlearn: 0.0118205\ttotal: 1.3s\tremaining: 999ms\n",
            "566:\tlearn: 0.0118139\ttotal: 1.3s\tremaining: 997ms\n",
            "567:\tlearn: 0.0118070\ttotal: 1.31s\tremaining: 994ms\n",
            "568:\tlearn: 0.0117972\ttotal: 1.31s\tremaining: 992ms\n",
            "569:\tlearn: 0.0117918\ttotal: 1.31s\tremaining: 989ms\n",
            "570:\tlearn: 0.0117859\ttotal: 1.31s\tremaining: 987ms\n",
            "571:\tlearn: 0.0117792\ttotal: 1.31s\tremaining: 984ms\n",
            "572:\tlearn: 0.0117706\ttotal: 1.32s\tremaining: 981ms\n",
            "573:\tlearn: 0.0117643\ttotal: 1.32s\tremaining: 979ms\n",
            "574:\tlearn: 0.0117604\ttotal: 1.32s\tremaining: 977ms\n",
            "575:\tlearn: 0.0117484\ttotal: 1.32s\tremaining: 974ms\n",
            "576:\tlearn: 0.0117410\ttotal: 1.32s\tremaining: 971ms\n",
            "577:\tlearn: 0.0117266\ttotal: 1.33s\tremaining: 969ms\n",
            "578:\tlearn: 0.0117197\ttotal: 1.33s\tremaining: 966ms\n",
            "579:\tlearn: 0.0117115\ttotal: 1.33s\tremaining: 963ms\n",
            "580:\tlearn: 0.0117038\ttotal: 1.33s\tremaining: 961ms\n",
            "581:\tlearn: 0.0116954\ttotal: 1.33s\tremaining: 958ms\n",
            "582:\tlearn: 0.0116858\ttotal: 1.34s\tremaining: 956ms\n",
            "583:\tlearn: 0.0116790\ttotal: 1.34s\tremaining: 954ms\n",
            "584:\tlearn: 0.0116712\ttotal: 1.34s\tremaining: 952ms\n",
            "585:\tlearn: 0.0116644\ttotal: 1.34s\tremaining: 949ms\n",
            "586:\tlearn: 0.0116589\ttotal: 1.34s\tremaining: 947ms\n",
            "587:\tlearn: 0.0116542\ttotal: 1.35s\tremaining: 944ms\n",
            "588:\tlearn: 0.0116408\ttotal: 1.35s\tremaining: 942ms\n",
            "589:\tlearn: 0.0116336\ttotal: 1.35s\tremaining: 940ms\n",
            "590:\tlearn: 0.0116272\ttotal: 1.35s\tremaining: 938ms\n",
            "591:\tlearn: 0.0116222\ttotal: 1.36s\tremaining: 935ms\n",
            "592:\tlearn: 0.0116130\ttotal: 1.36s\tremaining: 933ms\n",
            "593:\tlearn: 0.0116046\ttotal: 1.36s\tremaining: 930ms\n",
            "594:\tlearn: 0.0115920\ttotal: 1.36s\tremaining: 928ms\n",
            "595:\tlearn: 0.0115829\ttotal: 1.36s\tremaining: 926ms\n",
            "596:\tlearn: 0.0115737\ttotal: 1.37s\tremaining: 923ms\n",
            "597:\tlearn: 0.0115656\ttotal: 1.37s\tremaining: 921ms\n",
            "598:\tlearn: 0.0115567\ttotal: 1.37s\tremaining: 918ms\n",
            "599:\tlearn: 0.0115495\ttotal: 1.37s\tremaining: 916ms\n",
            "600:\tlearn: 0.0115459\ttotal: 1.38s\tremaining: 914ms\n",
            "601:\tlearn: 0.0115374\ttotal: 1.38s\tremaining: 911ms\n",
            "602:\tlearn: 0.0115272\ttotal: 1.38s\tremaining: 909ms\n",
            "603:\tlearn: 0.0115189\ttotal: 1.38s\tremaining: 906ms\n",
            "604:\tlearn: 0.0115110\ttotal: 1.38s\tremaining: 904ms\n",
            "605:\tlearn: 0.0115033\ttotal: 1.39s\tremaining: 902ms\n",
            "606:\tlearn: 0.0114953\ttotal: 1.39s\tremaining: 899ms\n",
            "607:\tlearn: 0.0114907\ttotal: 1.39s\tremaining: 896ms\n",
            "608:\tlearn: 0.0114865\ttotal: 1.39s\tremaining: 894ms\n",
            "609:\tlearn: 0.0114786\ttotal: 1.39s\tremaining: 891ms\n",
            "610:\tlearn: 0.0114705\ttotal: 1.4s\tremaining: 889ms\n",
            "611:\tlearn: 0.0114627\ttotal: 1.4s\tremaining: 887ms\n",
            "612:\tlearn: 0.0114571\ttotal: 1.4s\tremaining: 885ms\n",
            "613:\tlearn: 0.0114509\ttotal: 1.4s\tremaining: 882ms\n",
            "614:\tlearn: 0.0114419\ttotal: 1.41s\tremaining: 880ms\n",
            "615:\tlearn: 0.0114376\ttotal: 1.41s\tremaining: 877ms\n",
            "616:\tlearn: 0.0114284\ttotal: 1.41s\tremaining: 875ms\n",
            "617:\tlearn: 0.0114193\ttotal: 1.41s\tremaining: 872ms\n",
            "618:\tlearn: 0.0114083\ttotal: 1.41s\tremaining: 870ms\n",
            "619:\tlearn: 0.0114056\ttotal: 1.41s\tremaining: 867ms\n",
            "620:\tlearn: 0.0113988\ttotal: 1.42s\tremaining: 865ms\n",
            "621:\tlearn: 0.0113949\ttotal: 1.42s\tremaining: 862ms\n",
            "622:\tlearn: 0.0113867\ttotal: 1.42s\tremaining: 860ms\n",
            "623:\tlearn: 0.0113772\ttotal: 1.42s\tremaining: 857ms\n",
            "624:\tlearn: 0.0113703\ttotal: 1.42s\tremaining: 855ms\n",
            "625:\tlearn: 0.0113620\ttotal: 1.43s\tremaining: 852ms\n",
            "626:\tlearn: 0.0113571\ttotal: 1.43s\tremaining: 849ms\n",
            "627:\tlearn: 0.0113534\ttotal: 1.43s\tremaining: 847ms\n",
            "628:\tlearn: 0.0113459\ttotal: 1.43s\tremaining: 845ms\n",
            "629:\tlearn: 0.0113345\ttotal: 1.43s\tremaining: 842ms\n",
            "630:\tlearn: 0.0113237\ttotal: 1.44s\tremaining: 840ms\n",
            "631:\tlearn: 0.0113177\ttotal: 1.44s\tremaining: 838ms\n",
            "632:\tlearn: 0.0113131\ttotal: 1.44s\tremaining: 835ms\n",
            "633:\tlearn: 0.0113079\ttotal: 1.44s\tremaining: 833ms\n",
            "634:\tlearn: 0.0113000\ttotal: 1.45s\tremaining: 831ms\n",
            "635:\tlearn: 0.0112900\ttotal: 1.45s\tremaining: 829ms\n",
            "636:\tlearn: 0.0112801\ttotal: 1.45s\tremaining: 826ms\n",
            "637:\tlearn: 0.0112704\ttotal: 1.45s\tremaining: 824ms\n",
            "638:\tlearn: 0.0112622\ttotal: 1.45s\tremaining: 821ms\n",
            "639:\tlearn: 0.0112603\ttotal: 1.46s\tremaining: 819ms\n",
            "640:\tlearn: 0.0112493\ttotal: 1.46s\tremaining: 816ms\n",
            "641:\tlearn: 0.0112426\ttotal: 1.47s\tremaining: 822ms\n",
            "642:\tlearn: 0.0112401\ttotal: 1.48s\tremaining: 820ms\n",
            "643:\tlearn: 0.0112327\ttotal: 1.48s\tremaining: 818ms\n",
            "644:\tlearn: 0.0112243\ttotal: 1.48s\tremaining: 815ms\n",
            "645:\tlearn: 0.0112154\ttotal: 1.48s\tremaining: 812ms\n",
            "646:\tlearn: 0.0112098\ttotal: 1.48s\tremaining: 810ms\n",
            "647:\tlearn: 0.0112024\ttotal: 1.49s\tremaining: 807ms\n",
            "648:\tlearn: 0.0111976\ttotal: 1.49s\tremaining: 805ms\n",
            "649:\tlearn: 0.0111908\ttotal: 1.49s\tremaining: 802ms\n",
            "650:\tlearn: 0.0111773\ttotal: 1.49s\tremaining: 800ms\n",
            "651:\tlearn: 0.0111702\ttotal: 1.49s\tremaining: 798ms\n",
            "652:\tlearn: 0.0111582\ttotal: 1.5s\tremaining: 795ms\n",
            "653:\tlearn: 0.0111554\ttotal: 1.5s\tremaining: 793ms\n",
            "654:\tlearn: 0.0111474\ttotal: 1.5s\tremaining: 790ms\n",
            "655:\tlearn: 0.0111406\ttotal: 1.5s\tremaining: 788ms\n",
            "656:\tlearn: 0.0111358\ttotal: 1.5s\tremaining: 785ms\n",
            "657:\tlearn: 0.0111304\ttotal: 1.5s\tremaining: 783ms\n",
            "658:\tlearn: 0.0111229\ttotal: 1.51s\tremaining: 780ms\n",
            "659:\tlearn: 0.0111162\ttotal: 1.51s\tremaining: 778ms\n",
            "660:\tlearn: 0.0111094\ttotal: 1.51s\tremaining: 775ms\n",
            "661:\tlearn: 0.0111029\ttotal: 1.51s\tremaining: 773ms\n",
            "662:\tlearn: 0.0110965\ttotal: 1.51s\tremaining: 770ms\n",
            "663:\tlearn: 0.0110932\ttotal: 1.52s\tremaining: 768ms\n",
            "664:\tlearn: 0.0110838\ttotal: 1.52s\tremaining: 765ms\n",
            "665:\tlearn: 0.0110761\ttotal: 1.52s\tremaining: 763ms\n",
            "666:\tlearn: 0.0110681\ttotal: 1.52s\tremaining: 761ms\n",
            "667:\tlearn: 0.0110611\ttotal: 1.53s\tremaining: 759ms\n",
            "668:\tlearn: 0.0110485\ttotal: 1.53s\tremaining: 756ms\n",
            "669:\tlearn: 0.0110456\ttotal: 1.53s\tremaining: 754ms\n",
            "670:\tlearn: 0.0110430\ttotal: 1.53s\tremaining: 751ms\n",
            "671:\tlearn: 0.0110364\ttotal: 1.53s\tremaining: 749ms\n",
            "672:\tlearn: 0.0110311\ttotal: 1.53s\tremaining: 746ms\n",
            "673:\tlearn: 0.0110194\ttotal: 1.54s\tremaining: 744ms\n",
            "674:\tlearn: 0.0110083\ttotal: 1.54s\tremaining: 742ms\n",
            "675:\tlearn: 0.0110032\ttotal: 1.54s\tremaining: 739ms\n",
            "676:\tlearn: 0.0109974\ttotal: 1.54s\tremaining: 737ms\n",
            "677:\tlearn: 0.0109925\ttotal: 1.55s\tremaining: 734ms\n",
            "678:\tlearn: 0.0109847\ttotal: 1.55s\tremaining: 732ms\n",
            "679:\tlearn: 0.0109768\ttotal: 1.55s\tremaining: 729ms\n",
            "680:\tlearn: 0.0109713\ttotal: 1.55s\tremaining: 727ms\n",
            "681:\tlearn: 0.0109672\ttotal: 1.55s\tremaining: 725ms\n",
            "682:\tlearn: 0.0109616\ttotal: 1.56s\tremaining: 723ms\n",
            "683:\tlearn: 0.0109602\ttotal: 1.56s\tremaining: 720ms\n",
            "684:\tlearn: 0.0109548\ttotal: 1.56s\tremaining: 717ms\n",
            "685:\tlearn: 0.0109451\ttotal: 1.56s\tremaining: 715ms\n",
            "686:\tlearn: 0.0109336\ttotal: 1.56s\tremaining: 713ms\n",
            "687:\tlearn: 0.0109302\ttotal: 1.57s\tremaining: 710ms\n",
            "688:\tlearn: 0.0109233\ttotal: 1.57s\tremaining: 708ms\n",
            "689:\tlearn: 0.0109176\ttotal: 1.57s\tremaining: 706ms\n",
            "690:\tlearn: 0.0109108\ttotal: 1.57s\tremaining: 704ms\n",
            "691:\tlearn: 0.0109027\ttotal: 1.57s\tremaining: 701ms\n",
            "692:\tlearn: 0.0108966\ttotal: 1.58s\tremaining: 699ms\n",
            "693:\tlearn: 0.0108877\ttotal: 1.58s\tremaining: 697ms\n",
            "694:\tlearn: 0.0108808\ttotal: 1.58s\tremaining: 694ms\n",
            "695:\tlearn: 0.0108739\ttotal: 1.58s\tremaining: 692ms\n",
            "696:\tlearn: 0.0108630\ttotal: 1.59s\tremaining: 690ms\n",
            "697:\tlearn: 0.0108588\ttotal: 1.59s\tremaining: 687ms\n",
            "698:\tlearn: 0.0108519\ttotal: 1.59s\tremaining: 685ms\n",
            "699:\tlearn: 0.0108402\ttotal: 1.59s\tremaining: 683ms\n",
            "700:\tlearn: 0.0108356\ttotal: 1.59s\tremaining: 680ms\n",
            "701:\tlearn: 0.0108215\ttotal: 1.6s\tremaining: 678ms\n",
            "702:\tlearn: 0.0108139\ttotal: 1.6s\tremaining: 676ms\n",
            "703:\tlearn: 0.0108088\ttotal: 1.6s\tremaining: 673ms\n",
            "704:\tlearn: 0.0108035\ttotal: 1.6s\tremaining: 671ms\n",
            "705:\tlearn: 0.0107994\ttotal: 1.6s\tremaining: 668ms\n",
            "706:\tlearn: 0.0107911\ttotal: 1.61s\tremaining: 666ms\n",
            "707:\tlearn: 0.0107799\ttotal: 1.61s\tremaining: 664ms\n",
            "708:\tlearn: 0.0107712\ttotal: 1.61s\tremaining: 661ms\n",
            "709:\tlearn: 0.0107615\ttotal: 1.61s\tremaining: 659ms\n",
            "710:\tlearn: 0.0107548\ttotal: 1.61s\tremaining: 656ms\n",
            "711:\tlearn: 0.0107505\ttotal: 1.62s\tremaining: 654ms\n",
            "712:\tlearn: 0.0107422\ttotal: 1.62s\tremaining: 651ms\n",
            "713:\tlearn: 0.0107384\ttotal: 1.62s\tremaining: 649ms\n",
            "714:\tlearn: 0.0107315\ttotal: 1.62s\tremaining: 646ms\n",
            "715:\tlearn: 0.0107252\ttotal: 1.62s\tremaining: 644ms\n",
            "716:\tlearn: 0.0107165\ttotal: 1.63s\tremaining: 642ms\n",
            "717:\tlearn: 0.0107089\ttotal: 1.63s\tremaining: 639ms\n",
            "718:\tlearn: 0.0106994\ttotal: 1.63s\tremaining: 637ms\n",
            "719:\tlearn: 0.0106906\ttotal: 1.63s\tremaining: 634ms\n",
            "720:\tlearn: 0.0106840\ttotal: 1.63s\tremaining: 632ms\n",
            "721:\tlearn: 0.0106780\ttotal: 1.64s\tremaining: 630ms\n",
            "722:\tlearn: 0.0106717\ttotal: 1.64s\tremaining: 627ms\n",
            "723:\tlearn: 0.0106691\ttotal: 1.64s\tremaining: 625ms\n",
            "724:\tlearn: 0.0106601\ttotal: 1.64s\tremaining: 623ms\n",
            "725:\tlearn: 0.0106508\ttotal: 1.64s\tremaining: 620ms\n",
            "726:\tlearn: 0.0106459\ttotal: 1.65s\tremaining: 618ms\n",
            "727:\tlearn: 0.0106348\ttotal: 1.65s\tremaining: 616ms\n",
            "728:\tlearn: 0.0106271\ttotal: 1.65s\tremaining: 613ms\n",
            "729:\tlearn: 0.0106217\ttotal: 1.65s\tremaining: 611ms\n",
            "730:\tlearn: 0.0106145\ttotal: 1.65s\tremaining: 608ms\n",
            "731:\tlearn: 0.0106096\ttotal: 1.66s\tremaining: 606ms\n",
            "732:\tlearn: 0.0106048\ttotal: 1.66s\tremaining: 604ms\n",
            "733:\tlearn: 0.0105980\ttotal: 1.66s\tremaining: 601ms\n",
            "734:\tlearn: 0.0105908\ttotal: 1.66s\tremaining: 599ms\n",
            "735:\tlearn: 0.0105853\ttotal: 1.66s\tremaining: 597ms\n",
            "736:\tlearn: 0.0105784\ttotal: 1.66s\tremaining: 594ms\n",
            "737:\tlearn: 0.0105683\ttotal: 1.67s\tremaining: 592ms\n",
            "738:\tlearn: 0.0105610\ttotal: 1.67s\tremaining: 589ms\n",
            "739:\tlearn: 0.0105546\ttotal: 1.67s\tremaining: 587ms\n",
            "740:\tlearn: 0.0105473\ttotal: 1.67s\tremaining: 584ms\n",
            "741:\tlearn: 0.0105416\ttotal: 1.67s\tremaining: 582ms\n",
            "742:\tlearn: 0.0105371\ttotal: 1.68s\tremaining: 580ms\n",
            "743:\tlearn: 0.0105315\ttotal: 1.68s\tremaining: 577ms\n",
            "744:\tlearn: 0.0105247\ttotal: 1.68s\tremaining: 575ms\n",
            "745:\tlearn: 0.0105185\ttotal: 1.68s\tremaining: 573ms\n",
            "746:\tlearn: 0.0105056\ttotal: 1.68s\tremaining: 570ms\n",
            "747:\tlearn: 0.0104990\ttotal: 1.69s\tremaining: 568ms\n",
            "748:\tlearn: 0.0104929\ttotal: 1.69s\tremaining: 565ms\n",
            "749:\tlearn: 0.0104838\ttotal: 1.69s\tremaining: 563ms\n",
            "750:\tlearn: 0.0104798\ttotal: 1.69s\tremaining: 561ms\n",
            "751:\tlearn: 0.0104744\ttotal: 1.69s\tremaining: 558ms\n",
            "752:\tlearn: 0.0104623\ttotal: 1.7s\tremaining: 556ms\n",
            "753:\tlearn: 0.0104557\ttotal: 1.7s\tremaining: 554ms\n",
            "754:\tlearn: 0.0104486\ttotal: 1.7s\tremaining: 551ms\n",
            "755:\tlearn: 0.0104425\ttotal: 1.7s\tremaining: 549ms\n",
            "756:\tlearn: 0.0104342\ttotal: 1.7s\tremaining: 547ms\n",
            "757:\tlearn: 0.0104295\ttotal: 1.7s\tremaining: 544ms\n",
            "758:\tlearn: 0.0104176\ttotal: 1.71s\tremaining: 542ms\n",
            "759:\tlearn: 0.0104096\ttotal: 1.71s\tremaining: 539ms\n",
            "760:\tlearn: 0.0103982\ttotal: 1.71s\tremaining: 537ms\n",
            "761:\tlearn: 0.0103879\ttotal: 1.71s\tremaining: 535ms\n",
            "762:\tlearn: 0.0103811\ttotal: 1.71s\tremaining: 532ms\n",
            "763:\tlearn: 0.0103758\ttotal: 1.72s\tremaining: 530ms\n",
            "764:\tlearn: 0.0103722\ttotal: 1.72s\tremaining: 528ms\n",
            "765:\tlearn: 0.0103670\ttotal: 1.72s\tremaining: 525ms\n",
            "766:\tlearn: 0.0103616\ttotal: 1.72s\tremaining: 523ms\n",
            "767:\tlearn: 0.0103542\ttotal: 1.72s\tremaining: 521ms\n",
            "768:\tlearn: 0.0103488\ttotal: 1.73s\tremaining: 519ms\n",
            "769:\tlearn: 0.0103409\ttotal: 1.73s\tremaining: 516ms\n",
            "770:\tlearn: 0.0103304\ttotal: 1.73s\tremaining: 514ms\n",
            "771:\tlearn: 0.0103241\ttotal: 1.73s\tremaining: 512ms\n",
            "772:\tlearn: 0.0103160\ttotal: 1.73s\tremaining: 509ms\n",
            "773:\tlearn: 0.0103105\ttotal: 1.74s\tremaining: 507ms\n",
            "774:\tlearn: 0.0103051\ttotal: 1.74s\tremaining: 505ms\n",
            "775:\tlearn: 0.0103014\ttotal: 1.74s\tremaining: 502ms\n",
            "776:\tlearn: 0.0102963\ttotal: 1.74s\tremaining: 500ms\n",
            "777:\tlearn: 0.0102861\ttotal: 1.74s\tremaining: 498ms\n",
            "778:\tlearn: 0.0102838\ttotal: 1.75s\tremaining: 496ms\n",
            "779:\tlearn: 0.0102741\ttotal: 1.75s\tremaining: 493ms\n",
            "780:\tlearn: 0.0102671\ttotal: 1.75s\tremaining: 491ms\n",
            "781:\tlearn: 0.0102597\ttotal: 1.75s\tremaining: 489ms\n",
            "782:\tlearn: 0.0102539\ttotal: 1.75s\tremaining: 487ms\n",
            "783:\tlearn: 0.0102472\ttotal: 1.76s\tremaining: 484ms\n",
            "784:\tlearn: 0.0102401\ttotal: 1.76s\tremaining: 482ms\n",
            "785:\tlearn: 0.0102280\ttotal: 1.76s\tremaining: 480ms\n",
            "786:\tlearn: 0.0102231\ttotal: 1.76s\tremaining: 477ms\n",
            "787:\tlearn: 0.0102165\ttotal: 1.76s\tremaining: 475ms\n",
            "788:\tlearn: 0.0102088\ttotal: 1.77s\tremaining: 473ms\n",
            "789:\tlearn: 0.0102020\ttotal: 1.77s\tremaining: 470ms\n",
            "790:\tlearn: 0.0101980\ttotal: 1.77s\tremaining: 468ms\n",
            "791:\tlearn: 0.0101919\ttotal: 1.77s\tremaining: 466ms\n",
            "792:\tlearn: 0.0101835\ttotal: 1.77s\tremaining: 463ms\n",
            "793:\tlearn: 0.0101756\ttotal: 1.78s\tremaining: 461ms\n",
            "794:\tlearn: 0.0101709\ttotal: 1.78s\tremaining: 459ms\n",
            "795:\tlearn: 0.0101656\ttotal: 1.78s\tremaining: 456ms\n",
            "796:\tlearn: 0.0101612\ttotal: 1.78s\tremaining: 454ms\n",
            "797:\tlearn: 0.0101588\ttotal: 1.78s\tremaining: 452ms\n",
            "798:\tlearn: 0.0101506\ttotal: 1.79s\tremaining: 450ms\n",
            "799:\tlearn: 0.0101440\ttotal: 1.79s\tremaining: 447ms\n",
            "800:\tlearn: 0.0101343\ttotal: 1.79s\tremaining: 445ms\n",
            "801:\tlearn: 0.0101260\ttotal: 1.79s\tremaining: 443ms\n",
            "802:\tlearn: 0.0101188\ttotal: 1.79s\tremaining: 440ms\n",
            "803:\tlearn: 0.0101138\ttotal: 1.8s\tremaining: 438ms\n",
            "804:\tlearn: 0.0101033\ttotal: 1.8s\tremaining: 436ms\n",
            "805:\tlearn: 0.0101024\ttotal: 1.8s\tremaining: 434ms\n",
            "806:\tlearn: 0.0100971\ttotal: 1.8s\tremaining: 431ms\n",
            "807:\tlearn: 0.0100902\ttotal: 1.81s\tremaining: 429ms\n",
            "808:\tlearn: 0.0100844\ttotal: 1.81s\tremaining: 427ms\n",
            "809:\tlearn: 0.0100748\ttotal: 1.81s\tremaining: 425ms\n",
            "810:\tlearn: 0.0100673\ttotal: 1.81s\tremaining: 422ms\n",
            "811:\tlearn: 0.0100608\ttotal: 1.81s\tremaining: 420ms\n",
            "812:\tlearn: 0.0100494\ttotal: 1.81s\tremaining: 418ms\n",
            "813:\tlearn: 0.0100486\ttotal: 1.82s\tremaining: 415ms\n",
            "814:\tlearn: 0.0100435\ttotal: 1.82s\tremaining: 413ms\n",
            "815:\tlearn: 0.0100380\ttotal: 1.82s\tremaining: 411ms\n",
            "816:\tlearn: 0.0100350\ttotal: 1.82s\tremaining: 408ms\n",
            "817:\tlearn: 0.0100324\ttotal: 1.82s\tremaining: 406ms\n",
            "818:\tlearn: 0.0100259\ttotal: 1.83s\tremaining: 404ms\n",
            "819:\tlearn: 0.0100203\ttotal: 1.83s\tremaining: 402ms\n",
            "820:\tlearn: 0.0100151\ttotal: 1.83s\tremaining: 399ms\n",
            "821:\tlearn: 0.0100100\ttotal: 1.83s\tremaining: 397ms\n",
            "822:\tlearn: 0.0100051\ttotal: 1.84s\tremaining: 395ms\n",
            "823:\tlearn: 0.0099962\ttotal: 1.84s\tremaining: 393ms\n",
            "824:\tlearn: 0.0099886\ttotal: 1.84s\tremaining: 390ms\n",
            "825:\tlearn: 0.0099860\ttotal: 1.84s\tremaining: 388ms\n",
            "826:\tlearn: 0.0099793\ttotal: 1.84s\tremaining: 386ms\n",
            "827:\tlearn: 0.0099786\ttotal: 1.85s\tremaining: 384ms\n",
            "828:\tlearn: 0.0099733\ttotal: 1.85s\tremaining: 381ms\n",
            "829:\tlearn: 0.0099698\ttotal: 1.85s\tremaining: 379ms\n",
            "830:\tlearn: 0.0099648\ttotal: 1.85s\tremaining: 377ms\n",
            "831:\tlearn: 0.0099587\ttotal: 1.85s\tremaining: 374ms\n",
            "832:\tlearn: 0.0099528\ttotal: 1.86s\tremaining: 372ms\n",
            "833:\tlearn: 0.0099408\ttotal: 1.86s\tremaining: 370ms\n",
            "834:\tlearn: 0.0099315\ttotal: 1.86s\tremaining: 368ms\n",
            "835:\tlearn: 0.0099260\ttotal: 1.86s\tremaining: 365ms\n",
            "836:\tlearn: 0.0099212\ttotal: 1.86s\tremaining: 363ms\n",
            "837:\tlearn: 0.0099127\ttotal: 1.87s\tremaining: 361ms\n",
            "838:\tlearn: 0.0099082\ttotal: 1.87s\tremaining: 359ms\n",
            "839:\tlearn: 0.0099032\ttotal: 1.87s\tremaining: 356ms\n",
            "840:\tlearn: 0.0098939\ttotal: 1.87s\tremaining: 354ms\n",
            "841:\tlearn: 0.0098873\ttotal: 1.87s\tremaining: 352ms\n",
            "842:\tlearn: 0.0098827\ttotal: 1.88s\tremaining: 349ms\n",
            "843:\tlearn: 0.0098767\ttotal: 1.88s\tremaining: 347ms\n",
            "844:\tlearn: 0.0098724\ttotal: 1.88s\tremaining: 345ms\n",
            "845:\tlearn: 0.0098693\ttotal: 1.88s\tremaining: 343ms\n",
            "846:\tlearn: 0.0098637\ttotal: 1.88s\tremaining: 340ms\n",
            "847:\tlearn: 0.0098538\ttotal: 1.9s\tremaining: 340ms\n",
            "848:\tlearn: 0.0098506\ttotal: 1.9s\tremaining: 338ms\n",
            "849:\tlearn: 0.0098473\ttotal: 1.9s\tremaining: 336ms\n",
            "850:\tlearn: 0.0098376\ttotal: 1.91s\tremaining: 334ms\n",
            "851:\tlearn: 0.0098301\ttotal: 1.91s\tremaining: 331ms\n",
            "852:\tlearn: 0.0098256\ttotal: 1.91s\tremaining: 329ms\n",
            "853:\tlearn: 0.0098161\ttotal: 1.91s\tremaining: 327ms\n",
            "854:\tlearn: 0.0098107\ttotal: 1.92s\tremaining: 325ms\n",
            "855:\tlearn: 0.0098069\ttotal: 1.92s\tremaining: 323ms\n",
            "856:\tlearn: 0.0098020\ttotal: 1.92s\tremaining: 320ms\n",
            "857:\tlearn: 0.0097931\ttotal: 1.92s\tremaining: 318ms\n",
            "858:\tlearn: 0.0097865\ttotal: 1.92s\tremaining: 316ms\n",
            "859:\tlearn: 0.0097814\ttotal: 1.92s\tremaining: 313ms\n",
            "860:\tlearn: 0.0097716\ttotal: 1.93s\tremaining: 311ms\n",
            "861:\tlearn: 0.0097611\ttotal: 1.93s\tremaining: 309ms\n",
            "862:\tlearn: 0.0097550\ttotal: 1.93s\tremaining: 307ms\n",
            "863:\tlearn: 0.0097503\ttotal: 1.93s\tremaining: 304ms\n",
            "864:\tlearn: 0.0097483\ttotal: 1.94s\tremaining: 302ms\n",
            "865:\tlearn: 0.0097408\ttotal: 1.94s\tremaining: 300ms\n",
            "866:\tlearn: 0.0097358\ttotal: 1.94s\tremaining: 297ms\n",
            "867:\tlearn: 0.0097313\ttotal: 1.94s\tremaining: 295ms\n",
            "868:\tlearn: 0.0097294\ttotal: 1.94s\tremaining: 293ms\n",
            "869:\tlearn: 0.0097232\ttotal: 1.95s\tremaining: 291ms\n",
            "870:\tlearn: 0.0097170\ttotal: 1.95s\tremaining: 288ms\n",
            "871:\tlearn: 0.0097105\ttotal: 1.95s\tremaining: 286ms\n",
            "872:\tlearn: 0.0097059\ttotal: 1.95s\tremaining: 284ms\n",
            "873:\tlearn: 0.0097001\ttotal: 1.95s\tremaining: 282ms\n",
            "874:\tlearn: 0.0096947\ttotal: 1.96s\tremaining: 279ms\n",
            "875:\tlearn: 0.0096901\ttotal: 1.96s\tremaining: 277ms\n",
            "876:\tlearn: 0.0096853\ttotal: 1.96s\tremaining: 275ms\n",
            "877:\tlearn: 0.0096797\ttotal: 1.96s\tremaining: 273ms\n",
            "878:\tlearn: 0.0096758\ttotal: 1.97s\tremaining: 271ms\n",
            "879:\tlearn: 0.0096632\ttotal: 1.97s\tremaining: 268ms\n",
            "880:\tlearn: 0.0096564\ttotal: 1.97s\tremaining: 266ms\n",
            "881:\tlearn: 0.0096557\ttotal: 1.97s\tremaining: 264ms\n",
            "882:\tlearn: 0.0096467\ttotal: 1.98s\tremaining: 262ms\n",
            "883:\tlearn: 0.0096401\ttotal: 1.98s\tremaining: 260ms\n",
            "884:\tlearn: 0.0096342\ttotal: 1.98s\tremaining: 257ms\n",
            "885:\tlearn: 0.0096287\ttotal: 1.98s\tremaining: 255ms\n",
            "886:\tlearn: 0.0096217\ttotal: 1.98s\tremaining: 253ms\n",
            "887:\tlearn: 0.0096181\ttotal: 1.99s\tremaining: 250ms\n",
            "888:\tlearn: 0.0096136\ttotal: 1.99s\tremaining: 248ms\n",
            "889:\tlearn: 0.0096099\ttotal: 1.99s\tremaining: 246ms\n",
            "890:\tlearn: 0.0096027\ttotal: 1.99s\tremaining: 244ms\n",
            "891:\tlearn: 0.0095965\ttotal: 1.99s\tremaining: 241ms\n",
            "892:\tlearn: 0.0095920\ttotal: 2s\tremaining: 239ms\n",
            "893:\tlearn: 0.0095835\ttotal: 2s\tremaining: 237ms\n",
            "894:\tlearn: 0.0095766\ttotal: 2s\tremaining: 235ms\n",
            "895:\tlearn: 0.0095691\ttotal: 2s\tremaining: 232ms\n",
            "896:\tlearn: 0.0095630\ttotal: 2s\tremaining: 230ms\n",
            "897:\tlearn: 0.0095567\ttotal: 2s\tremaining: 228ms\n",
            "898:\tlearn: 0.0095500\ttotal: 2.01s\tremaining: 225ms\n",
            "899:\tlearn: 0.0095483\ttotal: 2.01s\tremaining: 223ms\n",
            "900:\tlearn: 0.0095477\ttotal: 2.01s\tremaining: 221ms\n",
            "901:\tlearn: 0.0095447\ttotal: 2.01s\tremaining: 219ms\n",
            "902:\tlearn: 0.0095394\ttotal: 2.01s\tremaining: 216ms\n",
            "903:\tlearn: 0.0095349\ttotal: 2.02s\tremaining: 214ms\n",
            "904:\tlearn: 0.0095301\ttotal: 2.02s\tremaining: 212ms\n",
            "905:\tlearn: 0.0095219\ttotal: 2.02s\tremaining: 210ms\n",
            "906:\tlearn: 0.0095173\ttotal: 2.02s\tremaining: 207ms\n",
            "907:\tlearn: 0.0095115\ttotal: 2.02s\tremaining: 205ms\n",
            "908:\tlearn: 0.0095066\ttotal: 2.02s\tremaining: 203ms\n",
            "909:\tlearn: 0.0095021\ttotal: 2.03s\tremaining: 200ms\n",
            "910:\tlearn: 0.0094994\ttotal: 2.03s\tremaining: 198ms\n",
            "911:\tlearn: 0.0094933\ttotal: 2.03s\tremaining: 196ms\n",
            "912:\tlearn: 0.0094890\ttotal: 2.03s\tremaining: 194ms\n",
            "913:\tlearn: 0.0094863\ttotal: 2.03s\tremaining: 191ms\n",
            "914:\tlearn: 0.0094816\ttotal: 2.04s\tremaining: 189ms\n",
            "915:\tlearn: 0.0094772\ttotal: 2.04s\tremaining: 187ms\n",
            "916:\tlearn: 0.0094718\ttotal: 2.04s\tremaining: 185ms\n",
            "917:\tlearn: 0.0094665\ttotal: 2.04s\tremaining: 182ms\n",
            "918:\tlearn: 0.0094645\ttotal: 2.04s\tremaining: 180ms\n",
            "919:\tlearn: 0.0094544\ttotal: 2.04s\tremaining: 178ms\n",
            "920:\tlearn: 0.0094502\ttotal: 2.05s\tremaining: 175ms\n",
            "921:\tlearn: 0.0094466\ttotal: 2.05s\tremaining: 173ms\n",
            "922:\tlearn: 0.0094441\ttotal: 2.05s\tremaining: 171ms\n",
            "923:\tlearn: 0.0094361\ttotal: 2.05s\tremaining: 169ms\n",
            "924:\tlearn: 0.0094286\ttotal: 2.05s\tremaining: 166ms\n",
            "925:\tlearn: 0.0094265\ttotal: 2.06s\tremaining: 164ms\n",
            "926:\tlearn: 0.0094221\ttotal: 2.06s\tremaining: 162ms\n",
            "927:\tlearn: 0.0094175\ttotal: 2.06s\tremaining: 160ms\n",
            "928:\tlearn: 0.0094095\ttotal: 2.06s\tremaining: 157ms\n",
            "929:\tlearn: 0.0094067\ttotal: 2.06s\tremaining: 155ms\n",
            "930:\tlearn: 0.0094017\ttotal: 2.06s\tremaining: 153ms\n",
            "931:\tlearn: 0.0093984\ttotal: 2.06s\tremaining: 151ms\n",
            "932:\tlearn: 0.0093886\ttotal: 2.07s\tremaining: 148ms\n",
            "933:\tlearn: 0.0093851\ttotal: 2.07s\tremaining: 146ms\n",
            "934:\tlearn: 0.0093801\ttotal: 2.07s\tremaining: 144ms\n",
            "935:\tlearn: 0.0093763\ttotal: 2.07s\tremaining: 142ms\n",
            "936:\tlearn: 0.0093720\ttotal: 2.07s\tremaining: 139ms\n",
            "937:\tlearn: 0.0093663\ttotal: 2.08s\tremaining: 137ms\n",
            "938:\tlearn: 0.0093595\ttotal: 2.08s\tremaining: 135ms\n",
            "939:\tlearn: 0.0093569\ttotal: 2.08s\tremaining: 133ms\n",
            "940:\tlearn: 0.0093541\ttotal: 2.08s\tremaining: 130ms\n",
            "941:\tlearn: 0.0093487\ttotal: 2.08s\tremaining: 128ms\n",
            "942:\tlearn: 0.0093436\ttotal: 2.08s\tremaining: 126ms\n",
            "943:\tlearn: 0.0093379\ttotal: 2.08s\tremaining: 124ms\n",
            "944:\tlearn: 0.0093322\ttotal: 2.09s\tremaining: 121ms\n",
            "945:\tlearn: 0.0093299\ttotal: 2.09s\tremaining: 119ms\n",
            "946:\tlearn: 0.0093238\ttotal: 2.09s\tremaining: 117ms\n",
            "947:\tlearn: 0.0093194\ttotal: 2.09s\tremaining: 115ms\n",
            "948:\tlearn: 0.0093152\ttotal: 2.09s\tremaining: 113ms\n",
            "949:\tlearn: 0.0093110\ttotal: 2.1s\tremaining: 110ms\n",
            "950:\tlearn: 0.0093011\ttotal: 2.1s\tremaining: 108ms\n",
            "951:\tlearn: 0.0092975\ttotal: 2.1s\tremaining: 106ms\n",
            "952:\tlearn: 0.0092913\ttotal: 2.1s\tremaining: 104ms\n",
            "953:\tlearn: 0.0092879\ttotal: 2.1s\tremaining: 101ms\n",
            "954:\tlearn: 0.0092775\ttotal: 2.1s\tremaining: 99.2ms\n",
            "955:\tlearn: 0.0092685\ttotal: 2.11s\tremaining: 96.9ms\n",
            "956:\tlearn: 0.0092638\ttotal: 2.11s\tremaining: 94.7ms\n",
            "957:\tlearn: 0.0092632\ttotal: 2.11s\tremaining: 92.5ms\n",
            "958:\tlearn: 0.0092573\ttotal: 2.11s\tremaining: 90.3ms\n",
            "959:\tlearn: 0.0092528\ttotal: 2.11s\tremaining: 88.1ms\n",
            "960:\tlearn: 0.0092493\ttotal: 2.12s\tremaining: 85.8ms\n",
            "961:\tlearn: 0.0092384\ttotal: 2.12s\tremaining: 83.6ms\n",
            "962:\tlearn: 0.0092343\ttotal: 2.12s\tremaining: 81.4ms\n",
            "963:\tlearn: 0.0092289\ttotal: 2.12s\tremaining: 79.2ms\n",
            "964:\tlearn: 0.0092219\ttotal: 2.12s\tremaining: 76.9ms\n",
            "965:\tlearn: 0.0092138\ttotal: 2.12s\tremaining: 74.7ms\n",
            "966:\tlearn: 0.0092124\ttotal: 2.12s\tremaining: 72.5ms\n",
            "967:\tlearn: 0.0092072\ttotal: 2.13s\tremaining: 70.3ms\n",
            "968:\tlearn: 0.0092033\ttotal: 2.13s\tremaining: 68.1ms\n",
            "969:\tlearn: 0.0092004\ttotal: 2.13s\tremaining: 65.9ms\n",
            "970:\tlearn: 0.0091956\ttotal: 2.13s\tremaining: 63.7ms\n",
            "971:\tlearn: 0.0091901\ttotal: 2.13s\tremaining: 61.5ms\n",
            "972:\tlearn: 0.0091822\ttotal: 2.14s\tremaining: 59.3ms\n",
            "973:\tlearn: 0.0091757\ttotal: 2.14s\tremaining: 57.1ms\n",
            "974:\tlearn: 0.0091703\ttotal: 2.14s\tremaining: 54.9ms\n",
            "975:\tlearn: 0.0091651\ttotal: 2.14s\tremaining: 52.7ms\n",
            "976:\tlearn: 0.0091603\ttotal: 2.14s\tremaining: 50.5ms\n",
            "977:\tlearn: 0.0091545\ttotal: 2.15s\tremaining: 48.3ms\n",
            "978:\tlearn: 0.0091518\ttotal: 2.15s\tremaining: 46.1ms\n",
            "979:\tlearn: 0.0091475\ttotal: 2.15s\tremaining: 43.9ms\n",
            "980:\tlearn: 0.0091384\ttotal: 2.15s\tremaining: 41.7ms\n",
            "981:\tlearn: 0.0091334\ttotal: 2.15s\tremaining: 39.5ms\n",
            "982:\tlearn: 0.0091271\ttotal: 2.15s\tremaining: 37.3ms\n",
            "983:\tlearn: 0.0091226\ttotal: 2.16s\tremaining: 35.1ms\n",
            "984:\tlearn: 0.0091210\ttotal: 2.16s\tremaining: 32.9ms\n",
            "985:\tlearn: 0.0091163\ttotal: 2.16s\tremaining: 30.7ms\n",
            "986:\tlearn: 0.0091079\ttotal: 2.16s\tremaining: 28.5ms\n",
            "987:\tlearn: 0.0091023\ttotal: 2.16s\tremaining: 26.3ms\n",
            "988:\tlearn: 0.0090999\ttotal: 2.17s\tremaining: 24.1ms\n",
            "989:\tlearn: 0.0090977\ttotal: 2.17s\tremaining: 21.9ms\n",
            "990:\tlearn: 0.0090949\ttotal: 2.17s\tremaining: 19.7ms\n",
            "991:\tlearn: 0.0090943\ttotal: 2.17s\tremaining: 17.5ms\n",
            "992:\tlearn: 0.0090940\ttotal: 2.17s\tremaining: 15.3ms\n",
            "993:\tlearn: 0.0090918\ttotal: 2.17s\tremaining: 13.1ms\n",
            "994:\tlearn: 0.0090884\ttotal: 2.18s\tremaining: 10.9ms\n",
            "995:\tlearn: 0.0090820\ttotal: 2.18s\tremaining: 8.74ms\n",
            "996:\tlearn: 0.0090765\ttotal: 2.18s\tremaining: 6.56ms\n",
            "997:\tlearn: 0.0090743\ttotal: 2.18s\tremaining: 4.37ms\n",
            "998:\tlearn: 0.0090676\ttotal: 2.18s\tremaining: 2.18ms\n",
            "999:\tlearn: 0.0090625\ttotal: 2.18s\tremaining: 0us\n"
          ]
        }
      ],
      "source": [
        "model1 = CatBoostRegressor()\n",
        "model1.fit(x_train,y_train)\n",
        "train_pred = model1.predict(x_train)\n",
        "train_score_r2 = r2_score((train_pred), (y_train))"
      ]
    },
    {
      "cell_type": "code",
      "execution_count": 78,
      "metadata": {},
      "outputs": [
        {
          "name": "stdout",
          "output_type": "stream",
          "text": [
            "[ 0.04211544  0.08320956  0.07794709  0.07885564  0.07154222  0.02912389\n",
            "  0.01135876  0.00565392  0.01153071  0.02642045  0.01905636  0.01891359\n",
            "  0.01007651  0.0208026   0.01192483  0.01033763  0.01033763  0.01688051\n",
            "  0.0249285   0.03074868  0.01222131  0.01115523  0.00951667  0.00998225\n",
            "  0.0082927   0.0063245   0.06395451  0.00650966  0.04366956  0.00605235\n",
            "  0.00925855  0.02294229 -0.00246898  0.04941831  0.01787797  0.02307772\n",
            "  0.00036787  0.0051225   0.00558176  0.01837209  0.01098139  0.01185105\n",
            "  0.00810024  0.06239021  0.05451675  0.00753466  0.02646697  0.01316862\n",
            "  0.02576921  0.0136703   0.02595252  0.01255202  0.00619093  0.01246807\n",
            "  0.00757668  0.00446002  0.01794548  0.01597362  0.00590062  0.00240651\n",
            "  0.06026469  0.00236463  0.01046666  0.0066813   0.01347148  0.01259993\n",
            "  0.01094398  0.06505697  0.01189443  0.04827525  0.00739686  0.07843674\n",
            "  0.00944838  0.00866097  0.05862033  0.04753161  0.00764721  0.04406863\n",
            "  0.00558165  0.03572529  0.00727785  0.01019457  0.02890984  0.00708235\n",
            "  0.01031669  0.058132    0.00656171  0.01224351  0.04307084  0.01054011\n",
            "  0.02368626  0.0148085   0.038218    0.00289177  0.00565686  0.00912323\n",
            "  0.01731008  0.03556164  0.00900093  0.00152403  0.02316145  0.02316145\n",
            "  0.02316145  0.00811531  0.00791763  0.0066178   0.01174469  0.01223626\n",
            "  0.00596722  0.03983288  0.05762596  0.01169687  0.04249666  0.01521485\n",
            "  0.00542991  0.00615276  0.07530012  0.07365669  0.04145102  0.02331211\n",
            "  0.0126013   0.01279898  0.0529446   0.0046684   0.00726842  0.0145969\n",
            "  0.01942838  0.00846089  0.00673394  0.02008769  0.02316673  0.02762993\n",
            "  0.00298046  0.01407443  0.0332959   0.03680698  0.00683717  0.00778208\n",
            "  0.00778208  0.00845576  0.0037886   0.06930185  0.01565017  0.03655563\n",
            "  0.08450511  0.00689098  0.00511057  0.05696837  0.01968596  0.00674122\n",
            "  0.04702034  0.04084799  0.05054242  0.01687925  0.00767301  0.01941612\n",
            "  0.03405562  0.01900579  0.00354299  0.0091527   0.00686064  0.04113322\n",
            "  0.00231256  0.01046431  0.00930643  0.00749139  0.00850402  0.05260242\n",
            "  0.01456999  0.00559574  0.02713199  0.00505077  0.06694677  0.08349712\n",
            "  0.01269251  0.01144529  0.01620676  0.01158717  0.04129638  0.01046618\n",
            "  0.01586795  0.02533159  0.02180042  0.00429487  0.00880523  0.00203184\n",
            "  0.00835032  0.05018919  0.07506     0.05125658  0.02346387  0.05938763\n",
            "  0.01054718  0.05018919  0.03280242  0.05166715  0.01068649  0.00496912\n",
            "  0.03869853  0.01514763  0.02719211  0.01937192  0.0183964   0.02080545\n",
            "  0.04853691  0.01273665  0.01531212  0.0160421   0.01921091 -0.00323591\n",
            "  0.02402682  0.010252    0.02267361  0.04792856  0.02330888  0.02467645\n",
            "  0.09658605  0.03257015  0.0151192   0.01224642  0.03031912  0.03204325\n",
            "  0.03862522  0.03675652  0.00620886  0.00535977  0.01808861  0.04217797\n",
            "  0.00464705  0.01783029  0.00124863  0.00607038  0.01808324  0.01291748\n",
            "  0.01022199  0.02819621  0.01098632  0.0427653   0.01259455  0.00905342\n",
            "  0.01222853  0.03846868  0.0145785   0.00788974  0.00611203  0.00739017\n",
            "  0.00548263  0.00685164  0.00599331  0.00675309  0.01026574  0.01706136\n",
            "  0.02026209  0.05111021  0.0142116   0.01072688  0.01546304  0.01083369\n",
            "  0.01073735  0.0103637   0.00556493  0.01856496  0.06048267  0.00645482\n",
            "  0.00692808  0.01120572  0.03832333  0.00220655  0.00441054  0.01198509\n",
            "  0.00848989  0.02172987  0.01049693  0.05903003  0.01117001  0.01405544\n",
            "  0.03669354  0.02199764  0.01904097  0.01491779  0.01881461  0.01852722\n",
            "  0.01384005  0.03979712  0.00349189  0.01654047  0.00873774  0.01580499\n",
            "  0.01543826  0.00611791  0.03094586  0.0604605   0.01501549  0.01376441\n",
            "  0.0773886   0.07266593  0.00189563  0.01298101  0.02190991  0.05330421\n",
            "  0.0148836   0.06560901  0.04237754  0.02882905  0.01336455  0.01441942\n",
            "  0.00861105  0.04163344  0.06848296  0.01213666  0.00646707  0.01455697\n",
            "  0.00335501  0.02030789  0.00160864  0.05900528  0.06888805  0.07917122\n",
            "  0.01054612  0.00764616  0.01162194  0.0153372   0.05830669  0.00281522\n",
            "  0.01477728  0.01279115  0.01262633  0.00941315  0.06607447  0.00216492\n",
            "  0.06261867  0.00552464  0.00830013  0.00703283  0.01797377  0.01467932\n",
            "  0.017716    0.07089284  0.02755048  0.01198789  0.01716235  0.00854629\n",
            "  0.0597844   0.02466869  0.09731881  0.01178754  0.0305604   0.00784156\n",
            "  0.00738708  0.00453841  0.08910553  0.00721686  0.01210614  0.00953194\n",
            "  0.00448985  0.00589131  0.01638055  0.00767379  0.00676956  0.00396598\n",
            "  0.01996319  0.00396598  0.00490168  0.00342959  0.00349832  0.00769335\n",
            "  0.0077623   0.02617571  0.00451506  0.01756851  0.00393387  0.00983869\n",
            "  0.01376514  0.00217108  0.00968313  0.01360306  0.00709663  0.02540072\n",
            "  0.00549316  0.04174896  0.00422623  0.0082634   0.00601929  0.02470455\n",
            "  0.04518156  0.01261588  0.007001    0.04842816  0.0676088   0.00594146\n",
            "  0.01181331  0.01232451  0.00569338  0.01170756  0.04061544  0.07702669\n",
            "  0.01480777  0.01676021  0.02021181  0.0144716   0.05779401  0.01157181\n",
            "  0.01418814  0.0154059   0.01178139  0.02213219  0.0070813   0.01362154\n",
            "  0.01493542  0.01606402  0.01517303  0.01469476  0.03709226  0.00637952\n",
            "  0.00983394  0.01965249  0.0041619   0.01297576  0.03094954  0.03330254\n",
            "  0.01290621  0.0083105   0.00907769  0.06317852  0.01161512  0.0104025\n",
            "  0.00094238  0.00294719  0.04481764  0.05894443  0.01915814  0.07582278\n",
            "  0.01963131  0.01386978  0.01978337  0.03446795  0.01060429  0.01319774\n",
            "  0.01847727  0.04849788  0.00778707  0.02069549  0.00553593  0.04596992\n",
            "  0.01277671  0.00999712  0.06551516  0.01512828  0.01423077  0.02114187\n",
            "  0.01338651  0.02390016  0.01042005  0.01595232  0.01097205  0.01560213\n",
            "  0.01306873  0.04195245  0.01546132  0.02335445  0.01397548  0.0151452\n",
            "  0.02376818  0.02273947  0.04008885  0.01394747  0.00353551  0.00249803\n",
            "  0.01551278  0.06012237  0.01450269  0.01344905  0.02188495  0.00463941\n",
            "  0.01725079  0.01401764  0.01771849  0.01564629  0.04332617  0.00908881\n",
            "  0.05986054  0.00980511  0.05728311  0.01120755  0.0070056   0.0229626\n",
            "  0.01046239  0.01556702  0.00718957  0.01414918  0.0153004   0.02449306\n",
            "  0.03699061  0.0590082   0.02463593  0.03556196  0.00708564  0.03697203\n",
            "  0.00479895  0.04236214  0.04796217  0.03205999  0.01760242  0.00953239\n",
            "  0.01827647  0.01816017  0.013361    0.01543716  0.08498325  0.05693721\n",
            "  0.02622402  0.0159633   0.03146361  0.03005589  0.03878759  0.03989961\n",
            "  0.0263863   0.01890373  0.0251362   0.02493109  0.01946895  0.01712513\n",
            "  0.07265208  0.03780966  0.01378912  0.07198284  0.02453395  0.01980436\n",
            "  0.01379527  0.05880271  0.02720775  0.05792764  0.0344181   0.08936473\n",
            "  0.04009844  0.01720347  0.01773875  0.01449973  0.01823799  0.01106237\n",
            "  0.01696648  0.01765709  0.01003401  0.02563038  0.0241041   0.06570158\n",
            "  0.01011522  0.06836544  0.01903837  0.06992323  0.03844867  0.04113962\n",
            "  0.01388941  0.01186242  0.04738827  0.03415596  0.02003358  0.06274346\n",
            " -0.00514377  0.02752187  0.04166098  0.00589741  0.03953747  0.00477373\n",
            "  0.02074334  0.02932256  0.01651886  0.03825064  0.01322927  0.03228975\n",
            "  0.01602851  0.01439393  0.00392765  0.05492986  0.05902191  0.01100134\n",
            "  0.01869453  0.00446604  0.01524593  0.00877921  0.04835194  0.00765327\n",
            "  0.07116658  0.00764264  0.01646084  0.01892293  0.01554449  0.02297047\n",
            "  0.01184052  0.00710131  0.01899879  0.00764104  0.02572425  0.00781411\n",
            "  0.01392335  0.01534926 -0.00032316  0.05935892  0.03228975  0.02747176\n",
            "  0.02365483  0.030565    0.03783072  0.01127559  0.04124195  0.00670256\n",
            "  0.01078909  0.01207671 -0.00387008  0.06676577  0.03795351  0.0295066\n",
            "  0.01857625  0.02254543  0.07290812  0.01927257  0.02300737  0.01317882\n",
            "  0.01507218  0.00953417  0.01546674  0.02893098  0.02637029  0.02467588\n",
            "  0.0359802   0.04034     0.0254746   0.00942399  0.05175549  0.05184082\n",
            "  0.05710337  0.05738641  0.01990064  0.01587899  0.04745458  0.01465836\n",
            "  0.05617441  0.00976999  0.0149966   0.02548182  0.06068313  0.06512636\n",
            "  0.05130806  0.02508155  0.01626715  0.02815705  0.02698386  0.02269141\n",
            "  0.02973488  0.02623645  0.02392737  0.0074038   0.03219784  0.00327022\n",
            "  0.01152648  0.01530169  0.00790462  0.02427038  0.03775571  0.04814703\n",
            "  0.05132164  0.01789339  0.02931981  0.01559474  0.03067018  0.00872033\n",
            "  0.05148293  0.02252607  0.03493083  0.03183362  0.0241745   0.0435258\n",
            "  0.01653745  0.01922126  0.02398107  0.02210761  0.02303372  0.01378915\n",
            "  0.04320495  0.01830069  0.05384299  0.01187167  0.02123663  0.01336448\n",
            "  0.0183011   0.01151912  0.01233492  0.02114489  0.01186065  0.02022671\n",
            "  0.0200406   0.02174894  0.04205129  0.04870294  0.04642775  0.00484391\n",
            "  0.00147299  0.00288495  0.01245934  0.02210085  0.02816238  0.02040052\n",
            "  0.01938289  0.02163356  0.0321475   0.07804915  0.03127469  0.05882327\n",
            "  0.0101042   0.01352344  0.02885335  0.02527344  0.04255214  0.02877128\n",
            "  0.02907956  0.02702363  0.0190426   0.04365766  0.03151701  0.03734236\n",
            "  0.04796887  0.06354945  0.03053583  0.06778818  0.02303236  0.04028242\n",
            "  0.05201847  0.02589044  0.02062596  0.04780769  0.06918913  0.06594561\n",
            "  0.05727133  0.03873932  0.00382252  0.01285472  0.01309209  0.01809203\n",
            "  0.01869036  0.02973094  0.02827931  0.0321457   0.03558693  0.02980636\n",
            "  0.01589545  0.03658988  0.0265706   0.03104624  0.02199764  0.04089388\n",
            "  0.06629839  0.01674323  0.08082973  0.00398992  0.07676723  0.01514622\n",
            "  0.0784972   0.019014    0.00794572  0.01949317  0.08526455  0.01184607]\n"
          ]
        }
      ],
      "source": [
        "test_pred = model1.predict(x_test)\n",
        "print(test_pred)"
      ]
    },
    {
      "cell_type": "code",
      "execution_count": 79,
      "metadata": {},
      "outputs": [
        {
          "name": "stdout",
          "output_type": "stream",
          "text": [
            "-1.7110412663294294\n"
          ]
        }
      ],
      "source": [
        "test_score_r2 = r2_score((test_pred), (y_train.head(762)))\n",
        "print(test_score_r2)"
      ]
    },
    {
      "cell_type": "code",
      "execution_count": 80,
      "metadata": {
        "id": "0tyKxpLXaCwJ"
      },
      "outputs": [],
      "source": [
        "from sklearn.linear_model import LinearRegression\n",
        "from xgboost import XGBRegressor\n",
        "from sklearn.preprocessing import PolynomialFeatures\n",
        "from sklearn.ensemble import RandomForestRegressor\n",
        "from sklearn.ensemble import GradientBoostingRegressor"
      ]
    },
    {
      "cell_type": "code",
      "execution_count": 81,
      "metadata": {
        "id": "pP0xlbnp9M2g"
      },
      "outputs": [],
      "source": [
        "reg = LinearRegression()\n",
        "rfregressor = RandomForestRegressor(random_state=10)\n",
        "gdb = GradientBoostingRegressor(random_state=10)\n",
        "xgb = XGBRegressor(random_state=10)"
      ]
    },
    {
      "cell_type": "code",
      "execution_count": 82,
      "metadata": {
        "id": "WSzos7NNyMZc"
      },
      "outputs": [],
      "source": [
        "import xgboost\n",
        "xgregressor=xgboost.XGBRegressor()\n",
        "classifier = xgboost.XGBRegressor()"
      ]
    },
    {
      "cell_type": "code",
      "execution_count": 83,
      "metadata": {
        "id": "RCcE9UcpyGaw"
      },
      "outputs": [],
      "source": [
        "booster=['gbtree','gblinear']\n",
        "base_score=[0.25,0.5,0.75,1]"
      ]
    },
    {
      "cell_type": "code",
      "execution_count": 84,
      "metadata": {
        "id": "i0Q-95NUyRYk"
      },
      "outputs": [],
      "source": [
        "n_estimators = [100, 500, 900, 1100, 1500]\n",
        "max_depth = [2, 3, 5, 10, 15]\n",
        "learning_rate=[0.05,0.1,0.15,0.20]\n",
        "\n",
        "\n",
        "# Define the grid of hyperparameters to search\n",
        "hyperparameter_grid = {\n",
        "    'n_estimators': n_estimators,\n",
        "    'max_depth':max_depth,\n",
        "    'learning_rate':learning_rate,\n",
        "    'booster':booster,\n",
        "    'base_score':base_score\n",
        "    }"
      ]
    },
    {
      "cell_type": "code",
      "execution_count": 85,
      "metadata": {
        "id": "8lBHfRRVyZl2"
      },
      "outputs": [],
      "source": [
        "from sklearn.model_selection import RandomizedSearchCV\n",
        "random_cv = RandomizedSearchCV(estimator=xgregressor,\n",
        "            param_distributions=hyperparameter_grid,\n",
        "            cv=5, n_iter=50,\n",
        "            scoring = 'r2',n_jobs = 4,\n",
        "            verbose = 5, \n",
        "            return_train_score = True,\n",
        "            random_state=42)"
      ]
    },
    {
      "cell_type": "code",
      "execution_count": 86,
      "metadata": {
        "colab": {
          "base_uri": "https://localhost:8080/"
        },
        "id": "on7_7Ue_yd5U",
        "outputId": "3f949694-9059-4f94-a516-5972feb11628"
      },
      "outputs": [
        {
          "name": "stdout",
          "output_type": "stream",
          "text": [
            "Fitting 5 folds for each of 50 candidates, totalling 250 fits\n"
          ]
        },
        {
          "data": {
            "text/html": [
              "<style>#sk-container-id-4 {color: black;background-color: white;}#sk-container-id-4 pre{padding: 0;}#sk-container-id-4 div.sk-toggleable {background-color: white;}#sk-container-id-4 label.sk-toggleable__label {cursor: pointer;display: block;width: 100%;margin-bottom: 0;padding: 0.3em;box-sizing: border-box;text-align: center;}#sk-container-id-4 label.sk-toggleable__label-arrow:before {content: \"▸\";float: left;margin-right: 0.25em;color: #696969;}#sk-container-id-4 label.sk-toggleable__label-arrow:hover:before {color: black;}#sk-container-id-4 div.sk-estimator:hover label.sk-toggleable__label-arrow:before {color: black;}#sk-container-id-4 div.sk-toggleable__content {max-height: 0;max-width: 0;overflow: hidden;text-align: left;background-color: #f0f8ff;}#sk-container-id-4 div.sk-toggleable__content pre {margin: 0.2em;color: black;border-radius: 0.25em;background-color: #f0f8ff;}#sk-container-id-4 input.sk-toggleable__control:checked~div.sk-toggleable__content {max-height: 200px;max-width: 100%;overflow: auto;}#sk-container-id-4 input.sk-toggleable__control:checked~label.sk-toggleable__label-arrow:before {content: \"▾\";}#sk-container-id-4 div.sk-estimator input.sk-toggleable__control:checked~label.sk-toggleable__label {background-color: #d4ebff;}#sk-container-id-4 div.sk-label input.sk-toggleable__control:checked~label.sk-toggleable__label {background-color: #d4ebff;}#sk-container-id-4 input.sk-hidden--visually {border: 0;clip: rect(1px 1px 1px 1px);clip: rect(1px, 1px, 1px, 1px);height: 1px;margin: -1px;overflow: hidden;padding: 0;position: absolute;width: 1px;}#sk-container-id-4 div.sk-estimator {font-family: monospace;background-color: #f0f8ff;border: 1px dotted black;border-radius: 0.25em;box-sizing: border-box;margin-bottom: 0.5em;}#sk-container-id-4 div.sk-estimator:hover {background-color: #d4ebff;}#sk-container-id-4 div.sk-parallel-item::after {content: \"\";width: 100%;border-bottom: 1px solid gray;flex-grow: 1;}#sk-container-id-4 div.sk-label:hover label.sk-toggleable__label {background-color: #d4ebff;}#sk-container-id-4 div.sk-serial::before {content: \"\";position: absolute;border-left: 1px solid gray;box-sizing: border-box;top: 0;bottom: 0;left: 50%;z-index: 0;}#sk-container-id-4 div.sk-serial {display: flex;flex-direction: column;align-items: center;background-color: white;padding-right: 0.2em;padding-left: 0.2em;position: relative;}#sk-container-id-4 div.sk-item {position: relative;z-index: 1;}#sk-container-id-4 div.sk-parallel {display: flex;align-items: stretch;justify-content: center;background-color: white;position: relative;}#sk-container-id-4 div.sk-item::before, #sk-container-id-4 div.sk-parallel-item::before {content: \"\";position: absolute;border-left: 1px solid gray;box-sizing: border-box;top: 0;bottom: 0;left: 50%;z-index: -1;}#sk-container-id-4 div.sk-parallel-item {display: flex;flex-direction: column;z-index: 1;position: relative;background-color: white;}#sk-container-id-4 div.sk-parallel-item:first-child::after {align-self: flex-end;width: 50%;}#sk-container-id-4 div.sk-parallel-item:last-child::after {align-self: flex-start;width: 50%;}#sk-container-id-4 div.sk-parallel-item:only-child::after {width: 0;}#sk-container-id-4 div.sk-dashed-wrapped {border: 1px dashed gray;margin: 0 0.4em 0.5em 0.4em;box-sizing: border-box;padding-bottom: 0.4em;background-color: white;}#sk-container-id-4 div.sk-label label {font-family: monospace;font-weight: bold;display: inline-block;line-height: 1.2em;}#sk-container-id-4 div.sk-label-container {text-align: center;}#sk-container-id-4 div.sk-container {/* jupyter's `normalize.less` sets `[hidden] { display: none; }` but bootstrap.min.css set `[hidden] { display: none !important; }` so we also need the `!important` here to be able to override the default hidden behavior on the sphinx rendered scikit-learn.org. See: https://github.com/scikit-learn/scikit-learn/issues/21755 */display: inline-block !important;position: relative;}#sk-container-id-4 div.sk-text-repr-fallback {display: none;}</style><div id=\"sk-container-id-4\" class=\"sk-top-container\"><div class=\"sk-text-repr-fallback\"><pre>RandomizedSearchCV(cv=5,\n",
              "                   estimator=XGBRegressor(base_score=None, booster=None,\n",
              "                                          callbacks=None,\n",
              "                                          colsample_bylevel=None,\n",
              "                                          colsample_bynode=None,\n",
              "                                          colsample_bytree=None,\n",
              "                                          early_stopping_rounds=None,\n",
              "                                          enable_categorical=False,\n",
              "                                          eval_metric=None, gamma=None,\n",
              "                                          gpu_id=None, grow_policy=None,\n",
              "                                          importance_type=None,\n",
              "                                          interaction_constraints=None,\n",
              "                                          learning_rate=None, max_bin=None,\n",
              "                                          m...\n",
              "                                          num_parallel_tree=None,\n",
              "                                          predictor=None, random_state=None,\n",
              "                                          reg_alpha=None, reg_lambda=None, ...),\n",
              "                   n_iter=50, n_jobs=4,\n",
              "                   param_distributions={&#x27;base_score&#x27;: [0.25, 0.5, 0.75, 1],\n",
              "                                        &#x27;booster&#x27;: [&#x27;gbtree&#x27;, &#x27;gblinear&#x27;],\n",
              "                                        &#x27;learning_rate&#x27;: [0.05, 0.1, 0.15, 0.2],\n",
              "                                        &#x27;max_depth&#x27;: [2, 3, 5, 10, 15],\n",
              "                                        &#x27;n_estimators&#x27;: [100, 500, 900, 1100,\n",
              "                                                         1500]},\n",
              "                   random_state=42, return_train_score=True, scoring=&#x27;r2&#x27;,\n",
              "                   verbose=5)</pre><b>In a Jupyter environment, please rerun this cell to show the HTML representation or trust the notebook. <br />On GitHub, the HTML representation is unable to render, please try loading this page with nbviewer.org.</b></div><div class=\"sk-container\" hidden><div class=\"sk-item sk-dashed-wrapped\"><div class=\"sk-label-container\"><div class=\"sk-label sk-toggleable\"><input class=\"sk-toggleable__control sk-hidden--visually\" id=\"sk-estimator-id-6\" type=\"checkbox\" ><label for=\"sk-estimator-id-6\" class=\"sk-toggleable__label sk-toggleable__label-arrow\">RandomizedSearchCV</label><div class=\"sk-toggleable__content\"><pre>RandomizedSearchCV(cv=5,\n",
              "                   estimator=XGBRegressor(base_score=None, booster=None,\n",
              "                                          callbacks=None,\n",
              "                                          colsample_bylevel=None,\n",
              "                                          colsample_bynode=None,\n",
              "                                          colsample_bytree=None,\n",
              "                                          early_stopping_rounds=None,\n",
              "                                          enable_categorical=False,\n",
              "                                          eval_metric=None, gamma=None,\n",
              "                                          gpu_id=None, grow_policy=None,\n",
              "                                          importance_type=None,\n",
              "                                          interaction_constraints=None,\n",
              "                                          learning_rate=None, max_bin=None,\n",
              "                                          m...\n",
              "                                          num_parallel_tree=None,\n",
              "                                          predictor=None, random_state=None,\n",
              "                                          reg_alpha=None, reg_lambda=None, ...),\n",
              "                   n_iter=50, n_jobs=4,\n",
              "                   param_distributions={&#x27;base_score&#x27;: [0.25, 0.5, 0.75, 1],\n",
              "                                        &#x27;booster&#x27;: [&#x27;gbtree&#x27;, &#x27;gblinear&#x27;],\n",
              "                                        &#x27;learning_rate&#x27;: [0.05, 0.1, 0.15, 0.2],\n",
              "                                        &#x27;max_depth&#x27;: [2, 3, 5, 10, 15],\n",
              "                                        &#x27;n_estimators&#x27;: [100, 500, 900, 1100,\n",
              "                                                         1500]},\n",
              "                   random_state=42, return_train_score=True, scoring=&#x27;r2&#x27;,\n",
              "                   verbose=5)</pre></div></div></div><div class=\"sk-parallel\"><div class=\"sk-parallel-item\"><div class=\"sk-item\"><div class=\"sk-label-container\"><div class=\"sk-label sk-toggleable\"><input class=\"sk-toggleable__control sk-hidden--visually\" id=\"sk-estimator-id-7\" type=\"checkbox\" ><label for=\"sk-estimator-id-7\" class=\"sk-toggleable__label sk-toggleable__label-arrow\">estimator: XGBRegressor</label><div class=\"sk-toggleable__content\"><pre>XGBRegressor(base_score=None, booster=None, callbacks=None,\n",
              "             colsample_bylevel=None, colsample_bynode=None,\n",
              "             colsample_bytree=None, early_stopping_rounds=None,\n",
              "             enable_categorical=False, eval_metric=None, gamma=None,\n",
              "             gpu_id=None, grow_policy=None, importance_type=None,\n",
              "             interaction_constraints=None, learning_rate=None, max_bin=None,\n",
              "             max_cat_to_onehot=None, max_delta_step=None, max_depth=None,\n",
              "             max_leaves=None, min_child_weight=None, missing=nan,\n",
              "             monotone_constraints=None, n_estimators=100, n_jobs=None,\n",
              "             num_parallel_tree=None, predictor=None, random_state=None,\n",
              "             reg_alpha=None, reg_lambda=None, ...)</pre></div></div></div><div class=\"sk-serial\"><div class=\"sk-item\"><div class=\"sk-estimator sk-toggleable\"><input class=\"sk-toggleable__control sk-hidden--visually\" id=\"sk-estimator-id-8\" type=\"checkbox\" ><label for=\"sk-estimator-id-8\" class=\"sk-toggleable__label sk-toggleable__label-arrow\">XGBRegressor</label><div class=\"sk-toggleable__content\"><pre>XGBRegressor(base_score=None, booster=None, callbacks=None,\n",
              "             colsample_bylevel=None, colsample_bynode=None,\n",
              "             colsample_bytree=None, early_stopping_rounds=None,\n",
              "             enable_categorical=False, eval_metric=None, gamma=None,\n",
              "             gpu_id=None, grow_policy=None, importance_type=None,\n",
              "             interaction_constraints=None, learning_rate=None, max_bin=None,\n",
              "             max_cat_to_onehot=None, max_delta_step=None, max_depth=None,\n",
              "             max_leaves=None, min_child_weight=None, missing=nan,\n",
              "             monotone_constraints=None, n_estimators=100, n_jobs=None,\n",
              "             num_parallel_tree=None, predictor=None, random_state=None,\n",
              "             reg_alpha=None, reg_lambda=None, ...)</pre></div></div></div></div></div></div></div></div></div></div>"
            ],
            "text/plain": [
              "RandomizedSearchCV(cv=5,\n",
              "                   estimator=XGBRegressor(base_score=None, booster=None,\n",
              "                                          callbacks=None,\n",
              "                                          colsample_bylevel=None,\n",
              "                                          colsample_bynode=None,\n",
              "                                          colsample_bytree=None,\n",
              "                                          early_stopping_rounds=None,\n",
              "                                          enable_categorical=False,\n",
              "                                          eval_metric=None, gamma=None,\n",
              "                                          gpu_id=None, grow_policy=None,\n",
              "                                          importance_type=None,\n",
              "                                          interaction_constraints=None,\n",
              "                                          learning_rate=None, max_bin=None,\n",
              "                                          m...\n",
              "                                          num_parallel_tree=None,\n",
              "                                          predictor=None, random_state=None,\n",
              "                                          reg_alpha=None, reg_lambda=None, ...),\n",
              "                   n_iter=50, n_jobs=4,\n",
              "                   param_distributions={'base_score': [0.25, 0.5, 0.75, 1],\n",
              "                                        'booster': ['gbtree', 'gblinear'],\n",
              "                                        'learning_rate': [0.05, 0.1, 0.15, 0.2],\n",
              "                                        'max_depth': [2, 3, 5, 10, 15],\n",
              "                                        'n_estimators': [100, 500, 900, 1100,\n",
              "                                                         1500]},\n",
              "                   random_state=42, return_train_score=True, scoring='r2',\n",
              "                   verbose=5)"
            ]
          },
          "execution_count": 86,
          "metadata": {},
          "output_type": "execute_result"
        }
      ],
      "source": [
        "random_cv.fit(x_train,y_train)"
      ]
    },
    {
      "cell_type": "code",
      "execution_count": 87,
      "metadata": {
        "colab": {
          "base_uri": "https://localhost:8080/"
        },
        "id": "-f0KCoOyyhK3",
        "outputId": "6964ffc9-07b8-42e6-e295-d7cb933bc093"
      },
      "outputs": [
        {
          "data": {
            "text/html": [
              "<style>#sk-container-id-5 {color: black;background-color: white;}#sk-container-id-5 pre{padding: 0;}#sk-container-id-5 div.sk-toggleable {background-color: white;}#sk-container-id-5 label.sk-toggleable__label {cursor: pointer;display: block;width: 100%;margin-bottom: 0;padding: 0.3em;box-sizing: border-box;text-align: center;}#sk-container-id-5 label.sk-toggleable__label-arrow:before {content: \"▸\";float: left;margin-right: 0.25em;color: #696969;}#sk-container-id-5 label.sk-toggleable__label-arrow:hover:before {color: black;}#sk-container-id-5 div.sk-estimator:hover label.sk-toggleable__label-arrow:before {color: black;}#sk-container-id-5 div.sk-toggleable__content {max-height: 0;max-width: 0;overflow: hidden;text-align: left;background-color: #f0f8ff;}#sk-container-id-5 div.sk-toggleable__content pre {margin: 0.2em;color: black;border-radius: 0.25em;background-color: #f0f8ff;}#sk-container-id-5 input.sk-toggleable__control:checked~div.sk-toggleable__content {max-height: 200px;max-width: 100%;overflow: auto;}#sk-container-id-5 input.sk-toggleable__control:checked~label.sk-toggleable__label-arrow:before {content: \"▾\";}#sk-container-id-5 div.sk-estimator input.sk-toggleable__control:checked~label.sk-toggleable__label {background-color: #d4ebff;}#sk-container-id-5 div.sk-label input.sk-toggleable__control:checked~label.sk-toggleable__label {background-color: #d4ebff;}#sk-container-id-5 input.sk-hidden--visually {border: 0;clip: rect(1px 1px 1px 1px);clip: rect(1px, 1px, 1px, 1px);height: 1px;margin: -1px;overflow: hidden;padding: 0;position: absolute;width: 1px;}#sk-container-id-5 div.sk-estimator {font-family: monospace;background-color: #f0f8ff;border: 1px dotted black;border-radius: 0.25em;box-sizing: border-box;margin-bottom: 0.5em;}#sk-container-id-5 div.sk-estimator:hover {background-color: #d4ebff;}#sk-container-id-5 div.sk-parallel-item::after {content: \"\";width: 100%;border-bottom: 1px solid gray;flex-grow: 1;}#sk-container-id-5 div.sk-label:hover label.sk-toggleable__label {background-color: #d4ebff;}#sk-container-id-5 div.sk-serial::before {content: \"\";position: absolute;border-left: 1px solid gray;box-sizing: border-box;top: 0;bottom: 0;left: 50%;z-index: 0;}#sk-container-id-5 div.sk-serial {display: flex;flex-direction: column;align-items: center;background-color: white;padding-right: 0.2em;padding-left: 0.2em;position: relative;}#sk-container-id-5 div.sk-item {position: relative;z-index: 1;}#sk-container-id-5 div.sk-parallel {display: flex;align-items: stretch;justify-content: center;background-color: white;position: relative;}#sk-container-id-5 div.sk-item::before, #sk-container-id-5 div.sk-parallel-item::before {content: \"\";position: absolute;border-left: 1px solid gray;box-sizing: border-box;top: 0;bottom: 0;left: 50%;z-index: -1;}#sk-container-id-5 div.sk-parallel-item {display: flex;flex-direction: column;z-index: 1;position: relative;background-color: white;}#sk-container-id-5 div.sk-parallel-item:first-child::after {align-self: flex-end;width: 50%;}#sk-container-id-5 div.sk-parallel-item:last-child::after {align-self: flex-start;width: 50%;}#sk-container-id-5 div.sk-parallel-item:only-child::after {width: 0;}#sk-container-id-5 div.sk-dashed-wrapped {border: 1px dashed gray;margin: 0 0.4em 0.5em 0.4em;box-sizing: border-box;padding-bottom: 0.4em;background-color: white;}#sk-container-id-5 div.sk-label label {font-family: monospace;font-weight: bold;display: inline-block;line-height: 1.2em;}#sk-container-id-5 div.sk-label-container {text-align: center;}#sk-container-id-5 div.sk-container {/* jupyter's `normalize.less` sets `[hidden] { display: none; }` but bootstrap.min.css set `[hidden] { display: none !important; }` so we also need the `!important` here to be able to override the default hidden behavior on the sphinx rendered scikit-learn.org. See: https://github.com/scikit-learn/scikit-learn/issues/21755 */display: inline-block !important;position: relative;}#sk-container-id-5 div.sk-text-repr-fallback {display: none;}</style><div id=\"sk-container-id-5\" class=\"sk-top-container\"><div class=\"sk-text-repr-fallback\"><pre>XGBRegressor(base_score=0.5, booster=&#x27;gbtree&#x27;, callbacks=None,\n",
              "             colsample_bylevel=1, colsample_bynode=1, colsample_bytree=1,\n",
              "             early_stopping_rounds=None, enable_categorical=False,\n",
              "             eval_metric=None, gamma=0, gpu_id=-1, grow_policy=&#x27;depthwise&#x27;,\n",
              "             importance_type=None, interaction_constraints=&#x27;&#x27;,\n",
              "             learning_rate=0.15, max_bin=256, max_cat_to_onehot=4,\n",
              "             max_delta_step=0, max_depth=2, max_leaves=0, min_child_weight=1,\n",
              "             missing=nan, monotone_constraints=&#x27;()&#x27;, n_estimators=100, n_jobs=0,\n",
              "             num_parallel_tree=1, predictor=&#x27;auto&#x27;, random_state=0, reg_alpha=0,\n",
              "             reg_lambda=1, ...)</pre><b>In a Jupyter environment, please rerun this cell to show the HTML representation or trust the notebook. <br />On GitHub, the HTML representation is unable to render, please try loading this page with nbviewer.org.</b></div><div class=\"sk-container\" hidden><div class=\"sk-item\"><div class=\"sk-estimator sk-toggleable\"><input class=\"sk-toggleable__control sk-hidden--visually\" id=\"sk-estimator-id-9\" type=\"checkbox\" checked><label for=\"sk-estimator-id-9\" class=\"sk-toggleable__label sk-toggleable__label-arrow\">XGBRegressor</label><div class=\"sk-toggleable__content\"><pre>XGBRegressor(base_score=0.5, booster=&#x27;gbtree&#x27;, callbacks=None,\n",
              "             colsample_bylevel=1, colsample_bynode=1, colsample_bytree=1,\n",
              "             early_stopping_rounds=None, enable_categorical=False,\n",
              "             eval_metric=None, gamma=0, gpu_id=-1, grow_policy=&#x27;depthwise&#x27;,\n",
              "             importance_type=None, interaction_constraints=&#x27;&#x27;,\n",
              "             learning_rate=0.15, max_bin=256, max_cat_to_onehot=4,\n",
              "             max_delta_step=0, max_depth=2, max_leaves=0, min_child_weight=1,\n",
              "             missing=nan, monotone_constraints=&#x27;()&#x27;, n_estimators=100, n_jobs=0,\n",
              "             num_parallel_tree=1, predictor=&#x27;auto&#x27;, random_state=0, reg_alpha=0,\n",
              "             reg_lambda=1, ...)</pre></div></div></div></div></div>"
            ],
            "text/plain": [
              "XGBRegressor(base_score=0.5, booster='gbtree', callbacks=None,\n",
              "             colsample_bylevel=1, colsample_bynode=1, colsample_bytree=1,\n",
              "             early_stopping_rounds=None, enable_categorical=False,\n",
              "             eval_metric=None, gamma=0, gpu_id=-1, grow_policy='depthwise',\n",
              "             importance_type=None, interaction_constraints='',\n",
              "             learning_rate=0.15, max_bin=256, max_cat_to_onehot=4,\n",
              "             max_delta_step=0, max_depth=2, max_leaves=0, min_child_weight=1,\n",
              "             missing=nan, monotone_constraints='()', n_estimators=100, n_jobs=0,\n",
              "             num_parallel_tree=1, predictor='auto', random_state=0, reg_alpha=0,\n",
              "             reg_lambda=1, ...)"
            ]
          },
          "execution_count": 87,
          "metadata": {},
          "output_type": "execute_result"
        }
      ],
      "source": [
        "random_cv.best_estimator_"
      ]
    },
    {
      "cell_type": "code",
      "execution_count": 88,
      "metadata": {
        "id": "Tr_2PdiwQxh7"
      },
      "outputs": [],
      "source": [
        "regressor=xgboost.XGBRegressor(max_depth=2)"
      ]
    },
    {
      "cell_type": "code",
      "execution_count": 89,
      "metadata": {
        "id": "S0iru2BmQ5X1"
      },
      "outputs": [],
      "source": [
        "from sklearn.preprocessing import StandardScaler\n",
        "scaler = StandardScaler()\n",
        "tr_x_train = scaler.fit_transform(x_train)"
      ]
    },
    {
      "cell_type": "code",
      "execution_count": 90,
      "metadata": {
        "colab": {
          "base_uri": "https://localhost:8080/"
        },
        "id": "AI4FWKDvREHr",
        "outputId": "bb21b23b-b31d-49a4-eb05-5be8db304b45"
      },
      "outputs": [
        {
          "data": {
            "text/html": [
              "<style>#sk-container-id-6 {color: black;background-color: white;}#sk-container-id-6 pre{padding: 0;}#sk-container-id-6 div.sk-toggleable {background-color: white;}#sk-container-id-6 label.sk-toggleable__label {cursor: pointer;display: block;width: 100%;margin-bottom: 0;padding: 0.3em;box-sizing: border-box;text-align: center;}#sk-container-id-6 label.sk-toggleable__label-arrow:before {content: \"▸\";float: left;margin-right: 0.25em;color: #696969;}#sk-container-id-6 label.sk-toggleable__label-arrow:hover:before {color: black;}#sk-container-id-6 div.sk-estimator:hover label.sk-toggleable__label-arrow:before {color: black;}#sk-container-id-6 div.sk-toggleable__content {max-height: 0;max-width: 0;overflow: hidden;text-align: left;background-color: #f0f8ff;}#sk-container-id-6 div.sk-toggleable__content pre {margin: 0.2em;color: black;border-radius: 0.25em;background-color: #f0f8ff;}#sk-container-id-6 input.sk-toggleable__control:checked~div.sk-toggleable__content {max-height: 200px;max-width: 100%;overflow: auto;}#sk-container-id-6 input.sk-toggleable__control:checked~label.sk-toggleable__label-arrow:before {content: \"▾\";}#sk-container-id-6 div.sk-estimator input.sk-toggleable__control:checked~label.sk-toggleable__label {background-color: #d4ebff;}#sk-container-id-6 div.sk-label input.sk-toggleable__control:checked~label.sk-toggleable__label {background-color: #d4ebff;}#sk-container-id-6 input.sk-hidden--visually {border: 0;clip: rect(1px 1px 1px 1px);clip: rect(1px, 1px, 1px, 1px);height: 1px;margin: -1px;overflow: hidden;padding: 0;position: absolute;width: 1px;}#sk-container-id-6 div.sk-estimator {font-family: monospace;background-color: #f0f8ff;border: 1px dotted black;border-radius: 0.25em;box-sizing: border-box;margin-bottom: 0.5em;}#sk-container-id-6 div.sk-estimator:hover {background-color: #d4ebff;}#sk-container-id-6 div.sk-parallel-item::after {content: \"\";width: 100%;border-bottom: 1px solid gray;flex-grow: 1;}#sk-container-id-6 div.sk-label:hover label.sk-toggleable__label {background-color: #d4ebff;}#sk-container-id-6 div.sk-serial::before {content: \"\";position: absolute;border-left: 1px solid gray;box-sizing: border-box;top: 0;bottom: 0;left: 50%;z-index: 0;}#sk-container-id-6 div.sk-serial {display: flex;flex-direction: column;align-items: center;background-color: white;padding-right: 0.2em;padding-left: 0.2em;position: relative;}#sk-container-id-6 div.sk-item {position: relative;z-index: 1;}#sk-container-id-6 div.sk-parallel {display: flex;align-items: stretch;justify-content: center;background-color: white;position: relative;}#sk-container-id-6 div.sk-item::before, #sk-container-id-6 div.sk-parallel-item::before {content: \"\";position: absolute;border-left: 1px solid gray;box-sizing: border-box;top: 0;bottom: 0;left: 50%;z-index: -1;}#sk-container-id-6 div.sk-parallel-item {display: flex;flex-direction: column;z-index: 1;position: relative;background-color: white;}#sk-container-id-6 div.sk-parallel-item:first-child::after {align-self: flex-end;width: 50%;}#sk-container-id-6 div.sk-parallel-item:last-child::after {align-self: flex-start;width: 50%;}#sk-container-id-6 div.sk-parallel-item:only-child::after {width: 0;}#sk-container-id-6 div.sk-dashed-wrapped {border: 1px dashed gray;margin: 0 0.4em 0.5em 0.4em;box-sizing: border-box;padding-bottom: 0.4em;background-color: white;}#sk-container-id-6 div.sk-label label {font-family: monospace;font-weight: bold;display: inline-block;line-height: 1.2em;}#sk-container-id-6 div.sk-label-container {text-align: center;}#sk-container-id-6 div.sk-container {/* jupyter's `normalize.less` sets `[hidden] { display: none; }` but bootstrap.min.css set `[hidden] { display: none !important; }` so we also need the `!important` here to be able to override the default hidden behavior on the sphinx rendered scikit-learn.org. See: https://github.com/scikit-learn/scikit-learn/issues/21755 */display: inline-block !important;position: relative;}#sk-container-id-6 div.sk-text-repr-fallback {display: none;}</style><div id=\"sk-container-id-6\" class=\"sk-top-container\"><div class=\"sk-text-repr-fallback\"><pre>XGBRegressor(base_score=0.5, booster=&#x27;gbtree&#x27;, callbacks=None,\n",
              "             colsample_bylevel=1, colsample_bynode=1, colsample_bytree=1,\n",
              "             early_stopping_rounds=None, enable_categorical=False,\n",
              "             eval_metric=None, gamma=0, gpu_id=-1, grow_policy=&#x27;depthwise&#x27;,\n",
              "             importance_type=None, interaction_constraints=&#x27;&#x27;,\n",
              "             learning_rate=0.300000012, max_bin=256, max_cat_to_onehot=4,\n",
              "             max_delta_step=0, max_depth=2, max_leaves=0, min_child_weight=1,\n",
              "             missing=nan, monotone_constraints=&#x27;()&#x27;, n_estimators=100, n_jobs=0,\n",
              "             num_parallel_tree=1, predictor=&#x27;auto&#x27;, random_state=0, reg_alpha=0,\n",
              "             reg_lambda=1, ...)</pre><b>In a Jupyter environment, please rerun this cell to show the HTML representation or trust the notebook. <br />On GitHub, the HTML representation is unable to render, please try loading this page with nbviewer.org.</b></div><div class=\"sk-container\" hidden><div class=\"sk-item\"><div class=\"sk-estimator sk-toggleable\"><input class=\"sk-toggleable__control sk-hidden--visually\" id=\"sk-estimator-id-10\" type=\"checkbox\" checked><label for=\"sk-estimator-id-10\" class=\"sk-toggleable__label sk-toggleable__label-arrow\">XGBRegressor</label><div class=\"sk-toggleable__content\"><pre>XGBRegressor(base_score=0.5, booster=&#x27;gbtree&#x27;, callbacks=None,\n",
              "             colsample_bylevel=1, colsample_bynode=1, colsample_bytree=1,\n",
              "             early_stopping_rounds=None, enable_categorical=False,\n",
              "             eval_metric=None, gamma=0, gpu_id=-1, grow_policy=&#x27;depthwise&#x27;,\n",
              "             importance_type=None, interaction_constraints=&#x27;&#x27;,\n",
              "             learning_rate=0.300000012, max_bin=256, max_cat_to_onehot=4,\n",
              "             max_delta_step=0, max_depth=2, max_leaves=0, min_child_weight=1,\n",
              "             missing=nan, monotone_constraints=&#x27;()&#x27;, n_estimators=100, n_jobs=0,\n",
              "             num_parallel_tree=1, predictor=&#x27;auto&#x27;, random_state=0, reg_alpha=0,\n",
              "             reg_lambda=1, ...)</pre></div></div></div></div></div>"
            ],
            "text/plain": [
              "XGBRegressor(base_score=0.5, booster='gbtree', callbacks=None,\n",
              "             colsample_bylevel=1, colsample_bynode=1, colsample_bytree=1,\n",
              "             early_stopping_rounds=None, enable_categorical=False,\n",
              "             eval_metric=None, gamma=0, gpu_id=-1, grow_policy='depthwise',\n",
              "             importance_type=None, interaction_constraints='',\n",
              "             learning_rate=0.300000012, max_bin=256, max_cat_to_onehot=4,\n",
              "             max_delta_step=0, max_depth=2, max_leaves=0, min_child_weight=1,\n",
              "             missing=nan, monotone_constraints='()', n_estimators=100, n_jobs=0,\n",
              "             num_parallel_tree=1, predictor='auto', random_state=0, reg_alpha=0,\n",
              "             reg_lambda=1, ...)"
            ]
          },
          "execution_count": 90,
          "metadata": {},
          "output_type": "execute_result"
        }
      ],
      "source": [
        "regressor.fit(x_train,y_train)"
      ]
    },
    {
      "cell_type": "code",
      "execution_count": 91,
      "metadata": {
        "id": "ScN4_yMBzY6d"
      },
      "outputs": [],
      "source": [
        "import pickle\n",
        "filename = 'finalized_model.pkl'\n",
        "pickle.dump(classifier, open(filename, 'wb'))"
      ]
    },
    {
      "cell_type": "code",
      "execution_count": 92,
      "metadata": {
        "id": "kkuH6ADxzf_w"
      },
      "outputs": [
        {
          "ename": "ValueError",
          "evalue": "Feature shape mismatch, expected: 18, got 19",
          "output_type": "error",
          "traceback": [
            "\u001b[1;31m---------------------------------------------------------------------------\u001b[0m",
            "\u001b[1;31mValueError\u001b[0m                                Traceback (most recent call last)",
            "\u001b[1;32mc:\\Users\\pv20v\\Documents\\GitHub\\CTR_Prediction-for-email-Campaigns\\CTR_for_email_campaigns.ipynb Cell 54\u001b[0m in \u001b[0;36m<cell line: 1>\u001b[1;34m()\u001b[0m\n\u001b[1;32m----> <a href='vscode-notebook-cell:/c%3A/Users/pv20v/Documents/GitHub/CTR_Prediction-for-email-Campaigns/CTR_for_email_campaigns.ipynb#Y105sZmlsZQ%3D%3D?line=0'>1</a>\u001b[0m y_pred \u001b[39m=\u001b[39m regressor\u001b[39m.\u001b[39;49mpredict(x_test)\n\u001b[0;32m      <a href='vscode-notebook-cell:/c%3A/Users/pv20v/Documents/GitHub/CTR_Prediction-for-email-Campaigns/CTR_for_email_campaigns.ipynb#Y105sZmlsZQ%3D%3D?line=1'>2</a>\u001b[0m \u001b[39mprint\u001b[39m(y_pred)\n",
            "File \u001b[1;32mc:\\Users\\pv20v\\AppData\\Local\\Programs\\Python\\Python39\\lib\\site-packages\\xgboost\\sklearn.py:1049\u001b[0m, in \u001b[0;36mXGBModel.predict\u001b[1;34m(self, X, output_margin, ntree_limit, validate_features, base_margin, iteration_range)\u001b[0m\n\u001b[0;32m   1047\u001b[0m \u001b[39mif\u001b[39;00m \u001b[39mself\u001b[39m\u001b[39m.\u001b[39m_can_use_inplace_predict():\n\u001b[0;32m   1048\u001b[0m     \u001b[39mtry\u001b[39;00m:\n\u001b[1;32m-> 1049\u001b[0m         predts \u001b[39m=\u001b[39m \u001b[39mself\u001b[39;49m\u001b[39m.\u001b[39;49mget_booster()\u001b[39m.\u001b[39;49minplace_predict(\n\u001b[0;32m   1050\u001b[0m             data\u001b[39m=\u001b[39;49mX,\n\u001b[0;32m   1051\u001b[0m             iteration_range\u001b[39m=\u001b[39;49miteration_range,\n\u001b[0;32m   1052\u001b[0m             predict_type\u001b[39m=\u001b[39;49m\u001b[39m\"\u001b[39;49m\u001b[39mmargin\u001b[39;49m\u001b[39m\"\u001b[39;49m \u001b[39mif\u001b[39;49;00m output_margin \u001b[39melse\u001b[39;49;00m \u001b[39m\"\u001b[39;49m\u001b[39mvalue\u001b[39;49m\u001b[39m\"\u001b[39;49m,\n\u001b[0;32m   1053\u001b[0m             missing\u001b[39m=\u001b[39;49m\u001b[39mself\u001b[39;49m\u001b[39m.\u001b[39;49mmissing,\n\u001b[0;32m   1054\u001b[0m             base_margin\u001b[39m=\u001b[39;49mbase_margin,\n\u001b[0;32m   1055\u001b[0m             validate_features\u001b[39m=\u001b[39;49mvalidate_features,\n\u001b[0;32m   1056\u001b[0m         )\n\u001b[0;32m   1057\u001b[0m         \u001b[39mif\u001b[39;00m _is_cupy_array(predts):\n\u001b[0;32m   1058\u001b[0m             \u001b[39mimport\u001b[39;00m \u001b[39mcupy\u001b[39;00m     \u001b[39m# pylint: disable=import-error\u001b[39;00m\n",
            "File \u001b[1;32mc:\\Users\\pv20v\\AppData\\Local\\Programs\\Python\\Python39\\lib\\site-packages\\xgboost\\core.py:2083\u001b[0m, in \u001b[0;36mBooster.inplace_predict\u001b[1;34m(self, data, iteration_range, predict_type, missing, validate_features, base_margin, strict_shape)\u001b[0m\n\u001b[0;32m   2079\u001b[0m         \u001b[39mraise\u001b[39;00m \u001b[39mTypeError\u001b[39;00m(\n\u001b[0;32m   2080\u001b[0m             \u001b[39m\"\u001b[39m\u001b[39m`shape` attribute is required when `validate_features` is True.\u001b[39m\u001b[39m\"\u001b[39m\n\u001b[0;32m   2081\u001b[0m         )\n\u001b[0;32m   2082\u001b[0m     \u001b[39mif\u001b[39;00m \u001b[39mlen\u001b[39m(data\u001b[39m.\u001b[39mshape) \u001b[39m!=\u001b[39m \u001b[39m1\u001b[39m \u001b[39mand\u001b[39;00m \u001b[39mself\u001b[39m\u001b[39m.\u001b[39mnum_features() \u001b[39m!=\u001b[39m data\u001b[39m.\u001b[39mshape[\u001b[39m1\u001b[39m]:\n\u001b[1;32m-> 2083\u001b[0m         \u001b[39mraise\u001b[39;00m \u001b[39mValueError\u001b[39;00m(\n\u001b[0;32m   2084\u001b[0m             \u001b[39mf\u001b[39m\u001b[39m\"\u001b[39m\u001b[39mFeature shape mismatch, expected: \u001b[39m\u001b[39m{\u001b[39;00m\u001b[39mself\u001b[39m\u001b[39m.\u001b[39mnum_features()\u001b[39m}\u001b[39;00m\u001b[39m, \u001b[39m\u001b[39m\"\u001b[39m\n\u001b[0;32m   2085\u001b[0m             \u001b[39mf\u001b[39m\u001b[39m\"\u001b[39m\u001b[39mgot \u001b[39m\u001b[39m{\u001b[39;00mdata\u001b[39m.\u001b[39mshape[\u001b[39m1\u001b[39m]\u001b[39m}\u001b[39;00m\u001b[39m\"\u001b[39m\n\u001b[0;32m   2086\u001b[0m         )\n\u001b[0;32m   2088\u001b[0m \u001b[39mfrom\u001b[39;00m \u001b[39m.\u001b[39;00m\u001b[39mdata\u001b[39;00m \u001b[39mimport\u001b[39;00m (\n\u001b[0;32m   2089\u001b[0m     _is_pandas_df,\n\u001b[0;32m   2090\u001b[0m     _transform_pandas_df,\n\u001b[1;32m   (...)\u001b[0m\n\u001b[0;32m   2093\u001b[0m     _array_interface,\n\u001b[0;32m   2094\u001b[0m )\n\u001b[0;32m   2095\u001b[0m enable_categorical \u001b[39m=\u001b[39m _has_categorical(\u001b[39mself\u001b[39m, data)\n",
            "\u001b[1;31mValueError\u001b[0m: Feature shape mismatch, expected: 18, got 19"
          ]
        }
      ],
      "source": [
        "y_pred = regressor.predict(x_test)\n",
        "print(y_pred)"
      ]
    },
    {
      "cell_type": "code",
      "execution_count": 93,
      "metadata": {
        "id": "khgXeIJgABf_"
      },
      "outputs": [],
      "source": [
        "#Defining all these models\n",
        "models = [\n",
        "           ['LinearRegression: ',LinearRegression()],\n",
        "           ['RandomForestRegressor: ',RandomForestRegressor()],\n",
        "           ['GradientBoostingRegressor: ', GradientBoostingRegressor()] ,\n",
        "           ['XGBRegressor: ', XGBRegressor()] ,\n",
        "           ['CatBoostRegressor:', CatBoostRegressor()]     \n",
        "        ]"
      ]
    },
    {
      "cell_type": "code",
      "execution_count": 94,
      "metadata": {
        "colab": {
          "base_uri": "https://localhost:8080/"
        },
        "id": "ox5gG04NE24p",
        "outputId": "8644553f-d426-4a37-f5a8-80fe25113456"
      },
      "outputs": [
        {
          "data": {
            "text/html": [
              "<style>#sk-container-id-7 {color: black;background-color: white;}#sk-container-id-7 pre{padding: 0;}#sk-container-id-7 div.sk-toggleable {background-color: white;}#sk-container-id-7 label.sk-toggleable__label {cursor: pointer;display: block;width: 100%;margin-bottom: 0;padding: 0.3em;box-sizing: border-box;text-align: center;}#sk-container-id-7 label.sk-toggleable__label-arrow:before {content: \"▸\";float: left;margin-right: 0.25em;color: #696969;}#sk-container-id-7 label.sk-toggleable__label-arrow:hover:before {color: black;}#sk-container-id-7 div.sk-estimator:hover label.sk-toggleable__label-arrow:before {color: black;}#sk-container-id-7 div.sk-toggleable__content {max-height: 0;max-width: 0;overflow: hidden;text-align: left;background-color: #f0f8ff;}#sk-container-id-7 div.sk-toggleable__content pre {margin: 0.2em;color: black;border-radius: 0.25em;background-color: #f0f8ff;}#sk-container-id-7 input.sk-toggleable__control:checked~div.sk-toggleable__content {max-height: 200px;max-width: 100%;overflow: auto;}#sk-container-id-7 input.sk-toggleable__control:checked~label.sk-toggleable__label-arrow:before {content: \"▾\";}#sk-container-id-7 div.sk-estimator input.sk-toggleable__control:checked~label.sk-toggleable__label {background-color: #d4ebff;}#sk-container-id-7 div.sk-label input.sk-toggleable__control:checked~label.sk-toggleable__label {background-color: #d4ebff;}#sk-container-id-7 input.sk-hidden--visually {border: 0;clip: rect(1px 1px 1px 1px);clip: rect(1px, 1px, 1px, 1px);height: 1px;margin: -1px;overflow: hidden;padding: 0;position: absolute;width: 1px;}#sk-container-id-7 div.sk-estimator {font-family: monospace;background-color: #f0f8ff;border: 1px dotted black;border-radius: 0.25em;box-sizing: border-box;margin-bottom: 0.5em;}#sk-container-id-7 div.sk-estimator:hover {background-color: #d4ebff;}#sk-container-id-7 div.sk-parallel-item::after {content: \"\";width: 100%;border-bottom: 1px solid gray;flex-grow: 1;}#sk-container-id-7 div.sk-label:hover label.sk-toggleable__label {background-color: #d4ebff;}#sk-container-id-7 div.sk-serial::before {content: \"\";position: absolute;border-left: 1px solid gray;box-sizing: border-box;top: 0;bottom: 0;left: 50%;z-index: 0;}#sk-container-id-7 div.sk-serial {display: flex;flex-direction: column;align-items: center;background-color: white;padding-right: 0.2em;padding-left: 0.2em;position: relative;}#sk-container-id-7 div.sk-item {position: relative;z-index: 1;}#sk-container-id-7 div.sk-parallel {display: flex;align-items: stretch;justify-content: center;background-color: white;position: relative;}#sk-container-id-7 div.sk-item::before, #sk-container-id-7 div.sk-parallel-item::before {content: \"\";position: absolute;border-left: 1px solid gray;box-sizing: border-box;top: 0;bottom: 0;left: 50%;z-index: -1;}#sk-container-id-7 div.sk-parallel-item {display: flex;flex-direction: column;z-index: 1;position: relative;background-color: white;}#sk-container-id-7 div.sk-parallel-item:first-child::after {align-self: flex-end;width: 50%;}#sk-container-id-7 div.sk-parallel-item:last-child::after {align-self: flex-start;width: 50%;}#sk-container-id-7 div.sk-parallel-item:only-child::after {width: 0;}#sk-container-id-7 div.sk-dashed-wrapped {border: 1px dashed gray;margin: 0 0.4em 0.5em 0.4em;box-sizing: border-box;padding-bottom: 0.4em;background-color: white;}#sk-container-id-7 div.sk-label label {font-family: monospace;font-weight: bold;display: inline-block;line-height: 1.2em;}#sk-container-id-7 div.sk-label-container {text-align: center;}#sk-container-id-7 div.sk-container {/* jupyter's `normalize.less` sets `[hidden] { display: none; }` but bootstrap.min.css set `[hidden] { display: none !important; }` so we also need the `!important` here to be able to override the default hidden behavior on the sphinx rendered scikit-learn.org. See: https://github.com/scikit-learn/scikit-learn/issues/21755 */display: inline-block !important;position: relative;}#sk-container-id-7 div.sk-text-repr-fallback {display: none;}</style><div id=\"sk-container-id-7\" class=\"sk-top-container\"><div class=\"sk-text-repr-fallback\"><pre>XGBRegressor(base_score=0.5, booster=&#x27;gbtree&#x27;, callbacks=None,\n",
              "             colsample_bylevel=1, colsample_bynode=1, colsample_bytree=1,\n",
              "             early_stopping_rounds=None, enable_categorical=False,\n",
              "             eval_metric=None, gamma=0, gpu_id=-1, grow_policy=&#x27;depthwise&#x27;,\n",
              "             importance_type=None, interaction_constraints=&#x27;&#x27;,\n",
              "             learning_rate=0.300000012, max_bin=256, max_cat_to_onehot=4,\n",
              "             max_delta_step=0, max_depth=2, max_leaves=0, min_child_weight=1,\n",
              "             missing=nan, monotone_constraints=&#x27;()&#x27;, n_estimators=100, n_jobs=0,\n",
              "             num_parallel_tree=1, predictor=&#x27;auto&#x27;, random_state=0, reg_alpha=0,\n",
              "             reg_lambda=1, ...)</pre><b>In a Jupyter environment, please rerun this cell to show the HTML representation or trust the notebook. <br />On GitHub, the HTML representation is unable to render, please try loading this page with nbviewer.org.</b></div><div class=\"sk-container\" hidden><div class=\"sk-item\"><div class=\"sk-estimator sk-toggleable\"><input class=\"sk-toggleable__control sk-hidden--visually\" id=\"sk-estimator-id-11\" type=\"checkbox\" checked><label for=\"sk-estimator-id-11\" class=\"sk-toggleable__label sk-toggleable__label-arrow\">XGBRegressor</label><div class=\"sk-toggleable__content\"><pre>XGBRegressor(base_score=0.5, booster=&#x27;gbtree&#x27;, callbacks=None,\n",
              "             colsample_bylevel=1, colsample_bynode=1, colsample_bytree=1,\n",
              "             early_stopping_rounds=None, enable_categorical=False,\n",
              "             eval_metric=None, gamma=0, gpu_id=-1, grow_policy=&#x27;depthwise&#x27;,\n",
              "             importance_type=None, interaction_constraints=&#x27;&#x27;,\n",
              "             learning_rate=0.300000012, max_bin=256, max_cat_to_onehot=4,\n",
              "             max_delta_step=0, max_depth=2, max_leaves=0, min_child_weight=1,\n",
              "             missing=nan, monotone_constraints=&#x27;()&#x27;, n_estimators=100, n_jobs=0,\n",
              "             num_parallel_tree=1, predictor=&#x27;auto&#x27;, random_state=0, reg_alpha=0,\n",
              "             reg_lambda=1, ...)</pre></div></div></div></div></div>"
            ],
            "text/plain": [
              "XGBRegressor(base_score=0.5, booster='gbtree', callbacks=None,\n",
              "             colsample_bylevel=1, colsample_bynode=1, colsample_bytree=1,\n",
              "             early_stopping_rounds=None, enable_categorical=False,\n",
              "             eval_metric=None, gamma=0, gpu_id=-1, grow_policy='depthwise',\n",
              "             importance_type=None, interaction_constraints='',\n",
              "             learning_rate=0.300000012, max_bin=256, max_cat_to_onehot=4,\n",
              "             max_delta_step=0, max_depth=2, max_leaves=0, min_child_weight=1,\n",
              "             missing=nan, monotone_constraints='()', n_estimators=100, n_jobs=0,\n",
              "             num_parallel_tree=1, predictor='auto', random_state=0, reg_alpha=0,\n",
              "             reg_lambda=1, ...)"
            ]
          },
          "execution_count": 94,
          "metadata": {},
          "output_type": "execute_result"
        }
      ],
      "source": [
        "xgb  =XGBRegressor(max_depth=2)\n",
        "xgb.fit(x_train,y_train)"
      ]
    },
    {
      "cell_type": "markdown",
      "metadata": {
        "id": "hjHzwWOqZk5Z"
      },
      "source": [
        "Predicting Click Through Rate\n",
        "\n"
      ]
    },
    {
      "cell_type": "code",
      "execution_count": 95,
      "metadata": {
        "id": "iraYZs0zIzxc"
      },
      "outputs": [
        {
          "ename": "ValueError",
          "evalue": "Feature shape mismatch, expected: 18, got 19",
          "output_type": "error",
          "traceback": [
            "\u001b[1;31m---------------------------------------------------------------------------\u001b[0m",
            "\u001b[1;31mValueError\u001b[0m                                Traceback (most recent call last)",
            "\u001b[1;32mc:\\Users\\pv20v\\Documents\\GitHub\\CTR_Prediction-for-email-Campaigns\\CTR_for_email_campaigns.ipynb Cell 58\u001b[0m in \u001b[0;36m<cell line: 1>\u001b[1;34m()\u001b[0m\n\u001b[1;32m----> <a href='vscode-notebook-cell:/c%3A/Users/pv20v/Documents/GitHub/CTR_Prediction-for-email-Campaigns/CTR_for_email_campaigns.ipynb#Y112sZmlsZQ%3D%3D?line=0'>1</a>\u001b[0m y_pred \u001b[39m=\u001b[39m xgb\u001b[39m.\u001b[39;49mpredict(x_test)\n\u001b[0;32m      <a href='vscode-notebook-cell:/c%3A/Users/pv20v/Documents/GitHub/CTR_Prediction-for-email-Campaigns/CTR_for_email_campaigns.ipynb#Y112sZmlsZQ%3D%3D?line=1'>2</a>\u001b[0m \u001b[39mprint\u001b[39m (y_pred)\n",
            "File \u001b[1;32mc:\\Users\\pv20v\\AppData\\Local\\Programs\\Python\\Python39\\lib\\site-packages\\xgboost\\sklearn.py:1049\u001b[0m, in \u001b[0;36mXGBModel.predict\u001b[1;34m(self, X, output_margin, ntree_limit, validate_features, base_margin, iteration_range)\u001b[0m\n\u001b[0;32m   1047\u001b[0m \u001b[39mif\u001b[39;00m \u001b[39mself\u001b[39m\u001b[39m.\u001b[39m_can_use_inplace_predict():\n\u001b[0;32m   1048\u001b[0m     \u001b[39mtry\u001b[39;00m:\n\u001b[1;32m-> 1049\u001b[0m         predts \u001b[39m=\u001b[39m \u001b[39mself\u001b[39;49m\u001b[39m.\u001b[39;49mget_booster()\u001b[39m.\u001b[39;49minplace_predict(\n\u001b[0;32m   1050\u001b[0m             data\u001b[39m=\u001b[39;49mX,\n\u001b[0;32m   1051\u001b[0m             iteration_range\u001b[39m=\u001b[39;49miteration_range,\n\u001b[0;32m   1052\u001b[0m             predict_type\u001b[39m=\u001b[39;49m\u001b[39m\"\u001b[39;49m\u001b[39mmargin\u001b[39;49m\u001b[39m\"\u001b[39;49m \u001b[39mif\u001b[39;49;00m output_margin \u001b[39melse\u001b[39;49;00m \u001b[39m\"\u001b[39;49m\u001b[39mvalue\u001b[39;49m\u001b[39m\"\u001b[39;49m,\n\u001b[0;32m   1053\u001b[0m             missing\u001b[39m=\u001b[39;49m\u001b[39mself\u001b[39;49m\u001b[39m.\u001b[39;49mmissing,\n\u001b[0;32m   1054\u001b[0m             base_margin\u001b[39m=\u001b[39;49mbase_margin,\n\u001b[0;32m   1055\u001b[0m             validate_features\u001b[39m=\u001b[39;49mvalidate_features,\n\u001b[0;32m   1056\u001b[0m         )\n\u001b[0;32m   1057\u001b[0m         \u001b[39mif\u001b[39;00m _is_cupy_array(predts):\n\u001b[0;32m   1058\u001b[0m             \u001b[39mimport\u001b[39;00m \u001b[39mcupy\u001b[39;00m     \u001b[39m# pylint: disable=import-error\u001b[39;00m\n",
            "File \u001b[1;32mc:\\Users\\pv20v\\AppData\\Local\\Programs\\Python\\Python39\\lib\\site-packages\\xgboost\\core.py:2083\u001b[0m, in \u001b[0;36mBooster.inplace_predict\u001b[1;34m(self, data, iteration_range, predict_type, missing, validate_features, base_margin, strict_shape)\u001b[0m\n\u001b[0;32m   2079\u001b[0m         \u001b[39mraise\u001b[39;00m \u001b[39mTypeError\u001b[39;00m(\n\u001b[0;32m   2080\u001b[0m             \u001b[39m\"\u001b[39m\u001b[39m`shape` attribute is required when `validate_features` is True.\u001b[39m\u001b[39m\"\u001b[39m\n\u001b[0;32m   2081\u001b[0m         )\n\u001b[0;32m   2082\u001b[0m     \u001b[39mif\u001b[39;00m \u001b[39mlen\u001b[39m(data\u001b[39m.\u001b[39mshape) \u001b[39m!=\u001b[39m \u001b[39m1\u001b[39m \u001b[39mand\u001b[39;00m \u001b[39mself\u001b[39m\u001b[39m.\u001b[39mnum_features() \u001b[39m!=\u001b[39m data\u001b[39m.\u001b[39mshape[\u001b[39m1\u001b[39m]:\n\u001b[1;32m-> 2083\u001b[0m         \u001b[39mraise\u001b[39;00m \u001b[39mValueError\u001b[39;00m(\n\u001b[0;32m   2084\u001b[0m             \u001b[39mf\u001b[39m\u001b[39m\"\u001b[39m\u001b[39mFeature shape mismatch, expected: \u001b[39m\u001b[39m{\u001b[39;00m\u001b[39mself\u001b[39m\u001b[39m.\u001b[39mnum_features()\u001b[39m}\u001b[39;00m\u001b[39m, \u001b[39m\u001b[39m\"\u001b[39m\n\u001b[0;32m   2085\u001b[0m             \u001b[39mf\u001b[39m\u001b[39m\"\u001b[39m\u001b[39mgot \u001b[39m\u001b[39m{\u001b[39;00mdata\u001b[39m.\u001b[39mshape[\u001b[39m1\u001b[39m]\u001b[39m}\u001b[39;00m\u001b[39m\"\u001b[39m\n\u001b[0;32m   2086\u001b[0m         )\n\u001b[0;32m   2088\u001b[0m \u001b[39mfrom\u001b[39;00m \u001b[39m.\u001b[39;00m\u001b[39mdata\u001b[39;00m \u001b[39mimport\u001b[39;00m (\n\u001b[0;32m   2089\u001b[0m     _is_pandas_df,\n\u001b[0;32m   2090\u001b[0m     _transform_pandas_df,\n\u001b[1;32m   (...)\u001b[0m\n\u001b[0;32m   2093\u001b[0m     _array_interface,\n\u001b[0;32m   2094\u001b[0m )\n\u001b[0;32m   2095\u001b[0m enable_categorical \u001b[39m=\u001b[39m _has_categorical(\u001b[39mself\u001b[39m, data)\n",
            "\u001b[1;31mValueError\u001b[0m: Feature shape mismatch, expected: 18, got 19"
          ]
        }
      ],
      "source": [
        "y_pred = xgb.predict(x_test)\n",
        "print (y_pred)"
      ]
    },
    {
      "cell_type": "markdown",
      "metadata": {
        "id": "ECHqiO0yZupG"
      },
      "source": [
        "Finding evaluation Metrics"
      ]
    },
    {
      "cell_type": "code",
      "execution_count": 96,
      "metadata": {
        "id": "MHGBgTE4BMKE"
      },
      "outputs": [],
      "source": [
        "from sklearn.preprocessing import PolynomialFeatures\n",
        "poly = PolynomialFeatures(degree = 3,include_bias=True )\n",
        "X_poly = poly.fit_transform(x_train)\n",
        "X_poly_test = poly.fit_transform(x_test)\n"
      ]
    },
    {
      "cell_type": "code",
      "execution_count": 97,
      "metadata": {
        "colab": {
          "base_uri": "https://localhost:8080/",
          "height": 270
        },
        "id": "_M2JZiAXD358",
        "outputId": "e4b6f0e7-cceb-4508-e864-2a6c9539b497"
      },
      "outputs": [
        {
          "name": "stderr",
          "output_type": "stream",
          "text": [
            "c:\\Users\\pv20v\\AppData\\Local\\Programs\\Python\\Python39\\lib\\site-packages\\sklearn\\base.py:493: FutureWarning: The feature names should match those that were passed during fit. Starting version 1.2, an error will be raised.\n",
            "Feature names unseen at fit time:\n",
            "- campaign_id\n",
            "\n",
            "  warnings.warn(message, FutureWarning)\n"
          ]
        },
        {
          "ename": "ValueError",
          "evalue": "X has 19 features, but LinearRegression is expecting 18 features as input.",
          "output_type": "error",
          "traceback": [
            "\u001b[1;31m---------------------------------------------------------------------------\u001b[0m",
            "\u001b[1;31mValueError\u001b[0m                                Traceback (most recent call last)",
            "\u001b[1;32mc:\\Users\\pv20v\\Documents\\GitHub\\CTR_Prediction-for-email-Campaigns\\CTR_for_email_campaigns.ipynb Cell 61\u001b[0m in \u001b[0;36m<cell line: 3>\u001b[1;34m()\u001b[0m\n\u001b[0;32m      <a href='vscode-notebook-cell:/c%3A/Users/pv20v/Documents/GitHub/CTR_Prediction-for-email-Campaigns/CTR_for_email_campaigns.ipynb#Y115sZmlsZQ%3D%3D?line=7'>8</a>\u001b[0m curr_model\u001b[39m.\u001b[39mfit(x_train,y_train)\n\u001b[0;32m      <a href='vscode-notebook-cell:/c%3A/Users/pv20v/Documents/GitHub/CTR_Prediction-for-email-Campaigns/CTR_for_email_campaigns.ipynb#Y115sZmlsZQ%3D%3D?line=8'>9</a>\u001b[0m curr_model_data[\u001b[39m\"\u001b[39m\u001b[39mR2_Score_train\u001b[39m\u001b[39m\"\u001b[39m] \u001b[39m=\u001b[39m r2_score(y_train,curr_model\u001b[39m.\u001b[39mpredict(x_train))\n\u001b[1;32m---> <a href='vscode-notebook-cell:/c%3A/Users/pv20v/Documents/GitHub/CTR_Prediction-for-email-Campaigns/CTR_for_email_campaigns.ipynb#Y115sZmlsZQ%3D%3D?line=9'>10</a>\u001b[0m curr_model_data[\u001b[39m\"\u001b[39m\u001b[39mR2_Score_test\u001b[39m\u001b[39m\"\u001b[39m] \u001b[39m=\u001b[39m r2_score(y_pred,curr_model\u001b[39m.\u001b[39;49mpredict(x_test))\n\u001b[0;32m     <a href='vscode-notebook-cell:/c%3A/Users/pv20v/Documents/GitHub/CTR_Prediction-for-email-Campaigns/CTR_for_email_campaigns.ipynb#Y115sZmlsZQ%3D%3D?line=10'>11</a>\u001b[0m curr_model_data[\u001b[39m\"\u001b[39m\u001b[39mRMSE_Score_train\u001b[39m\u001b[39m\"\u001b[39m] \u001b[39m=\u001b[39m np\u001b[39m.\u001b[39msqrt(mean_squared_error(y_train,curr_model\u001b[39m.\u001b[39mpredict(x_train)))\n\u001b[0;32m     <a href='vscode-notebook-cell:/c%3A/Users/pv20v/Documents/GitHub/CTR_Prediction-for-email-Campaigns/CTR_for_email_campaigns.ipynb#Y115sZmlsZQ%3D%3D?line=11'>12</a>\u001b[0m curr_model_data[\u001b[39m\"\u001b[39m\u001b[39mRMSE_Score_test\u001b[39m\u001b[39m\"\u001b[39m] \u001b[39m=\u001b[39m np\u001b[39m.\u001b[39msqrt(mean_squared_error(y_pred,curr_model\u001b[39m.\u001b[39mpredict(x_test)))\n",
            "File \u001b[1;32mc:\\Users\\pv20v\\AppData\\Local\\Programs\\Python\\Python39\\lib\\site-packages\\sklearn\\linear_model\\_base.py:386\u001b[0m, in \u001b[0;36mLinearModel.predict\u001b[1;34m(self, X)\u001b[0m\n\u001b[0;32m    372\u001b[0m \u001b[39mdef\u001b[39;00m \u001b[39mpredict\u001b[39m(\u001b[39mself\u001b[39m, X):\n\u001b[0;32m    373\u001b[0m     \u001b[39m\"\"\"\u001b[39;00m\n\u001b[0;32m    374\u001b[0m \u001b[39m    Predict using the linear model.\u001b[39;00m\n\u001b[0;32m    375\u001b[0m \n\u001b[1;32m   (...)\u001b[0m\n\u001b[0;32m    384\u001b[0m \u001b[39m        Returns predicted values.\u001b[39;00m\n\u001b[0;32m    385\u001b[0m \u001b[39m    \"\"\"\u001b[39;00m\n\u001b[1;32m--> 386\u001b[0m     \u001b[39mreturn\u001b[39;00m \u001b[39mself\u001b[39;49m\u001b[39m.\u001b[39;49m_decision_function(X)\n",
            "File \u001b[1;32mc:\\Users\\pv20v\\AppData\\Local\\Programs\\Python\\Python39\\lib\\site-packages\\sklearn\\linear_model\\_base.py:369\u001b[0m, in \u001b[0;36mLinearModel._decision_function\u001b[1;34m(self, X)\u001b[0m\n\u001b[0;32m    366\u001b[0m \u001b[39mdef\u001b[39;00m \u001b[39m_decision_function\u001b[39m(\u001b[39mself\u001b[39m, X):\n\u001b[0;32m    367\u001b[0m     check_is_fitted(\u001b[39mself\u001b[39m)\n\u001b[1;32m--> 369\u001b[0m     X \u001b[39m=\u001b[39m \u001b[39mself\u001b[39;49m\u001b[39m.\u001b[39;49m_validate_data(X, accept_sparse\u001b[39m=\u001b[39;49m[\u001b[39m\"\u001b[39;49m\u001b[39mcsr\u001b[39;49m\u001b[39m\"\u001b[39;49m, \u001b[39m\"\u001b[39;49m\u001b[39mcsc\u001b[39;49m\u001b[39m\"\u001b[39;49m, \u001b[39m\"\u001b[39;49m\u001b[39mcoo\u001b[39;49m\u001b[39m\"\u001b[39;49m], reset\u001b[39m=\u001b[39;49m\u001b[39mFalse\u001b[39;49;00m)\n\u001b[0;32m    370\u001b[0m     \u001b[39mreturn\u001b[39;00m safe_sparse_dot(X, \u001b[39mself\u001b[39m\u001b[39m.\u001b[39mcoef_\u001b[39m.\u001b[39mT, dense_output\u001b[39m=\u001b[39m\u001b[39mTrue\u001b[39;00m) \u001b[39m+\u001b[39m \u001b[39mself\u001b[39m\u001b[39m.\u001b[39mintercept_\n",
            "File \u001b[1;32mc:\\Users\\pv20v\\AppData\\Local\\Programs\\Python\\Python39\\lib\\site-packages\\sklearn\\base.py:600\u001b[0m, in \u001b[0;36mBaseEstimator._validate_data\u001b[1;34m(self, X, y, reset, validate_separately, **check_params)\u001b[0m\n\u001b[0;32m    597\u001b[0m     out \u001b[39m=\u001b[39m X, y\n\u001b[0;32m    599\u001b[0m \u001b[39mif\u001b[39;00m \u001b[39mnot\u001b[39;00m no_val_X \u001b[39mand\u001b[39;00m check_params\u001b[39m.\u001b[39mget(\u001b[39m\"\u001b[39m\u001b[39mensure_2d\u001b[39m\u001b[39m\"\u001b[39m, \u001b[39mTrue\u001b[39;00m):\n\u001b[1;32m--> 600\u001b[0m     \u001b[39mself\u001b[39;49m\u001b[39m.\u001b[39;49m_check_n_features(X, reset\u001b[39m=\u001b[39;49mreset)\n\u001b[0;32m    602\u001b[0m \u001b[39mreturn\u001b[39;00m out\n",
            "File \u001b[1;32mc:\\Users\\pv20v\\AppData\\Local\\Programs\\Python\\Python39\\lib\\site-packages\\sklearn\\base.py:400\u001b[0m, in \u001b[0;36mBaseEstimator._check_n_features\u001b[1;34m(self, X, reset)\u001b[0m\n\u001b[0;32m    397\u001b[0m     \u001b[39mreturn\u001b[39;00m\n\u001b[0;32m    399\u001b[0m \u001b[39mif\u001b[39;00m n_features \u001b[39m!=\u001b[39m \u001b[39mself\u001b[39m\u001b[39m.\u001b[39mn_features_in_:\n\u001b[1;32m--> 400\u001b[0m     \u001b[39mraise\u001b[39;00m \u001b[39mValueError\u001b[39;00m(\n\u001b[0;32m    401\u001b[0m         \u001b[39mf\u001b[39m\u001b[39m\"\u001b[39m\u001b[39mX has \u001b[39m\u001b[39m{\u001b[39;00mn_features\u001b[39m}\u001b[39;00m\u001b[39m features, but \u001b[39m\u001b[39m{\u001b[39;00m\u001b[39mself\u001b[39m\u001b[39m.\u001b[39m\u001b[39m__class__\u001b[39m\u001b[39m.\u001b[39m\u001b[39m__name__\u001b[39m\u001b[39m}\u001b[39;00m\u001b[39m \u001b[39m\u001b[39m\"\u001b[39m\n\u001b[0;32m    402\u001b[0m         \u001b[39mf\u001b[39m\u001b[39m\"\u001b[39m\u001b[39mis expecting \u001b[39m\u001b[39m{\u001b[39;00m\u001b[39mself\u001b[39m\u001b[39m.\u001b[39mn_features_in_\u001b[39m}\u001b[39;00m\u001b[39m features as input.\u001b[39m\u001b[39m\"\u001b[39m\n\u001b[0;32m    403\u001b[0m     )\n",
            "\u001b[1;31mValueError\u001b[0m: X has 19 features, but LinearRegression is expecting 18 features as input."
          ]
        }
      ],
      "source": [
        "#store all the metrics values in data frame\n",
        "model_data = []\n",
        "for name,curr_model in models :\n",
        "    curr_model_data = {}\n",
        "    curr_model.random_state = 10\n",
        "    curr_model_data[\"Name\"] = name\n",
        "    if(name!='PolynomialRegression: '):\n",
        "      curr_model.fit(x_train,y_train)\n",
        "      curr_model_data[\"R2_Score_train\"] = r2_score(y_train,curr_model.predict(x_train))\n",
        "      curr_model_data[\"R2_Score_test\"] = r2_score(y_pred,curr_model.predict(x_test))\n",
        "      curr_model_data[\"RMSE_Score_train\"] = np.sqrt(mean_squared_error(y_train,curr_model.predict(x_train)))\n",
        "      curr_model_data[\"RMSE_Score_test\"] = np.sqrt(mean_squared_error(y_pred,curr_model.predict(x_test)))\n",
        "      model_data.append(curr_model_data)\n",
        "    else:\n",
        "      curr_model.fit(X_poly,y_train)\n",
        "      curr_model_data[\"R2_Score_train\"] = r2_score(y_train,curr_model.predict(X_poly))\n",
        "      curr_model_data[\"R2_Score_test\"] = r2_score(y_pred,curr_model.predict(X_poly_test))\n",
        "      curr_model_data[\"RMSE_Score_train\"] = np.sqrt(mean_squared_error(y_train,curr_model.predict(X_poly)))\n",
        "      curr_model_data[\"RMSE_Score_test\"] = np.sqrt(mean_squared_error(y_pred,curr_model.predict(X_poly_test)))\n",
        "      model_data.append(curr_model_data)"
      ]
    },
    {
      "cell_type": "code",
      "execution_count": 73,
      "metadata": {
        "colab": {
          "base_uri": "https://localhost:8080/",
          "height": 49
        },
        "id": "ORFilOB3F8_7",
        "outputId": "b00f24ef-0c55-4236-e437-b3bfcf05fab4"
      },
      "outputs": [
        {
          "data": {
            "text/html": [
              "<div>\n",
              "<style scoped>\n",
              "    .dataframe tbody tr th:only-of-type {\n",
              "        vertical-align: middle;\n",
              "    }\n",
              "\n",
              "    .dataframe tbody tr th {\n",
              "        vertical-align: top;\n",
              "    }\n",
              "\n",
              "    .dataframe thead th {\n",
              "        text-align: right;\n",
              "    }\n",
              "</style>\n",
              "<table border=\"1\" class=\"dataframe\">\n",
              "  <thead>\n",
              "    <tr style=\"text-align: right;\">\n",
              "      <th></th>\n",
              "    </tr>\n",
              "  </thead>\n",
              "  <tbody>\n",
              "  </tbody>\n",
              "</table>\n",
              "</div>"
            ],
            "text/plain": [
              "Empty DataFrame\n",
              "Columns: []\n",
              "Index: []"
            ]
          },
          "execution_count": 73,
          "metadata": {},
          "output_type": "execute_result"
        }
      ],
      "source": [
        "metrics_df1 = pd.DataFrame(model_data)\n",
        "metrics_df1\n"
      ]
    },
    {
      "cell_type": "markdown",
      "metadata": {
        "id": "Me32PcjHXoKu"
      },
      "source": [
        "Creating Submission file with predictions"
      ]
    },
    {
      "cell_type": "code",
      "execution_count": 47,
      "metadata": {
        "id": "MgldTW4zXug3"
      },
      "outputs": [
        {
          "ename": "KeyError",
          "evalue": "'campaign_id'",
          "output_type": "error",
          "traceback": [
            "\u001b[1;31m---------------------------------------------------------------------------\u001b[0m",
            "\u001b[1;31mKeyError\u001b[0m                                  Traceback (most recent call last)",
            "File \u001b[1;32mc:\\Users\\pv20v\\AppData\\Local\\Programs\\Python\\Python39\\lib\\site-packages\\pandas\\core\\indexes\\base.py:3621\u001b[0m, in \u001b[0;36mIndex.get_loc\u001b[1;34m(self, key, method, tolerance)\u001b[0m\n\u001b[0;32m   3620\u001b[0m \u001b[39mtry\u001b[39;00m:\n\u001b[1;32m-> 3621\u001b[0m     \u001b[39mreturn\u001b[39;00m \u001b[39mself\u001b[39;49m\u001b[39m.\u001b[39;49m_engine\u001b[39m.\u001b[39;49mget_loc(casted_key)\n\u001b[0;32m   3622\u001b[0m \u001b[39mexcept\u001b[39;00m \u001b[39mKeyError\u001b[39;00m \u001b[39mas\u001b[39;00m err:\n",
            "File \u001b[1;32mc:\\Users\\pv20v\\AppData\\Local\\Programs\\Python\\Python39\\lib\\site-packages\\pandas\\_libs\\index.pyx:136\u001b[0m, in \u001b[0;36mpandas._libs.index.IndexEngine.get_loc\u001b[1;34m()\u001b[0m\n",
            "File \u001b[1;32mc:\\Users\\pv20v\\AppData\\Local\\Programs\\Python\\Python39\\lib\\site-packages\\pandas\\_libs\\index.pyx:163\u001b[0m, in \u001b[0;36mpandas._libs.index.IndexEngine.get_loc\u001b[1;34m()\u001b[0m\n",
            "File \u001b[1;32mpandas\\_libs\\hashtable_class_helper.pxi:5198\u001b[0m, in \u001b[0;36mpandas._libs.hashtable.PyObjectHashTable.get_item\u001b[1;34m()\u001b[0m\n",
            "File \u001b[1;32mpandas\\_libs\\hashtable_class_helper.pxi:5206\u001b[0m, in \u001b[0;36mpandas._libs.hashtable.PyObjectHashTable.get_item\u001b[1;34m()\u001b[0m\n",
            "\u001b[1;31mKeyError\u001b[0m: 'campaign_id'",
            "\nThe above exception was the direct cause of the following exception:\n",
            "\u001b[1;31mKeyError\u001b[0m                                  Traceback (most recent call last)",
            "\u001b[1;32mc:\\Users\\pv20v\\Documents\\GitHub\\CTR_Prediction-for-email-Campaigns\\CTR_for_email_campaigns.ipynb Cell 64\u001b[0m in \u001b[0;36m<cell line: 2>\u001b[1;34m()\u001b[0m\n\u001b[0;32m      <a href='vscode-notebook-cell:/c%3A/Users/pv20v/Documents/GitHub/CTR_Prediction-for-email-Campaigns/CTR_for_email_campaigns.ipynb#Y121sZmlsZQ%3D%3D?line=0'>1</a>\u001b[0m pred \u001b[39m=\u001b[39m pd\u001b[39m.\u001b[39mDataFrame(y_pred)\n\u001b[1;32m----> <a href='vscode-notebook-cell:/c%3A/Users/pv20v/Documents/GitHub/CTR_Prediction-for-email-Campaigns/CTR_for_email_campaigns.ipynb#Y121sZmlsZQ%3D%3D?line=1'>2</a>\u001b[0m dataset \u001b[39m=\u001b[39m pd\u001b[39m.\u001b[39mconcat([test[\u001b[39m\"\u001b[39;49m\u001b[39mcampaign_id\u001b[39;49m\u001b[39m\"\u001b[39;49m], pred], axis\u001b[39m=\u001b[39m\u001b[39m1\u001b[39m)\n\u001b[0;32m      <a href='vscode-notebook-cell:/c%3A/Users/pv20v/Documents/GitHub/CTR_Prediction-for-email-Campaigns/CTR_for_email_campaigns.ipynb#Y121sZmlsZQ%3D%3D?line=2'>3</a>\u001b[0m dataset\u001b[39m.\u001b[39mcolumns \u001b[39m=\u001b[39m [\u001b[39m\"\u001b[39m\u001b[39mcampaign_id\u001b[39m\u001b[39m\"\u001b[39m, \u001b[39m\"\u001b[39m\u001b[39mclick_rate\u001b[39m\u001b[39m\"\u001b[39m]\n\u001b[0;32m      <a href='vscode-notebook-cell:/c%3A/Users/pv20v/Documents/GitHub/CTR_Prediction-for-email-Campaigns/CTR_for_email_campaigns.ipynb#Y121sZmlsZQ%3D%3D?line=3'>4</a>\u001b[0m dataset\u001b[39m.\u001b[39mto_csv(\u001b[39mr\u001b[39m\u001b[39m'\u001b[39m\u001b[39msubmission_file.csv\u001b[39m\u001b[39m'\u001b[39m, index\u001b[39m=\u001b[39m\u001b[39mFalse\u001b[39;00m)\n",
            "File \u001b[1;32mc:\\Users\\pv20v\\AppData\\Local\\Programs\\Python\\Python39\\lib\\site-packages\\pandas\\core\\frame.py:3505\u001b[0m, in \u001b[0;36mDataFrame.__getitem__\u001b[1;34m(self, key)\u001b[0m\n\u001b[0;32m   3503\u001b[0m \u001b[39mif\u001b[39;00m \u001b[39mself\u001b[39m\u001b[39m.\u001b[39mcolumns\u001b[39m.\u001b[39mnlevels \u001b[39m>\u001b[39m \u001b[39m1\u001b[39m:\n\u001b[0;32m   3504\u001b[0m     \u001b[39mreturn\u001b[39;00m \u001b[39mself\u001b[39m\u001b[39m.\u001b[39m_getitem_multilevel(key)\n\u001b[1;32m-> 3505\u001b[0m indexer \u001b[39m=\u001b[39m \u001b[39mself\u001b[39;49m\u001b[39m.\u001b[39;49mcolumns\u001b[39m.\u001b[39;49mget_loc(key)\n\u001b[0;32m   3506\u001b[0m \u001b[39mif\u001b[39;00m is_integer(indexer):\n\u001b[0;32m   3507\u001b[0m     indexer \u001b[39m=\u001b[39m [indexer]\n",
            "File \u001b[1;32mc:\\Users\\pv20v\\AppData\\Local\\Programs\\Python\\Python39\\lib\\site-packages\\pandas\\core\\indexes\\base.py:3623\u001b[0m, in \u001b[0;36mIndex.get_loc\u001b[1;34m(self, key, method, tolerance)\u001b[0m\n\u001b[0;32m   3621\u001b[0m     \u001b[39mreturn\u001b[39;00m \u001b[39mself\u001b[39m\u001b[39m.\u001b[39m_engine\u001b[39m.\u001b[39mget_loc(casted_key)\n\u001b[0;32m   3622\u001b[0m \u001b[39mexcept\u001b[39;00m \u001b[39mKeyError\u001b[39;00m \u001b[39mas\u001b[39;00m err:\n\u001b[1;32m-> 3623\u001b[0m     \u001b[39mraise\u001b[39;00m \u001b[39mKeyError\u001b[39;00m(key) \u001b[39mfrom\u001b[39;00m \u001b[39merr\u001b[39;00m\n\u001b[0;32m   3624\u001b[0m \u001b[39mexcept\u001b[39;00m \u001b[39mTypeError\u001b[39;00m:\n\u001b[0;32m   3625\u001b[0m     \u001b[39m# If we have a listlike key, _check_indexing_error will raise\u001b[39;00m\n\u001b[0;32m   3626\u001b[0m     \u001b[39m#  InvalidIndexError. Otherwise we fall through and re-raise\u001b[39;00m\n\u001b[0;32m   3627\u001b[0m     \u001b[39m#  the TypeError.\u001b[39;00m\n\u001b[0;32m   3628\u001b[0m     \u001b[39mself\u001b[39m\u001b[39m.\u001b[39m_check_indexing_error(key)\n",
            "\u001b[1;31mKeyError\u001b[0m: 'campaign_id'"
          ]
        }
      ],
      "source": [
        "pred = pd.DataFrame(y_pred)\n",
        "dataset = pd.concat([test[\"campaign_id\"], pred], axis=1)\n",
        "dataset.columns = [\"campaign_id\", \"click_rate\"]\n",
        "dataset.to_csv(r'submission_file.csv', index=False)"
      ]
    },
    {
      "cell_type": "code",
      "execution_count": null,
      "metadata": {
        "colab": {
          "base_uri": "https://localhost:8080/",
          "height": 17
        },
        "id": "edm_YIF3h0kB",
        "outputId": "c1390f5a-e6f6-4a0a-f67b-ffda24bb0aa8"
      },
      "outputs": [
        {
          "data": {
            "application/javascript": "\n    async function download(id, filename, size) {\n      if (!google.colab.kernel.accessAllowed) {\n        return;\n      }\n      const div = document.createElement('div');\n      const label = document.createElement('label');\n      label.textContent = `Downloading \"${filename}\": `;\n      div.appendChild(label);\n      const progress = document.createElement('progress');\n      progress.max = size;\n      div.appendChild(progress);\n      document.body.appendChild(div);\n\n      const buffers = [];\n      let downloaded = 0;\n\n      const channel = await google.colab.kernel.comms.open(id);\n      // Send a message to notify the kernel that we're ready.\n      channel.send({})\n\n      for await (const message of channel.messages) {\n        // Send a message to notify the kernel that we're ready.\n        channel.send({})\n        if (message.buffers) {\n          for (const buffer of message.buffers) {\n            buffers.push(buffer);\n            downloaded += buffer.byteLength;\n            progress.value = downloaded;\n          }\n        }\n      }\n      const blob = new Blob(buffers, {type: 'application/binary'});\n      const a = document.createElement('a');\n      a.href = window.URL.createObjectURL(blob);\n      a.download = filename;\n      div.appendChild(a);\n      a.click();\n      div.remove();\n    }\n  ",
            "text/plain": [
              "<IPython.core.display.Javascript object>"
            ]
          },
          "metadata": {},
          "output_type": "display_data"
        },
        {
          "data": {
            "application/javascript": "download(\"download_68b31801-efa2-4e06-a40f-7c0acfaf304c\", \"submission_file.csv\", 12689)",
            "text/plain": [
              "<IPython.core.display.Javascript object>"
            ]
          },
          "metadata": {},
          "output_type": "display_data"
        }
      ],
      "source": [
        "from google.colab import files\n",
        "files.download(\"submission_file.csv\")"
      ]
    }
  ],
  "metadata": {
    "colab": {
      "collapsed_sections": [],
      "name": "CTR for email campaigns.ipynb",
      "provenance": []
    },
    "kernelspec": {
      "display_name": "Python 3.9.0 64-bit",
      "language": "python",
      "name": "python3"
    },
    "language_info": {
      "codemirror_mode": {
        "name": "ipython",
        "version": 3
      },
      "file_extension": ".py",
      "mimetype": "text/x-python",
      "name": "python",
      "nbconvert_exporter": "python",
      "pygments_lexer": "ipython3",
      "version": "3.9.0"
    },
    "vscode": {
      "interpreter": {
        "hash": "f416e750de428b4a6660c0f1dc9a24e11ee526180d3268b23a1f1c3ebe2adb7f"
      }
    }
  },
  "nbformat": 4,
  "nbformat_minor": 0
}
