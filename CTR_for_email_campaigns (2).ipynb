{
  "cells": [
    {
      "cell_type": "markdown",
      "metadata": {
        "id": "7QgUFaHCP0Ey"
      },
      "source": [
        "**Objective** :To predict Click Through Rate for email campaigns"
      ]
    },
    {
      "cell_type": "code",
      "execution_count": 2,
      "metadata": {
        "id": "Cs6fNX_sPdTd"
      },
      "outputs": [],
      "source": [
        "#Importing the dependencies\n",
        "import pandas as pd\n",
        "import numpy as np\n",
        "import matplotlib.pyplot as plt\n",
        "import seaborn as sns"
      ]
    },
    {
      "cell_type": "code",
      "execution_count": null,
      "metadata": {
        "id": "oEDswr5bSc9K"
      },
      "outputs": [],
      "source": [
        "#Data Collection\n",
        "pd.options.display.max_columns = 110\n",
        "df_train = pd.read_csv(r'C:\\Users\\pv20v\\Desktop\\project\\train_F3fUq2S.csv')\n",
        "display(df_train.head())\n",
        "df_test = pd.read_csv(r'C:\\Users\\pv20v\\Desktop\\project\\test_Bk2wfZ3.csv')\n",
        "display(df_test.head())"
      ]
    },
    {
      "cell_type": "markdown",
      "metadata": {
        "id": "wHhBYPtTnU1V"
      },
      "source": [
        "**Exploratory Data Analysis**\n",
        "\n"
      ]
    },
    {
      "cell_type": "code",
      "execution_count": null,
      "metadata": {
        "id": "pvRjTW8qTQby"
      },
      "outputs": [],
      "source": [
        "#Data Preprocessing\n",
        "#check the number of rows and columns in training set\n",
        "df_train.info()\n",
        "df_train.shape\n"
      ]
    },
    {
      "cell_type": "markdown",
      "metadata": {
        "id": "MRGELAyEoc_l"
      },
      "source": [
        "Checking for missing values in Dataset"
      ]
    },
    {
      "cell_type": "code",
      "execution_count": null,
      "metadata": {
        "id": "5toOHk0HUOym"
      },
      "outputs": [],
      "source": [
        "#checking for nullvalues\n",
        "df_train.isnull().sum()"
      ]
    },
    {
      "cell_type": "markdown",
      "metadata": {
        "id": "oyJvpDdTqqpV"
      },
      "source": [
        "No null values in training set"
      ]
    },
    {
      "cell_type": "markdown",
      "metadata": {
        "id": "ULkYX4a0uyEb"
      },
      "source": [
        "Converting Categorical data into numerical data\n",
        "\n",
        "\n",
        "\n",
        "\n",
        "\n",
        "\n",
        "\n"
      ]
    },
    {
      "cell_type": "code",
      "execution_count": null,
      "metadata": {
        "colab": {
          "base_uri": "https://localhost:8080/"
        },
        "id": "yDfyz8EipDSc",
        "outputId": "30a062be-95aa-490f-805b-14695027beaa"
      },
      "outputs": [],
      "source": [
        "from sklearn  import preprocessing\n",
        "df_train['times_of_day'].unique()\n",
        "sns.countplot(df_train['times_of_day'],order=df_train['times_of_day'].value_counts().index[::-1])"
      ]
    },
    {
      "cell_type": "code",
      "execution_count": 6,
      "metadata": {
        "colab": {
          "base_uri": "https://localhost:8080/"
        },
        "id": "NNIeXQm_p4I5",
        "outputId": "a7540851-f8b8-4307-d63d-ef2d5ae29264"
      },
      "outputs": [
        {
          "name": "stderr",
          "output_type": "stream",
          "text": [
            "c:\\Users\\pv20v\\AppData\\Local\\Programs\\Python\\Python39\\lib\\site-packages\\seaborn\\_decorators.py:36: FutureWarning: Pass the following variable as a keyword arg: x. From version 0.12, the only valid positional argument will be `data`, and passing other arguments without an explicit keyword will result in an error or misinterpretation.\n",
            "  warnings.warn(\n"
          ]
        },
        {
          "data": {
            "text/plain": [
              "<AxesSubplot:xlabel='times_of_day', ylabel='count'>"
            ]
          },
          "execution_count": 6,
          "metadata": {},
          "output_type": "execute_result"
        },
        {
          "data": {
            "image/png": "[encoded data removed]",
            "text/plain": [
              "<Figure size 432x288 with 1 Axes>"
            ]
          },
          "metadata": {
            "needs_background": "light"
          },
          "output_type": "display_data"
        }
      ],
      "source": [
        "# label_encoder object knows how to understand word labels.\n",
        "label_encoder = preprocessing.LabelEncoder()  \n",
        "# Encode labels in column 'times_of_day'.\n",
        "df_train['times_of_day']= label_encoder.fit_transform(df_train['times_of_day'])\n",
        "df_train['times_of_day'].unique()\n",
        "sns.countplot(df_train['times_of_day'],order=df_train['times_of_day'].value_counts().index[::-1])"
      ]
    },
    {
      "cell_type": "markdown",
      "metadata": {
        "id": "Oho2C147u7B4"
      },
      "source": [
        "Data Cleaning"
      ]
    },
    {
      "cell_type": "code",
      "execution_count": 45,
      "metadata": {
        "colab": {
          "base_uri": "https://localhost:8080/"
        },
        "id": "vGg0jWGkuTim",
        "outputId": "a5e922db-0c9c-4f12-b71f-db93582ede4f"
      },
      "outputs": [
        {
          "data": {
            "text/plain": [
              "array([0], dtype=int64)"
            ]
          },
          "execution_count": 45,
          "metadata": {},
          "output_type": "execute_result"
        }
      ],
      "source": [
        "# Checking for unique values of few columns\n",
        "df_train['is_timer'].unique()"
      ]
    },
    {
      "cell_type": "code",
      "execution_count": 7,
      "metadata": {
        "id": "ss9-4nhQyeXV"
      },
      "outputs": [],
      "source": [
        "#drop the column 'is_timer\n",
        "df_train.drop('is_timer',axis=1,inplace=True)"
      ]
    },
    {
      "cell_type": "code",
      "execution_count": 9,
      "metadata": {
        "id": "Zw9Kpex3tcwm"
      },
      "outputs": [],
      "source": [
        "#Drop the column campaign id \n",
        "df_train.drop('campaign_id',axis=1,inplace=True)"
      ]
    },
    {
      "cell_type": "code",
      "execution_count": 10,
      "metadata": {
        "id": "W45KRS_tfg_C"
      },
      "outputs": [
        {
          "data": {
            "text/plain": [
              "0        1875\n",
              "5499        5\n",
              "8000        2\n",
              "5000        2\n",
              "4999        1\n",
              "1399        1\n",
              "1000        1\n",
              "14999       1\n",
              "Name: is_price, dtype: int64"
            ]
          },
          "execution_count": 10,
          "metadata": {},
          "output_type": "execute_result"
        }
      ],
      "source": [
        "#Checking for outliers in the feature 'is_price'\n",
        "df_train['is_price'].unique()\n",
        "df_train['is_price'].value_counts()"
      ]
    },
    {
      "cell_type": "code",
      "execution_count": 10,
      "metadata": {
        "id": "tzKQptCTIt-c"
      },
      "outputs": [],
      "source": [
        "#Drop the column 'is_price'\n",
        "df_train.drop('is_price',axis=1,inplace=True)"
      ]
    },
    {
      "cell_type": "code",
      "execution_count": 10,
      "metadata": {
        "id": "_Lzta2VPysH4"
      },
      "outputs": [
        {
          "name": "stdout",
          "output_type": "stream",
          "text": [
            "<class 'pandas.core.frame.DataFrame'>\n",
            "RangeIndex: 1888 entries, 0 to 1887\n",
            "Data columns (total 19 columns):\n",
            " #   Column              Non-Null Count  Dtype  \n",
            "---  ------              --------------  -----  \n",
            " 0   sender              1888 non-null   int64  \n",
            " 1   subject_len         1888 non-null   int64  \n",
            " 2   body_len            1888 non-null   int64  \n",
            " 3   mean_paragraph_len  1888 non-null   int64  \n",
            " 4   day_of_week         1888 non-null   int64  \n",
            " 5   is_weekend          1888 non-null   int64  \n",
            " 6   times_of_day        1888 non-null   int32  \n",
            " 7   category            1888 non-null   int64  \n",
            " 8   product             1888 non-null   int64  \n",
            " 9   no_of_CTA           1888 non-null   int64  \n",
            " 10  mean_CTA_len        1888 non-null   int64  \n",
            " 11  is_image            1888 non-null   int64  \n",
            " 12  is_personalised     1888 non-null   int64  \n",
            " 13  is_quote            1888 non-null   int64  \n",
            " 14  is_emoticons        1888 non-null   int64  \n",
            " 15  is_discount         1888 non-null   int64  \n",
            " 16  is_urgency          1888 non-null   int64  \n",
            " 17  target_audience     1888 non-null   int64  \n",
            " 18  click_rate          1888 non-null   float64\n",
            "dtypes: float64(1), int32(1), int64(17)\n",
            "memory usage: 273.0 KB\n"
          ]
        }
      ],
      "source": [
        "df_train.info()"
      ]
    },
    {
      "cell_type": "markdown",
      "metadata": {
        "id": "7XY68ybQldAZ"
      },
      "source": [
        "**Univariate Analysis**"
      ]
    },
    {
      "cell_type": "code",
      "execution_count": 11,
      "metadata": {
        "id": "OLvOEmsJkX-e"
      },
      "outputs": [],
      "source": [
        "#mean,median,standard deviation,skewness,kurtosis\n",
        "#We define a function to implement Univariate Analysis.\n",
        "def UVA_KDE(data, var_group):\n",
        "  size = len(var_group)\n",
        "  plt.figure(figsize = (5*size,3), dpi = 50)\n",
        "  plt.subplot(121)\n",
        "  for j,i in enumerate(var_group):\n",
        "    mini = data[i].min()\n",
        "    maxi = data[i].max()\n",
        "    ran = data[i].max()-data[i].min()\n",
        "    mean = data[i].mean()\n",
        "    median = data[i].median()\n",
        "    st_dev = data[i].std()\n",
        "    skew = data[i].skew()\n",
        "    kurt = data[i].kurtosis()\n",
        "    points = mean-st_dev, mean+st_dev\n",
        "    plt.subplot(1,size,j+1)\n",
        "    sns.kdeplot(data[i], shade=False)\n",
        "    sns.lineplot(points, [0,0], color = 'black', label = \"std_dev\")\n",
        "    sns.scatterplot([mini,maxi], [0,0], color = 'orange', label = \"min/max\")\n",
        "    sns.scatterplot([mean], [0], color = 'red', label = \"mean\")\n",
        "    sns.scatterplot([median], [0], color = 'blue', label = \"median\")\n",
        "    plt.xlabel('{}'.format(i), fontsize = 10)\n",
        "    plt.ylabel('density')\n",
        "    plt.title('kurtosis = {};\\nskew = {}; range = {}\\nmean = {}; median = {}'.format(round(kurt,2),round(skew,2),\n",
        "                                                                                     round(ran,2),\n",
        "                                                                                     round(mean,2),\n",
        "                                                                                     round(median,2)))"
      ]
    },
    {
      "cell_type": "code",
      "execution_count": 14,
      "metadata": {
        "colab": {
          "base_uri": "https://localhost:8080/"
        },
        "id": "MjJDCC2XndIA",
        "outputId": "4757d3e1-e4a5-49ae-ee74-48bc500deafc"
      },
      "outputs": [
        {
          "data": {
            "text/plain": [
              "Index(['sender', 'subject_len', 'body_len', 'mean_paragraph_len',\n",
              "       'day_of_week', 'is_weekend', 'category', 'product', 'no_of_CTA',\n",
              "       'mean_CTA_len', 'is_image', 'is_personalised', 'is_quote',\n",
              "       'is_emoticons', 'is_discount', 'is_urgency', 'target_audience',\n",
              "       'click_rate'],\n",
              "      dtype='object')"
            ]
          },
          "execution_count": 14,
          "metadata": {},
          "output_type": "execute_result"
        }
      ],
      "source": [
        "#Assigning the train numerical features.\n",
        "Numerical_features_train = df_train.select_dtypes(include= ['int64','float'])\n",
        "Numerical_features_train.columns\n"
      ]
    },
    {
      "cell_type": "code",
      "execution_count": null,
      "metadata": {
        "colab": {
          "base_uri": "https://localhost:8080/",
          "height": 450
        },
        "id": "LGDwCZiqpxec",
        "outputId": "6311adcd-43e8-4266-8a2d-85572995a3db"
      },
      "outputs": [],
      "source": [
        "#Checking the distribution of all independent numerical variables.\n",
        "for i in Numerical_features_train:\n",
        "  UVA_KDE(df_train,[i])"
      ]
    },
    {
      "cell_type": "code",
      "execution_count": 14,
      "metadata": {
        "colab": {
          "base_uri": "https://localhost:8080/",
          "height": 365
        },
        "id": "XOsfsQkEa7k6",
        "outputId": "b481942d-d326-491e-fb99-9a1f33feddab"
      },
      "outputs": [
        {
          "data": {
            "image/png": "[encoded data removed]",
            "text/plain": [
              "<Figure size 432x288 with 2 Axes>"
            ]
          },
          "metadata": {
            "needs_background": "light"
          },
          "output_type": "display_data"
        }
      ],
      "source": [
        "#Correlation Heatmap\n",
        "sns.heatmap(df_train.corr())\n",
        "plt.savefig(\"Plotting_Correlation_HeatMap.jpg\")"
      ]
    },
    {
      "cell_type": "markdown",
      "metadata": {},
      "source": [
        "Analysing Guassian Distributions:Removing the Outliers"
      ]
    },
    {
      "cell_type": "code",
      "execution_count": 19,
      "metadata": {},
      "outputs": [],
      "source": [
        "Numerical_features_train.drop(['click_rate','is_urgency','is_weekend','is_personalised','is_emoticons','is_discount'],axis =1,inplace=True )"
      ]
    },
    {
      "cell_type": "code",
      "execution_count": null,
      "metadata": {},
      "outputs": [],
      "source": [
        "Numerical_features_train.info()"
      ]
    },
    {
      "cell_type": "code",
      "execution_count": 20,
      "metadata": {},
      "outputs": [
        {
          "data": {
            "text/html": [
              "<div>\n",
              "<style scoped>\n",
              "    .dataframe tbody tr th:only-of-type {\n",
              "        vertical-align: middle;\n",
              "    }\n",
              "\n",
              "    .dataframe tbody tr th {\n",
              "        vertical-align: top;\n",
              "    }\n",
              "\n",
              "    .dataframe thead th {\n",
              "        text-align: right;\n",
              "    }\n",
              "</style>\n",
              "<table border=\"1\" class=\"dataframe\">\n",
              "  <thead>\n",
              "    <tr style=\"text-align: right;\">\n",
              "      <th></th>\n",
              "      <th>sender</th>\n",
              "      <th>subject_len</th>\n",
              "      <th>body_len</th>\n",
              "      <th>mean_paragraph_len</th>\n",
              "      <th>day_of_week</th>\n",
              "      <th>is_weekend</th>\n",
              "      <th>times_of_day</th>\n",
              "      <th>category</th>\n",
              "      <th>product</th>\n",
              "      <th>no_of_CTA</th>\n",
              "      <th>mean_CTA_len</th>\n",
              "      <th>is_image</th>\n",
              "      <th>is_personalised</th>\n",
              "      <th>is_quote</th>\n",
              "      <th>is_emoticons</th>\n",
              "      <th>is_discount</th>\n",
              "      <th>is_urgency</th>\n",
              "      <th>target_audience</th>\n",
              "      <th>click_rate</th>\n",
              "    </tr>\n",
              "  </thead>\n",
              "  <tbody>\n",
              "    <tr>\n",
              "      <th>0</th>\n",
              "      <td>3</td>\n",
              "      <td>76</td>\n",
              "      <td>10439</td>\n",
              "      <td>39</td>\n",
              "      <td>5</td>\n",
              "      <td>0.0</td>\n",
              "      <td>2.0</td>\n",
              "      <td>6</td>\n",
              "      <td>26</td>\n",
              "      <td>3</td>\n",
              "      <td>29</td>\n",
              "      <td>0</td>\n",
              "      <td>0.0</td>\n",
              "      <td>0</td>\n",
              "      <td>0.0</td>\n",
              "      <td>0.0</td>\n",
              "      <td>0.0</td>\n",
              "      <td>14</td>\n",
              "      <td>0.080854</td>\n",
              "    </tr>\n",
              "    <tr>\n",
              "      <th>1</th>\n",
              "      <td>3</td>\n",
              "      <td>54</td>\n",
              "      <td>2570</td>\n",
              "      <td>256</td>\n",
              "      <td>5</td>\n",
              "      <td>0.0</td>\n",
              "      <td>1.0</td>\n",
              "      <td>2</td>\n",
              "      <td>11</td>\n",
              "      <td>0</td>\n",
              "      <td>22</td>\n",
              "      <td>0</td>\n",
              "      <td>0.0</td>\n",
              "      <td>0</td>\n",
              "      <td>0.0</td>\n",
              "      <td>0.0</td>\n",
              "      <td>0.0</td>\n",
              "      <td>10</td>\n",
              "      <td>0.080854</td>\n",
              "    </tr>\n",
              "    <tr>\n",
              "      <th>2</th>\n",
              "      <td>3</td>\n",
              "      <td>59</td>\n",
              "      <td>12801</td>\n",
              "      <td>16</td>\n",
              "      <td>5</td>\n",
              "      <td>0.0</td>\n",
              "      <td>2.0</td>\n",
              "      <td>2</td>\n",
              "      <td>11</td>\n",
              "      <td>3</td>\n",
              "      <td>23</td>\n",
              "      <td>1</td>\n",
              "      <td>0.0</td>\n",
              "      <td>1</td>\n",
              "      <td>0.0</td>\n",
              "      <td>0.0</td>\n",
              "      <td>0.0</td>\n",
              "      <td>16</td>\n",
              "      <td>0.002769</td>\n",
              "    </tr>\n",
              "    <tr>\n",
              "      <th>3</th>\n",
              "      <td>3</td>\n",
              "      <td>74</td>\n",
              "      <td>11037</td>\n",
              "      <td>30</td>\n",
              "      <td>4</td>\n",
              "      <td>0.0</td>\n",
              "      <td>0.0</td>\n",
              "      <td>15</td>\n",
              "      <td>9</td>\n",
              "      <td>4</td>\n",
              "      <td>24</td>\n",
              "      <td>0</td>\n",
              "      <td>0.0</td>\n",
              "      <td>0</td>\n",
              "      <td>0.0</td>\n",
              "      <td>0.0</td>\n",
              "      <td>0.0</td>\n",
              "      <td>10</td>\n",
              "      <td>0.010868</td>\n",
              "    </tr>\n",
              "    <tr>\n",
              "      <th>4</th>\n",
              "      <td>3</td>\n",
              "      <td>80</td>\n",
              "      <td>10011</td>\n",
              "      <td>27</td>\n",
              "      <td>5</td>\n",
              "      <td>0.0</td>\n",
              "      <td>2.0</td>\n",
              "      <td>6</td>\n",
              "      <td>26</td>\n",
              "      <td>3</td>\n",
              "      <td>31</td>\n",
              "      <td>0</td>\n",
              "      <td>0.0</td>\n",
              "      <td>1</td>\n",
              "      <td>0.0</td>\n",
              "      <td>0.0</td>\n",
              "      <td>0.0</td>\n",
              "      <td>14</td>\n",
              "      <td>0.080854</td>\n",
              "    </tr>\n",
              "  </tbody>\n",
              "</table>\n",
              "</div>"
            ],
            "text/plain": [
              "   sender  subject_len  body_len  mean_paragraph_len  day_of_week  is_weekend  \\\n",
              "0       3           76     10439                  39            5         0.0   \n",
              "1       3           54      2570                 256            5         0.0   \n",
              "2       3           59     12801                  16            5         0.0   \n",
              "3       3           74     11037                  30            4         0.0   \n",
              "4       3           80     10011                  27            5         0.0   \n",
              "\n",
              "   times_of_day  category  product  no_of_CTA  mean_CTA_len  is_image  \\\n",
              "0           2.0         6       26          3            29         0   \n",
              "1           1.0         2       11          0            22         0   \n",
              "2           2.0         2       11          3            23         1   \n",
              "3           0.0        15        9          4            24         0   \n",
              "4           2.0         6       26          3            31         0   \n",
              "\n",
              "   is_personalised  is_quote  is_emoticons  is_discount  is_urgency  \\\n",
              "0              0.0         0           0.0          0.0         0.0   \n",
              "1              0.0         0           0.0          0.0         0.0   \n",
              "2              0.0         1           0.0          0.0         0.0   \n",
              "3              0.0         0           0.0          0.0         0.0   \n",
              "4              0.0         1           0.0          0.0         0.0   \n",
              "\n",
              "   target_audience  click_rate  \n",
              "0               14    0.080854  \n",
              "1               10    0.080854  \n",
              "2               16    0.002769  \n",
              "3               10    0.010868  \n",
              "4               14    0.080854  "
            ]
          },
          "metadata": {},
          "output_type": "display_data"
        }
      ],
      "source": [
        "#Outlier treatment of train dataset:\n",
        "\n",
        "df1 = df_train.copy()\n",
        "\n",
        "features1 = df_train.describe().columns.drop(Numerical_features_train)\n",
        "\n",
        "for i in features1:\n",
        "    Q1 = df1[i].quantile(0.25)\n",
        "    Q3 = df1[i].quantile(0.75)\n",
        "    IQR = Q3 - Q1\n",
        "    upper_limit = (Q3+(1.5*IQR))\n",
        "    lower_limit = (Q1-(1.5*IQR))\n",
        "    df1[i] = np.where(df1[i]> upper_limit, upper_limit,\n",
        "                        np.where(df1[i]< lower_limit, lower_limit,\n",
        "                          df1[i]))\n",
        "    df1 = df1.reset_index(drop=True)\n",
        "display(df1.head())"
      ]
    },
    {
      "cell_type": "code",
      "execution_count": 22,
      "metadata": {},
      "outputs": [],
      "source": [
        "df_test.drop('campaign_id', axis=1, inplace=True)\n",
        "df_test['times_of_day']= label_encoder.fit_transform(df_test['times_of_day'])  \n",
        "df_test.drop('is_timer', axis=1, inplace=True)\n",
        "df_test.drop('is_price', axis=1, inplace=True)"
      ]
    },
    {
      "cell_type": "code",
      "execution_count": 23,
      "metadata": {},
      "outputs": [],
      "source": [
        "Numerical_features_test = df_test.select_dtypes(include= ['int64','float'])\n",
        "Numerical_features_test.columns\n",
        "Numerical_features_test.drop(['is_urgency','is_weekend','is_personalised','is_emoticons','is_discount'],axis =1,inplace=True )"
      ]
    },
    {
      "cell_type": "code",
      "execution_count": 25,
      "metadata": {},
      "outputs": [
        {
          "data": {
            "text/html": [
              "<div>\n",
              "<style scoped>\n",
              "    .dataframe tbody tr th:only-of-type {\n",
              "        vertical-align: middle;\n",
              "    }\n",
              "\n",
              "    .dataframe tbody tr th {\n",
              "        vertical-align: top;\n",
              "    }\n",
              "\n",
              "    .dataframe thead th {\n",
              "        text-align: right;\n",
              "    }\n",
              "</style>\n",
              "<table border=\"1\" class=\"dataframe\">\n",
              "  <thead>\n",
              "    <tr style=\"text-align: right;\">\n",
              "      <th></th>\n",
              "      <th>sender</th>\n",
              "      <th>subject_len</th>\n",
              "      <th>body_len</th>\n",
              "      <th>mean_paragraph_len</th>\n",
              "      <th>day_of_week</th>\n",
              "      <th>is_weekend</th>\n",
              "      <th>times_of_day</th>\n",
              "      <th>category</th>\n",
              "      <th>product</th>\n",
              "      <th>no_of_CTA</th>\n",
              "      <th>mean_CTA_len</th>\n",
              "      <th>is_image</th>\n",
              "      <th>is_personalised</th>\n",
              "      <th>is_quote</th>\n",
              "      <th>is_emoticons</th>\n",
              "      <th>is_discount</th>\n",
              "      <th>is_urgency</th>\n",
              "      <th>target_audience</th>\n",
              "    </tr>\n",
              "  </thead>\n",
              "  <tbody>\n",
              "    <tr>\n",
              "      <th>0</th>\n",
              "      <td>3</td>\n",
              "      <td>61</td>\n",
              "      <td>12871</td>\n",
              "      <td>11</td>\n",
              "      <td>6</td>\n",
              "      <td>0.0</td>\n",
              "      <td>2.0</td>\n",
              "      <td>6</td>\n",
              "      <td>26</td>\n",
              "      <td>3</td>\n",
              "      <td>37</td>\n",
              "      <td>1</td>\n",
              "      <td>0.0</td>\n",
              "      <td>0</td>\n",
              "      <td>0.0</td>\n",
              "      <td>0.0</td>\n",
              "      <td>0.0</td>\n",
              "      <td>14</td>\n",
              "    </tr>\n",
              "    <tr>\n",
              "      <th>1</th>\n",
              "      <td>3</td>\n",
              "      <td>54</td>\n",
              "      <td>2569</td>\n",
              "      <td>256</td>\n",
              "      <td>5</td>\n",
              "      <td>0.0</td>\n",
              "      <td>1.0</td>\n",
              "      <td>2</td>\n",
              "      <td>11</td>\n",
              "      <td>0</td>\n",
              "      <td>22</td>\n",
              "      <td>0</td>\n",
              "      <td>0.0</td>\n",
              "      <td>0</td>\n",
              "      <td>0.0</td>\n",
              "      <td>0.0</td>\n",
              "      <td>0.0</td>\n",
              "      <td>10</td>\n",
              "    </tr>\n",
              "    <tr>\n",
              "      <th>2</th>\n",
              "      <td>3</td>\n",
              "      <td>88</td>\n",
              "      <td>1473</td>\n",
              "      <td>78</td>\n",
              "      <td>4</td>\n",
              "      <td>0.0</td>\n",
              "      <td>0.0</td>\n",
              "      <td>2</td>\n",
              "      <td>11</td>\n",
              "      <td>0</td>\n",
              "      <td>22</td>\n",
              "      <td>1</td>\n",
              "      <td>0.0</td>\n",
              "      <td>1</td>\n",
              "      <td>0.0</td>\n",
              "      <td>0.0</td>\n",
              "      <td>0.0</td>\n",
              "      <td>10</td>\n",
              "    </tr>\n",
              "    <tr>\n",
              "      <th>3</th>\n",
              "      <td>3</td>\n",
              "      <td>88</td>\n",
              "      <td>1473</td>\n",
              "      <td>78</td>\n",
              "      <td>3</td>\n",
              "      <td>0.0</td>\n",
              "      <td>0.0</td>\n",
              "      <td>2</td>\n",
              "      <td>11</td>\n",
              "      <td>0</td>\n",
              "      <td>22</td>\n",
              "      <td>1</td>\n",
              "      <td>0.0</td>\n",
              "      <td>1</td>\n",
              "      <td>0.0</td>\n",
              "      <td>0.0</td>\n",
              "      <td>0.0</td>\n",
              "      <td>10</td>\n",
              "    </tr>\n",
              "    <tr>\n",
              "      <th>4</th>\n",
              "      <td>3</td>\n",
              "      <td>78</td>\n",
              "      <td>9020</td>\n",
              "      <td>29</td>\n",
              "      <td>3</td>\n",
              "      <td>0.0</td>\n",
              "      <td>2.0</td>\n",
              "      <td>6</td>\n",
              "      <td>26</td>\n",
              "      <td>2</td>\n",
              "      <td>40</td>\n",
              "      <td>0</td>\n",
              "      <td>0.0</td>\n",
              "      <td>0</td>\n",
              "      <td>0.0</td>\n",
              "      <td>0.0</td>\n",
              "      <td>0.0</td>\n",
              "      <td>14</td>\n",
              "    </tr>\n",
              "  </tbody>\n",
              "</table>\n",
              "</div>"
            ],
            "text/plain": [
              "   sender  subject_len  body_len  mean_paragraph_len  day_of_week  is_weekend  \\\n",
              "0       3           61     12871                  11            6         0.0   \n",
              "1       3           54      2569                 256            5         0.0   \n",
              "2       3           88      1473                  78            4         0.0   \n",
              "3       3           88      1473                  78            3         0.0   \n",
              "4       3           78      9020                  29            3         0.0   \n",
              "\n",
              "   times_of_day  category  product  no_of_CTA  mean_CTA_len  is_image  \\\n",
              "0           2.0         6       26          3            37         1   \n",
              "1           1.0         2       11          0            22         0   \n",
              "2           0.0         2       11          0            22         1   \n",
              "3           0.0         2       11          0            22         1   \n",
              "4           2.0         6       26          2            40         0   \n",
              "\n",
              "   is_personalised  is_quote  is_emoticons  is_discount  is_urgency  \\\n",
              "0              0.0         0           0.0          0.0         0.0   \n",
              "1              0.0         0           0.0          0.0         0.0   \n",
              "2              0.0         1           0.0          0.0         0.0   \n",
              "3              0.0         1           0.0          0.0         0.0   \n",
              "4              0.0         0           0.0          0.0         0.0   \n",
              "\n",
              "   target_audience  \n",
              "0               14  \n",
              "1               10  \n",
              "2               10  \n",
              "3               10  \n",
              "4               14  "
            ]
          },
          "metadata": {},
          "output_type": "display_data"
        }
      ],
      "source": [
        "df2 = df_test.copy()\n",
        "\n",
        "features2 = df_test.describe().columns.drop(Numerical_features_test)\n",
        "\n",
        "for i in features2:\n",
        "    Q1 = df2[i].quantile(0.25)\n",
        "    Q3 = df2[i].quantile(0.75)\n",
        "    IQR = Q3 - Q1\n",
        "    upper_limit = (Q3+(1.5*IQR))\n",
        "    lower_limit = (Q1-(1.5*IQR))\n",
        "    df2[i] = np.where(df2[i]> upper_limit, upper_limit,\n",
        "                        np.where(df2[i]< lower_limit, lower_limit,\n",
        "                          df2[i]))\n",
        "    df2 = df2.reset_index(drop=True)\n",
        "display(df2.head())"
      ]
    },
    {
      "cell_type": "code",
      "execution_count": 26,
      "metadata": {},
      "outputs": [],
      "source": [
        "train = df1.copy()\n",
        "test= df2.copy()"
      ]
    },
    {
      "cell_type": "markdown",
      "metadata": {
        "id": "ipgnBOnW3e5f"
      },
      "source": [
        "Splitting Dataset"
      ]
    },
    {
      "cell_type": "markdown",
      "metadata": {
        "id": "3R55913sb5Yb"
      },
      "source": [
        "Train set includes the target variable' click_rate' and objective is to  predict the click_rate of an email campaign in the test set."
      ]
    },
    {
      "cell_type": "code",
      "execution_count": 27,
      "metadata": {
        "id": "GYTPtj1Y12Hh"
      },
      "outputs": [],
      "source": [
        "x_train = train.drop(\"click_rate\",axis=1)\n",
        "y_train = train[\"click_rate\"]"
      ]
    },
    {
      "cell_type": "code",
      "execution_count": null,
      "metadata": {},
      "outputs": [],
      "source": [
        "y_train.info()"
      ]
    },
    {
      "cell_type": "code",
      "execution_count": 28,
      "metadata": {
        "id": "8v_lLWq3DRGI"
      },
      "outputs": [],
      "source": [
        "x_test = test"
      ]
    },
    {
      "cell_type": "code",
      "execution_count": null,
      "metadata": {},
      "outputs": [],
      "source": [
        "x_test.info()"
      ]
    },
    {
      "cell_type": "markdown",
      "metadata": {
        "id": "R2Nsv5iB80ax"
      },
      "source": [
        "Model Building and training\n"
      ]
    },
    {
      "cell_type": "code",
      "execution_count": 29,
      "metadata": {},
      "outputs": [],
      "source": [
        "from catboost import CatBoostRegressor\n",
        "from sklearn.metrics import mean_squared_error,r2_score,mean_absolute_error,mean_absolute_percentage_error"
      ]
    },
    {
      "cell_type": "code",
      "execution_count": 30,
      "metadata": {},
      "outputs": [
        {
          "name": "stdout",
          "output_type": "stream",
          "text": [
            "Learning rate set to 0.045268\n",
            "0:\tlearn: 0.0272450\ttotal: 181ms\tremaining: 3m\n",
            "1:\tlearn: 0.0269620\ttotal: 188ms\tremaining: 1m 33s\n",
            "2:\tlearn: 0.0266742\ttotal: 195ms\tremaining: 1m 4s\n",
            "3:\tlearn: 0.0263983\ttotal: 201ms\tremaining: 50s\n",
            "4:\tlearn: 0.0261227\ttotal: 205ms\tremaining: 40.9s\n",
            "5:\tlearn: 0.0258736\ttotal: 209ms\tremaining: 34.7s\n",
            "6:\tlearn: 0.0256158\ttotal: 214ms\tremaining: 30.3s\n",
            "7:\tlearn: 0.0253592\ttotal: 216ms\tremaining: 26.8s\n",
            "8:\tlearn: 0.0251510\ttotal: 219ms\tremaining: 24.1s\n",
            "9:\tlearn: 0.0249247\ttotal: 221ms\tremaining: 21.9s\n",
            "10:\tlearn: 0.0247292\ttotal: 224ms\tremaining: 20.2s\n",
            "11:\tlearn: 0.0245322\ttotal: 226ms\tremaining: 18.6s\n",
            "12:\tlearn: 0.0243483\ttotal: 230ms\tremaining: 17.5s\n",
            "13:\tlearn: 0.0242134\ttotal: 233ms\tremaining: 16.4s\n",
            "14:\tlearn: 0.0240472\ttotal: 235ms\tremaining: 15.4s\n",
            "15:\tlearn: 0.0238669\ttotal: 237ms\tremaining: 14.6s\n",
            "16:\tlearn: 0.0236911\ttotal: 239ms\tremaining: 13.8s\n",
            "17:\tlearn: 0.0235139\ttotal: 241ms\tremaining: 13.2s\n",
            "18:\tlearn: 0.0233492\ttotal: 245ms\tremaining: 12.6s\n",
            "19:\tlearn: 0.0232059\ttotal: 247ms\tremaining: 12.1s\n",
            "20:\tlearn: 0.0230539\ttotal: 251ms\tremaining: 11.7s\n",
            "21:\tlearn: 0.0229184\ttotal: 253ms\tremaining: 11.2s\n",
            "22:\tlearn: 0.0227924\ttotal: 255ms\tremaining: 10.8s\n",
            "23:\tlearn: 0.0226800\ttotal: 257ms\tremaining: 10.5s\n",
            "24:\tlearn: 0.0225700\ttotal: 260ms\tremaining: 10.1s\n",
            "25:\tlearn: 0.0224792\ttotal: 264ms\tremaining: 9.9s\n",
            "26:\tlearn: 0.0223765\ttotal: 267ms\tremaining: 9.6s\n",
            "27:\tlearn: 0.0222615\ttotal: 269ms\tremaining: 9.33s\n",
            "28:\tlearn: 0.0221686\ttotal: 271ms\tremaining: 9.06s\n",
            "29:\tlearn: 0.0220838\ttotal: 273ms\tremaining: 8.82s\n",
            "30:\tlearn: 0.0219878\ttotal: 276ms\tremaining: 8.63s\n",
            "31:\tlearn: 0.0218883\ttotal: 278ms\tremaining: 8.41s\n",
            "32:\tlearn: 0.0217767\ttotal: 280ms\tremaining: 8.21s\n",
            "33:\tlearn: 0.0216928\ttotal: 282ms\tremaining: 8.02s\n",
            "34:\tlearn: 0.0215861\ttotal: 284ms\tremaining: 7.83s\n",
            "35:\tlearn: 0.0215233\ttotal: 286ms\tremaining: 7.66s\n",
            "36:\tlearn: 0.0214320\ttotal: 288ms\tremaining: 7.49s\n",
            "37:\tlearn: 0.0213526\ttotal: 291ms\tremaining: 7.37s\n",
            "38:\tlearn: 0.0212518\ttotal: 293ms\tremaining: 7.22s\n",
            "39:\tlearn: 0.0211537\ttotal: 295ms\tremaining: 7.08s\n",
            "40:\tlearn: 0.0210961\ttotal: 297ms\tremaining: 6.94s\n",
            "41:\tlearn: 0.0210260\ttotal: 299ms\tremaining: 6.81s\n",
            "42:\tlearn: 0.0209719\ttotal: 301ms\tremaining: 6.69s\n",
            "43:\tlearn: 0.0209047\ttotal: 304ms\tremaining: 6.6s\n",
            "44:\tlearn: 0.0208365\ttotal: 307ms\tremaining: 6.51s\n",
            "45:\tlearn: 0.0207645\ttotal: 310ms\tremaining: 6.42s\n",
            "46:\tlearn: 0.0206968\ttotal: 312ms\tremaining: 6.32s\n",
            "47:\tlearn: 0.0206136\ttotal: 314ms\tremaining: 6.23s\n",
            "48:\tlearn: 0.0205836\ttotal: 316ms\tremaining: 6.13s\n",
            "49:\tlearn: 0.0205478\ttotal: 318ms\tremaining: 6.04s\n",
            "50:\tlearn: 0.0204837\ttotal: 321ms\tremaining: 5.96s\n",
            "51:\tlearn: 0.0204410\ttotal: 323ms\tremaining: 5.88s\n",
            "52:\tlearn: 0.0203801\ttotal: 325ms\tremaining: 5.8s\n",
            "53:\tlearn: 0.0203113\ttotal: 327ms\tremaining: 5.72s\n",
            "54:\tlearn: 0.0202714\ttotal: 329ms\tremaining: 5.65s\n",
            "55:\tlearn: 0.0202312\ttotal: 331ms\tremaining: 5.57s\n",
            "56:\tlearn: 0.0201766\ttotal: 333ms\tremaining: 5.5s\n",
            "57:\tlearn: 0.0201277\ttotal: 337ms\tremaining: 5.47s\n",
            "58:\tlearn: 0.0200721\ttotal: 339ms\tremaining: 5.41s\n",
            "59:\tlearn: 0.0200328\ttotal: 341ms\tremaining: 5.34s\n",
            "60:\tlearn: 0.0199879\ttotal: 343ms\tremaining: 5.28s\n",
            "61:\tlearn: 0.0199398\ttotal: 345ms\tremaining: 5.22s\n",
            "62:\tlearn: 0.0198947\ttotal: 347ms\tremaining: 5.17s\n",
            "63:\tlearn: 0.0198484\ttotal: 350ms\tremaining: 5.12s\n",
            "64:\tlearn: 0.0198061\ttotal: 353ms\tremaining: 5.08s\n",
            "65:\tlearn: 0.0197422\ttotal: 356ms\tremaining: 5.03s\n",
            "66:\tlearn: 0.0197017\ttotal: 358ms\tremaining: 4.99s\n",
            "67:\tlearn: 0.0196531\ttotal: 360ms\tremaining: 4.93s\n",
            "68:\tlearn: 0.0195952\ttotal: 363ms\tremaining: 4.9s\n",
            "69:\tlearn: 0.0195570\ttotal: 367ms\tremaining: 4.88s\n",
            "70:\tlearn: 0.0195171\ttotal: 370ms\tremaining: 4.84s\n",
            "71:\tlearn: 0.0194860\ttotal: 372ms\tremaining: 4.8s\n",
            "72:\tlearn: 0.0194709\ttotal: 375ms\tremaining: 4.76s\n",
            "73:\tlearn: 0.0194285\ttotal: 377ms\tremaining: 4.71s\n",
            "74:\tlearn: 0.0193912\ttotal: 379ms\tremaining: 4.67s\n",
            "75:\tlearn: 0.0193528\ttotal: 383ms\tremaining: 4.66s\n",
            "76:\tlearn: 0.0193132\ttotal: 385ms\tremaining: 4.62s\n",
            "77:\tlearn: 0.0192643\ttotal: 388ms\tremaining: 4.59s\n",
            "78:\tlearn: 0.0192483\ttotal: 390ms\tremaining: 4.55s\n",
            "79:\tlearn: 0.0192093\ttotal: 392ms\tremaining: 4.51s\n",
            "80:\tlearn: 0.0191787\ttotal: 395ms\tremaining: 4.48s\n",
            "81:\tlearn: 0.0191407\ttotal: 397ms\tremaining: 4.44s\n",
            "82:\tlearn: 0.0191259\ttotal: 399ms\tremaining: 4.41s\n",
            "83:\tlearn: 0.0190986\ttotal: 401ms\tremaining: 4.38s\n",
            "84:\tlearn: 0.0190529\ttotal: 403ms\tremaining: 4.34s\n",
            "85:\tlearn: 0.0190160\ttotal: 405ms\tremaining: 4.3s\n",
            "86:\tlearn: 0.0189916\ttotal: 407ms\tremaining: 4.27s\n",
            "87:\tlearn: 0.0189744\ttotal: 410ms\tremaining: 4.25s\n",
            "88:\tlearn: 0.0189340\ttotal: 413ms\tremaining: 4.22s\n",
            "89:\tlearn: 0.0189096\ttotal: 415ms\tremaining: 4.19s\n",
            "90:\tlearn: 0.0188982\ttotal: 416ms\tremaining: 4.16s\n",
            "91:\tlearn: 0.0188536\ttotal: 419ms\tremaining: 4.13s\n",
            "92:\tlearn: 0.0188425\ttotal: 421ms\tremaining: 4.11s\n",
            "93:\tlearn: 0.0188280\ttotal: 423ms\tremaining: 4.08s\n",
            "94:\tlearn: 0.0188024\ttotal: 426ms\tremaining: 4.06s\n",
            "95:\tlearn: 0.0187649\ttotal: 429ms\tremaining: 4.04s\n",
            "96:\tlearn: 0.0187338\ttotal: 432ms\tremaining: 4.02s\n",
            "97:\tlearn: 0.0187127\ttotal: 434ms\tremaining: 4s\n",
            "98:\tlearn: 0.0186855\ttotal: 437ms\tremaining: 3.97s\n",
            "99:\tlearn: 0.0186602\ttotal: 439ms\tremaining: 3.95s\n",
            "100:\tlearn: 0.0186262\ttotal: 445ms\tremaining: 3.96s\n",
            "101:\tlearn: 0.0186113\ttotal: 447ms\tremaining: 3.94s\n",
            "102:\tlearn: 0.0185932\ttotal: 450ms\tremaining: 3.92s\n",
            "103:\tlearn: 0.0185697\ttotal: 453ms\tremaining: 3.9s\n",
            "104:\tlearn: 0.0185393\ttotal: 456ms\tremaining: 3.88s\n",
            "105:\tlearn: 0.0185073\ttotal: 459ms\tremaining: 3.87s\n",
            "106:\tlearn: 0.0184953\ttotal: 461ms\tremaining: 3.85s\n",
            "107:\tlearn: 0.0184373\ttotal: 463ms\tremaining: 3.83s\n",
            "108:\tlearn: 0.0184190\ttotal: 466ms\tremaining: 3.81s\n",
            "109:\tlearn: 0.0184040\ttotal: 468ms\tremaining: 3.79s\n",
            "110:\tlearn: 0.0183715\ttotal: 470ms\tremaining: 3.77s\n",
            "111:\tlearn: 0.0183466\ttotal: 476ms\tremaining: 3.77s\n",
            "112:\tlearn: 0.0183256\ttotal: 478ms\tremaining: 3.75s\n",
            "113:\tlearn: 0.0183136\ttotal: 481ms\tremaining: 3.73s\n",
            "114:\tlearn: 0.0182930\ttotal: 483ms\tremaining: 3.72s\n",
            "115:\tlearn: 0.0182706\ttotal: 485ms\tremaining: 3.7s\n",
            "116:\tlearn: 0.0182522\ttotal: 488ms\tremaining: 3.68s\n",
            "117:\tlearn: 0.0182297\ttotal: 491ms\tremaining: 3.67s\n",
            "118:\tlearn: 0.0182058\ttotal: 493ms\tremaining: 3.65s\n",
            "119:\tlearn: 0.0181916\ttotal: 495ms\tremaining: 3.63s\n",
            "120:\tlearn: 0.0181799\ttotal: 498ms\tremaining: 3.62s\n",
            "121:\tlearn: 0.0181530\ttotal: 501ms\tremaining: 3.6s\n",
            "122:\tlearn: 0.0181330\ttotal: 503ms\tremaining: 3.59s\n",
            "123:\tlearn: 0.0181062\ttotal: 508ms\tremaining: 3.59s\n",
            "124:\tlearn: 0.0180868\ttotal: 512ms\tremaining: 3.58s\n",
            "125:\tlearn: 0.0180598\ttotal: 514ms\tremaining: 3.57s\n",
            "126:\tlearn: 0.0180291\ttotal: 518ms\tremaining: 3.56s\n",
            "127:\tlearn: 0.0180102\ttotal: 521ms\tremaining: 3.55s\n",
            "128:\tlearn: 0.0179865\ttotal: 523ms\tremaining: 3.53s\n",
            "129:\tlearn: 0.0179563\ttotal: 526ms\tremaining: 3.52s\n",
            "130:\tlearn: 0.0179316\ttotal: 527ms\tremaining: 3.5s\n",
            "131:\tlearn: 0.0179174\ttotal: 529ms\tremaining: 3.48s\n",
            "132:\tlearn: 0.0179001\ttotal: 532ms\tremaining: 3.47s\n",
            "133:\tlearn: 0.0178753\ttotal: 535ms\tremaining: 3.46s\n",
            "134:\tlearn: 0.0178539\ttotal: 538ms\tremaining: 3.44s\n",
            "135:\tlearn: 0.0178363\ttotal: 540ms\tremaining: 3.43s\n",
            "136:\tlearn: 0.0178184\ttotal: 542ms\tremaining: 3.42s\n",
            "137:\tlearn: 0.0178054\ttotal: 545ms\tremaining: 3.4s\n",
            "138:\tlearn: 0.0177886\ttotal: 547ms\tremaining: 3.39s\n",
            "139:\tlearn: 0.0177672\ttotal: 550ms\tremaining: 3.38s\n",
            "140:\tlearn: 0.0177472\ttotal: 553ms\tremaining: 3.37s\n",
            "141:\tlearn: 0.0177311\ttotal: 555ms\tremaining: 3.35s\n",
            "142:\tlearn: 0.0176959\ttotal: 557ms\tremaining: 3.34s\n",
            "143:\tlearn: 0.0176683\ttotal: 559ms\tremaining: 3.32s\n",
            "144:\tlearn: 0.0176506\ttotal: 561ms\tremaining: 3.31s\n",
            "145:\tlearn: 0.0176347\ttotal: 564ms\tremaining: 3.3s\n",
            "146:\tlearn: 0.0176195\ttotal: 567ms\tremaining: 3.29s\n",
            "147:\tlearn: 0.0175917\ttotal: 570ms\tremaining: 3.28s\n",
            "148:\tlearn: 0.0175610\ttotal: 572ms\tremaining: 3.27s\n",
            "149:\tlearn: 0.0175439\ttotal: 574ms\tremaining: 3.25s\n",
            "150:\tlearn: 0.0175137\ttotal: 576ms\tremaining: 3.24s\n",
            "151:\tlearn: 0.0175031\ttotal: 579ms\tremaining: 3.23s\n",
            "152:\tlearn: 0.0174656\ttotal: 583ms\tremaining: 3.23s\n",
            "153:\tlearn: 0.0174491\ttotal: 585ms\tremaining: 3.21s\n",
            "154:\tlearn: 0.0174264\ttotal: 587ms\tremaining: 3.2s\n",
            "155:\tlearn: 0.0174026\ttotal: 590ms\tremaining: 3.19s\n",
            "156:\tlearn: 0.0173761\ttotal: 592ms\tremaining: 3.18s\n",
            "157:\tlearn: 0.0173685\ttotal: 597ms\tremaining: 3.18s\n",
            "158:\tlearn: 0.0173398\ttotal: 599ms\tremaining: 3.17s\n",
            "159:\tlearn: 0.0173185\ttotal: 603ms\tremaining: 3.17s\n",
            "160:\tlearn: 0.0173062\ttotal: 605ms\tremaining: 3.15s\n",
            "161:\tlearn: 0.0172835\ttotal: 608ms\tremaining: 3.14s\n",
            "162:\tlearn: 0.0172741\ttotal: 612ms\tremaining: 3.14s\n",
            "163:\tlearn: 0.0172594\ttotal: 615ms\tremaining: 3.13s\n",
            "164:\tlearn: 0.0172477\ttotal: 617ms\tremaining: 3.12s\n",
            "165:\tlearn: 0.0172367\ttotal: 619ms\tremaining: 3.11s\n",
            "166:\tlearn: 0.0172144\ttotal: 622ms\tremaining: 3.1s\n",
            "167:\tlearn: 0.0171961\ttotal: 625ms\tremaining: 3.1s\n",
            "168:\tlearn: 0.0171871\ttotal: 628ms\tremaining: 3.09s\n",
            "169:\tlearn: 0.0171679\ttotal: 630ms\tremaining: 3.07s\n",
            "170:\tlearn: 0.0171572\ttotal: 631ms\tremaining: 3.06s\n",
            "171:\tlearn: 0.0171501\ttotal: 634ms\tremaining: 3.05s\n",
            "172:\tlearn: 0.0171455\ttotal: 636ms\tremaining: 3.04s\n",
            "173:\tlearn: 0.0171320\ttotal: 638ms\tremaining: 3.03s\n",
            "174:\tlearn: 0.0171149\ttotal: 641ms\tremaining: 3.02s\n",
            "175:\tlearn: 0.0171095\ttotal: 643ms\tremaining: 3.01s\n",
            "176:\tlearn: 0.0170837\ttotal: 646ms\tremaining: 3s\n",
            "177:\tlearn: 0.0170696\ttotal: 648ms\tremaining: 2.99s\n",
            "178:\tlearn: 0.0170542\ttotal: 650ms\tremaining: 2.98s\n",
            "179:\tlearn: 0.0170450\ttotal: 652ms\tremaining: 2.97s\n",
            "180:\tlearn: 0.0170232\ttotal: 656ms\tremaining: 2.97s\n",
            "181:\tlearn: 0.0170081\ttotal: 659ms\tremaining: 2.96s\n",
            "182:\tlearn: 0.0169762\ttotal: 661ms\tremaining: 2.95s\n",
            "183:\tlearn: 0.0169646\ttotal: 663ms\tremaining: 2.94s\n",
            "184:\tlearn: 0.0169371\ttotal: 665ms\tremaining: 2.93s\n",
            "185:\tlearn: 0.0169200\ttotal: 667ms\tremaining: 2.92s\n",
            "186:\tlearn: 0.0168973\ttotal: 672ms\tremaining: 2.92s\n",
            "187:\tlearn: 0.0168867\ttotal: 674ms\tremaining: 2.91s\n",
            "188:\tlearn: 0.0168793\ttotal: 677ms\tremaining: 2.9s\n",
            "189:\tlearn: 0.0168610\ttotal: 679ms\tremaining: 2.9s\n",
            "190:\tlearn: 0.0168549\ttotal: 681ms\tremaining: 2.88s\n",
            "191:\tlearn: 0.0168372\ttotal: 684ms\tremaining: 2.88s\n",
            "192:\tlearn: 0.0168118\ttotal: 688ms\tremaining: 2.88s\n",
            "193:\tlearn: 0.0167982\ttotal: 690ms\tremaining: 2.87s\n",
            "194:\tlearn: 0.0167729\ttotal: 692ms\tremaining: 2.86s\n",
            "195:\tlearn: 0.0167678\ttotal: 694ms\tremaining: 2.85s\n",
            "196:\tlearn: 0.0167446\ttotal: 696ms\tremaining: 2.84s\n",
            "197:\tlearn: 0.0167183\ttotal: 698ms\tremaining: 2.83s\n",
            "198:\tlearn: 0.0167068\ttotal: 701ms\tremaining: 2.82s\n",
            "199:\tlearn: 0.0166718\ttotal: 703ms\tremaining: 2.81s\n",
            "200:\tlearn: 0.0166596\ttotal: 705ms\tremaining: 2.8s\n",
            "201:\tlearn: 0.0166512\ttotal: 707ms\tremaining: 2.79s\n",
            "202:\tlearn: 0.0166329\ttotal: 709ms\tremaining: 2.78s\n",
            "203:\tlearn: 0.0166119\ttotal: 711ms\tremaining: 2.77s\n",
            "204:\tlearn: 0.0165803\ttotal: 713ms\tremaining: 2.77s\n",
            "205:\tlearn: 0.0165744\ttotal: 716ms\tremaining: 2.76s\n",
            "206:\tlearn: 0.0165690\ttotal: 718ms\tremaining: 2.75s\n",
            "207:\tlearn: 0.0165552\ttotal: 720ms\tremaining: 2.74s\n",
            "208:\tlearn: 0.0165413\ttotal: 722ms\tremaining: 2.73s\n",
            "209:\tlearn: 0.0165157\ttotal: 726ms\tremaining: 2.73s\n",
            "210:\tlearn: 0.0165072\ttotal: 728ms\tremaining: 2.72s\n",
            "211:\tlearn: 0.0164887\ttotal: 731ms\tremaining: 2.71s\n",
            "212:\tlearn: 0.0164527\ttotal: 733ms\tremaining: 2.71s\n",
            "213:\tlearn: 0.0164404\ttotal: 735ms\tremaining: 2.7s\n",
            "214:\tlearn: 0.0164153\ttotal: 738ms\tremaining: 2.69s\n",
            "215:\tlearn: 0.0164077\ttotal: 740ms\tremaining: 2.69s\n",
            "216:\tlearn: 0.0163931\ttotal: 742ms\tremaining: 2.68s\n",
            "217:\tlearn: 0.0163741\ttotal: 744ms\tremaining: 2.67s\n",
            "218:\tlearn: 0.0163655\ttotal: 747ms\tremaining: 2.66s\n",
            "219:\tlearn: 0.0163521\ttotal: 749ms\tremaining: 2.66s\n",
            "220:\tlearn: 0.0163404\ttotal: 753ms\tremaining: 2.65s\n",
            "221:\tlearn: 0.0163222\ttotal: 755ms\tremaining: 2.65s\n",
            "222:\tlearn: 0.0162995\ttotal: 757ms\tremaining: 2.64s\n",
            "223:\tlearn: 0.0162940\ttotal: 760ms\tremaining: 2.63s\n",
            "224:\tlearn: 0.0162595\ttotal: 764ms\tremaining: 2.63s\n",
            "225:\tlearn: 0.0162546\ttotal: 766ms\tremaining: 2.62s\n",
            "226:\tlearn: 0.0162520\ttotal: 768ms\tremaining: 2.62s\n",
            "227:\tlearn: 0.0162275\ttotal: 770ms\tremaining: 2.61s\n",
            "228:\tlearn: 0.0162052\ttotal: 772ms\tremaining: 2.6s\n",
            "229:\tlearn: 0.0161872\ttotal: 775ms\tremaining: 2.59s\n",
            "230:\tlearn: 0.0161845\ttotal: 778ms\tremaining: 2.59s\n",
            "231:\tlearn: 0.0161740\ttotal: 781ms\tremaining: 2.58s\n",
            "232:\tlearn: 0.0161468\ttotal: 784ms\tremaining: 2.58s\n",
            "233:\tlearn: 0.0161230\ttotal: 786ms\tremaining: 2.57s\n",
            "234:\tlearn: 0.0161004\ttotal: 789ms\tremaining: 2.57s\n",
            "235:\tlearn: 0.0160965\ttotal: 792ms\tremaining: 2.56s\n",
            "236:\tlearn: 0.0160744\ttotal: 796ms\tremaining: 2.56s\n",
            "237:\tlearn: 0.0160494\ttotal: 801ms\tremaining: 2.56s\n",
            "238:\tlearn: 0.0160259\ttotal: 805ms\tremaining: 2.56s\n",
            "239:\tlearn: 0.0160208\ttotal: 809ms\tremaining: 2.56s\n",
            "240:\tlearn: 0.0159989\ttotal: 814ms\tremaining: 2.56s\n",
            "241:\tlearn: 0.0159733\ttotal: 817ms\tremaining: 2.56s\n",
            "242:\tlearn: 0.0159503\ttotal: 820ms\tremaining: 2.55s\n",
            "243:\tlearn: 0.0159267\ttotal: 823ms\tremaining: 2.55s\n",
            "244:\tlearn: 0.0159066\ttotal: 826ms\tremaining: 2.54s\n",
            "245:\tlearn: 0.0159017\ttotal: 828ms\tremaining: 2.54s\n",
            "246:\tlearn: 0.0158814\ttotal: 831ms\tremaining: 2.53s\n",
            "247:\tlearn: 0.0158729\ttotal: 833ms\tremaining: 2.52s\n",
            "248:\tlearn: 0.0158364\ttotal: 835ms\tremaining: 2.52s\n",
            "249:\tlearn: 0.0158163\ttotal: 839ms\tremaining: 2.52s\n",
            "250:\tlearn: 0.0157901\ttotal: 841ms\tremaining: 2.51s\n",
            "251:\tlearn: 0.0157845\ttotal: 844ms\tremaining: 2.5s\n",
            "252:\tlearn: 0.0157655\ttotal: 846ms\tremaining: 2.5s\n",
            "253:\tlearn: 0.0157357\ttotal: 849ms\tremaining: 2.49s\n",
            "254:\tlearn: 0.0157148\ttotal: 851ms\tremaining: 2.49s\n",
            "255:\tlearn: 0.0156846\ttotal: 855ms\tremaining: 2.48s\n",
            "256:\tlearn: 0.0156716\ttotal: 857ms\tremaining: 2.48s\n",
            "257:\tlearn: 0.0156545\ttotal: 860ms\tremaining: 2.47s\n",
            "258:\tlearn: 0.0156296\ttotal: 862ms\tremaining: 2.47s\n",
            "259:\tlearn: 0.0156008\ttotal: 865ms\tremaining: 2.46s\n",
            "260:\tlearn: 0.0155805\ttotal: 868ms\tremaining: 2.46s\n",
            "261:\tlearn: 0.0155581\ttotal: 871ms\tremaining: 2.45s\n",
            "262:\tlearn: 0.0155414\ttotal: 874ms\tremaining: 2.45s\n",
            "263:\tlearn: 0.0155241\ttotal: 876ms\tremaining: 2.44s\n",
            "264:\tlearn: 0.0154965\ttotal: 879ms\tremaining: 2.44s\n",
            "265:\tlearn: 0.0154798\ttotal: 882ms\tremaining: 2.43s\n",
            "266:\tlearn: 0.0154504\ttotal: 884ms\tremaining: 2.43s\n",
            "267:\tlearn: 0.0154471\ttotal: 887ms\tremaining: 2.42s\n",
            "268:\tlearn: 0.0154284\ttotal: 889ms\tremaining: 2.42s\n",
            "269:\tlearn: 0.0154264\ttotal: 891ms\tremaining: 2.41s\n",
            "270:\tlearn: 0.0154156\ttotal: 893ms\tremaining: 2.4s\n",
            "271:\tlearn: 0.0154004\ttotal: 897ms\tremaining: 2.4s\n",
            "272:\tlearn: 0.0153744\ttotal: 900ms\tremaining: 2.4s\n",
            "273:\tlearn: 0.0153606\ttotal: 902ms\tremaining: 2.39s\n",
            "274:\tlearn: 0.0153354\ttotal: 905ms\tremaining: 2.38s\n",
            "275:\tlearn: 0.0153200\ttotal: 907ms\tremaining: 2.38s\n",
            "276:\tlearn: 0.0153082\ttotal: 911ms\tremaining: 2.38s\n",
            "277:\tlearn: 0.0152924\ttotal: 914ms\tremaining: 2.37s\n",
            "278:\tlearn: 0.0152755\ttotal: 916ms\tremaining: 2.37s\n",
            "279:\tlearn: 0.0152560\ttotal: 919ms\tremaining: 2.36s\n",
            "280:\tlearn: 0.0152455\ttotal: 921ms\tremaining: 2.36s\n",
            "281:\tlearn: 0.0152306\ttotal: 923ms\tremaining: 2.35s\n",
            "282:\tlearn: 0.0152136\ttotal: 927ms\tremaining: 2.35s\n",
            "283:\tlearn: 0.0151954\ttotal: 930ms\tremaining: 2.35s\n",
            "284:\tlearn: 0.0151840\ttotal: 933ms\tremaining: 2.34s\n",
            "285:\tlearn: 0.0151691\ttotal: 935ms\tremaining: 2.33s\n",
            "286:\tlearn: 0.0151511\ttotal: 939ms\tremaining: 2.33s\n",
            "287:\tlearn: 0.0151315\ttotal: 943ms\tremaining: 2.33s\n",
            "288:\tlearn: 0.0151294\ttotal: 946ms\tremaining: 2.33s\n",
            "289:\tlearn: 0.0151224\ttotal: 948ms\tremaining: 2.32s\n",
            "290:\tlearn: 0.0151126\ttotal: 952ms\tremaining: 2.32s\n",
            "291:\tlearn: 0.0150888\ttotal: 956ms\tremaining: 2.32s\n",
            "292:\tlearn: 0.0150793\ttotal: 959ms\tremaining: 2.31s\n",
            "293:\tlearn: 0.0150612\ttotal: 962ms\tremaining: 2.31s\n",
            "294:\tlearn: 0.0150520\ttotal: 965ms\tremaining: 2.31s\n",
            "295:\tlearn: 0.0150450\ttotal: 967ms\tremaining: 2.3s\n",
            "296:\tlearn: 0.0150352\ttotal: 971ms\tremaining: 2.3s\n",
            "297:\tlearn: 0.0150217\ttotal: 974ms\tremaining: 2.29s\n",
            "298:\tlearn: 0.0150101\ttotal: 977ms\tremaining: 2.29s\n",
            "299:\tlearn: 0.0149957\ttotal: 980ms\tremaining: 2.29s\n",
            "300:\tlearn: 0.0149871\ttotal: 983ms\tremaining: 2.28s\n",
            "301:\tlearn: 0.0149792\ttotal: 985ms\tremaining: 2.28s\n",
            "302:\tlearn: 0.0149646\ttotal: 988ms\tremaining: 2.27s\n",
            "303:\tlearn: 0.0149471\ttotal: 991ms\tremaining: 2.27s\n",
            "304:\tlearn: 0.0149332\ttotal: 993ms\tremaining: 2.26s\n",
            "305:\tlearn: 0.0149185\ttotal: 995ms\tremaining: 2.26s\n",
            "306:\tlearn: 0.0149007\ttotal: 997ms\tremaining: 2.25s\n",
            "307:\tlearn: 0.0148901\ttotal: 999ms\tremaining: 2.24s\n",
            "308:\tlearn: 0.0148754\ttotal: 1s\tremaining: 2.24s\n",
            "309:\tlearn: 0.0148561\ttotal: 1s\tremaining: 2.24s\n",
            "310:\tlearn: 0.0148396\ttotal: 1.01s\tremaining: 2.23s\n",
            "311:\tlearn: 0.0148174\ttotal: 1.01s\tremaining: 2.22s\n",
            "312:\tlearn: 0.0148007\ttotal: 1.01s\tremaining: 2.22s\n",
            "313:\tlearn: 0.0147963\ttotal: 1.01s\tremaining: 2.21s\n",
            "314:\tlearn: 0.0147752\ttotal: 1.01s\tremaining: 2.21s\n",
            "315:\tlearn: 0.0147572\ttotal: 1.02s\tremaining: 2.2s\n",
            "316:\tlearn: 0.0147424\ttotal: 1.02s\tremaining: 2.2s\n",
            "317:\tlearn: 0.0147304\ttotal: 1.02s\tremaining: 2.19s\n",
            "318:\tlearn: 0.0147173\ttotal: 1.02s\tremaining: 2.18s\n",
            "319:\tlearn: 0.0146920\ttotal: 1.02s\tremaining: 2.18s\n",
            "320:\tlearn: 0.0146702\ttotal: 1.03s\tremaining: 2.17s\n",
            "321:\tlearn: 0.0146523\ttotal: 1.03s\tremaining: 2.17s\n",
            "322:\tlearn: 0.0146287\ttotal: 1.03s\tremaining: 2.16s\n",
            "323:\tlearn: 0.0146052\ttotal: 1.03s\tremaining: 2.16s\n",
            "324:\tlearn: 0.0145913\ttotal: 1.04s\tremaining: 2.15s\n",
            "325:\tlearn: 0.0145660\ttotal: 1.04s\tremaining: 2.15s\n",
            "326:\tlearn: 0.0145571\ttotal: 1.04s\tremaining: 2.14s\n",
            "327:\tlearn: 0.0145477\ttotal: 1.04s\tremaining: 2.13s\n",
            "328:\tlearn: 0.0145415\ttotal: 1.04s\tremaining: 2.13s\n",
            "329:\tlearn: 0.0145289\ttotal: 1.05s\tremaining: 2.12s\n",
            "330:\tlearn: 0.0145119\ttotal: 1.05s\tremaining: 2.12s\n",
            "331:\tlearn: 0.0145029\ttotal: 1.05s\tremaining: 2.12s\n",
            "332:\tlearn: 0.0144932\ttotal: 1.05s\tremaining: 2.11s\n",
            "333:\tlearn: 0.0144849\ttotal: 1.05s\tremaining: 2.1s\n",
            "334:\tlearn: 0.0144704\ttotal: 1.06s\tremaining: 2.1s\n",
            "335:\tlearn: 0.0144646\ttotal: 1.06s\tremaining: 2.09s\n",
            "336:\tlearn: 0.0144516\ttotal: 1.06s\tremaining: 2.09s\n",
            "337:\tlearn: 0.0144385\ttotal: 1.06s\tremaining: 2.08s\n",
            "338:\tlearn: 0.0144274\ttotal: 1.07s\tremaining: 2.08s\n",
            "339:\tlearn: 0.0144082\ttotal: 1.07s\tremaining: 2.07s\n",
            "340:\tlearn: 0.0143868\ttotal: 1.07s\tremaining: 2.07s\n",
            "341:\tlearn: 0.0143730\ttotal: 1.07s\tremaining: 2.06s\n",
            "342:\tlearn: 0.0143601\ttotal: 1.07s\tremaining: 2.06s\n",
            "343:\tlearn: 0.0143523\ttotal: 1.08s\tremaining: 2.05s\n",
            "344:\tlearn: 0.0143459\ttotal: 1.08s\tremaining: 2.06s\n",
            "345:\tlearn: 0.0143303\ttotal: 1.08s\tremaining: 2.05s\n",
            "346:\tlearn: 0.0143225\ttotal: 1.09s\tremaining: 2.05s\n",
            "347:\tlearn: 0.0143153\ttotal: 1.09s\tremaining: 2.04s\n",
            "348:\tlearn: 0.0143022\ttotal: 1.09s\tremaining: 2.04s\n",
            "349:\tlearn: 0.0142829\ttotal: 1.09s\tremaining: 2.03s\n",
            "350:\tlearn: 0.0142673\ttotal: 1.1s\tremaining: 2.03s\n",
            "351:\tlearn: 0.0142560\ttotal: 1.1s\tremaining: 2.02s\n",
            "352:\tlearn: 0.0142435\ttotal: 1.1s\tremaining: 2.02s\n",
            "353:\tlearn: 0.0142377\ttotal: 1.1s\tremaining: 2.01s\n",
            "354:\tlearn: 0.0142290\ttotal: 1.1s\tremaining: 2.01s\n",
            "355:\tlearn: 0.0142182\ttotal: 1.11s\tremaining: 2s\n",
            "356:\tlearn: 0.0142110\ttotal: 1.11s\tremaining: 2.01s\n",
            "357:\tlearn: 0.0141949\ttotal: 1.12s\tremaining: 2s\n",
            "358:\tlearn: 0.0141901\ttotal: 1.12s\tremaining: 2s\n",
            "359:\tlearn: 0.0141714\ttotal: 1.12s\tremaining: 1.99s\n",
            "360:\tlearn: 0.0141654\ttotal: 1.12s\tremaining: 1.99s\n",
            "361:\tlearn: 0.0141586\ttotal: 1.12s\tremaining: 1.98s\n",
            "362:\tlearn: 0.0141344\ttotal: 1.13s\tremaining: 1.98s\n",
            "363:\tlearn: 0.0141212\ttotal: 1.13s\tremaining: 1.97s\n",
            "364:\tlearn: 0.0141100\ttotal: 1.13s\tremaining: 1.97s\n",
            "365:\tlearn: 0.0140999\ttotal: 1.13s\tremaining: 1.96s\n",
            "366:\tlearn: 0.0140849\ttotal: 1.14s\tremaining: 1.96s\n",
            "367:\tlearn: 0.0140725\ttotal: 1.14s\tremaining: 1.95s\n",
            "368:\tlearn: 0.0140644\ttotal: 1.14s\tremaining: 1.95s\n",
            "369:\tlearn: 0.0140504\ttotal: 1.14s\tremaining: 1.94s\n",
            "370:\tlearn: 0.0140312\ttotal: 1.14s\tremaining: 1.94s\n",
            "371:\tlearn: 0.0140241\ttotal: 1.15s\tremaining: 1.93s\n",
            "372:\tlearn: 0.0140197\ttotal: 1.15s\tremaining: 1.93s\n",
            "373:\tlearn: 0.0140046\ttotal: 1.15s\tremaining: 1.93s\n",
            "374:\tlearn: 0.0139904\ttotal: 1.15s\tremaining: 1.92s\n",
            "375:\tlearn: 0.0139868\ttotal: 1.15s\tremaining: 1.92s\n",
            "376:\tlearn: 0.0139820\ttotal: 1.16s\tremaining: 1.91s\n",
            "377:\tlearn: 0.0139659\ttotal: 1.16s\tremaining: 1.91s\n",
            "378:\tlearn: 0.0139479\ttotal: 1.16s\tremaining: 1.91s\n",
            "379:\tlearn: 0.0139342\ttotal: 1.17s\tremaining: 1.9s\n",
            "380:\tlearn: 0.0139269\ttotal: 1.17s\tremaining: 1.9s\n",
            "381:\tlearn: 0.0139091\ttotal: 1.17s\tremaining: 1.89s\n",
            "382:\tlearn: 0.0138959\ttotal: 1.17s\tremaining: 1.89s\n",
            "383:\tlearn: 0.0138803\ttotal: 1.18s\tremaining: 1.89s\n",
            "384:\tlearn: 0.0138755\ttotal: 1.18s\tremaining: 1.88s\n",
            "385:\tlearn: 0.0138674\ttotal: 1.18s\tremaining: 1.88s\n",
            "386:\tlearn: 0.0138581\ttotal: 1.18s\tremaining: 1.87s\n",
            "387:\tlearn: 0.0138468\ttotal: 1.18s\tremaining: 1.87s\n",
            "388:\tlearn: 0.0138327\ttotal: 1.19s\tremaining: 1.86s\n",
            "389:\tlearn: 0.0138264\ttotal: 1.19s\tremaining: 1.86s\n",
            "390:\tlearn: 0.0138168\ttotal: 1.19s\tremaining: 1.86s\n",
            "391:\tlearn: 0.0138068\ttotal: 1.19s\tremaining: 1.85s\n",
            "392:\tlearn: 0.0137957\ttotal: 1.2s\tremaining: 1.85s\n",
            "393:\tlearn: 0.0137825\ttotal: 1.2s\tremaining: 1.84s\n",
            "394:\tlearn: 0.0137777\ttotal: 1.2s\tremaining: 1.84s\n",
            "395:\tlearn: 0.0137649\ttotal: 1.2s\tremaining: 1.83s\n",
            "396:\tlearn: 0.0137565\ttotal: 1.2s\tremaining: 1.83s\n",
            "397:\tlearn: 0.0137377\ttotal: 1.21s\tremaining: 1.82s\n",
            "398:\tlearn: 0.0137291\ttotal: 1.21s\tremaining: 1.82s\n",
            "399:\tlearn: 0.0137216\ttotal: 1.21s\tremaining: 1.82s\n",
            "400:\tlearn: 0.0137133\ttotal: 1.21s\tremaining: 1.81s\n",
            "401:\tlearn: 0.0137006\ttotal: 1.22s\tremaining: 1.81s\n",
            "402:\tlearn: 0.0136916\ttotal: 1.22s\tremaining: 1.8s\n",
            "403:\tlearn: 0.0136744\ttotal: 1.22s\tremaining: 1.8s\n",
            "404:\tlearn: 0.0136616\ttotal: 1.22s\tremaining: 1.79s\n",
            "405:\tlearn: 0.0136397\ttotal: 1.22s\tremaining: 1.79s\n",
            "406:\tlearn: 0.0136377\ttotal: 1.23s\tremaining: 1.78s\n",
            "407:\tlearn: 0.0136251\ttotal: 1.23s\tremaining: 1.78s\n",
            "408:\tlearn: 0.0136081\ttotal: 1.23s\tremaining: 1.78s\n",
            "409:\tlearn: 0.0135944\ttotal: 1.23s\tremaining: 1.77s\n",
            "410:\tlearn: 0.0135832\ttotal: 1.24s\tremaining: 1.77s\n",
            "411:\tlearn: 0.0135664\ttotal: 1.24s\tremaining: 1.77s\n",
            "412:\tlearn: 0.0135602\ttotal: 1.24s\tremaining: 1.76s\n",
            "413:\tlearn: 0.0135478\ttotal: 1.24s\tremaining: 1.76s\n",
            "414:\tlearn: 0.0135274\ttotal: 1.25s\tremaining: 1.76s\n",
            "415:\tlearn: 0.0135213\ttotal: 1.25s\tremaining: 1.75s\n",
            "416:\tlearn: 0.0135029\ttotal: 1.25s\tremaining: 1.75s\n",
            "417:\tlearn: 0.0134926\ttotal: 1.25s\tremaining: 1.75s\n",
            "418:\tlearn: 0.0134722\ttotal: 1.25s\tremaining: 1.74s\n",
            "419:\tlearn: 0.0134592\ttotal: 1.26s\tremaining: 1.74s\n",
            "420:\tlearn: 0.0134569\ttotal: 1.26s\tremaining: 1.73s\n",
            "421:\tlearn: 0.0134485\ttotal: 1.26s\tremaining: 1.73s\n",
            "422:\tlearn: 0.0134449\ttotal: 1.26s\tremaining: 1.73s\n",
            "423:\tlearn: 0.0134237\ttotal: 1.27s\tremaining: 1.72s\n",
            "424:\tlearn: 0.0134186\ttotal: 1.27s\tremaining: 1.72s\n",
            "425:\tlearn: 0.0133953\ttotal: 1.27s\tremaining: 1.71s\n",
            "426:\tlearn: 0.0133769\ttotal: 1.27s\tremaining: 1.71s\n",
            "427:\tlearn: 0.0133756\ttotal: 1.28s\tremaining: 1.71s\n",
            "428:\tlearn: 0.0133584\ttotal: 1.28s\tremaining: 1.71s\n",
            "429:\tlearn: 0.0133495\ttotal: 1.28s\tremaining: 1.7s\n",
            "430:\tlearn: 0.0133490\ttotal: 1.29s\tremaining: 1.7s\n",
            "431:\tlearn: 0.0133389\ttotal: 1.29s\tremaining: 1.69s\n",
            "432:\tlearn: 0.0133368\ttotal: 1.29s\tremaining: 1.69s\n",
            "433:\tlearn: 0.0133260\ttotal: 1.29s\tremaining: 1.69s\n",
            "434:\tlearn: 0.0133196\ttotal: 1.29s\tremaining: 1.68s\n",
            "435:\tlearn: 0.0133181\ttotal: 1.3s\tremaining: 1.68s\n",
            "436:\tlearn: 0.0133104\ttotal: 1.3s\tremaining: 1.68s\n",
            "437:\tlearn: 0.0132940\ttotal: 1.3s\tremaining: 1.67s\n",
            "438:\tlearn: 0.0132798\ttotal: 1.3s\tremaining: 1.67s\n",
            "439:\tlearn: 0.0132698\ttotal: 1.31s\tremaining: 1.66s\n",
            "440:\tlearn: 0.0132694\ttotal: 1.31s\tremaining: 1.66s\n",
            "441:\tlearn: 0.0132627\ttotal: 1.31s\tremaining: 1.66s\n",
            "442:\tlearn: 0.0132534\ttotal: 1.31s\tremaining: 1.65s\n",
            "443:\tlearn: 0.0132414\ttotal: 1.32s\tremaining: 1.65s\n",
            "444:\tlearn: 0.0132281\ttotal: 1.32s\tremaining: 1.64s\n",
            "445:\tlearn: 0.0132148\ttotal: 1.32s\tremaining: 1.64s\n",
            "446:\tlearn: 0.0132068\ttotal: 1.32s\tremaining: 1.64s\n",
            "447:\tlearn: 0.0131909\ttotal: 1.32s\tremaining: 1.63s\n",
            "448:\tlearn: 0.0131784\ttotal: 1.33s\tremaining: 1.63s\n",
            "449:\tlearn: 0.0131780\ttotal: 1.33s\tremaining: 1.63s\n",
            "450:\tlearn: 0.0131635\ttotal: 1.33s\tremaining: 1.62s\n",
            "451:\tlearn: 0.0131536\ttotal: 1.33s\tremaining: 1.62s\n",
            "452:\tlearn: 0.0131443\ttotal: 1.34s\tremaining: 1.61s\n",
            "453:\tlearn: 0.0131250\ttotal: 1.34s\tremaining: 1.61s\n",
            "454:\tlearn: 0.0131194\ttotal: 1.34s\tremaining: 1.61s\n",
            "455:\tlearn: 0.0131057\ttotal: 1.34s\tremaining: 1.6s\n",
            "456:\tlearn: 0.0130917\ttotal: 1.35s\tremaining: 1.6s\n",
            "457:\tlearn: 0.0130859\ttotal: 1.35s\tremaining: 1.6s\n",
            "458:\tlearn: 0.0130794\ttotal: 1.35s\tremaining: 1.59s\n",
            "459:\tlearn: 0.0130703\ttotal: 1.36s\tremaining: 1.59s\n",
            "460:\tlearn: 0.0130616\ttotal: 1.36s\tremaining: 1.59s\n",
            "461:\tlearn: 0.0130534\ttotal: 1.36s\tremaining: 1.58s\n",
            "462:\tlearn: 0.0130466\ttotal: 1.36s\tremaining: 1.58s\n",
            "463:\tlearn: 0.0130407\ttotal: 1.36s\tremaining: 1.58s\n",
            "464:\tlearn: 0.0130272\ttotal: 1.37s\tremaining: 1.57s\n",
            "465:\tlearn: 0.0130190\ttotal: 1.37s\tremaining: 1.57s\n",
            "466:\tlearn: 0.0130072\ttotal: 1.37s\tremaining: 1.57s\n",
            "467:\tlearn: 0.0129985\ttotal: 1.38s\tremaining: 1.56s\n",
            "468:\tlearn: 0.0129817\ttotal: 1.38s\tremaining: 1.56s\n",
            "469:\tlearn: 0.0129658\ttotal: 1.38s\tremaining: 1.56s\n",
            "470:\tlearn: 0.0129539\ttotal: 1.39s\tremaining: 1.56s\n",
            "471:\tlearn: 0.0129441\ttotal: 1.39s\tremaining: 1.55s\n",
            "472:\tlearn: 0.0129324\ttotal: 1.39s\tremaining: 1.55s\n",
            "473:\tlearn: 0.0129240\ttotal: 1.39s\tremaining: 1.55s\n",
            "474:\tlearn: 0.0129188\ttotal: 1.4s\tremaining: 1.54s\n",
            "475:\tlearn: 0.0129072\ttotal: 1.4s\tremaining: 1.54s\n",
            "476:\tlearn: 0.0129038\ttotal: 1.4s\tremaining: 1.54s\n",
            "477:\tlearn: 0.0128907\ttotal: 1.4s\tremaining: 1.53s\n",
            "478:\tlearn: 0.0128795\ttotal: 1.41s\tremaining: 1.53s\n",
            "479:\tlearn: 0.0128679\ttotal: 1.41s\tremaining: 1.53s\n",
            "480:\tlearn: 0.0128530\ttotal: 1.41s\tremaining: 1.52s\n",
            "481:\tlearn: 0.0128478\ttotal: 1.41s\tremaining: 1.52s\n",
            "482:\tlearn: 0.0128358\ttotal: 1.42s\tremaining: 1.51s\n",
            "483:\tlearn: 0.0128278\ttotal: 1.42s\tremaining: 1.51s\n",
            "484:\tlearn: 0.0128197\ttotal: 1.43s\tremaining: 1.52s\n",
            "485:\tlearn: 0.0128050\ttotal: 1.44s\tremaining: 1.52s\n",
            "486:\tlearn: 0.0127983\ttotal: 1.44s\tremaining: 1.51s\n",
            "487:\tlearn: 0.0127918\ttotal: 1.44s\tremaining: 1.51s\n",
            "488:\tlearn: 0.0127804\ttotal: 1.44s\tremaining: 1.51s\n",
            "489:\tlearn: 0.0127704\ttotal: 1.44s\tremaining: 1.5s\n",
            "490:\tlearn: 0.0127556\ttotal: 1.45s\tremaining: 1.5s\n",
            "491:\tlearn: 0.0127482\ttotal: 1.45s\tremaining: 1.5s\n",
            "492:\tlearn: 0.0127391\ttotal: 1.45s\tremaining: 1.49s\n",
            "493:\tlearn: 0.0127321\ttotal: 1.45s\tremaining: 1.49s\n",
            "494:\tlearn: 0.0127186\ttotal: 1.46s\tremaining: 1.49s\n",
            "495:\tlearn: 0.0127054\ttotal: 1.46s\tremaining: 1.48s\n",
            "496:\tlearn: 0.0126942\ttotal: 1.46s\tremaining: 1.48s\n",
            "497:\tlearn: 0.0126840\ttotal: 1.46s\tremaining: 1.47s\n",
            "498:\tlearn: 0.0126768\ttotal: 1.47s\tremaining: 1.47s\n",
            "499:\tlearn: 0.0126625\ttotal: 1.47s\tremaining: 1.47s\n",
            "500:\tlearn: 0.0126553\ttotal: 1.47s\tremaining: 1.46s\n",
            "501:\tlearn: 0.0126433\ttotal: 1.47s\tremaining: 1.46s\n",
            "502:\tlearn: 0.0126310\ttotal: 1.47s\tremaining: 1.46s\n",
            "503:\tlearn: 0.0126209\ttotal: 1.48s\tremaining: 1.45s\n",
            "504:\tlearn: 0.0126099\ttotal: 1.48s\tremaining: 1.45s\n",
            "505:\tlearn: 0.0126018\ttotal: 1.48s\tremaining: 1.45s\n",
            "506:\tlearn: 0.0125975\ttotal: 1.48s\tremaining: 1.44s\n",
            "507:\tlearn: 0.0125899\ttotal: 1.49s\tremaining: 1.44s\n",
            "508:\tlearn: 0.0125841\ttotal: 1.49s\tremaining: 1.44s\n",
            "509:\tlearn: 0.0125826\ttotal: 1.49s\tremaining: 1.43s\n",
            "510:\tlearn: 0.0125711\ttotal: 1.49s\tremaining: 1.43s\n",
            "511:\tlearn: 0.0125643\ttotal: 1.49s\tremaining: 1.42s\n",
            "512:\tlearn: 0.0125535\ttotal: 1.5s\tremaining: 1.42s\n",
            "513:\tlearn: 0.0125458\ttotal: 1.5s\tremaining: 1.42s\n",
            "514:\tlearn: 0.0125340\ttotal: 1.5s\tremaining: 1.41s\n",
            "515:\tlearn: 0.0125249\ttotal: 1.5s\tremaining: 1.41s\n",
            "516:\tlearn: 0.0125191\ttotal: 1.5s\tremaining: 1.41s\n",
            "517:\tlearn: 0.0125137\ttotal: 1.51s\tremaining: 1.4s\n",
            "518:\tlearn: 0.0125025\ttotal: 1.51s\tremaining: 1.4s\n",
            "519:\tlearn: 0.0125022\ttotal: 1.51s\tremaining: 1.4s\n",
            "520:\tlearn: 0.0124983\ttotal: 1.51s\tremaining: 1.39s\n",
            "521:\tlearn: 0.0124910\ttotal: 1.52s\tremaining: 1.39s\n",
            "522:\tlearn: 0.0124805\ttotal: 1.52s\tremaining: 1.39s\n",
            "523:\tlearn: 0.0124731\ttotal: 1.52s\tremaining: 1.38s\n",
            "524:\tlearn: 0.0124660\ttotal: 1.52s\tremaining: 1.38s\n",
            "525:\tlearn: 0.0124521\ttotal: 1.53s\tremaining: 1.38s\n",
            "526:\tlearn: 0.0124463\ttotal: 1.53s\tremaining: 1.37s\n",
            "527:\tlearn: 0.0124460\ttotal: 1.53s\tremaining: 1.37s\n",
            "528:\tlearn: 0.0124448\ttotal: 1.53s\tremaining: 1.37s\n",
            "529:\tlearn: 0.0124317\ttotal: 1.54s\tremaining: 1.36s\n",
            "530:\tlearn: 0.0124214\ttotal: 1.54s\tremaining: 1.36s\n",
            "531:\tlearn: 0.0124156\ttotal: 1.54s\tremaining: 1.36s\n",
            "532:\tlearn: 0.0124088\ttotal: 1.54s\tremaining: 1.35s\n",
            "533:\tlearn: 0.0124046\ttotal: 1.55s\tremaining: 1.35s\n",
            "534:\tlearn: 0.0123927\ttotal: 1.55s\tremaining: 1.35s\n",
            "535:\tlearn: 0.0123831\ttotal: 1.55s\tremaining: 1.34s\n",
            "536:\tlearn: 0.0123773\ttotal: 1.56s\tremaining: 1.34s\n",
            "537:\tlearn: 0.0123697\ttotal: 1.56s\tremaining: 1.34s\n",
            "538:\tlearn: 0.0123590\ttotal: 1.56s\tremaining: 1.33s\n",
            "539:\tlearn: 0.0123509\ttotal: 1.56s\tremaining: 1.33s\n",
            "540:\tlearn: 0.0123413\ttotal: 1.56s\tremaining: 1.33s\n",
            "541:\tlearn: 0.0123354\ttotal: 1.57s\tremaining: 1.32s\n",
            "542:\tlearn: 0.0123161\ttotal: 1.57s\tremaining: 1.32s\n",
            "543:\tlearn: 0.0123089\ttotal: 1.57s\tremaining: 1.32s\n",
            "544:\tlearn: 0.0122985\ttotal: 1.57s\tremaining: 1.31s\n",
            "545:\tlearn: 0.0122870\ttotal: 1.58s\tremaining: 1.31s\n",
            "546:\tlearn: 0.0122788\ttotal: 1.58s\tremaining: 1.31s\n",
            "547:\tlearn: 0.0122727\ttotal: 1.58s\tremaining: 1.3s\n",
            "548:\tlearn: 0.0122625\ttotal: 1.58s\tremaining: 1.3s\n",
            "549:\tlearn: 0.0122507\ttotal: 1.59s\tremaining: 1.3s\n",
            "550:\tlearn: 0.0122383\ttotal: 1.59s\tremaining: 1.29s\n",
            "551:\tlearn: 0.0122252\ttotal: 1.59s\tremaining: 1.29s\n",
            "552:\tlearn: 0.0122168\ttotal: 1.59s\tremaining: 1.29s\n",
            "553:\tlearn: 0.0122140\ttotal: 1.59s\tremaining: 1.28s\n",
            "554:\tlearn: 0.0122071\ttotal: 1.6s\tremaining: 1.28s\n",
            "555:\tlearn: 0.0122036\ttotal: 1.6s\tremaining: 1.28s\n",
            "556:\tlearn: 0.0121838\ttotal: 1.6s\tremaining: 1.27s\n",
            "557:\tlearn: 0.0121815\ttotal: 1.6s\tremaining: 1.27s\n",
            "558:\tlearn: 0.0121709\ttotal: 1.61s\tremaining: 1.27s\n",
            "559:\tlearn: 0.0121628\ttotal: 1.61s\tremaining: 1.26s\n",
            "560:\tlearn: 0.0121554\ttotal: 1.61s\tremaining: 1.26s\n",
            "561:\tlearn: 0.0121463\ttotal: 1.62s\tremaining: 1.26s\n",
            "562:\tlearn: 0.0121372\ttotal: 1.62s\tremaining: 1.26s\n",
            "563:\tlearn: 0.0121285\ttotal: 1.62s\tremaining: 1.25s\n",
            "564:\tlearn: 0.0121188\ttotal: 1.62s\tremaining: 1.25s\n",
            "565:\tlearn: 0.0121067\ttotal: 1.63s\tremaining: 1.25s\n",
            "566:\tlearn: 0.0120934\ttotal: 1.63s\tremaining: 1.24s\n",
            "567:\tlearn: 0.0120836\ttotal: 1.63s\tremaining: 1.24s\n",
            "568:\tlearn: 0.0120833\ttotal: 1.63s\tremaining: 1.24s\n",
            "569:\tlearn: 0.0120829\ttotal: 1.63s\tremaining: 1.23s\n",
            "570:\tlearn: 0.0120718\ttotal: 1.64s\tremaining: 1.23s\n",
            "571:\tlearn: 0.0120689\ttotal: 1.64s\tremaining: 1.23s\n",
            "572:\tlearn: 0.0120562\ttotal: 1.64s\tremaining: 1.22s\n",
            "573:\tlearn: 0.0120462\ttotal: 1.64s\tremaining: 1.22s\n",
            "574:\tlearn: 0.0120460\ttotal: 1.65s\tremaining: 1.22s\n",
            "575:\tlearn: 0.0120431\ttotal: 1.65s\tremaining: 1.21s\n",
            "576:\tlearn: 0.0120329\ttotal: 1.65s\tremaining: 1.21s\n",
            "577:\tlearn: 0.0120229\ttotal: 1.65s\tremaining: 1.21s\n",
            "578:\tlearn: 0.0120220\ttotal: 1.65s\tremaining: 1.2s\n",
            "579:\tlearn: 0.0120179\ttotal: 1.66s\tremaining: 1.2s\n",
            "580:\tlearn: 0.0120127\ttotal: 1.66s\tremaining: 1.2s\n",
            "581:\tlearn: 0.0120034\ttotal: 1.66s\tremaining: 1.19s\n",
            "582:\tlearn: 0.0119924\ttotal: 1.66s\tremaining: 1.19s\n",
            "583:\tlearn: 0.0119922\ttotal: 1.66s\tremaining: 1.19s\n",
            "584:\tlearn: 0.0119783\ttotal: 1.67s\tremaining: 1.18s\n",
            "585:\tlearn: 0.0119647\ttotal: 1.67s\tremaining: 1.18s\n",
            "586:\tlearn: 0.0119617\ttotal: 1.67s\tremaining: 1.18s\n",
            "587:\tlearn: 0.0119608\ttotal: 1.67s\tremaining: 1.17s\n",
            "588:\tlearn: 0.0119600\ttotal: 1.68s\tremaining: 1.17s\n",
            "589:\tlearn: 0.0119598\ttotal: 1.68s\tremaining: 1.17s\n",
            "590:\tlearn: 0.0119541\ttotal: 1.68s\tremaining: 1.16s\n",
            "591:\tlearn: 0.0119453\ttotal: 1.68s\tremaining: 1.16s\n",
            "592:\tlearn: 0.0119403\ttotal: 1.69s\tremaining: 1.16s\n",
            "593:\tlearn: 0.0119395\ttotal: 1.69s\tremaining: 1.15s\n",
            "594:\tlearn: 0.0119274\ttotal: 1.69s\tremaining: 1.15s\n",
            "595:\tlearn: 0.0119215\ttotal: 1.69s\tremaining: 1.15s\n",
            "596:\tlearn: 0.0119087\ttotal: 1.7s\tremaining: 1.14s\n",
            "597:\tlearn: 0.0119024\ttotal: 1.7s\tremaining: 1.14s\n",
            "598:\tlearn: 0.0119018\ttotal: 1.7s\tremaining: 1.14s\n",
            "599:\tlearn: 0.0118882\ttotal: 1.7s\tremaining: 1.14s\n",
            "600:\tlearn: 0.0118769\ttotal: 1.71s\tremaining: 1.13s\n",
            "601:\tlearn: 0.0118732\ttotal: 1.71s\tremaining: 1.13s\n",
            "602:\tlearn: 0.0118690\ttotal: 1.71s\tremaining: 1.13s\n",
            "603:\tlearn: 0.0118624\ttotal: 1.71s\tremaining: 1.12s\n",
            "604:\tlearn: 0.0118601\ttotal: 1.72s\tremaining: 1.12s\n",
            "605:\tlearn: 0.0118548\ttotal: 1.72s\tremaining: 1.12s\n",
            "606:\tlearn: 0.0118546\ttotal: 1.72s\tremaining: 1.11s\n",
            "607:\tlearn: 0.0118421\ttotal: 1.73s\tremaining: 1.11s\n",
            "608:\tlearn: 0.0118417\ttotal: 1.73s\tremaining: 1.11s\n",
            "609:\tlearn: 0.0118379\ttotal: 1.73s\tremaining: 1.1s\n",
            "610:\tlearn: 0.0118332\ttotal: 1.73s\tremaining: 1.1s\n",
            "611:\tlearn: 0.0118211\ttotal: 1.74s\tremaining: 1.1s\n",
            "612:\tlearn: 0.0118119\ttotal: 1.74s\tremaining: 1.1s\n",
            "613:\tlearn: 0.0118016\ttotal: 1.74s\tremaining: 1.09s\n",
            "614:\tlearn: 0.0117898\ttotal: 1.74s\tremaining: 1.09s\n",
            "615:\tlearn: 0.0117896\ttotal: 1.74s\tremaining: 1.09s\n",
            "616:\tlearn: 0.0117845\ttotal: 1.75s\tremaining: 1.08s\n",
            "617:\tlearn: 0.0117724\ttotal: 1.75s\tremaining: 1.08s\n",
            "618:\tlearn: 0.0117674\ttotal: 1.75s\tremaining: 1.08s\n",
            "619:\tlearn: 0.0117655\ttotal: 1.75s\tremaining: 1.07s\n",
            "620:\tlearn: 0.0117559\ttotal: 1.76s\tremaining: 1.07s\n",
            "621:\tlearn: 0.0117461\ttotal: 1.76s\tremaining: 1.07s\n",
            "622:\tlearn: 0.0117384\ttotal: 1.76s\tremaining: 1.06s\n",
            "623:\tlearn: 0.0117281\ttotal: 1.76s\tremaining: 1.06s\n",
            "624:\tlearn: 0.0117279\ttotal: 1.77s\tremaining: 1.06s\n",
            "625:\tlearn: 0.0117202\ttotal: 1.77s\tremaining: 1.06s\n",
            "626:\tlearn: 0.0117167\ttotal: 1.77s\tremaining: 1.05s\n",
            "627:\tlearn: 0.0117068\ttotal: 1.77s\tremaining: 1.05s\n",
            "628:\tlearn: 0.0117061\ttotal: 1.78s\tremaining: 1.05s\n",
            "629:\tlearn: 0.0116961\ttotal: 1.78s\tremaining: 1.04s\n",
            "630:\tlearn: 0.0116862\ttotal: 1.78s\tremaining: 1.04s\n",
            "631:\tlearn: 0.0116840\ttotal: 1.78s\tremaining: 1.04s\n",
            "632:\tlearn: 0.0116729\ttotal: 1.79s\tremaining: 1.03s\n",
            "633:\tlearn: 0.0116564\ttotal: 1.79s\tremaining: 1.03s\n",
            "634:\tlearn: 0.0116460\ttotal: 1.79s\tremaining: 1.03s\n",
            "635:\tlearn: 0.0116447\ttotal: 1.79s\tremaining: 1.02s\n",
            "636:\tlearn: 0.0116436\ttotal: 1.79s\tremaining: 1.02s\n",
            "637:\tlearn: 0.0116425\ttotal: 1.8s\tremaining: 1.02s\n",
            "638:\tlearn: 0.0116269\ttotal: 1.8s\tremaining: 1.02s\n",
            "639:\tlearn: 0.0116186\ttotal: 1.8s\tremaining: 1.01s\n",
            "640:\tlearn: 0.0116162\ttotal: 1.8s\tremaining: 1.01s\n",
            "641:\tlearn: 0.0116061\ttotal: 1.81s\tremaining: 1.01s\n",
            "642:\tlearn: 0.0116028\ttotal: 1.81s\tremaining: 1s\n",
            "643:\tlearn: 0.0115964\ttotal: 1.81s\tremaining: 1s\n",
            "644:\tlearn: 0.0115877\ttotal: 1.81s\tremaining: 998ms\n",
            "645:\tlearn: 0.0115772\ttotal: 1.81s\tremaining: 995ms\n",
            "646:\tlearn: 0.0115685\ttotal: 1.82s\tremaining: 992ms\n",
            "647:\tlearn: 0.0115644\ttotal: 1.82s\tremaining: 988ms\n",
            "648:\tlearn: 0.0115533\ttotal: 1.82s\tremaining: 985ms\n",
            "649:\tlearn: 0.0115461\ttotal: 1.82s\tremaining: 982ms\n",
            "650:\tlearn: 0.0115392\ttotal: 1.83s\tremaining: 979ms\n",
            "651:\tlearn: 0.0115315\ttotal: 1.83s\tremaining: 976ms\n",
            "652:\tlearn: 0.0115264\ttotal: 1.83s\tremaining: 973ms\n",
            "653:\tlearn: 0.0115202\ttotal: 1.83s\tremaining: 969ms\n",
            "654:\tlearn: 0.0115125\ttotal: 1.83s\tremaining: 966ms\n",
            "655:\tlearn: 0.0115081\ttotal: 1.84s\tremaining: 963ms\n",
            "656:\tlearn: 0.0114995\ttotal: 1.84s\tremaining: 960ms\n",
            "657:\tlearn: 0.0114951\ttotal: 1.84s\tremaining: 957ms\n",
            "658:\tlearn: 0.0114822\ttotal: 1.84s\tremaining: 954ms\n",
            "659:\tlearn: 0.0114707\ttotal: 1.84s\tremaining: 951ms\n",
            "660:\tlearn: 0.0114598\ttotal: 1.85s\tremaining: 948ms\n",
            "661:\tlearn: 0.0114515\ttotal: 1.85s\tremaining: 944ms\n",
            "662:\tlearn: 0.0114460\ttotal: 1.85s\tremaining: 941ms\n",
            "663:\tlearn: 0.0114436\ttotal: 1.85s\tremaining: 938ms\n",
            "664:\tlearn: 0.0114318\ttotal: 1.86s\tremaining: 935ms\n",
            "665:\tlearn: 0.0114301\ttotal: 1.86s\tremaining: 932ms\n",
            "666:\tlearn: 0.0114258\ttotal: 1.86s\tremaining: 929ms\n",
            "667:\tlearn: 0.0114165\ttotal: 1.86s\tremaining: 926ms\n",
            "668:\tlearn: 0.0114072\ttotal: 1.86s\tremaining: 922ms\n",
            "669:\tlearn: 0.0114011\ttotal: 1.87s\tremaining: 919ms\n",
            "670:\tlearn: 0.0113932\ttotal: 1.87s\tremaining: 916ms\n",
            "671:\tlearn: 0.0113922\ttotal: 1.87s\tremaining: 913ms\n",
            "672:\tlearn: 0.0113888\ttotal: 1.87s\tremaining: 911ms\n",
            "673:\tlearn: 0.0113777\ttotal: 1.88s\tremaining: 908ms\n",
            "674:\tlearn: 0.0113696\ttotal: 1.88s\tremaining: 905ms\n",
            "675:\tlearn: 0.0113694\ttotal: 1.89s\tremaining: 906ms\n",
            "676:\tlearn: 0.0113634\ttotal: 1.89s\tremaining: 903ms\n",
            "677:\tlearn: 0.0113510\ttotal: 1.89s\tremaining: 900ms\n",
            "678:\tlearn: 0.0113451\ttotal: 1.9s\tremaining: 897ms\n",
            "679:\tlearn: 0.0113319\ttotal: 1.9s\tremaining: 893ms\n",
            "680:\tlearn: 0.0113252\ttotal: 1.9s\tremaining: 890ms\n",
            "681:\tlearn: 0.0113157\ttotal: 1.9s\tremaining: 887ms\n",
            "682:\tlearn: 0.0113034\ttotal: 1.91s\tremaining: 885ms\n",
            "683:\tlearn: 0.0112972\ttotal: 1.91s\tremaining: 882ms\n",
            "684:\tlearn: 0.0112885\ttotal: 1.91s\tremaining: 879ms\n",
            "685:\tlearn: 0.0112826\ttotal: 1.91s\tremaining: 876ms\n",
            "686:\tlearn: 0.0112794\ttotal: 1.92s\tremaining: 874ms\n",
            "687:\tlearn: 0.0112756\ttotal: 1.92s\tremaining: 871ms\n",
            "688:\tlearn: 0.0112619\ttotal: 1.92s\tremaining: 868ms\n",
            "689:\tlearn: 0.0112555\ttotal: 1.93s\tremaining: 865ms\n",
            "690:\tlearn: 0.0112478\ttotal: 1.93s\tremaining: 862ms\n",
            "691:\tlearn: 0.0112336\ttotal: 1.93s\tremaining: 859ms\n",
            "692:\tlearn: 0.0112334\ttotal: 1.93s\tremaining: 856ms\n",
            "693:\tlearn: 0.0112265\ttotal: 1.93s\tremaining: 853ms\n",
            "694:\tlearn: 0.0112234\ttotal: 1.94s\tremaining: 850ms\n",
            "695:\tlearn: 0.0112132\ttotal: 1.94s\tremaining: 847ms\n",
            "696:\tlearn: 0.0112063\ttotal: 1.94s\tremaining: 844ms\n",
            "697:\tlearn: 0.0112006\ttotal: 1.94s\tremaining: 841ms\n",
            "698:\tlearn: 0.0111944\ttotal: 1.95s\tremaining: 838ms\n",
            "699:\tlearn: 0.0111860\ttotal: 1.95s\tremaining: 835ms\n",
            "700:\tlearn: 0.0111777\ttotal: 1.95s\tremaining: 832ms\n",
            "701:\tlearn: 0.0111709\ttotal: 1.95s\tremaining: 829ms\n",
            "702:\tlearn: 0.0111646\ttotal: 1.95s\tremaining: 826ms\n",
            "703:\tlearn: 0.0111553\ttotal: 1.96s\tremaining: 822ms\n",
            "704:\tlearn: 0.0111551\ttotal: 1.96s\tremaining: 819ms\n",
            "705:\tlearn: 0.0111514\ttotal: 1.97s\tremaining: 821ms\n",
            "706:\tlearn: 0.0111474\ttotal: 1.97s\tremaining: 818ms\n",
            "707:\tlearn: 0.0111423\ttotal: 1.98s\tremaining: 815ms\n",
            "708:\tlearn: 0.0111391\ttotal: 1.98s\tremaining: 812ms\n",
            "709:\tlearn: 0.0111319\ttotal: 1.98s\tremaining: 809ms\n",
            "710:\tlearn: 0.0111234\ttotal: 1.98s\tremaining: 806ms\n",
            "711:\tlearn: 0.0111170\ttotal: 1.98s\tremaining: 803ms\n",
            "712:\tlearn: 0.0111120\ttotal: 1.99s\tremaining: 800ms\n",
            "713:\tlearn: 0.0111080\ttotal: 1.99s\tremaining: 796ms\n",
            "714:\tlearn: 0.0111025\ttotal: 1.99s\tremaining: 793ms\n",
            "715:\tlearn: 0.0110940\ttotal: 1.99s\tremaining: 790ms\n",
            "716:\tlearn: 0.0110910\ttotal: 2s\tremaining: 788ms\n",
            "717:\tlearn: 0.0110832\ttotal: 2s\tremaining: 785ms\n",
            "718:\tlearn: 0.0110758\ttotal: 2s\tremaining: 781ms\n",
            "719:\tlearn: 0.0110749\ttotal: 2s\tremaining: 778ms\n",
            "720:\tlearn: 0.0110670\ttotal: 2s\tremaining: 775ms\n",
            "721:\tlearn: 0.0110603\ttotal: 2s\tremaining: 772ms\n",
            "722:\tlearn: 0.0110560\ttotal: 2.01s\tremaining: 769ms\n",
            "723:\tlearn: 0.0110503\ttotal: 2.01s\tremaining: 766ms\n",
            "724:\tlearn: 0.0110427\ttotal: 2.01s\tremaining: 763ms\n",
            "725:\tlearn: 0.0110399\ttotal: 2.01s\tremaining: 760ms\n",
            "726:\tlearn: 0.0110357\ttotal: 2.02s\tremaining: 757ms\n",
            "727:\tlearn: 0.0110321\ttotal: 2.02s\tremaining: 755ms\n",
            "728:\tlearn: 0.0110228\ttotal: 2.02s\tremaining: 752ms\n",
            "729:\tlearn: 0.0110161\ttotal: 2.05s\tremaining: 757ms\n",
            "730:\tlearn: 0.0110056\ttotal: 2.05s\tremaining: 754ms\n",
            "731:\tlearn: 0.0109998\ttotal: 2.05s\tremaining: 751ms\n",
            "732:\tlearn: 0.0109910\ttotal: 2.05s\tremaining: 748ms\n",
            "733:\tlearn: 0.0109842\ttotal: 2.05s\tremaining: 745ms\n",
            "734:\tlearn: 0.0109756\ttotal: 2.06s\tremaining: 742ms\n",
            "735:\tlearn: 0.0109646\ttotal: 2.06s\tremaining: 739ms\n",
            "736:\tlearn: 0.0109543\ttotal: 2.06s\tremaining: 736ms\n",
            "737:\tlearn: 0.0109541\ttotal: 2.06s\tremaining: 733ms\n",
            "738:\tlearn: 0.0109511\ttotal: 2.07s\tremaining: 730ms\n",
            "739:\tlearn: 0.0109441\ttotal: 2.07s\tremaining: 727ms\n",
            "740:\tlearn: 0.0109413\ttotal: 2.07s\tremaining: 724ms\n",
            "741:\tlearn: 0.0109344\ttotal: 2.07s\tremaining: 721ms\n",
            "742:\tlearn: 0.0109256\ttotal: 2.07s\tremaining: 718ms\n",
            "743:\tlearn: 0.0109244\ttotal: 2.08s\tremaining: 715ms\n",
            "744:\tlearn: 0.0109207\ttotal: 2.08s\tremaining: 711ms\n",
            "745:\tlearn: 0.0109155\ttotal: 2.08s\tremaining: 708ms\n",
            "746:\tlearn: 0.0109062\ttotal: 2.08s\tremaining: 705ms\n",
            "747:\tlearn: 0.0108990\ttotal: 2.08s\tremaining: 702ms\n",
            "748:\tlearn: 0.0108915\ttotal: 2.09s\tremaining: 700ms\n",
            "749:\tlearn: 0.0108869\ttotal: 2.09s\tremaining: 697ms\n",
            "750:\tlearn: 0.0108862\ttotal: 2.09s\tremaining: 694ms\n",
            "751:\tlearn: 0.0108820\ttotal: 2.09s\tremaining: 691ms\n",
            "752:\tlearn: 0.0108786\ttotal: 2.1s\tremaining: 688ms\n",
            "753:\tlearn: 0.0108737\ttotal: 2.1s\tremaining: 685ms\n",
            "754:\tlearn: 0.0108669\ttotal: 2.1s\tremaining: 682ms\n",
            "755:\tlearn: 0.0108599\ttotal: 2.1s\tremaining: 679ms\n",
            "756:\tlearn: 0.0108519\ttotal: 2.11s\tremaining: 676ms\n",
            "757:\tlearn: 0.0108465\ttotal: 2.11s\tremaining: 673ms\n",
            "758:\tlearn: 0.0108400\ttotal: 2.11s\tremaining: 670ms\n",
            "759:\tlearn: 0.0108331\ttotal: 2.11s\tremaining: 667ms\n",
            "760:\tlearn: 0.0108240\ttotal: 2.12s\tremaining: 664ms\n",
            "761:\tlearn: 0.0108140\ttotal: 2.12s\tremaining: 661ms\n",
            "762:\tlearn: 0.0108055\ttotal: 2.12s\tremaining: 658ms\n",
            "763:\tlearn: 0.0107963\ttotal: 2.12s\tremaining: 656ms\n",
            "764:\tlearn: 0.0107888\ttotal: 2.12s\tremaining: 652ms\n",
            "765:\tlearn: 0.0107883\ttotal: 2.13s\tremaining: 649ms\n",
            "766:\tlearn: 0.0107798\ttotal: 2.13s\tremaining: 646ms\n",
            "767:\tlearn: 0.0107741\ttotal: 2.13s\tremaining: 643ms\n",
            "768:\tlearn: 0.0107628\ttotal: 2.13s\tremaining: 640ms\n",
            "769:\tlearn: 0.0107535\ttotal: 2.14s\tremaining: 641ms\n",
            "770:\tlearn: 0.0107459\ttotal: 2.15s\tremaining: 638ms\n",
            "771:\tlearn: 0.0107426\ttotal: 2.15s\tremaining: 635ms\n",
            "772:\tlearn: 0.0107338\ttotal: 2.15s\tremaining: 632ms\n",
            "773:\tlearn: 0.0107251\ttotal: 2.15s\tremaining: 629ms\n",
            "774:\tlearn: 0.0107222\ttotal: 2.15s\tremaining: 626ms\n",
            "775:\tlearn: 0.0107114\ttotal: 2.16s\tremaining: 623ms\n",
            "776:\tlearn: 0.0107056\ttotal: 2.16s\tremaining: 620ms\n",
            "777:\tlearn: 0.0106957\ttotal: 2.16s\tremaining: 617ms\n",
            "778:\tlearn: 0.0106914\ttotal: 2.16s\tremaining: 614ms\n",
            "779:\tlearn: 0.0106840\ttotal: 2.17s\tremaining: 611ms\n",
            "780:\tlearn: 0.0106763\ttotal: 2.17s\tremaining: 608ms\n",
            "781:\tlearn: 0.0106752\ttotal: 2.17s\tremaining: 605ms\n",
            "782:\tlearn: 0.0106726\ttotal: 2.17s\tremaining: 603ms\n",
            "783:\tlearn: 0.0106715\ttotal: 2.18s\tremaining: 600ms\n",
            "784:\tlearn: 0.0106714\ttotal: 2.18s\tremaining: 596ms\n",
            "785:\tlearn: 0.0106602\ttotal: 2.18s\tremaining: 594ms\n",
            "786:\tlearn: 0.0106504\ttotal: 2.18s\tremaining: 591ms\n",
            "787:\tlearn: 0.0106478\ttotal: 2.19s\tremaining: 588ms\n",
            "788:\tlearn: 0.0106448\ttotal: 2.19s\tremaining: 585ms\n",
            "789:\tlearn: 0.0106416\ttotal: 2.19s\tremaining: 582ms\n",
            "790:\tlearn: 0.0106338\ttotal: 2.19s\tremaining: 579ms\n",
            "791:\tlearn: 0.0106297\ttotal: 2.19s\tremaining: 576ms\n",
            "792:\tlearn: 0.0106189\ttotal: 2.19s\tremaining: 573ms\n",
            "793:\tlearn: 0.0106123\ttotal: 2.2s\tremaining: 570ms\n",
            "794:\tlearn: 0.0106055\ttotal: 2.2s\tremaining: 567ms\n",
            "795:\tlearn: 0.0106054\ttotal: 2.2s\tremaining: 564ms\n",
            "796:\tlearn: 0.0105981\ttotal: 2.2s\tremaining: 561ms\n",
            "797:\tlearn: 0.0105927\ttotal: 2.2s\tremaining: 558ms\n",
            "798:\tlearn: 0.0105822\ttotal: 2.21s\tremaining: 555ms\n",
            "799:\tlearn: 0.0105818\ttotal: 2.21s\tremaining: 552ms\n",
            "800:\tlearn: 0.0105757\ttotal: 2.21s\tremaining: 549ms\n",
            "801:\tlearn: 0.0105701\ttotal: 2.21s\tremaining: 546ms\n",
            "802:\tlearn: 0.0105581\ttotal: 2.21s\tremaining: 544ms\n",
            "803:\tlearn: 0.0105578\ttotal: 2.22s\tremaining: 541ms\n",
            "804:\tlearn: 0.0105573\ttotal: 2.22s\tremaining: 538ms\n",
            "805:\tlearn: 0.0105518\ttotal: 2.22s\tremaining: 535ms\n",
            "806:\tlearn: 0.0105517\ttotal: 2.22s\tremaining: 532ms\n",
            "807:\tlearn: 0.0105468\ttotal: 2.23s\tremaining: 531ms\n",
            "808:\tlearn: 0.0105409\ttotal: 2.24s\tremaining: 528ms\n",
            "809:\tlearn: 0.0105347\ttotal: 2.24s\tremaining: 525ms\n",
            "810:\tlearn: 0.0105343\ttotal: 2.24s\tremaining: 522ms\n",
            "811:\tlearn: 0.0105222\ttotal: 2.24s\tremaining: 520ms\n",
            "812:\tlearn: 0.0105172\ttotal: 2.25s\tremaining: 517ms\n",
            "813:\tlearn: 0.0105165\ttotal: 2.25s\tremaining: 514ms\n",
            "814:\tlearn: 0.0105069\ttotal: 2.25s\tremaining: 511ms\n",
            "815:\tlearn: 0.0104997\ttotal: 2.25s\tremaining: 508ms\n",
            "816:\tlearn: 0.0104990\ttotal: 2.25s\tremaining: 505ms\n",
            "817:\tlearn: 0.0104927\ttotal: 2.26s\tremaining: 502ms\n",
            "818:\tlearn: 0.0104876\ttotal: 2.26s\tremaining: 499ms\n",
            "819:\tlearn: 0.0104830\ttotal: 2.26s\tremaining: 496ms\n",
            "820:\tlearn: 0.0104785\ttotal: 2.26s\tremaining: 493ms\n",
            "821:\tlearn: 0.0104732\ttotal: 2.26s\tremaining: 490ms\n",
            "822:\tlearn: 0.0104676\ttotal: 2.27s\tremaining: 487ms\n",
            "823:\tlearn: 0.0104540\ttotal: 2.27s\tremaining: 485ms\n",
            "824:\tlearn: 0.0104479\ttotal: 2.27s\tremaining: 482ms\n",
            "825:\tlearn: 0.0104465\ttotal: 2.27s\tremaining: 479ms\n",
            "826:\tlearn: 0.0104405\ttotal: 2.27s\tremaining: 476ms\n",
            "827:\tlearn: 0.0104344\ttotal: 2.28s\tremaining: 473ms\n",
            "828:\tlearn: 0.0104291\ttotal: 2.28s\tremaining: 470ms\n",
            "829:\tlearn: 0.0104166\ttotal: 2.28s\tremaining: 467ms\n",
            "830:\tlearn: 0.0104131\ttotal: 2.28s\tremaining: 464ms\n",
            "831:\tlearn: 0.0104050\ttotal: 2.28s\tremaining: 461ms\n",
            "832:\tlearn: 0.0103919\ttotal: 2.29s\tremaining: 458ms\n",
            "833:\tlearn: 0.0103870\ttotal: 2.29s\tremaining: 456ms\n",
            "834:\tlearn: 0.0103836\ttotal: 2.29s\tremaining: 453ms\n",
            "835:\tlearn: 0.0103757\ttotal: 2.29s\tremaining: 450ms\n",
            "836:\tlearn: 0.0103725\ttotal: 2.3s\tremaining: 447ms\n",
            "837:\tlearn: 0.0103608\ttotal: 2.3s\tremaining: 444ms\n",
            "838:\tlearn: 0.0103535\ttotal: 2.3s\tremaining: 441ms\n",
            "839:\tlearn: 0.0103458\ttotal: 2.3s\tremaining: 439ms\n",
            "840:\tlearn: 0.0103407\ttotal: 2.31s\tremaining: 436ms\n",
            "841:\tlearn: 0.0103308\ttotal: 2.31s\tremaining: 433ms\n",
            "842:\tlearn: 0.0103273\ttotal: 2.31s\tremaining: 430ms\n",
            "843:\tlearn: 0.0103225\ttotal: 2.31s\tremaining: 427ms\n",
            "844:\tlearn: 0.0103168\ttotal: 2.31s\tremaining: 424ms\n",
            "845:\tlearn: 0.0103114\ttotal: 2.31s\tremaining: 422ms\n",
            "846:\tlearn: 0.0102980\ttotal: 2.32s\tremaining: 419ms\n",
            "847:\tlearn: 0.0102881\ttotal: 2.32s\tremaining: 416ms\n",
            "848:\tlearn: 0.0102872\ttotal: 2.32s\tremaining: 413ms\n",
            "849:\tlearn: 0.0102809\ttotal: 2.33s\tremaining: 410ms\n",
            "850:\tlearn: 0.0102767\ttotal: 2.33s\tremaining: 408ms\n",
            "851:\tlearn: 0.0102638\ttotal: 2.33s\tremaining: 405ms\n",
            "852:\tlearn: 0.0102589\ttotal: 2.33s\tremaining: 402ms\n",
            "853:\tlearn: 0.0102553\ttotal: 2.33s\tremaining: 399ms\n",
            "854:\tlearn: 0.0102513\ttotal: 2.34s\tremaining: 396ms\n",
            "855:\tlearn: 0.0102429\ttotal: 2.34s\tremaining: 393ms\n",
            "856:\tlearn: 0.0102315\ttotal: 2.34s\tremaining: 391ms\n",
            "857:\tlearn: 0.0102247\ttotal: 2.34s\tremaining: 388ms\n",
            "858:\tlearn: 0.0102186\ttotal: 2.34s\tremaining: 385ms\n",
            "859:\tlearn: 0.0102135\ttotal: 2.35s\tremaining: 382ms\n",
            "860:\tlearn: 0.0102047\ttotal: 2.35s\tremaining: 379ms\n",
            "861:\tlearn: 0.0102020\ttotal: 2.35s\tremaining: 376ms\n",
            "862:\tlearn: 0.0101979\ttotal: 2.35s\tremaining: 373ms\n",
            "863:\tlearn: 0.0101888\ttotal: 2.35s\tremaining: 371ms\n",
            "864:\tlearn: 0.0101841\ttotal: 2.36s\tremaining: 368ms\n",
            "865:\tlearn: 0.0101812\ttotal: 2.36s\tremaining: 365ms\n",
            "866:\tlearn: 0.0101730\ttotal: 2.36s\tremaining: 362ms\n",
            "867:\tlearn: 0.0101679\ttotal: 2.36s\tremaining: 359ms\n",
            "868:\tlearn: 0.0101623\ttotal: 2.36s\tremaining: 356ms\n",
            "869:\tlearn: 0.0101577\ttotal: 2.37s\tremaining: 354ms\n",
            "870:\tlearn: 0.0101491\ttotal: 2.37s\tremaining: 351ms\n",
            "871:\tlearn: 0.0101420\ttotal: 2.37s\tremaining: 348ms\n",
            "872:\tlearn: 0.0101335\ttotal: 2.37s\tremaining: 345ms\n",
            "873:\tlearn: 0.0101263\ttotal: 2.37s\tremaining: 342ms\n",
            "874:\tlearn: 0.0101207\ttotal: 2.38s\tremaining: 339ms\n",
            "875:\tlearn: 0.0101093\ttotal: 2.38s\tremaining: 337ms\n",
            "876:\tlearn: 0.0101024\ttotal: 2.38s\tremaining: 334ms\n",
            "877:\tlearn: 0.0100976\ttotal: 2.38s\tremaining: 331ms\n",
            "878:\tlearn: 0.0100972\ttotal: 2.38s\tremaining: 328ms\n",
            "879:\tlearn: 0.0100922\ttotal: 2.39s\tremaining: 325ms\n",
            "880:\tlearn: 0.0100874\ttotal: 2.39s\tremaining: 323ms\n",
            "881:\tlearn: 0.0100864\ttotal: 2.39s\tremaining: 320ms\n",
            "882:\tlearn: 0.0100793\ttotal: 2.39s\tremaining: 317ms\n",
            "883:\tlearn: 0.0100722\ttotal: 2.39s\tremaining: 314ms\n",
            "884:\tlearn: 0.0100663\ttotal: 2.4s\tremaining: 311ms\n",
            "885:\tlearn: 0.0100576\ttotal: 2.4s\tremaining: 309ms\n",
            "886:\tlearn: 0.0100573\ttotal: 2.4s\tremaining: 306ms\n",
            "887:\tlearn: 0.0100517\ttotal: 2.4s\tremaining: 303ms\n",
            "888:\tlearn: 0.0100469\ttotal: 2.4s\tremaining: 300ms\n",
            "889:\tlearn: 0.0100432\ttotal: 2.41s\tremaining: 297ms\n",
            "890:\tlearn: 0.0100376\ttotal: 2.41s\tremaining: 295ms\n",
            "891:\tlearn: 0.0100293\ttotal: 2.41s\tremaining: 292ms\n",
            "892:\tlearn: 0.0100202\ttotal: 2.41s\tremaining: 289ms\n",
            "893:\tlearn: 0.0100177\ttotal: 2.41s\tremaining: 286ms\n",
            "894:\tlearn: 0.0100136\ttotal: 2.42s\tremaining: 283ms\n",
            "895:\tlearn: 0.0100094\ttotal: 2.42s\tremaining: 281ms\n",
            "896:\tlearn: 0.0100007\ttotal: 2.42s\tremaining: 278ms\n",
            "897:\tlearn: 0.0099948\ttotal: 2.42s\tremaining: 275ms\n",
            "898:\tlearn: 0.0099886\ttotal: 2.42s\tremaining: 272ms\n",
            "899:\tlearn: 0.0099875\ttotal: 2.42s\tremaining: 269ms\n",
            "900:\tlearn: 0.0099832\ttotal: 2.42s\tremaining: 266ms\n",
            "901:\tlearn: 0.0099763\ttotal: 2.43s\tremaining: 264ms\n",
            "902:\tlearn: 0.0099687\ttotal: 2.43s\tremaining: 261ms\n",
            "903:\tlearn: 0.0099685\ttotal: 2.43s\tremaining: 258ms\n",
            "904:\tlearn: 0.0099573\ttotal: 2.43s\tremaining: 255ms\n",
            "905:\tlearn: 0.0099504\ttotal: 2.44s\tremaining: 253ms\n",
            "906:\tlearn: 0.0099462\ttotal: 2.44s\tremaining: 250ms\n",
            "907:\tlearn: 0.0099408\ttotal: 2.44s\tremaining: 247ms\n",
            "908:\tlearn: 0.0099364\ttotal: 2.44s\tremaining: 244ms\n",
            "909:\tlearn: 0.0099294\ttotal: 2.44s\tremaining: 242ms\n",
            "910:\tlearn: 0.0099243\ttotal: 2.45s\tremaining: 239ms\n",
            "911:\tlearn: 0.0099236\ttotal: 2.45s\tremaining: 236ms\n",
            "912:\tlearn: 0.0099216\ttotal: 2.45s\tremaining: 234ms\n",
            "913:\tlearn: 0.0099168\ttotal: 2.45s\tremaining: 231ms\n",
            "914:\tlearn: 0.0099108\ttotal: 2.45s\tremaining: 228ms\n",
            "915:\tlearn: 0.0099026\ttotal: 2.46s\tremaining: 225ms\n",
            "916:\tlearn: 0.0098960\ttotal: 2.46s\tremaining: 223ms\n",
            "917:\tlearn: 0.0098915\ttotal: 2.46s\tremaining: 220ms\n",
            "918:\tlearn: 0.0098844\ttotal: 2.46s\tremaining: 217ms\n",
            "919:\tlearn: 0.0098768\ttotal: 2.46s\tremaining: 214ms\n",
            "920:\tlearn: 0.0098750\ttotal: 2.47s\tremaining: 212ms\n",
            "921:\tlearn: 0.0098722\ttotal: 2.47s\tremaining: 209ms\n",
            "922:\tlearn: 0.0098648\ttotal: 2.47s\tremaining: 206ms\n",
            "923:\tlearn: 0.0098582\ttotal: 2.47s\tremaining: 204ms\n",
            "924:\tlearn: 0.0098517\ttotal: 2.48s\tremaining: 201ms\n",
            "925:\tlearn: 0.0098466\ttotal: 2.48s\tremaining: 198ms\n",
            "926:\tlearn: 0.0098429\ttotal: 2.48s\tremaining: 195ms\n",
            "927:\tlearn: 0.0098397\ttotal: 2.48s\tremaining: 193ms\n",
            "928:\tlearn: 0.0098343\ttotal: 2.48s\tremaining: 190ms\n",
            "929:\tlearn: 0.0098329\ttotal: 2.48s\tremaining: 187ms\n",
            "930:\tlearn: 0.0098260\ttotal: 2.49s\tremaining: 184ms\n",
            "931:\tlearn: 0.0098188\ttotal: 2.49s\tremaining: 182ms\n",
            "932:\tlearn: 0.0098186\ttotal: 2.49s\tremaining: 179ms\n",
            "933:\tlearn: 0.0098138\ttotal: 2.49s\tremaining: 176ms\n",
            "934:\tlearn: 0.0098104\ttotal: 2.5s\tremaining: 173ms\n",
            "935:\tlearn: 0.0098059\ttotal: 2.5s\tremaining: 171ms\n",
            "936:\tlearn: 0.0098056\ttotal: 2.5s\tremaining: 168ms\n",
            "937:\tlearn: 0.0098003\ttotal: 2.5s\tremaining: 165ms\n",
            "938:\tlearn: 0.0097949\ttotal: 2.5s\tremaining: 163ms\n",
            "939:\tlearn: 0.0097850\ttotal: 2.5s\tremaining: 160ms\n",
            "940:\tlearn: 0.0097848\ttotal: 2.51s\tremaining: 157ms\n",
            "941:\tlearn: 0.0097846\ttotal: 2.51s\tremaining: 154ms\n",
            "942:\tlearn: 0.0097785\ttotal: 2.51s\tremaining: 152ms\n",
            "943:\tlearn: 0.0097781\ttotal: 2.51s\tremaining: 149ms\n",
            "944:\tlearn: 0.0097698\ttotal: 2.51s\tremaining: 146ms\n",
            "945:\tlearn: 0.0097625\ttotal: 2.52s\tremaining: 144ms\n",
            "946:\tlearn: 0.0097588\ttotal: 2.52s\tremaining: 141ms\n",
            "947:\tlearn: 0.0097528\ttotal: 2.52s\tremaining: 138ms\n",
            "948:\tlearn: 0.0097480\ttotal: 2.52s\tremaining: 135ms\n",
            "949:\tlearn: 0.0097391\ttotal: 2.52s\tremaining: 133ms\n",
            "950:\tlearn: 0.0097345\ttotal: 2.52s\tremaining: 130ms\n",
            "951:\tlearn: 0.0097279\ttotal: 2.52s\tremaining: 127ms\n",
            "952:\tlearn: 0.0097276\ttotal: 2.53s\tremaining: 125ms\n",
            "953:\tlearn: 0.0097240\ttotal: 2.53s\tremaining: 122ms\n",
            "954:\tlearn: 0.0097204\ttotal: 2.53s\tremaining: 119ms\n",
            "955:\tlearn: 0.0097149\ttotal: 2.53s\tremaining: 117ms\n",
            "956:\tlearn: 0.0097132\ttotal: 2.53s\tremaining: 114ms\n",
            "957:\tlearn: 0.0097063\ttotal: 2.54s\tremaining: 111ms\n",
            "958:\tlearn: 0.0096979\ttotal: 2.54s\tremaining: 109ms\n",
            "959:\tlearn: 0.0096943\ttotal: 2.54s\tremaining: 106ms\n",
            "960:\tlearn: 0.0096884\ttotal: 2.54s\tremaining: 103ms\n",
            "961:\tlearn: 0.0096826\ttotal: 2.54s\tremaining: 100ms\n",
            "962:\tlearn: 0.0096790\ttotal: 2.54s\tremaining: 97.8ms\n",
            "963:\tlearn: 0.0096747\ttotal: 2.55s\tremaining: 95.1ms\n",
            "964:\tlearn: 0.0096668\ttotal: 2.55s\tremaining: 92.5ms\n",
            "965:\tlearn: 0.0096623\ttotal: 2.55s\tremaining: 89.8ms\n",
            "966:\tlearn: 0.0096562\ttotal: 2.55s\tremaining: 87.1ms\n",
            "967:\tlearn: 0.0096529\ttotal: 2.55s\tremaining: 84.4ms\n",
            "968:\tlearn: 0.0096481\ttotal: 2.56s\tremaining: 81.8ms\n",
            "969:\tlearn: 0.0096461\ttotal: 2.56s\tremaining: 79.1ms\n",
            "970:\tlearn: 0.0096408\ttotal: 2.56s\tremaining: 76.4ms\n",
            "971:\tlearn: 0.0096332\ttotal: 2.56s\tremaining: 73.8ms\n",
            "972:\tlearn: 0.0096307\ttotal: 2.56s\tremaining: 71.1ms\n",
            "973:\tlearn: 0.0096280\ttotal: 2.56s\tremaining: 68.5ms\n",
            "974:\tlearn: 0.0096247\ttotal: 2.57s\tremaining: 65.8ms\n",
            "975:\tlearn: 0.0096178\ttotal: 2.57s\tremaining: 63.2ms\n",
            "976:\tlearn: 0.0096137\ttotal: 2.57s\tremaining: 60.5ms\n",
            "977:\tlearn: 0.0096083\ttotal: 2.57s\tremaining: 57.9ms\n",
            "978:\tlearn: 0.0096014\ttotal: 2.57s\tremaining: 55.2ms\n",
            "979:\tlearn: 0.0095945\ttotal: 2.58s\tremaining: 52.6ms\n",
            "980:\tlearn: 0.0095898\ttotal: 2.58s\tremaining: 49.9ms\n",
            "981:\tlearn: 0.0095882\ttotal: 2.58s\tremaining: 47.3ms\n",
            "982:\tlearn: 0.0095761\ttotal: 2.58s\tremaining: 44.6ms\n",
            "983:\tlearn: 0.0095757\ttotal: 2.58s\tremaining: 42ms\n",
            "984:\tlearn: 0.0095679\ttotal: 2.58s\tremaining: 39.4ms\n",
            "985:\tlearn: 0.0095586\ttotal: 2.59s\tremaining: 36.7ms\n",
            "986:\tlearn: 0.0095508\ttotal: 2.6s\tremaining: 34.2ms\n",
            "987:\tlearn: 0.0095507\ttotal: 2.6s\tremaining: 31.6ms\n",
            "988:\tlearn: 0.0095430\ttotal: 2.6s\tremaining: 28.9ms\n",
            "989:\tlearn: 0.0095406\ttotal: 2.6s\tremaining: 26.3ms\n",
            "990:\tlearn: 0.0095372\ttotal: 2.6s\tremaining: 23.7ms\n",
            "991:\tlearn: 0.0095330\ttotal: 2.61s\tremaining: 21ms\n",
            "992:\tlearn: 0.0095283\ttotal: 2.61s\tremaining: 18.4ms\n",
            "993:\tlearn: 0.0095246\ttotal: 2.61s\tremaining: 15.8ms\n",
            "994:\tlearn: 0.0095205\ttotal: 2.61s\tremaining: 13.1ms\n",
            "995:\tlearn: 0.0095065\ttotal: 2.61s\tremaining: 10.5ms\n",
            "996:\tlearn: 0.0094993\ttotal: 2.62s\tremaining: 7.87ms\n",
            "997:\tlearn: 0.0094958\ttotal: 2.62s\tremaining: 5.25ms\n",
            "998:\tlearn: 0.0094937\ttotal: 2.62s\tremaining: 2.62ms\n",
            "999:\tlearn: 0.0094897\ttotal: 2.62s\tremaining: 0us\n"
          ]
        }
      ],
      "source": [
        "model1 = CatBoostRegressor()\n",
        "model1.fit(x_train,y_train)\n",
        "train_pred = model1.predict(x_train)\n",
        "train_score_r2 = r2_score((train_pred), (y_train))"
      ]
    },
    {
      "cell_type": "code",
      "execution_count": 31,
      "metadata": {},
      "outputs": [
        {
          "name": "stdout",
          "output_type": "stream",
          "text": [
            "[ 3.27943060e-02  7.95392320e-02  7.46123658e-02  7.39490870e-02\n",
            "  7.45451873e-02  2.08747849e-02  1.05106416e-02  1.25042203e-02\n",
            "  1.47242356e-03  2.25425292e-02  1.87388102e-02  8.47898468e-03\n",
            "  7.54737183e-03  1.39826591e-02  8.40648144e-03  1.18276685e-02\n",
            "  7.47805139e-03  1.46417471e-02  1.32865104e-02  2.90947824e-02\n",
            "  2.12027690e-02  6.54267632e-03  1.02190342e-02  1.22861318e-02\n",
            "  4.16064650e-03  1.35687755e-03  6.18606372e-02  5.73568915e-03\n",
            "  3.63903835e-02  1.63866476e-02  1.18679959e-02  4.10798430e-02\n",
            " -3.23728986e-03  5.73445217e-02  2.05969273e-02  7.93369288e-03\n",
            "  1.53092420e-04  1.81576917e-03  3.25456526e-03  3.02889290e-02\n",
            "  1.09356339e-02  2.04828230e-02  5.63151810e-03  5.73515130e-02\n",
            "  6.12616221e-02  7.73764167e-03  3.19973900e-02  1.09885478e-02\n",
            "  1.76622381e-02  1.75032479e-02  1.52352140e-02  1.33421592e-02\n",
            "  9.48891176e-03  1.13015391e-02  4.01250418e-03  9.37594568e-03\n",
            "  1.93057009e-02  1.22988535e-02  3.46212762e-03  3.70478152e-03\n",
            "  5.71237013e-02  6.22908577e-03  1.46781524e-02  5.03669248e-03\n",
            "  1.24302738e-02  1.22319130e-02  7.90564740e-03  6.86911975e-02\n",
            "  1.17482507e-02  3.93262237e-02  1.11111432e-02  7.73929895e-02\n",
            "  1.19725116e-02  8.58872053e-03  7.17998979e-02  5.50696048e-02\n",
            "  2.37691681e-03  4.98570882e-02  8.83223638e-03  4.44020602e-02\n",
            "  7.05895461e-03  6.82534304e-03  2.79923048e-02  1.18664616e-02\n",
            "  1.09904018e-02  5.96068388e-02  9.74592972e-03  1.22664584e-02\n",
            "  4.64019699e-02  3.20557234e-03  1.37025517e-02  8.78816709e-03\n",
            "  4.51019597e-02  1.80067033e-03  3.70145941e-03  8.73930394e-03\n",
            "  1.83085593e-02  3.26113665e-02  7.81243088e-03 -2.62014221e-04\n",
            "  2.00093786e-02  2.00093786e-02  2.00093786e-02  3.65786279e-03\n",
            "  5.43922865e-04  8.78666456e-03  4.09843774e-03  1.22957103e-02\n",
            "  7.01243388e-03  4.03296055e-02  7.23731618e-02  1.37612701e-02\n",
            "  5.41912924e-02  1.30603340e-02  8.69727127e-03  4.14181573e-03\n",
            "  7.63645922e-02  7.12379602e-02  4.65480741e-02  2.80256981e-02\n",
            "  1.21932590e-02  1.63400169e-02  5.60154591e-02  5.53615624e-05\n",
            "  5.90181168e-03  1.60569446e-02  2.30808626e-02  3.28081310e-03\n",
            "  8.22805405e-04  2.01217984e-02  3.40907598e-02  2.54156923e-02\n",
            "  9.35507518e-03 -5.65262269e-03  3.09084573e-02  3.33893616e-02\n",
            "  1.15626680e-02  1.50335255e-02  4.67334477e-03  1.22530030e-02\n",
            "  1.56574707e-03  6.84771713e-02  2.10518224e-02  4.65330535e-02\n",
            "  8.85837660e-02  7.02814811e-03  1.09292157e-02  6.54578844e-02\n",
            "  2.24793419e-02  2.11947357e-03  5.16438736e-02  2.52362325e-02\n",
            "  6.57950148e-02  1.26300873e-02  1.34731643e-02  1.43495262e-02\n",
            "  2.22481805e-02  2.69841509e-02  6.76211716e-03  8.34960404e-03\n",
            "  3.82748918e-03  2.66373424e-02 -6.41038925e-04  1.40438990e-02\n",
            "  9.40175175e-03  6.01521861e-03  9.80871888e-03  5.28900070e-02\n",
            "  7.74651566e-03  3.15613924e-03  2.33704368e-02  7.09756524e-03\n",
            "  7.12285985e-02  8.35338056e-02  1.29167043e-02  1.90614119e-02\n",
            "  6.71828757e-03  1.22374500e-02  4.82848967e-02  5.83777496e-03\n",
            "  9.99464646e-03  2.19825055e-02  2.61834926e-02  2.80187023e-03\n",
            "  1.42179826e-02  3.38519699e-03  1.04199282e-02  3.38624399e-02\n",
            "  7.23993435e-02  5.95563116e-02  1.61228279e-02  4.94862142e-02\n",
            "  2.26479094e-02  6.17491086e-02  3.19876155e-02  5.43927790e-02\n",
            "  1.17939364e-02  6.15587878e-03  3.90509389e-02  1.29488351e-02\n",
            "  2.92363413e-02  1.53863973e-02  1.91869864e-02  2.32768014e-02\n",
            "  5.17321956e-02  2.36512691e-02  1.88852917e-02  2.10852800e-02\n",
            "  2.22068111e-02  1.13217161e-02  2.52593606e-02  8.33782473e-03\n",
            "  2.35864851e-02  5.91177169e-02  1.68457927e-02  1.57187137e-02\n",
            "  8.41849059e-02  3.59140247e-02  5.68142721e-03  1.29769639e-02\n",
            "  3.38939818e-02  4.36329428e-02  3.94043659e-02  4.18163840e-02\n",
            "  1.45039366e-02  7.55940354e-03  4.07077816e-02  5.11677876e-02\n",
            "  6.58688641e-03  2.27854742e-02  3.66101580e-03  7.38002581e-03\n",
            "  2.65177920e-02  1.23053129e-02  9.20217214e-03  1.88290328e-02\n",
            "  1.01112319e-02  5.34282852e-02  1.02291557e-02  8.32536360e-03\n",
            "  1.36353905e-02  3.96931497e-02  7.15791557e-03  9.19153522e-03\n",
            "  7.21131287e-03  3.15267581e-03  3.47191624e-03  6.22439657e-03\n",
            "  6.94149681e-03  8.38335089e-03  1.01176520e-02  1.87191787e-02\n",
            "  2.07417311e-02  4.75554054e-02  1.18997539e-02  1.02490716e-02\n",
            "  1.51206727e-02  1.16251965e-02  1.13815325e-02  6.64469662e-03\n",
            "  1.21666108e-02  2.09709566e-02  5.44876043e-02  7.89728164e-03\n",
            "  3.96981618e-03  1.24646368e-02  3.37963586e-02  4.29366204e-03\n",
            "  3.61299069e-03  1.06731364e-02  9.83661763e-03  2.59195845e-02\n",
            "  1.37719384e-02  7.35069592e-02  1.02205191e-02  1.57303175e-02\n",
            "  3.42776861e-02  1.97220591e-02  1.23447653e-02  2.27536596e-02\n",
            "  1.76723648e-02  2.00269237e-02  2.00518979e-02  3.73801173e-02\n",
            "  7.18401780e-03  2.47644342e-02  1.06334053e-02  2.42690786e-02\n",
            "  1.75856334e-02  6.68652355e-03  2.96783582e-02  5.65026140e-02\n",
            "  1.39810334e-02  1.30372316e-02  8.26115161e-02  6.81053608e-02\n",
            "  7.97818983e-03  1.15595001e-02  1.56300581e-02  6.39030540e-02\n",
            "  5.55460154e-03  6.29916758e-02  5.19335895e-02  2.57188912e-02\n",
            "  1.37224072e-02  1.10088684e-02  9.34206660e-03  4.74164393e-02\n",
            "  6.45940703e-02  1.24052034e-02  8.28723825e-03  1.12559101e-02\n",
            "  5.07923247e-03  2.90955399e-02  3.03437532e-03  5.46997384e-02\n",
            "  6.87570184e-02  7.03881710e-02  1.21582349e-02  8.38308978e-03\n",
            "  1.11342069e-02  1.37172279e-02  5.54515963e-02  5.60176123e-03\n",
            "  1.39818776e-02  1.34520327e-02  4.87101793e-03  1.51639867e-02\n",
            "  6.74441013e-02  7.47294618e-03  5.98400674e-02  5.69411598e-03\n",
            "  8.11701408e-03  9.77557610e-03  1.95735141e-02  1.43812149e-02\n",
            "  1.44168295e-02  7.70337902e-02  2.52727127e-02  1.29067061e-02\n",
            "  1.79408334e-02  6.73282793e-03  7.28703261e-02  2.51817750e-02\n",
            "  9.13640618e-02  9.74281440e-03  2.68196255e-02  8.91887020e-03\n",
            "  9.62233497e-03  6.86267500e-03  8.51816061e-02  6.98833779e-03\n",
            "  1.13994140e-02  1.10062314e-02  6.04124400e-03  2.41618955e-03\n",
            "  1.52629159e-02  8.09408219e-03  6.84193994e-03  7.55270119e-03\n",
            "  1.70504918e-02  8.15911428e-03  5.36973887e-03  8.21782048e-04\n",
            "  4.25057277e-03  7.93657378e-03  7.67570273e-03  2.12652204e-02\n",
            "  5.81358270e-03  1.56565185e-02 -4.04735890e-04  1.04523782e-02\n",
            "  1.48700298e-02  9.90498936e-04  8.44141372e-03  1.79539489e-02\n",
            "  5.86271164e-03  2.28071162e-02  5.68209175e-03  5.04738345e-02\n",
            "  4.60791681e-03  5.74007838e-03  7.95198003e-03  2.57027092e-02\n",
            "  4.65544458e-02  1.50944867e-02  8.09188396e-03  4.99737321e-02\n",
            "  6.35132327e-02  6.52497250e-03  1.02503972e-02  1.31841245e-02\n",
            "  8.12038184e-03  1.01459990e-02  4.75689136e-02  7.62908771e-02\n",
            "  1.63212832e-02  8.50851579e-03  2.43607442e-02  1.26077675e-02\n",
            "  5.98514035e-02  1.54691753e-02  1.45219201e-02  1.39029155e-02\n",
            "  1.11519087e-02  1.96289127e-02  7.16715607e-03  9.23891557e-03\n",
            "  9.39686507e-03  1.31271523e-02  1.17539066e-02  1.35484827e-02\n",
            "  3.38043111e-02  1.54956572e-02  1.03094830e-02  2.33012944e-02\n",
            "  5.36454638e-03  1.01080533e-02  3.51878209e-02  4.95047036e-02\n",
            "  1.33828785e-02  1.03237294e-02  9.51484493e-03  6.60252407e-02\n",
            "  1.27935434e-02  7.58155649e-03  3.15011895e-03  5.46899120e-03\n",
            "  4.32393552e-02  6.09255921e-02  1.74887557e-02  7.15717272e-02\n",
            "  1.25651260e-02  1.53747556e-02  1.76548891e-02  3.64277128e-02\n",
            "  1.49717931e-02  1.01635767e-02  2.79506829e-02  5.00397759e-02\n",
            "  9.26518436e-03  1.95232199e-02  1.11454510e-02  4.37378024e-02\n",
            "  1.23234641e-02  1.13940923e-02  6.72761649e-02  1.37826180e-02\n",
            "  1.71536064e-02  2.40152084e-02  1.38501107e-02  1.46703725e-02\n",
            "  1.24685887e-02  1.46499865e-02  1.45909828e-02  1.47291316e-02\n",
            "  1.08264552e-02  3.77812492e-02  1.20154931e-02  1.62317605e-02\n",
            "  1.41863046e-02  1.32389607e-02  2.67390606e-02  2.92814472e-02\n",
            "  5.65426482e-02  1.72660752e-02  7.29857079e-03  4.07227495e-03\n",
            "  1.45384643e-02  6.09709243e-02  1.58544557e-02  1.51011650e-02\n",
            "  2.18274975e-02  4.74519477e-03  1.08866074e-02  1.52694402e-02\n",
            "  2.30339330e-02  2.29221297e-02  4.01975569e-02  2.11398436e-03\n",
            "  6.10833232e-02  9.28136307e-03  5.16812257e-02  1.26450579e-02\n",
            "  1.87953070e-02  2.25588105e-02  1.35629556e-02  1.02228224e-02\n",
            "  3.22818116e-03  1.32884787e-02  6.21153986e-03  2.00648642e-02\n",
            "  3.96418472e-02  5.25556359e-02  2.45758554e-02  3.48693072e-02\n",
            "  9.80844418e-03  3.42163965e-02  9.62749157e-03  2.81893683e-02\n",
            "  3.83347071e-02  2.43452708e-02  2.53350223e-02  1.17242992e-02\n",
            "  2.23751139e-02  2.28144658e-02  1.19790794e-02  1.51165515e-02\n",
            "  8.77617037e-02  7.02836156e-02  2.77188774e-02  1.97809599e-02\n",
            "  2.64765004e-02  3.19246025e-02  4.02120612e-02  3.24633031e-02\n",
            "  2.31254451e-02  1.59388109e-02  2.47019069e-02  2.28458855e-02\n",
            "  2.33285944e-02  1.86955664e-02  6.56035866e-02  4.39400112e-02\n",
            "  1.45989891e-02  7.95869276e-02  2.03896192e-02  2.08885990e-02\n",
            "  3.04806550e-02  5.46867227e-02  1.92258935e-02  4.93763177e-02\n",
            "  3.45483908e-02  7.96083739e-02  3.68593819e-02  1.77741189e-02\n",
            "  1.87548267e-02  1.85798761e-02  2.11485382e-02  4.66705290e-03\n",
            "  2.06539918e-02  8.17430730e-03  2.07555697e-02  2.15306873e-02\n",
            "  2.24224591e-02  5.91006460e-02  8.99845784e-03  6.49340272e-02\n",
            "  1.90196643e-02  7.01595607e-02  2.42955182e-02  4.22017277e-02\n",
            "  1.62496289e-02  1.85371488e-02  4.95425958e-02  3.30270199e-02\n",
            "  2.48504647e-02  4.62011015e-02  1.55577836e-02  2.67871618e-02\n",
            "  6.77916899e-02  1.36361231e-02  4.25382490e-02  5.94268941e-03\n",
            "  1.84371546e-02  3.42457086e-02  9.75944043e-03  3.89433992e-02\n",
            "  1.11538693e-02  3.11051902e-02  1.48008117e-02  1.77589018e-02\n",
            "  4.00688331e-03  6.04583820e-02  5.76843526e-02  1.17551822e-02\n",
            "  1.79898887e-02  4.58933936e-03  1.53603267e-02  9.02482133e-03\n",
            "  5.16001176e-02  5.55503739e-03  7.48609193e-02  1.03859352e-02\n",
            "  1.40403785e-02  1.58751803e-02  1.73411890e-02  2.33175623e-02\n",
            "  1.14059033e-02  1.30410948e-02  1.22531339e-02  1.64770703e-02\n",
            "  2.12769293e-02  1.36518748e-02  9.17858498e-03  1.29460454e-02\n",
            "  1.86619129e-03  6.56719829e-02  3.11051902e-02  3.90660312e-02\n",
            "  3.98016627e-03  3.88500414e-02  3.74750278e-02  8.53937587e-03\n",
            "  2.63305289e-02  1.14052225e-02  7.10089668e-03  8.90061250e-03\n",
            " -3.75350535e-04  5.50661133e-02  3.05427663e-02  2.63970685e-02\n",
            "  2.94204461e-02  2.21060686e-02  8.25702427e-02  1.96713237e-02\n",
            "  2.22432915e-02  1.70270014e-02  1.14522016e-02  1.04899442e-02\n",
            "  1.49103089e-02  2.78836848e-02  3.17574102e-02  3.02792737e-02\n",
            "  3.61053760e-02  4.94396378e-02  3.23261486e-02  1.89413484e-02\n",
            "  5.45803028e-02  5.03851007e-02  5.86015015e-02  4.35760536e-02\n",
            "  2.34330095e-02  1.36085187e-02  5.31933090e-02  1.48276552e-02\n",
            "  5.88272526e-02  1.53486117e-02  1.85742531e-02  2.53790856e-02\n",
            "  5.55403396e-02  5.52176513e-02  4.36449375e-02  2.89184833e-02\n",
            "  1.84124171e-02  2.58724499e-02  2.95023890e-02  2.66366331e-02\n",
            "  2.44705786e-02  2.80760236e-02  2.71432718e-02  1.01066261e-02\n",
            "  3.45251371e-02  3.46051748e-03  1.47365447e-02  2.24829780e-02\n",
            "  1.16522050e-02  2.42639102e-02  4.02036581e-02  4.64031169e-02\n",
            "  5.48215749e-02  1.98440960e-02  3.11714644e-02  1.97740964e-02\n",
            "  2.88903185e-02  1.01378334e-02  4.28058081e-02  2.23107843e-02\n",
            "  3.44177958e-02  3.42313882e-02  1.84996769e-02  4.24076783e-02\n",
            "  1.39178080e-02  2.36764053e-02  1.76754257e-02  2.33301712e-02\n",
            "  3.22414319e-02  1.33802204e-02  4.35683276e-02  3.63292274e-02\n",
            "  5.10030323e-02  1.03969981e-02  2.18510999e-02  1.00334524e-02\n",
            "  1.94456901e-02  1.82138759e-02  1.30693039e-02  2.07858266e-02\n",
            "  8.97619962e-03  1.95174155e-02  1.63175600e-02  1.70096156e-02\n",
            "  3.84056838e-02  4.65935885e-02  4.62449558e-02  3.50026952e-03\n",
            "  7.20796199e-04  1.84305051e-03  1.40378363e-02  2.03457670e-02\n",
            "  2.51860656e-02  2.42614882e-02  1.63446555e-02  2.97582927e-02\n",
            "  3.78080398e-02  7.36775457e-02  2.95021598e-02  6.52019822e-02\n",
            "  7.04521818e-03  1.70330203e-02  2.87183825e-02  2.58356750e-02\n",
            "  5.23992965e-02  3.23915603e-02  2.88626123e-02  2.90805266e-02\n",
            "  1.50896561e-02  3.67469242e-02  3.26131755e-02  4.51606677e-02\n",
            "  4.03802653e-02  5.33931149e-02  3.49302179e-02  6.95035491e-02\n",
            "  2.38889874e-02  5.93130040e-02  4.92080146e-02  2.51789587e-02\n",
            "  2.38334154e-02  5.44548888e-02  5.60723279e-02  5.74886575e-02\n",
            "  4.32379048e-02  3.21573559e-02  3.39344600e-03  1.47804781e-02\n",
            "  1.63671205e-02  3.03951470e-02  3.92162238e-02  2.38995416e-02\n",
            "  2.75785015e-02  3.20836178e-02  3.56826856e-02  2.54506998e-02\n",
            "  1.89657795e-02  2.91673567e-02  2.12478399e-02  4.76827493e-02\n",
            "  2.46037545e-02  3.78868316e-02  6.05786535e-02  1.34319662e-02\n",
            "  7.66366416e-02 -1.54974013e-04  7.32390089e-02  9.90226401e-03\n",
            "  7.65792294e-02  1.45855040e-02  5.71811105e-03  1.66823755e-02\n",
            "  8.64096596e-02  1.00265336e-02]\n"
          ]
        }
      ],
      "source": [
        "test_pred = model1.predict(x_test)\n",
        "print(test_pred)"
      ]
    },
    {
      "cell_type": "code",
      "execution_count": 34,
      "metadata": {},
      "outputs": [
        {
          "name": "stdout",
          "output_type": "stream",
          "text": [
            "-1.7049767393160447\n"
          ]
        }
      ],
      "source": [
        "test_score_r2 = r2_score((test_pred), (y_train.head(762)))\n",
        "print(test_score_r2)"
      ]
    },
    {
      "cell_type": "code",
      "execution_count": null,
      "metadata": {},
      "outputs": [],
      "source": []
    },
    {
      "cell_type": "code",
      "execution_count": 35,
      "metadata": {
        "id": "0tyKxpLXaCwJ"
      },
      "outputs": [],
      "source": [
        "from sklearn.linear_model import LinearRegression\n",
        "from xgboost import XGBRegressor\n",
        "from sklearn.preprocessing import PolynomialFeatures\n",
        "from sklearn.ensemble import RandomForestRegressor\n",
        "from sklearn.ensemble import GradientBoostingRegressor"
      ]
    },
    {
      "cell_type": "code",
      "execution_count": 36,
      "metadata": {
        "id": "pP0xlbnp9M2g"
      },
      "outputs": [],
      "source": [
        "reg = LinearRegression()\n",
        "rfregressor = RandomForestRegressor(random_state=10)\n",
        "gdb = GradientBoostingRegressor(random_state=10)\n",
        "xgb = XGBRegressor(random_state=10)"
      ]
    },
    {
      "cell_type": "code",
      "execution_count": 37,
      "metadata": {
        "id": "WSzos7NNyMZc"
      },
      "outputs": [],
      "source": [
        "import xgboost\n",
        "xgregressor=xgboost.XGBRegressor()\n",
        "classifier = xgboost.XGBRegressor()"
      ]
    },
    {
      "cell_type": "code",
      "execution_count": 38,
      "metadata": {
        "id": "RCcE9UcpyGaw"
      },
      "outputs": [],
      "source": [
        "booster=['gbtree','gblinear']\n",
        "base_score=[0.25,0.5,0.75,1]"
      ]
    },
    {
      "cell_type": "code",
      "execution_count": 39,
      "metadata": {
        "id": "i0Q-95NUyRYk"
      },
      "outputs": [],
      "source": [
        "n_estimators = [100, 500, 900, 1100, 1500]\n",
        "max_depth = [2, 3, 5, 10, 15]\n",
        "booster=['gbtree','gblinear']\n",
        "learning_rate=[0.05,0.1,0.15,0.20]\n",
        "min_child_weight=[1,2,3,4]\n",
        "\n",
        "# Define the grid of hyperparameters to search\n",
        "hyperparameter_grid = {\n",
        "    'n_estimators': n_estimators,\n",
        "    'max_depth':max_depth,\n",
        "    'learning_rate':learning_rate,\n",
        "    'min_child_weight':min_child_weight,\n",
        "    'booster':booster,\n",
        "    'base_score':base_score\n",
        "    }"
      ]
    },
    {
      "cell_type": "code",
      "execution_count": null,
      "metadata": {
        "id": "8lBHfRRVyZl2"
      },
      "outputs": [],
      "source": [
        "from sklearn.model_selection import RandomizedSearchCV\n",
        "random_cv = RandomizedSearchCV(estimator=xgregressor,\n",
        "            param_distributions=hyperparameter_grid,\n",
        "            cv=5, n_iter=50,\n",
        "            scoring = 'r2',n_jobs = 4,\n",
        "            verbose = 5, \n",
        "            return_train_score = True,\n",
        "            random_state=42)"
      ]
    },
    {
      "cell_type": "code",
      "execution_count": null,
      "metadata": {
        "colab": {
          "base_uri": "https://localhost:8080/"
        },
        "id": "on7_7Ue_yd5U",
        "outputId": "3f949694-9059-4f94-a516-5972feb11628"
      },
      "outputs": [],
      "source": [
        "random_cv.fit(x_train,y_train)"
      ]
    },
    {
      "cell_type": "code",
      "execution_count": null,
      "metadata": {
        "colab": {
          "base_uri": "https://localhost:8080/"
        },
        "id": "-f0KCoOyyhK3",
        "outputId": "6964ffc9-07b8-42e6-e295-d7cb933bc093"
      },
      "outputs": [
        {
          "data": {
            "text/plain": [
              "XGBRegressor(max_depth=2)"
            ]
          },
          "execution_count": 26,
          "metadata": {},
          "output_type": "execute_result"
        }
      ],
      "source": [
        "random_cv.best_estimator_"
      ]
    },
    {
      "cell_type": "code",
      "execution_count": null,
      "metadata": {
        "id": "Tr_2PdiwQxh7"
      },
      "outputs": [],
      "source": [
        "regressor=xgboost.XGBRegressor(max_depth=2)"
      ]
    },
    {
      "cell_type": "code",
      "execution_count": null,
      "metadata": {
        "id": "S0iru2BmQ5X1"
      },
      "outputs": [],
      "source": [
        "from sklearn.preprocessing import StandardScaler\n",
        "scaler = StandardScaler()\n",
        "tr_x_train = scaler.fit_transform(x_train)"
      ]
    },
    {
      "cell_type": "code",
      "execution_count": null,
      "metadata": {
        "colab": {
          "base_uri": "https://localhost:8080/"
        },
        "id": "AI4FWKDvREHr",
        "outputId": "bb21b23b-b31d-49a4-eb05-5be8db304b45"
      },
      "outputs": [
        {
          "name": "stdout",
          "output_type": "stream",
          "text": [
            "[21:06:45] WARNING: /workspace/src/objective/regression_obj.cu:152: reg:linear is now deprecated in favor of reg:squarederror.\n"
          ]
        },
        {
          "data": {
            "text/plain": [
              "XGBRegressor(max_depth=2)"
            ]
          },
          "execution_count": 29,
          "metadata": {},
          "output_type": "execute_result"
        }
      ],
      "source": [
        "regressor.fit(x_train,y_train)"
      ]
    },
    {
      "cell_type": "code",
      "execution_count": null,
      "metadata": {
        "id": "ScN4_yMBzY6d"
      },
      "outputs": [],
      "source": [
        "import pickle\n",
        "filename = 'finalized_model.pkl'\n",
        "pickle.dump(classifier, open(filename, 'wb'))"
      ]
    },
    {
      "cell_type": "code",
      "execution_count": null,
      "metadata": {
        "id": "kkuH6ADxzf_w"
      },
      "outputs": [],
      "source": [
        "y_pred = regressor.predict(x_test)\n",
        "print(y_pred)"
      ]
    },
    {
      "cell_type": "code",
      "execution_count": null,
      "metadata": {
        "id": "khgXeIJgABf_"
      },
      "outputs": [],
      "source": [
        "#Defining all these models\n",
        "models = [\n",
        "           ['LinearRegression: ',LinearRegression()],\n",
        "           ['RandomForestRegressor: ',RandomForestRegressor()],\n",
        "           ['GradientBoostingRegressor: ', GradientBoostingRegressor()] ,\n",
        "           ['XGBRegressor: ', XGBRegressor()]       \n",
        "        ]"
      ]
    },
    {
      "cell_type": "code",
      "execution_count": null,
      "metadata": {
        "colab": {
          "base_uri": "https://localhost:8080/"
        },
        "id": "ox5gG04NE24p",
        "outputId": "8644553f-d426-4a37-f5a8-80fe25113456"
      },
      "outputs": [
        {
          "name": "stdout",
          "output_type": "stream",
          "text": [
            "[21:07:02] WARNING: /workspace/src/objective/regression_obj.cu:152: reg:linear is now deprecated in favor of reg:squarederror.\n"
          ]
        },
        {
          "data": {
            "text/plain": [
              "XGBRegressor(max_depth=2)"
            ]
          },
          "execution_count": 33,
          "metadata": {},
          "output_type": "execute_result"
        }
      ],
      "source": [
        "xgb  =XGBRegressor(max_depth=2)\n",
        "xgb.fit(x_train,y_train)"
      ]
    },
    {
      "cell_type": "markdown",
      "metadata": {
        "id": "hjHzwWOqZk5Z"
      },
      "source": [
        "Predicting Click Through Rate\n",
        "\n"
      ]
    },
    {
      "cell_type": "code",
      "execution_count": null,
      "metadata": {
        "id": "iraYZs0zIzxc"
      },
      "outputs": [],
      "source": [
        "y_pred = xgb.predict(x_test)\n",
        "print (y_pred)"
      ]
    },
    {
      "cell_type": "markdown",
      "metadata": {
        "id": "ECHqiO0yZupG"
      },
      "source": [
        "Finding evaluation Metrics"
      ]
    },
    {
      "cell_type": "code",
      "execution_count": null,
      "metadata": {
        "id": "MHGBgTE4BMKE"
      },
      "outputs": [],
      "source": [
        "from sklearn.preprocessing import PolynomialFeatures\n",
        "poly = PolynomialFeatures(degree = 3,include_bias=True )\n",
        "X_poly = poly.fit_transform(x_train)\n",
        "X_poly_test = poly.fit_transform(x_test)\n"
      ]
    },
    {
      "cell_type": "code",
      "execution_count": null,
      "metadata": {
        "colab": {
          "base_uri": "https://localhost:8080/",
          "height": 270
        },
        "id": "_M2JZiAXD358",
        "outputId": "e4b6f0e7-cceb-4508-e864-2a6c9539b497"
      },
      "outputs": [
        {
          "ename": "NameError",
          "evalue": "ignored",
          "output_type": "error",
          "traceback": [
            "\u001b[0;31m---------------------------------------------------------------------------\u001b[0m",
            "\u001b[0;31mNameError\u001b[0m                                 Traceback (most recent call last)",
            "\u001b[0;32m<ipython-input-36-6c97ce76b428>\u001b[0m in \u001b[0;36m<module>\u001b[0;34m()\u001b[0m\n\u001b[1;32m      8\u001b[0m       \u001b[0mcurr_model\u001b[0m\u001b[0;34m.\u001b[0m\u001b[0mfit\u001b[0m\u001b[0;34m(\u001b[0m\u001b[0mx_train\u001b[0m\u001b[0;34m,\u001b[0m\u001b[0my_train\u001b[0m\u001b[0;34m)\u001b[0m\u001b[0;34m\u001b[0m\u001b[0;34m\u001b[0m\u001b[0m\n\u001b[1;32m      9\u001b[0m       \u001b[0mcurr_model_data\u001b[0m\u001b[0;34m[\u001b[0m\u001b[0;34m\"R2_Score_train\"\u001b[0m\u001b[0;34m]\u001b[0m \u001b[0;34m=\u001b[0m \u001b[0mr2_score\u001b[0m\u001b[0;34m(\u001b[0m\u001b[0my_train\u001b[0m\u001b[0;34m,\u001b[0m\u001b[0mcurr_model\u001b[0m\u001b[0;34m.\u001b[0m\u001b[0mpredict\u001b[0m\u001b[0;34m(\u001b[0m\u001b[0mx_train\u001b[0m\u001b[0;34m)\u001b[0m\u001b[0;34m)\u001b[0m\u001b[0;34m\u001b[0m\u001b[0;34m\u001b[0m\u001b[0m\n\u001b[0;32m---> 10\u001b[0;31m       \u001b[0mcurr_model_data\u001b[0m\u001b[0;34m[\u001b[0m\u001b[0;34m\"R2_Score_test\"\u001b[0m\u001b[0;34m]\u001b[0m \u001b[0;34m=\u001b[0m \u001b[0mr2_score\u001b[0m\u001b[0;34m(\u001b[0m\u001b[0my_pred\u001b[0m\u001b[0;34m,\u001b[0m\u001b[0mcurr_model\u001b[0m\u001b[0;34m.\u001b[0m\u001b[0mpredict\u001b[0m\u001b[0;34m(\u001b[0m\u001b[0mx_test\u001b[0m\u001b[0;34m)\u001b[0m\u001b[0;34m)\u001b[0m\u001b[0;34m\u001b[0m\u001b[0;34m\u001b[0m\u001b[0m\n\u001b[0m\u001b[1;32m     11\u001b[0m       \u001b[0mcurr_model_data\u001b[0m\u001b[0;34m[\u001b[0m\u001b[0;34m\"RMSE_Score_train\"\u001b[0m\u001b[0;34m]\u001b[0m \u001b[0;34m=\u001b[0m \u001b[0mnp\u001b[0m\u001b[0;34m.\u001b[0m\u001b[0msqrt\u001b[0m\u001b[0;34m(\u001b[0m\u001b[0mmean_squared_error\u001b[0m\u001b[0;34m(\u001b[0m\u001b[0my_train\u001b[0m\u001b[0;34m,\u001b[0m\u001b[0mcurr_model\u001b[0m\u001b[0;34m.\u001b[0m\u001b[0mpredict\u001b[0m\u001b[0;34m(\u001b[0m\u001b[0mx_train\u001b[0m\u001b[0;34m)\u001b[0m\u001b[0;34m)\u001b[0m\u001b[0;34m)\u001b[0m\u001b[0;34m\u001b[0m\u001b[0;34m\u001b[0m\u001b[0m\n\u001b[1;32m     12\u001b[0m       \u001b[0mcurr_model_data\u001b[0m\u001b[0;34m[\u001b[0m\u001b[0;34m\"RMSE_Score_test\"\u001b[0m\u001b[0;34m]\u001b[0m \u001b[0;34m=\u001b[0m \u001b[0mnp\u001b[0m\u001b[0;34m.\u001b[0m\u001b[0msqrt\u001b[0m\u001b[0;34m(\u001b[0m\u001b[0mmean_squared_error\u001b[0m\u001b[0;34m(\u001b[0m\u001b[0my_pred\u001b[0m\u001b[0;34m,\u001b[0m\u001b[0mcurr_model\u001b[0m\u001b[0;34m.\u001b[0m\u001b[0mpredict\u001b[0m\u001b[0;34m(\u001b[0m\u001b[0mx_test\u001b[0m\u001b[0;34m)\u001b[0m\u001b[0;34m)\u001b[0m\u001b[0;34m)\u001b[0m\u001b[0;34m\u001b[0m\u001b[0;34m\u001b[0m\u001b[0m\n",
            "\u001b[0;31mNameError\u001b[0m: name 'y_pred' is not defined"
          ]
        }
      ],
      "source": [
        "#store all the metrics values in data frame\n",
        "model_data = []\n",
        "for name,curr_model in models :\n",
        "    curr_model_data = {}\n",
        "    curr_model.random_state = 10\n",
        "    curr_model_data[\"Name\"] = name\n",
        "    if(name!='PolynomialRegression: '):\n",
        "      curr_model.fit(x_train,y_train)\n",
        "      curr_model_data[\"R2_Score_train\"] = r2_score(y_train,curr_model.predict(x_train))\n",
        "      curr_model_data[\"R2_Score_test\"] = r2_score(y_pred,curr_model.predict(x_test))\n",
        "      curr_model_data[\"RMSE_Score_train\"] = np.sqrt(mean_squared_error(y_train,curr_model.predict(x_train)))\n",
        "      curr_model_data[\"RMSE_Score_test\"] = np.sqrt(mean_squared_error(y_pred,curr_model.predict(x_test)))\n",
        "      model_data.append(curr_model_data)\n",
        "    else:\n",
        "      curr_model.fit(X_poly,y_train)\n",
        "      curr_model_data[\"R2_Score_train\"] = r2_score(y_train,curr_model.predict(X_poly))\n",
        "      curr_model_data[\"R2_Score_test\"] = r2_score(y_pred,curr_model.predict(X_poly_test))\n",
        "      curr_model_data[\"RMSE_Score_train\"] = np.sqrt(mean_squared_error(y_train,curr_model.predict(X_poly)))\n",
        "      curr_model_data[\"RMSE_Score_test\"] = np.sqrt(mean_squared_error(y_pred,curr_model.predict(X_poly_test)))\n",
        "      model_data.append(curr_model_data)"
      ]
    },
    {
      "cell_type": "code",
      "execution_count": null,
      "metadata": {
        "colab": {
          "base_uri": "https://localhost:8080/",
          "height": 49
        },
        "id": "ORFilOB3F8_7",
        "outputId": "b00f24ef-0c55-4236-e437-b3bfcf05fab4"
      },
      "outputs": [
        {
          "data": {
            "text/html": [
              "\n",
              "  <div id=\"df-2f1244d6-c5ec-4645-891d-d491d8fa31f4\">\n",
              "    <div class=\"colab-df-container\">\n",
              "      <div>\n",
              "<style scoped>\n",
              "    .dataframe tbody tr th:only-of-type {\n",
              "        vertical-align: middle;\n",
              "    }\n",
              "\n",
              "    .dataframe tbody tr th {\n",
              "        vertical-align: top;\n",
              "    }\n",
              "\n",
              "    .dataframe thead th {\n",
              "        text-align: right;\n",
              "    }\n",
              "</style>\n",
              "<table border=\"1\" class=\"dataframe\">\n",
              "  <thead>\n",
              "    <tr style=\"text-align: right;\">\n",
              "      <th></th>\n",
              "    </tr>\n",
              "  </thead>\n",
              "  <tbody>\n",
              "  </tbody>\n",
              "</table>\n",
              "</div>\n",
              "      <button class=\"colab-df-convert\" onclick=\"convertToInteractive('df-2f1244d6-c5ec-4645-891d-d491d8fa31f4')\"\n",
              "              title=\"Convert this dataframe to an interactive table.\"\n",
              "              style=\"display:none;\">\n",
              "        \n",
              "  <svg xmlns=\"http://www.w3.org/2000/svg\" height=\"24px\"viewBox=\"0 0 24 24\"\n",
              "       width=\"24px\">\n",
              "    <path d=\"M0 0h24v24H0V0z\" fill=\"none\"/>\n",
              "    <path d=\"M18.56 5.44l.94 2.06.94-2.06 2.06-.94-2.06-.94-.94-2.06-.94 2.06-2.06.94zm-11 1L8.5 8.5l.94-2.06 2.06-.94-2.06-.94L8.5 2.5l-.94 2.06-2.06.94zm10 10l.94 2.06.94-2.06 2.06-.94-2.06-.94-.94-2.06-.94 2.06-2.06.94z\"/><path d=\"M17.41 7.96l-1.37-1.37c-.4-.4-.92-.59-1.43-.59-.52 0-1.04.2-1.43.59L10.3 9.45l-7.72 7.72c-.78.78-.78 2.05 0 2.83L4 21.41c.39.39.9.59 1.41.59.51 0 1.02-.2 1.41-.59l7.78-7.78 2.81-2.81c.8-.78.8-2.07 0-2.86zM5.41 20L4 18.59l7.72-7.72 1.47 1.35L5.41 20z\"/>\n",
              "  </svg>\n",
              "      </button>\n",
              "      \n",
              "  <style>\n",
              "    .colab-df-container {\n",
              "      display:flex;\n",
              "      flex-wrap:wrap;\n",
              "      gap: 12px;\n",
              "    }\n",
              "\n",
              "    .colab-df-convert {\n",
              "      background-color: #E8F0FE;\n",
              "      border: none;\n",
              "      border-radius: 50%;\n",
              "      cursor: pointer;\n",
              "      display: none;\n",
              "      fill: #1967D2;\n",
              "      height: 32px;\n",
              "      padding: 0 0 0 0;\n",
              "      width: 32px;\n",
              "    }\n",
              "\n",
              "    .colab-df-convert:hover {\n",
              "      background-color: #E2EBFA;\n",
              "      box-shadow: 0px 1px 2px rgba(60, 64, 67, 0.3), 0px 1px 3px 1px rgba(60, 64, 67, 0.15);\n",
              "      fill: #174EA6;\n",
              "    }\n",
              "\n",
              "    [theme=dark] .colab-df-convert {\n",
              "      background-color: #3B4455;\n",
              "      fill: #D2E3FC;\n",
              "    }\n",
              "\n",
              "    [theme=dark] .colab-df-convert:hover {\n",
              "      background-color: #434B5C;\n",
              "      box-shadow: 0px 1px 3px 1px rgba(0, 0, 0, 0.15);\n",
              "      filter: drop-shadow(0px 1px 2px rgba(0, 0, 0, 0.3));\n",
              "      fill: #FFFFFF;\n",
              "    }\n",
              "  </style>\n",
              "\n",
              "      <script>\n",
              "        const buttonEl =\n",
              "          document.querySelector('#df-2f1244d6-c5ec-4645-891d-d491d8fa31f4 button.colab-df-convert');\n",
              "        buttonEl.style.display =\n",
              "          google.colab.kernel.accessAllowed ? 'block' : 'none';\n",
              "\n",
              "        async function convertToInteractive(key) {\n",
              "          const element = document.querySelector('#df-2f1244d6-c5ec-4645-891d-d491d8fa31f4');\n",
              "          const dataTable =\n",
              "            await google.colab.kernel.invokeFunction('convertToInteractive',\n",
              "                                                     [key], {});\n",
              "          if (!dataTable) return;\n",
              "\n",
              "          const docLinkHtml = 'Like what you see? Visit the ' +\n",
              "            '<a target=\"_blank\" href=https://colab.research.google.com/notebooks/data_table.ipynb>data table notebook</a>'\n",
              "            + ' to learn more about interactive tables.';\n",
              "          element.innerHTML = '';\n",
              "          dataTable['output_type'] = 'display_data';\n",
              "          await google.colab.output.renderOutput(dataTable, element);\n",
              "          const docLink = document.createElement('div');\n",
              "          docLink.innerHTML = docLinkHtml;\n",
              "          element.appendChild(docLink);\n",
              "        }\n",
              "      </script>\n",
              "    </div>\n",
              "  </div>\n",
              "  "
            ],
            "text/plain": [
              "Empty DataFrame\n",
              "Columns: []\n",
              "Index: []"
            ]
          },
          "execution_count": 38,
          "metadata": {},
          "output_type": "execute_result"
        }
      ],
      "source": [
        "metrics_df1 = pd.DataFrame(model_data)\n",
        "metrics_df1\n"
      ]
    },
    {
      "cell_type": "markdown",
      "metadata": {
        "id": "Me32PcjHXoKu"
      },
      "source": [
        "Creating Submission file with predictions"
      ]
    },
    {
      "cell_type": "code",
      "execution_count": null,
      "metadata": {
        "id": "MgldTW4zXug3"
      },
      "outputs": [],
      "source": [
        "pred = pd.DataFrame(y_pred)\n",
        "dataset = pd.concat([df_test[\"campaign_id\"], pred], axis=1)\n",
        "dataset.columns = [\"campaign_id\", \"click_rate\"]\n",
        "dataset.to_csv(r'submission_file.csv', index=False)"
      ]
    },
    {
      "cell_type": "code",
      "execution_count": null,
      "metadata": {
        "colab": {
          "base_uri": "https://localhost:8080/",
          "height": 17
        },
        "id": "edm_YIF3h0kB",
        "outputId": "c1390f5a-e6f6-4a0a-f67b-ffda24bb0aa8"
      },
      "outputs": [
        {
          "data": {
            "application/javascript": "\n    async function download(id, filename, size) {\n      if (!google.colab.kernel.accessAllowed) {\n        return;\n      }\n      const div = document.createElement('div');\n      const label = document.createElement('label');\n      label.textContent = `Downloading \"${filename}\": `;\n      div.appendChild(label);\n      const progress = document.createElement('progress');\n      progress.max = size;\n      div.appendChild(progress);\n      document.body.appendChild(div);\n\n      const buffers = [];\n      let downloaded = 0;\n\n      const channel = await google.colab.kernel.comms.open(id);\n      // Send a message to notify the kernel that we're ready.\n      channel.send({})\n\n      for await (const message of channel.messages) {\n        // Send a message to notify the kernel that we're ready.\n        channel.send({})\n        if (message.buffers) {\n          for (const buffer of message.buffers) {\n            buffers.push(buffer);\n            downloaded += buffer.byteLength;\n            progress.value = downloaded;\n          }\n        }\n      }\n      const blob = new Blob(buffers, {type: 'application/binary'});\n      const a = document.createElement('a');\n      a.href = window.URL.createObjectURL(blob);\n      a.download = filename;\n      div.appendChild(a);\n      a.click();\n      div.remove();\n    }\n  ",
            "text/plain": [
              "<IPython.core.display.Javascript object>"
            ]
          },
          "metadata": {},
          "output_type": "display_data"
        },
        {
          "data": {
            "application/javascript": "download(\"download_68b31801-efa2-4e06-a40f-7c0acfaf304c\", \"submission_file.csv\", 12689)",
            "text/plain": [
              "<IPython.core.display.Javascript object>"
            ]
          },
          "metadata": {},
          "output_type": "display_data"
        }
      ],
      "source": [
        "from google.colab import files\n",
        "files.download(\"submission_file.csv\")"
      ]
    }
  ],
  "metadata": {
    "colab": {
      "collapsed_sections": [],
      "name": "CTR for email campaigns.ipynb",
      "provenance": []
    },
    "kernelspec": {
      "display_name": "Python 3.9.0 64-bit",
      "language": "python",
      "name": "python3"
    },
    "language_info": {
      "codemirror_mode": {
        "name": "ipython",
        "version": 3
      },
      "file_extension": ".py",
      "mimetype": "text/x-python",
      "name": "python",
      "nbconvert_exporter": "python",
      "pygments_lexer": "ipython3",
      "version": "3.9.0"
    },
    "vscode": {
      "interpreter": {
        "hash": "f416e750de428b4a6660c0f1dc9a24e11ee526180d3268b23a1f1c3ebe2adb7f"
      }
    }
  },
  "nbformat": 4,
  "nbformat_minor": 0
}
